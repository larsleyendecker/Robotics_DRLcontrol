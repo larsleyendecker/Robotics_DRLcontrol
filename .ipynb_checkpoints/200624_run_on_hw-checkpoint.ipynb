{
 "cells": [
  {
   "cell_type": "code",
   "execution_count": 1,
   "metadata": {
    "scrolled": true
   },
   "outputs": [
    {
     "name": "stderr",
     "output_type": "stream",
     "text": [
      "/home/lars/.local/lib/python3.6/site-packages/tensorflow/python/framework/dtypes.py:516: FutureWarning: Passing (type, 1) or '1type' as a synonym of type is deprecated; in a future version of numpy, it will be understood as (type, (1,)) / '(1,)type'.\n",
      "  _np_qint8 = np.dtype([(\"qint8\", np.int8, 1)])\n",
      "/home/lars/.local/lib/python3.6/site-packages/tensorflow/python/framework/dtypes.py:517: FutureWarning: Passing (type, 1) or '1type' as a synonym of type is deprecated; in a future version of numpy, it will be understood as (type, (1,)) / '(1,)type'.\n",
      "  _np_quint8 = np.dtype([(\"quint8\", np.uint8, 1)])\n",
      "/home/lars/.local/lib/python3.6/site-packages/tensorflow/python/framework/dtypes.py:518: FutureWarning: Passing (type, 1) or '1type' as a synonym of type is deprecated; in a future version of numpy, it will be understood as (type, (1,)) / '(1,)type'.\n",
      "  _np_qint16 = np.dtype([(\"qint16\", np.int16, 1)])\n",
      "/home/lars/.local/lib/python3.6/site-packages/tensorflow/python/framework/dtypes.py:519: FutureWarning: Passing (type, 1) or '1type' as a synonym of type is deprecated; in a future version of numpy, it will be understood as (type, (1,)) / '(1,)type'.\n",
      "  _np_quint16 = np.dtype([(\"quint16\", np.uint16, 1)])\n",
      "/home/lars/.local/lib/python3.6/site-packages/tensorflow/python/framework/dtypes.py:520: FutureWarning: Passing (type, 1) or '1type' as a synonym of type is deprecated; in a future version of numpy, it will be understood as (type, (1,)) / '(1,)type'.\n",
      "  _np_qint32 = np.dtype([(\"qint32\", np.int32, 1)])\n",
      "/home/lars/.local/lib/python3.6/site-packages/tensorflow/python/framework/dtypes.py:525: FutureWarning: Passing (type, 1) or '1type' as a synonym of type is deprecated; in a future version of numpy, it will be understood as (type, (1,)) / '(1,)type'.\n",
      "  np_resource = np.dtype([(\"resource\", np.ubyte, 1)])\n",
      "/home/lars/.local/lib/python3.6/site-packages/tensorboard/compat/tensorflow_stub/dtypes.py:541: FutureWarning: Passing (type, 1) or '1type' as a synonym of type is deprecated; in a future version of numpy, it will be understood as (type, (1,)) / '(1,)type'.\n",
      "  _np_qint8 = np.dtype([(\"qint8\", np.int8, 1)])\n",
      "/home/lars/.local/lib/python3.6/site-packages/tensorboard/compat/tensorflow_stub/dtypes.py:542: FutureWarning: Passing (type, 1) or '1type' as a synonym of type is deprecated; in a future version of numpy, it will be understood as (type, (1,)) / '(1,)type'.\n",
      "  _np_quint8 = np.dtype([(\"quint8\", np.uint8, 1)])\n",
      "/home/lars/.local/lib/python3.6/site-packages/tensorboard/compat/tensorflow_stub/dtypes.py:543: FutureWarning: Passing (type, 1) or '1type' as a synonym of type is deprecated; in a future version of numpy, it will be understood as (type, (1,)) / '(1,)type'.\n",
      "  _np_qint16 = np.dtype([(\"qint16\", np.int16, 1)])\n",
      "/home/lars/.local/lib/python3.6/site-packages/tensorboard/compat/tensorflow_stub/dtypes.py:544: FutureWarning: Passing (type, 1) or '1type' as a synonym of type is deprecated; in a future version of numpy, it will be understood as (type, (1,)) / '(1,)type'.\n",
      "  _np_quint16 = np.dtype([(\"quint16\", np.uint16, 1)])\n",
      "/home/lars/.local/lib/python3.6/site-packages/tensorboard/compat/tensorflow_stub/dtypes.py:545: FutureWarning: Passing (type, 1) or '1type' as a synonym of type is deprecated; in a future version of numpy, it will be understood as (type, (1,)) / '(1,)type'.\n",
      "  _np_qint32 = np.dtype([(\"qint32\", np.int32, 1)])\n",
      "/home/lars/.local/lib/python3.6/site-packages/tensorboard/compat/tensorflow_stub/dtypes.py:550: FutureWarning: Passing (type, 1) or '1type' as a synonym of type is deprecated; in a future version of numpy, it will be understood as (type, (1,)) / '(1,)type'.\n",
      "  np_resource = np.dtype([(\"resource\", np.ubyte, 1)])\n"
     ]
    }
   ],
   "source": [
    "# General imports\n",
    "import os\n",
    "from os.path import expanduser\n",
    "import pickle\n",
    "import numpy\n",
    "import numpy as np\n",
    "from matplotlib import pyplot as plt\n",
    "\n",
    "# rllib imports\n",
    "import ray\n",
    "import ray.rllib.agents.ppo as ppo\n",
    "from ray.tune.registry import get_trainable_cls\n",
    "from ray.tune.registry import register_env\n",
    "from ray.rllib.env import MultiAgentEnv\n",
    "from ray.rllib.env.base_env import _DUMMY_AGENT_ID\n",
    "from ray.rllib.evaluation.worker_set import WorkerSet\n",
    "from ray.rllib.policy.sample_batch import DEFAULT_POLICY_ID\n",
    "from ray.rllib.utils.deprecation import deprecation_warning\n",
    "\n",
    "# Gym imports\n",
    "from gym.envs.robotics.ur10 import randomize\n",
    "from gym.envs.robotics import ur10_noisy_pd_env\n",
    "from gym import utils\n",
    "from gym.envs.robotics import rotations, robot_custom_env, utils\n",
    "\n",
    "# MuJoCo imports\n",
    "import mujoco_py\n",
    "\n",
    "# ROS imports\n",
    "import rospy\n",
    "from sensor_msgs.msg import JointState\n",
    "from std_msgs.msg import Float64MultiArray\n",
    "from std_msgs.msg import String\n",
    "from geometry_msgs.msg import WrenchStamped\n",
    "from realsense2_camera.msg import CustomVector, EstimatedPose\n",
    "\n",
    "\n",
    "\n",
    "def flatten_to_single_ndarray(input_):\n",
    "    \"\"\"Returns a single np.ndarray given a list/tuple of np.ndarrays.\n",
    "    Args:\n",
    "        input_ (Union[List[np.ndarray],np.ndarray]): The list of ndarrays or\n",
    "            a single ndarray.\n",
    "    Returns:\n",
    "        np.ndarray: The result after concatenating all single arrays in input_.\n",
    "    Examples:\n",
    "        >>> flatten_to_single_ndarray([\n",
    "        >>>     np.array([[1.0, 2.0], [3.0, 4.0], [5.0, 6.0]]),\n",
    "        >>>     np.array([7, 8, 9]),\n",
    "        >>> ])\n",
    "        >>> # Will return:\n",
    "        >>> # np.array([\n",
    "        >>> #     1.0, 2.0, 3.0, 4.0, 5.0, 6.0, 7.0, 8.0, 9.0\n",
    "        >>> # ])\n",
    "    \"\"\"\n",
    "    # Concatenate tuple actions\n",
    "    if isinstance(input_, (list, tuple)):\n",
    "        expanded = []\n",
    "        for in_ in input_:\n",
    "            expanded.append(np.reshape(in_, [-1]))\n",
    "        input_ = np.concatenate(expanded, axis=0).flatten()\n",
    "    return input_\n",
    "\n",
    "\n",
    "def keep_going(steps, num_steps, episodes, num_episodes):\n",
    "    \"\"\"Determine whether we've collected enough data\"\"\"\n",
    "    # if num_episodes is set, this overrides num_steps\n",
    "    if num_episodes:\n",
    "        return episodes < num_episodes\n",
    "    # if num_steps is set, continue until we reach the limit\n",
    "    if num_steps:\n",
    "        return steps < num_steps\n",
    "    # otherwise keep going forever\n",
    "    return True\n",
    "\n",
    "def set_state(qpos):\n",
    "    assert qpos.shape == (model.nq,)\n",
    "    old_state = sim.get_state()\n",
    "    new_state = mujoco_py.MjSimState(old_state.time, qpos, old_state.qvel,\n",
    "                                     old_state.act, old_state.udd_state)\n",
    "    sim.set_state(new_state)\n",
    "    sim.forward()"
   ]
  },
  {
   "cell_type": "code",
   "execution_count": 3,
   "metadata": {},
   "outputs": [],
   "source": [
    "home_dir = expanduser(\"~\")\n",
    "path = os.path.join(*[home_dir, \"DRL_SetBot-RearVentilation\",\"UR10\",\"ur10_heg.xml\"])\n",
    "HOME = os.getenv(\"HOME\")\n",
    "SAVE_PATH = os.path.join(*[HOME, \"DRL_SetBot-RearVentilation\", \"DRLAI4RoMoCo\"])"
   ]
  },
  {
   "cell_type": "code",
   "execution_count": 7,
   "metadata": {
    "scrolled": true
   },
   "outputs": [
    {
     "name": "stdout",
     "output_type": "stream",
     "text": [
      "Creating window glfw\n"
     ]
    }
   ],
   "source": [
    "home_dir = expanduser(\"~\")\n",
    "path = os.path.join(*[home_dir, \"DRL_SetBot-RearVentilation\",\"UR10\",\"ur10_heg.xml\"])\n",
    "model = mujoco_py.load_model_from_path(path)\n",
    "sim = mujoco_py.MjSim(model)\n",
    "q_init = np.array([0, -1.3, 2.1, -0.80, 1.5708, 0.0])\n",
    "\n",
    "ctrl_q = q_init\n",
    "set_state(q_init)\n",
    "\n",
    "viewer = mujoco_py.MjViewer(sim)\n",
    "viewer.render()"
   ]
  },
  {
   "cell_type": "code",
   "execution_count": 3,
   "metadata": {},
   "outputs": [],
   "source": [
    "def normalize_rad(angles):\n",
    "    angles = np.array(angles)\n",
    "    angles = angles % (2*np.pi)\n",
    "    angles = (angles + 2*np.pi) % (2*np.pi)\n",
    "    for i in range(len(angles)):\n",
    "        if (angles[i] > np.pi):\n",
    "            angles[i] -= 2*np.pi\n",
    "    return angles"
   ]
  },
  {
   "cell_type": "code",
   "execution_count": 4,
   "metadata": {},
   "outputs": [],
   "source": [
    "actual_q = np.zeros(6,)\n",
    "ft_values = np.zeros(6,)"
   ]
  },
  {
   "cell_type": "code",
   "execution_count": 5,
   "metadata": {},
   "outputs": [],
   "source": [
    "# callbacks\n",
    "\n",
    "def pose_callback(data):\n",
    "    global pose\n",
    "    pose = numpy.array([data.tx, data.ty, data.tz, data.rx, data.ry, data.rz])\n",
    "\n",
    "def q_callback(data):\n",
    "    global actual_q\n",
    "    actual_q = np.array(data.position)[[2,1,0,3,4,5]]\n",
    "    set_state(actual_q)\n",
    "    viewer.render()\n",
    "    \n",
    "def ft_callback(data):\n",
    "    global ft_values\n",
    "    ft_values = - 5 * np.array([data.wrench.force.x, data.wrench.force.y, data.wrench.force.z, data.wrench.torque.x, \\\n",
    "                            data.wrench.torque.y, data.wrench.torque.z])"
   ]
  },
  {
   "cell_type": "code",
   "execution_count": 6,
   "metadata": {},
   "outputs": [],
   "source": [
    "# ROS nodes\n",
    "\n",
    "rospy.init_node(\"drl_experiment\", anonymous=True)\n",
    "rospy.Subscriber(\"/joint_states\", JointState, q_callback)\n",
    "rospy.Subscriber(\"/ft300_force_torque\", WrenchStamped, ft_callback)\n",
    "rospy.Subscriber(\"/pose_estimation\", EstimatedPose, pose_callback)\n",
    "control_publisher = rospy.Publisher(\"/joint_group_position_controller/command\", Float64MultiArray, queue_size=1)\n",
    "ft_zero_publisher = rospy.Publisher(\"/ur_hardware_interface/script_command\", String, queue_size=1)\n"
   ]
  },
  {
   "cell_type": "code",
   "execution_count": 7,
   "metadata": {},
   "outputs": [],
   "source": [
    "rate = rospy.Rate(125)\n",
    "rate25 = rospy.Rate(25)"
   ]
  },
  {
   "cell_type": "code",
   "execution_count": 8,
   "metadata": {},
   "outputs": [],
   "source": [
    "# commands\n",
    "\n",
    "def control(q):\n",
    "    global ctrl_q\n",
    "    command = Float64MultiArray()\n",
    "    command.data = q\n",
    "    control_publisher.publish(command)\n",
    "    ctrl_q = q.copy()\n",
    "    \n",
    "    \n",
    "# Zero ft message\n",
    "\n",
    "def ft_zero():\n",
    "    zero_sensor_urscript = 'sec ft_set_zero():' + '\\n' + '\\t' + 'if(socket_open(\"127.0.0.1\", 63350, \"acc\")):' \\\n",
    "          + '\\n' + '\\t' + '\\t' + 'socket_send_string(\"SET ZRO\", \"acc\")' \\\n",
    "         + '\\n' + '\\t' + '\\t' + 'socket_close(\"acc\")' + '\\n' + '\\t' + 'end' + '\\n' + 'end' + '\\n'\n",
    "    ft_zero_publisher.publish(zero_sensor_urscript)"
   ]
  },
  {
   "cell_type": "code",
   "execution_count": 9,
   "metadata": {},
   "outputs": [
    {
     "name": "stdout",
     "output_type": "stream",
     "text": [
      "[ 0.69423743 -0.83110109  1.17388998 -1.57161506  0.02185773 -3.14102438]\n"
     ]
    }
   ],
   "source": [
    "goal = numpy.array([ 0.69423743, -0.83110109,  1.17388998, -1.57161506,  0.02185773, -3.14102438])\n",
    "print(goal)"
   ]
  },
  {
   "cell_type": "code",
   "execution_count": 10,
   "metadata": {},
   "outputs": [
    {
     "name": "stdout",
     "output_type": "stream",
     "text": [
      "[ 0.45304353 -0.82481386  1.18285244] [-1.56671582  0.00560404 -3.13335285]\n"
     ]
    }
   ],
   "source": [
    "x_pos = sim.data.get_body_xpos(\"gripper_dummy_heg\")\n",
    "x_mat = sim.data.get_body_xmat(\"gripper_dummy_heg\")\n",
    "rpy =  normalize_rad(rotations.mat2euler(x_mat))\n",
    "print(x_pos, rpy)"
   ]
  },
  {
   "cell_type": "code",
   "execution_count": 11,
   "metadata": {},
   "outputs": [],
   "source": [
    "def get_obs():\n",
    "    set_state(actual_q)\n",
    "    for i in range(10):\n",
    "        viewer.render()\n",
    "    #print(ft_values)\n",
    "    x_pos = sim.data.get_body_xpos(\"gripper_dummy_heg\")\n",
    "    x_mat = sim.data.get_body_xmat(\"gripper_dummy_heg\")\n",
    "    rpy =  normalize_rad(rotations.mat2euler(x_mat))\n",
    "    #print(x_pos, rpy)\n",
    "\n",
    "    obs = np.concatenate([\n",
    "                x_mat.dot(x_pos-goal[:3]), x_mat.dot(normalize_rad(rpy-goal[3:])), ft_values.copy()\n",
    "            ])\n",
    "    return obs"
   ]
  },
  {
   "cell_type": "code",
   "execution_count": 12,
   "metadata": {},
   "outputs": [],
   "source": [
    "def get_dq(dx):\n",
    "    jacp = sim.data.get_body_jacp(name=\"gripper_dummy_heg\").reshape(3, 6)\n",
    "    jacr = sim.data.get_body_jacr(name=\"gripper_dummy_heg\").reshape(3, 6)\n",
    "    jac = numpy.vstack((jacp, jacr))\n",
    "    dq = numpy.linalg.lstsq(jac, dx)[0].reshape(6, )\n",
    "    return dq"
   ]
  },
  {
   "cell_type": "code",
   "execution_count": 13,
   "metadata": {},
   "outputs": [],
   "source": [
    "def go_smooth(q):\n",
    "    rate = rospy.Rate(125)\n",
    "    dq = q - actual_q\n",
    "    while np.linalg.norm(dq)>0.005:\n",
    "        dq = q - actual_q\n",
    "        dq_ = np.clip(dq, -0.0001, 0.0001)\n",
    "        control(ctrl_q+dq_)\n",
    "        rate.sleep()\n",
    "    control(q)"
   ]
  },
  {
   "cell_type": "code",
   "execution_count": 17,
   "metadata": {},
   "outputs": [],
   "source": [
    "checkpoint = os.path.join(*[home_dir, \"DRL_SetBot-RearVentilation\", \"final_models\",\n",
    "                            \"model1\", \"checkpoint-2120\"])"
   ]
  },
  {
   "cell_type": "code",
   "execution_count": 14,
   "metadata": {},
   "outputs": [],
   "source": [
    "checkpoint = os.path.join(*[home_dir, \"DRL_SetBot-RearVentilation\", \"final_models\",\n",
    "                            \"model2\", \"checkpoint-3440\"])"
   ]
  },
  {
   "cell_type": "code",
   "execution_count": 14,
   "metadata": {},
   "outputs": [],
   "source": [
    "checkpoint = os.path.join(*[home_dir, \"DRL_SetBot-RearVentilation\", \"final_models\",\n",
    "                            \"model3\", \"checkpoint-3030\"])"
   ]
  },
  {
   "cell_type": "code",
   "execution_count": 25,
   "metadata": {},
   "outputs": [],
   "source": [
    "checkpoint = os.path.join(*[home_dir, \"DRL_SetBot-RearVentilation\", \"final_models\",\n",
    "                            \"model4\", \"checkpoint-3590\"])"
   ]
  },
  {
   "cell_type": "code",
   "execution_count": 4,
   "metadata": {},
   "outputs": [],
   "source": [
    "checkpoint = os.path.join(*[home_dir, \"DRL_SetBot-RearVentilation\", \"final_models\",\n",
    "                            \"model5\", \"checkpoint-4410\"])"
   ]
  },
  {
   "cell_type": "code",
   "execution_count": 5,
   "metadata": {},
   "outputs": [
    {
     "data": {
      "text/plain": [
       "'/home/lars/DRL_SetBot-RearVentilation/final_models/model5/checkpoint-4410'"
      ]
     },
     "execution_count": 5,
     "metadata": {},
     "output_type": "execute_result"
    }
   ],
   "source": [
    "checkpoint"
   ]
  },
  {
   "cell_type": "code",
   "execution_count": 6,
   "metadata": {
    "scrolled": true
   },
   "outputs": [
    {
     "name": "stdout",
     "output_type": "stream",
     "text": [
      "Config found!\n"
     ]
    }
   ],
   "source": [
    "config = {}\n",
    "    # Load configuration from checkpoint file.\n",
    "config_dir = os.path.dirname(checkpoint)\n",
    "config_path = os.path.join(config_dir, \"params.pkl\")\n",
    "# Try parent directory.\n",
    "if not os.path.exists(config_path):\n",
    "    config_path = os.path.join(config_dir, \"../params.pkl\")\n",
    "if os.path.exists(config_path):\n",
    "    print(\"Config found!\")\n",
    "    with open(config_path, \"rb\") as f:\n",
    "            config = pickle.load(f)"
   ]
  },
  {
   "cell_type": "code",
   "execution_count": 7,
   "metadata": {},
   "outputs": [],
   "source": [
    "config['num_workers'] = 2\n",
    "config['num_gpus'] = 1"
   ]
  },
  {
   "cell_type": "code",
   "execution_count": 8,
   "metadata": {},
   "outputs": [
    {
     "data": {
      "text/plain": [
       "{'env': 'RandomizedEnv',\n",
       " 'callbacks': {'on_episode_start': <function __main__.on_episode_start(info)>,\n",
       "  'on_episode_step': <function __main__.on_episode_step(info)>,\n",
       "  'on_episode_end': <function __main__.on_episode_end(info)>},\n",
       " 'num_workers': 2,\n",
       " 'num_gpus': 1,\n",
       " 'num_cpus_per_worker': 1,\n",
       " 'horizon': 2500,\n",
       " 'lr': 0.0003,\n",
       " 'train_batch_size': 57500,\n",
       " 'model': {'use_lstm': False,\n",
       "  'lstm_cell_size': 128,\n",
       "  'fcnet_hiddens': [128, 128]},\n",
       " 'tf_session_args': {'allow_soft_placement': True}}"
      ]
     },
     "execution_count": 8,
     "metadata": {},
     "output_type": "execute_result"
    }
   ],
   "source": [
    "config"
   ]
  },
  {
   "cell_type": "code",
   "execution_count": 28,
   "metadata": {},
   "outputs": [],
   "source": [
    "initial_qpos_simpheg_conf2 = np.array([0, -1.3, 2.1, -0.80, 1.5708, 0])\n",
    "HOME_PATH = os.getenv(\"HOME\")\n",
    "randomize_kwargs = {\n",
    "    'var_mass':     0,#0.5,\n",
    "    'var_damp':     0,#0.5,\n",
    "    'var_fr':       0,#0.5,\n",
    "    'var_grav_x_y': 0,#0.5,\n",
    "    'var_grav_z':   0,#1,\n",
    "    'var_body_pos': 0,#0.05,\n",
    "    'var_body_rot': 0,\n",
    "}\n",
    "\n",
    "\n",
    "class RandomizedEnv(ur10_noisy_pd_env.Ur10Env):\n",
    "    def __init__(self, env_config):\n",
    "        model_xml_path = os.path.join(*[HOME_PATH, \"DRL_SetBot-RearVentilation\", \"UR10\", \"ur10_assembly_setup_rand_temp_{}.xml\".format(env_config.worker_index)])\n",
    "        randomize.randomize_ur10_xml(worker_id = env_config.worker_index)\n",
    "        ur10_noisy_pd_env.Ur10Env.__init__(\n",
    "            self, model_xml_path, n_substeps=80, distance_threshold=0.002, initial_qpos=initial_qpos_simpheg_conf2,\n",
    "            reward_type='dense', ctrl_type='cartesian', vary=True, worker_id=env_config.worker_index,\n",
    "            randomize_kwargs=randomize_kwargs)\n",
    "        #utils.EzPickle.__init__(self)\n",
    "\n",
    "\n",
    "register_env(\"RandomizedEnv\", lambda config: RandomizedEnv(config))"
   ]
  },
  {
   "cell_type": "code",
   "execution_count": 12,
   "metadata": {
    "scrolled": true
   },
   "outputs": [
    {
     "name": "stderr",
     "output_type": "stream",
     "text": [
      "2020-05-15 11:07:01,693\tINFO resource_spec.py:212 -- Starting Ray with 12.35 GiB memory available for workers and up to 6.18 GiB for objects. You can adjust these settings with ray.init(memory=<bytes>, object_store_memory=<bytes>).\n",
      "2020-05-15 11:07:02,153\tINFO services.py:1083 -- View the Ray dashboard at \u001b[1m\u001b[32mlocalhost:8267\u001b[39m\u001b[22m\n"
     ]
    }
   ],
   "source": [
    "ray.init()\n",
    "cls = get_trainable_cls(\"PPO\")"
   ]
  },
  {
   "cell_type": "code",
   "execution_count": 18,
   "metadata": {},
   "outputs": [
    {
     "name": "stdout",
     "output_type": "stream",
     "text": [
      "<module 'ray' from '/home/lars/.local/lib/python3.6/site-packages/ray/__init__.py'>\n",
      "<function get_trainable_cls at 0x7f68e2c07ae8>\n",
      "<module 'ray.tune.registry' from '/home/lars/.local/lib/python3.6/site-packages/ray/tune/registry.py'>\n"
     ]
    },
    {
     "ename": "NameError",
     "evalue": "name 'python' is not defined",
     "output_type": "error",
     "traceback": [
      "\u001b[0;31m---------------------------------------------------------------------------\u001b[0m",
      "\u001b[0;31mNameError\u001b[0m                                 Traceback (most recent call last)",
      "\u001b[0;32m<ipython-input-18-fb40f4773ecc>\u001b[0m in \u001b[0;36m<module>\u001b[0;34m\u001b[0m\n\u001b[1;32m      2\u001b[0m \u001b[0mprint\u001b[0m\u001b[0;34m(\u001b[0m\u001b[0mget_trainable_cls\u001b[0m\u001b[0;34m)\u001b[0m\u001b[0;34m\u001b[0m\u001b[0;34m\u001b[0m\u001b[0m\n\u001b[1;32m      3\u001b[0m \u001b[0mprint\u001b[0m\u001b[0;34m(\u001b[0m\u001b[0mray\u001b[0m\u001b[0;34m.\u001b[0m\u001b[0mtune\u001b[0m\u001b[0;34m.\u001b[0m\u001b[0mregistry\u001b[0m\u001b[0;34m)\u001b[0m\u001b[0;34m\u001b[0m\u001b[0;34m\u001b[0m\u001b[0m\n\u001b[0;32m----> 4\u001b[0;31m \u001b[0mprint\u001b[0m\u001b[0;34m(\u001b[0m\u001b[0mpython\u001b[0m\u001b[0;34m)\u001b[0m\u001b[0;34m\u001b[0m\u001b[0;34m\u001b[0m\u001b[0m\n\u001b[0m\u001b[1;32m      5\u001b[0m \u001b[0mclss\u001b[0m \u001b[0;34m=\u001b[0m \u001b[0mget_trainable_cls\u001b[0m\u001b[0;34m(\u001b[0m\u001b[0;34m\"PPO\"\u001b[0m\u001b[0;34m)\u001b[0m\u001b[0;34m\u001b[0m\u001b[0;34m\u001b[0m\u001b[0m\n",
      "\u001b[0;31mNameError\u001b[0m: name 'python' is not defined"
     ]
    }
   ],
   "source": [
    "print(ray)\n",
    "print(get_trainable_cls)\n",
    "print(ray.tune.registry)\n",
    "print(python)\n",
    "clss = get_trainable_cls(\"PPO\")"
   ]
  },
  {
   "cell_type": "code",
   "execution_count": 19,
   "metadata": {},
   "outputs": [
    {
     "name": "stdout",
     "output_type": "stream",
     "text": [
      "Python 3.6.9\r\n"
     ]
    }
   ],
   "source": [
    "!python --version"
   ]
  },
  {
   "cell_type": "code",
   "execution_count": 30,
   "metadata": {},
   "outputs": [
    {
     "name": "stderr",
     "output_type": "stream",
     "text": [
      "/home/lars/DRL_SetBot-RearVentilation/gym/gym/logger.py:30: UserWarning: \u001b[33mWARN: Box bound precision lowered by casting to float32\u001b[0m\n",
      "  warnings.warn(colorize('%s: %s'%('WARN', msg % args), 'yellow'))\n"
     ]
    },
    {
     "name": "stdout",
     "output_type": "stream",
     "text": [
      "\u001b[2m\u001b[36m(pid=12149)\u001b[0m /home/lars/.local/lib/python3.6/site-packages/tensorflow/python/framework/dtypes.py:516: FutureWarning: Passing (type, 1) or '1type' as a synonym of type is deprecated; in a future version of numpy, it will be understood as (type, (1,)) / '(1,)type'.\n",
      "\u001b[2m\u001b[36m(pid=12149)\u001b[0m   _np_qint8 = np.dtype([(\"qint8\", np.int8, 1)])\n",
      "\u001b[2m\u001b[36m(pid=12149)\u001b[0m /home/lars/.local/lib/python3.6/site-packages/tensorflow/python/framework/dtypes.py:517: FutureWarning: Passing (type, 1) or '1type' as a synonym of type is deprecated; in a future version of numpy, it will be understood as (type, (1,)) / '(1,)type'.\n",
      "\u001b[2m\u001b[36m(pid=12149)\u001b[0m   _np_quint8 = np.dtype([(\"quint8\", np.uint8, 1)])\n",
      "\u001b[2m\u001b[36m(pid=12149)\u001b[0m /home/lars/.local/lib/python3.6/site-packages/tensorflow/python/framework/dtypes.py:518: FutureWarning: Passing (type, 1) or '1type' as a synonym of type is deprecated; in a future version of numpy, it will be understood as (type, (1,)) / '(1,)type'.\n",
      "\u001b[2m\u001b[36m(pid=12149)\u001b[0m   _np_qint16 = np.dtype([(\"qint16\", np.int16, 1)])\n",
      "\u001b[2m\u001b[36m(pid=12149)\u001b[0m /home/lars/.local/lib/python3.6/site-packages/tensorflow/python/framework/dtypes.py:519: FutureWarning: Passing (type, 1) or '1type' as a synonym of type is deprecated; in a future version of numpy, it will be understood as (type, (1,)) / '(1,)type'.\n",
      "\u001b[2m\u001b[36m(pid=12149)\u001b[0m   _np_quint16 = np.dtype([(\"quint16\", np.uint16, 1)])\n",
      "\u001b[2m\u001b[36m(pid=12149)\u001b[0m /home/lars/.local/lib/python3.6/site-packages/tensorflow/python/framework/dtypes.py:520: FutureWarning: Passing (type, 1) or '1type' as a synonym of type is deprecated; in a future version of numpy, it will be understood as (type, (1,)) / '(1,)type'.\n",
      "\u001b[2m\u001b[36m(pid=12149)\u001b[0m   _np_qint32 = np.dtype([(\"qint32\", np.int32, 1)])\n",
      "\u001b[2m\u001b[36m(pid=12149)\u001b[0m /home/lars/.local/lib/python3.6/site-packages/tensorflow/python/framework/dtypes.py:525: FutureWarning: Passing (type, 1) or '1type' as a synonym of type is deprecated; in a future version of numpy, it will be understood as (type, (1,)) / '(1,)type'.\n",
      "\u001b[2m\u001b[36m(pid=12149)\u001b[0m   np_resource = np.dtype([(\"resource\", np.ubyte, 1)])\n",
      "\u001b[2m\u001b[36m(pid=12152)\u001b[0m /home/lars/.local/lib/python3.6/site-packages/tensorflow/python/framework/dtypes.py:516: FutureWarning: Passing (type, 1) or '1type' as a synonym of type is deprecated; in a future version of numpy, it will be understood as (type, (1,)) / '(1,)type'.\n",
      "\u001b[2m\u001b[36m(pid=12152)\u001b[0m   _np_qint8 = np.dtype([(\"qint8\", np.int8, 1)])\n",
      "\u001b[2m\u001b[36m(pid=12152)\u001b[0m /home/lars/.local/lib/python3.6/site-packages/tensorflow/python/framework/dtypes.py:517: FutureWarning: Passing (type, 1) or '1type' as a synonym of type is deprecated; in a future version of numpy, it will be understood as (type, (1,)) / '(1,)type'.\n",
      "\u001b[2m\u001b[36m(pid=12152)\u001b[0m   _np_quint8 = np.dtype([(\"quint8\", np.uint8, 1)])\n",
      "\u001b[2m\u001b[36m(pid=12152)\u001b[0m /home/lars/.local/lib/python3.6/site-packages/tensorflow/python/framework/dtypes.py:518: FutureWarning: Passing (type, 1) or '1type' as a synonym of type is deprecated; in a future version of numpy, it will be understood as (type, (1,)) / '(1,)type'.\n",
      "\u001b[2m\u001b[36m(pid=12152)\u001b[0m   _np_qint16 = np.dtype([(\"qint16\", np.int16, 1)])\n",
      "\u001b[2m\u001b[36m(pid=12152)\u001b[0m /home/lars/.local/lib/python3.6/site-packages/tensorflow/python/framework/dtypes.py:519: FutureWarning: Passing (type, 1) or '1type' as a synonym of type is deprecated; in a future version of numpy, it will be understood as (type, (1,)) / '(1,)type'.\n",
      "\u001b[2m\u001b[36m(pid=12152)\u001b[0m   _np_quint16 = np.dtype([(\"quint16\", np.uint16, 1)])\n",
      "\u001b[2m\u001b[36m(pid=12152)\u001b[0m /home/lars/.local/lib/python3.6/site-packages/tensorflow/python/framework/dtypes.py:520: FutureWarning: Passing (type, 1) or '1type' as a synonym of type is deprecated; in a future version of numpy, it will be understood as (type, (1,)) / '(1,)type'.\n",
      "\u001b[2m\u001b[36m(pid=12152)\u001b[0m   _np_qint32 = np.dtype([(\"qint32\", np.int32, 1)])\n",
      "\u001b[2m\u001b[36m(pid=12152)\u001b[0m /home/lars/.local/lib/python3.6/site-packages/tensorflow/python/framework/dtypes.py:525: FutureWarning: Passing (type, 1) or '1type' as a synonym of type is deprecated; in a future version of numpy, it will be understood as (type, (1,)) / '(1,)type'.\n",
      "\u001b[2m\u001b[36m(pid=12152)\u001b[0m   np_resource = np.dtype([(\"resource\", np.ubyte, 1)])\n",
      "\u001b[2m\u001b[36m(pid=12149)\u001b[0m /home/lars/.local/lib/python3.6/site-packages/tensorboard/compat/tensorflow_stub/dtypes.py:541: FutureWarning: Passing (type, 1) or '1type' as a synonym of type is deprecated; in a future version of numpy, it will be understood as (type, (1,)) / '(1,)type'.\n",
      "\u001b[2m\u001b[36m(pid=12149)\u001b[0m   _np_qint8 = np.dtype([(\"qint8\", np.int8, 1)])\n",
      "\u001b[2m\u001b[36m(pid=12149)\u001b[0m /home/lars/.local/lib/python3.6/site-packages/tensorboard/compat/tensorflow_stub/dtypes.py:542: FutureWarning: Passing (type, 1) or '1type' as a synonym of type is deprecated; in a future version of numpy, it will be understood as (type, (1,)) / '(1,)type'.\n",
      "\u001b[2m\u001b[36m(pid=12149)\u001b[0m   _np_quint8 = np.dtype([(\"quint8\", np.uint8, 1)])\n",
      "\u001b[2m\u001b[36m(pid=12149)\u001b[0m /home/lars/.local/lib/python3.6/site-packages/tensorboard/compat/tensorflow_stub/dtypes.py:543: FutureWarning: Passing (type, 1) or '1type' as a synonym of type is deprecated; in a future version of numpy, it will be understood as (type, (1,)) / '(1,)type'.\n",
      "\u001b[2m\u001b[36m(pid=12149)\u001b[0m   _np_qint16 = np.dtype([(\"qint16\", np.int16, 1)])\n",
      "\u001b[2m\u001b[36m(pid=12149)\u001b[0m /home/lars/.local/lib/python3.6/site-packages/tensorboard/compat/tensorflow_stub/dtypes.py:544: FutureWarning: Passing (type, 1) or '1type' as a synonym of type is deprecated; in a future version of numpy, it will be understood as (type, (1,)) / '(1,)type'.\n",
      "\u001b[2m\u001b[36m(pid=12149)\u001b[0m   _np_quint16 = np.dtype([(\"quint16\", np.uint16, 1)])\n",
      "\u001b[2m\u001b[36m(pid=12149)\u001b[0m /home/lars/.local/lib/python3.6/site-packages/tensorboard/compat/tensorflow_stub/dtypes.py:545: FutureWarning: Passing (type, 1) or '1type' as a synonym of type is deprecated; in a future version of numpy, it will be understood as (type, (1,)) / '(1,)type'.\n",
      "\u001b[2m\u001b[36m(pid=12149)\u001b[0m   _np_qint32 = np.dtype([(\"qint32\", np.int32, 1)])\n",
      "\u001b[2m\u001b[36m(pid=12149)\u001b[0m /home/lars/.local/lib/python3.6/site-packages/tensorboard/compat/tensorflow_stub/dtypes.py:550: FutureWarning: Passing (type, 1) or '1type' as a synonym of type is deprecated; in a future version of numpy, it will be understood as (type, (1,)) / '(1,)type'.\n",
      "\u001b[2m\u001b[36m(pid=12149)\u001b[0m   np_resource = np.dtype([(\"resource\", np.ubyte, 1)])\n",
      "\u001b[2m\u001b[36m(pid=12152)\u001b[0m /home/lars/.local/lib/python3.6/site-packages/tensorboard/compat/tensorflow_stub/dtypes.py:541: FutureWarning: Passing (type, 1) or '1type' as a synonym of type is deprecated; in a future version of numpy, it will be understood as (type, (1,)) / '(1,)type'.\n",
      "\u001b[2m\u001b[36m(pid=12152)\u001b[0m   _np_qint8 = np.dtype([(\"qint8\", np.int8, 1)])\n",
      "\u001b[2m\u001b[36m(pid=12152)\u001b[0m /home/lars/.local/lib/python3.6/site-packages/tensorboard/compat/tensorflow_stub/dtypes.py:542: FutureWarning: Passing (type, 1) or '1type' as a synonym of type is deprecated; in a future version of numpy, it will be understood as (type, (1,)) / '(1,)type'.\n",
      "\u001b[2m\u001b[36m(pid=12152)\u001b[0m   _np_quint8 = np.dtype([(\"quint8\", np.uint8, 1)])\n",
      "\u001b[2m\u001b[36m(pid=12152)\u001b[0m /home/lars/.local/lib/python3.6/site-packages/tensorboard/compat/tensorflow_stub/dtypes.py:543: FutureWarning: Passing (type, 1) or '1type' as a synonym of type is deprecated; in a future version of numpy, it will be understood as (type, (1,)) / '(1,)type'.\n",
      "\u001b[2m\u001b[36m(pid=12152)\u001b[0m   _np_qint16 = np.dtype([(\"qint16\", np.int16, 1)])\n",
      "\u001b[2m\u001b[36m(pid=12152)\u001b[0m /home/lars/.local/lib/python3.6/site-packages/tensorboard/compat/tensorflow_stub/dtypes.py:544: FutureWarning: Passing (type, 1) or '1type' as a synonym of type is deprecated; in a future version of numpy, it will be understood as (type, (1,)) / '(1,)type'.\n",
      "\u001b[2m\u001b[36m(pid=12152)\u001b[0m   _np_quint16 = np.dtype([(\"quint16\", np.uint16, 1)])\n",
      "\u001b[2m\u001b[36m(pid=12152)\u001b[0m /home/lars/.local/lib/python3.6/site-packages/tensorboard/compat/tensorflow_stub/dtypes.py:545: FutureWarning: Passing (type, 1) or '1type' as a synonym of type is deprecated; in a future version of numpy, it will be understood as (type, (1,)) / '(1,)type'.\n",
      "\u001b[2m\u001b[36m(pid=12152)\u001b[0m   _np_qint32 = np.dtype([(\"qint32\", np.int32, 1)])\n",
      "\u001b[2m\u001b[36m(pid=12152)\u001b[0m /home/lars/.local/lib/python3.6/site-packages/tensorboard/compat/tensorflow_stub/dtypes.py:550: FutureWarning: Passing (type, 1) or '1type' as a synonym of type is deprecated; in a future version of numpy, it will be understood as (type, (1,)) / '(1,)type'.\n",
      "\u001b[2m\u001b[36m(pid=12152)\u001b[0m   np_resource = np.dtype([(\"resource\", np.ubyte, 1)])\n"
     ]
    },
    {
     "name": "stderr",
     "output_type": "stream",
     "text": [
      "Exception in thread Thread-18:\n",
      "Traceback (most recent call last):\n",
      "  File \"/usr/lib/python3.6/threading.py\", line 916, in _bootstrap_inner\n",
      "    self.run()\n",
      "  File \"/home/lars/.local/lib/python3.6/site-packages/ray/tune/utils/util.py\", line 85, in run\n",
      "    self._read_utilization()\n",
      "  File \"/home/lars/.local/lib/python3.6/site-packages/ray/tune/utils/util.py\", line 61, in _read_utilization\n",
      "    for gpu in GPUtil.getGPUs():\n",
      "  File \"/home/lars/.local/lib/python3.6/site-packages/GPUtil/GPUtil.py\", line 102, in getGPUs\n",
      "    deviceIds = int(vals[i])\n",
      "ValueError: invalid literal for int() with base 10: \"NVIDIA-SMI has failed because it couldn't communicate with the NVIDIA driver. Make sure that the latest NVIDIA driver is installed and running.\"\n",
      "\n",
      "2020-05-13 14:29:44,277\tWARNING trainable.py:210 -- Getting current IP.\n",
      "2020-05-13 14:29:44,279\tINFO trainable.py:416 -- Restored on 10.180.135.162 from checkpoint: /home/lars/DRL_SetBot-RearVentilation/final_models/model4/checkpoint-3590\n",
      "2020-05-13 14:29:44,279\tINFO trainable.py:423 -- Current state after restoring: {'_iteration': 3590, '_timesteps_total': 55108000, '_time_total': 301263.58026504517, '_episodes_total': 164361}\n"
     ]
    },
    {
     "name": "stdout",
     "output_type": "stream",
     "text": [
      "\u001b[2m\u001b[36m(pid=12149)\u001b[0m /home/lars/DRL_SetBot-RearVentilation/gym/gym/logger.py:30: UserWarning: \u001b[33mWARN: Box bound precision lowered by casting to float32\u001b[0m\n",
      "\u001b[2m\u001b[36m(pid=12149)\u001b[0m   warnings.warn(colorize('%s: %s'%('WARN', msg % args), 'yellow'))\n",
      "\u001b[2m\u001b[36m(pid=12152)\u001b[0m /home/lars/DRL_SetBot-RearVentilation/gym/gym/logger.py:30: UserWarning: \u001b[33mWARN: Box bound precision lowered by casting to float32\u001b[0m\n",
      "\u001b[2m\u001b[36m(pid=12152)\u001b[0m   warnings.warn(colorize('%s: %s'%('WARN', msg % args), 'yellow'))\n"
     ]
    }
   ],
   "source": [
    "#agent = cls(env=\"RandomizedEnv\", config=config)\n",
    "agent = cls(config=config)\n",
    "agent.restore(checkpoint)"
   ]
  },
  {
   "cell_type": "code",
   "execution_count": 31,
   "metadata": {
    "scrolled": true
   },
   "outputs": [
    {
     "data": {
      "text/plain": [
       "array([-1.        , -1.        ,  0.41365892,  1.        ,  0.43048823,\n",
       "       -0.931073  ], dtype=float32)"
      ]
     },
     "execution_count": 31,
     "metadata": {},
     "output_type": "execute_result"
    }
   ],
   "source": [
    "agent.compute_action([0,0,0,0,0,0,0,0,0,0,0,0])"
   ]
  },
  {
   "cell_type": "markdown",
   "metadata": {},
   "source": [
    "## run on hardware"
   ]
  },
  {
   "cell_type": "code",
   "execution_count": 35,
   "metadata": {
    "scrolled": true
   },
   "outputs": [
    {
     "name": "stdout",
     "output_type": "stream",
     "text": [
      "[ 1.19842252e-05 -1.29977495e+00  2.10471249e+00 -7.99800698e-01\n",
      "  1.57093012e+00  5.38915629e-04]\n"
     ]
    }
   ],
   "source": [
    "ctrl_q = actual_q\n",
    "go_smooth(q_init) #go slowly to initial position\n",
    "print(actual_q)"
   ]
  },
  {
   "cell_type": "code",
   "execution_count": null,
   "metadata": {},
   "outputs": [],
   "source": [
    "mode = \"filtered\"\n",
    "run = 1"
   ]
  },
  {
   "cell_type": "code",
   "execution_count": 36,
   "metadata": {
    "scrolled": true
   },
   "outputs": [
    {
     "name": "stderr",
     "output_type": "stream",
     "text": [
      "/home/lars/.local/lib/python3.6/site-packages/ipykernel_launcher.py:5: FutureWarning: `rcond` parameter will change to the default of machine precision times ``max(M, N)`` where M and N are the input matrix dimensions.\n",
      "To use the future default and silence this warning we advise to pass `rcond=None`, to keep using the old, explicitly pass `rcond=-1`.\n",
      "  \"\"\"\n"
     ]
    },
    {
     "ename": "KeyboardInterrupt",
     "evalue": "",
     "output_type": "error",
     "traceback": [
      "\u001b[0;31m---------------------------------------------------------------------------\u001b[0m",
      "\u001b[0;31mKeyboardInterrupt\u001b[0m                         Traceback (most recent call last)",
      "\u001b[0;32m<ipython-input-36-25927ffba6c7>\u001b[0m in \u001b[0;36m<module>\u001b[0;34m\u001b[0m\n\u001b[1;32m     19\u001b[0m         \u001b[0mctrl_qs\u001b[0m\u001b[0;34m.\u001b[0m\u001b[0mappend\u001b[0m\u001b[0;34m(\u001b[0m\u001b[0mctrl_q\u001b[0m\u001b[0;34m)\u001b[0m\u001b[0;34m\u001b[0m\u001b[0;34m\u001b[0m\u001b[0m\n\u001b[1;32m     20\u001b[0m         \u001b[0;31m#rate.sleep()\u001b[0m\u001b[0;34m\u001b[0m\u001b[0;34m\u001b[0m\u001b[0;34m\u001b[0m\u001b[0m\n\u001b[0;32m---> 21\u001b[0;31m     \u001b[0mrate\u001b[0m\u001b[0;34m.\u001b[0m\u001b[0msleep\u001b[0m\u001b[0;34m(\u001b[0m\u001b[0;34m)\u001b[0m\u001b[0;34m\u001b[0m\u001b[0;34m\u001b[0m\u001b[0m\n\u001b[0m",
      "\u001b[0;32m/opt/ros/melodic/lib/python2.7/dist-packages/rospy/timer.py\u001b[0m in \u001b[0;36msleep\u001b[0;34m(self)\u001b[0m\n\u001b[1;32m    101\u001b[0m         \u001b[0mcurr_time\u001b[0m \u001b[0;34m=\u001b[0m \u001b[0mrospy\u001b[0m\u001b[0;34m.\u001b[0m\u001b[0mrostime\u001b[0m\u001b[0;34m.\u001b[0m\u001b[0mget_rostime\u001b[0m\u001b[0;34m(\u001b[0m\u001b[0;34m)\u001b[0m\u001b[0;34m\u001b[0m\u001b[0;34m\u001b[0m\u001b[0m\n\u001b[1;32m    102\u001b[0m         \u001b[0;32mtry\u001b[0m\u001b[0;34m:\u001b[0m\u001b[0;34m\u001b[0m\u001b[0;34m\u001b[0m\u001b[0m\n\u001b[0;32m--> 103\u001b[0;31m             \u001b[0msleep\u001b[0m\u001b[0;34m(\u001b[0m\u001b[0mself\u001b[0m\u001b[0;34m.\u001b[0m\u001b[0m_remaining\u001b[0m\u001b[0;34m(\u001b[0m\u001b[0mcurr_time\u001b[0m\u001b[0;34m)\u001b[0m\u001b[0;34m)\u001b[0m\u001b[0;34m\u001b[0m\u001b[0;34m\u001b[0m\u001b[0m\n\u001b[0m\u001b[1;32m    104\u001b[0m         \u001b[0;32mexcept\u001b[0m \u001b[0mrospy\u001b[0m\u001b[0;34m.\u001b[0m\u001b[0mexceptions\u001b[0m\u001b[0;34m.\u001b[0m\u001b[0mROSTimeMovedBackwardsException\u001b[0m\u001b[0;34m:\u001b[0m\u001b[0;34m\u001b[0m\u001b[0;34m\u001b[0m\u001b[0m\n\u001b[1;32m    105\u001b[0m             \u001b[0;32mif\u001b[0m \u001b[0;32mnot\u001b[0m \u001b[0mself\u001b[0m\u001b[0;34m.\u001b[0m\u001b[0m_reset\u001b[0m\u001b[0;34m:\u001b[0m\u001b[0;34m\u001b[0m\u001b[0;34m\u001b[0m\u001b[0m\n",
      "\u001b[0;32m/opt/ros/melodic/lib/python2.7/dist-packages/rospy/timer.py\u001b[0m in \u001b[0;36msleep\u001b[0;34m(duration)\u001b[0m\n\u001b[1;32m    132\u001b[0m             \u001b[0;32mreturn\u001b[0m\u001b[0;34m\u001b[0m\u001b[0;34m\u001b[0m\u001b[0m\n\u001b[1;32m    133\u001b[0m         \u001b[0;32melse\u001b[0m\u001b[0;34m:\u001b[0m\u001b[0;34m\u001b[0m\u001b[0;34m\u001b[0m\u001b[0m\n\u001b[0;32m--> 134\u001b[0;31m             \u001b[0mrospy\u001b[0m\u001b[0;34m.\u001b[0m\u001b[0mrostime\u001b[0m\u001b[0;34m.\u001b[0m\u001b[0mwallsleep\u001b[0m\u001b[0;34m(\u001b[0m\u001b[0mduration\u001b[0m\u001b[0;34m)\u001b[0m\u001b[0;34m\u001b[0m\u001b[0;34m\u001b[0m\u001b[0m\n\u001b[0m\u001b[1;32m    135\u001b[0m     \u001b[0;32melse\u001b[0m\u001b[0;34m:\u001b[0m\u001b[0;34m\u001b[0m\u001b[0;34m\u001b[0m\u001b[0m\n\u001b[1;32m    136\u001b[0m         \u001b[0minitial_rostime\u001b[0m \u001b[0;34m=\u001b[0m \u001b[0mrospy\u001b[0m\u001b[0;34m.\u001b[0m\u001b[0mrostime\u001b[0m\u001b[0;34m.\u001b[0m\u001b[0mget_rostime\u001b[0m\u001b[0;34m(\u001b[0m\u001b[0;34m)\u001b[0m\u001b[0;34m\u001b[0m\u001b[0;34m\u001b[0m\u001b[0m\n",
      "\u001b[0;32m/opt/ros/melodic/lib/python2.7/dist-packages/rospy/rostime.py\u001b[0m in \u001b[0;36mwallsleep\u001b[0;34m(duration)\u001b[0m\n\u001b[1;32m    275\u001b[0m             \u001b[0;32mpass\u001b[0m\u001b[0;34m\u001b[0m\u001b[0;34m\u001b[0m\u001b[0m\n\u001b[1;32m    276\u001b[0m     \u001b[0;32melse\u001b[0m\u001b[0;34m:\u001b[0m\u001b[0;34m\u001b[0m\u001b[0;34m\u001b[0m\u001b[0m\n\u001b[0;32m--> 277\u001b[0;31m         \u001b[0mtime\u001b[0m\u001b[0;34m.\u001b[0m\u001b[0msleep\u001b[0m\u001b[0;34m(\u001b[0m\u001b[0mduration\u001b[0m\u001b[0;34m)\u001b[0m\u001b[0;34m\u001b[0m\u001b[0;34m\u001b[0m\u001b[0m\n\u001b[0m",
      "\u001b[0;31mKeyboardInterrupt\u001b[0m: "
     ]
    }
   ],
   "source": [
    "done = False\n",
    "max_limit = 0.0001\n",
    "ft_zero()\n",
    "ft_value_rec = list()\n",
    "actual_qs = list()\n",
    "ctrl_qs = list()\n",
    "poses = []\n",
    "\n",
    "while not done:\n",
    "    obs = get_obs()\n",
    "    action = agent.compute_action(obs)\n",
    "    for i in range(1):\n",
    "        dx = max_limit * action.copy()\n",
    "        rot_mat = sim.data.get_body_xmat('gripper_dummy_heg')\n",
    "        dx_ = np.concatenate([rot_mat.dot(dx[:3]), rot_mat.dot(dx[3:])])  ## transform to right coordinate system\n",
    "        dq  = get_dq(dx_)\n",
    "        q = ctrl_q + dq\n",
    "        control(q)\n",
    "        ft_value_rec.append(ft_values)\n",
    "        actual_qs.append(actual_q)\n",
    "        ctrl_qs.append(ctrl_q)\n",
    "        poses.append(pose)\n",
    "        #rate.sleep()\n",
    "    rate.sleep()"
   ]
  },
  {
   "cell_type": "code",
   "execution_count": null,
   "metadata": {},
   "outputs": [],
   "source": [
    "poses_df = pandas.DataFrame(poses, columns=[\"tx\", \"ty\", \"tz\", \"rx\", \"ry\", \"rz\"])\n",
    "poses_df.to_feather(os.path.join(*[SAVE_PATH, \"poses_run_{}_{}.ftr\".format(mode,run)]))"
   ]
  },
  {
   "cell_type": "code",
   "execution_count": 37,
   "metadata": {},
   "outputs": [],
   "source": [
    "numpy.save(\"model4_ft_d2_run2.npy\", numpy.array(ft_value_rec))"
   ]
  },
  {
   "cell_type": "code",
   "execution_count": 45,
   "metadata": {},
   "outputs": [
    {
     "data": {
      "text/plain": [
       "0.00687730584639757"
      ]
     },
     "execution_count": 45,
     "metadata": {},
     "output_type": "execute_result"
    }
   ],
   "source": [
    "numpy.linalg.norm(obs[:3])"
   ]
  },
  {
   "cell_type": "code",
   "execution_count": 38,
   "metadata": {},
   "outputs": [],
   "source": [
    "numpy.save(\"model1_actual_q_correct_ft_run3.npy\", numpy.array(actual_qs))\n",
    "numpy.save(\"model1_ctrl_q_correct_ft_run3.npy\", numpy.array(ctrl_qs))"
   ]
  },
  {
   "cell_type": "code",
   "execution_count": 39,
   "metadata": {},
   "outputs": [],
   "source": [
    "ft_values_front_to_back=list()\n",
    "for i in range(750):\n",
    "    ft_values_front_to_back.append(ft_values)\n",
    "    rate.sleep()"
   ]
  },
  {
   "cell_type": "code",
   "execution_count": 40,
   "metadata": {},
   "outputs": [],
   "source": [
    "ft_zero()"
   ]
  },
  {
   "cell_type": "code",
   "execution_count": 41,
   "metadata": {},
   "outputs": [
    {
     "data": {
      "image/png": "[encoded data removed]",
      "text/plain": [
       "<Figure size 432x288 with 1 Axes>"
      ]
     },
     "metadata": {
      "needs_background": "light"
     },
     "output_type": "display_data"
    },
    {
     "data": {
      "image/png": "[encoded data removed]",
      "text/plain": [
       "<Figure size 432x288 with 1 Axes>"
      ]
     },
     "metadata": {
      "needs_background": "light"
     },
     "output_type": "display_data"
    },
    {
     "data": {
      "image/png": "[encoded data removed]",
      "text/plain": [
       "<Figure size 432x288 with 1 Axes>"
      ]
     },
     "metadata": {
      "needs_background": "light"
     },
     "output_type": "display_data"
    },
    {
     "data": {
      "image/png": "[encoded data removed]",
      "text/plain": [
       "<Figure size 432x288 with 1 Axes>"
      ]
     },
     "metadata": {
      "needs_background": "light"
     },
     "output_type": "display_data"
    },
    {
     "data": {
      "image/png": "[encoded data removed]",
      "text/plain": [
       "<Figure size 432x288 with 1 Axes>"
      ]
     },
     "metadata": {
      "needs_background": "light"
     },
     "output_type": "display_data"
    },
    {
     "data": {
      "image/png": "[encoded data removed]",
      "text/plain": [
       "<Figure size 432x288 with 1 Axes>"
      ]
     },
     "metadata": {
      "needs_background": "light"
     },
     "output_type": "display_data"
    }
   ],
   "source": [
    "for i in range(6):\n",
    "    plt.figure()\n",
    "    plt.plot(numpy.array(ft_values_front_to_back).T[i])"
   ]
  },
  {
   "cell_type": "code",
   "execution_count": 42,
   "metadata": {},
   "outputs": [],
   "source": [
    "ft_values_up_to_down=list()\n",
    "ft_zero()\n",
    "for i in range(750):\n",
    "    ft_values_up_to_down.append(ft_values)\n",
    "    rate.sleep()"
   ]
  },
  {
   "cell_type": "code",
   "execution_count": 43,
   "metadata": {},
   "outputs": [
    {
     "data": {
      "image/png": "[encoded data removed]",
      "text/plain": [
       "<Figure size 432x288 with 1 Axes>"
      ]
     },
     "metadata": {
      "needs_background": "light"
     },
     "output_type": "display_data"
    },
    {
     "data": {
      "image/png": "[encoded data removed]",
      "text/plain": [
       "<Figure size 432x288 with 1 Axes>"
      ]
     },
     "metadata": {
      "needs_background": "light"
     },
     "output_type": "display_data"
    },
    {
     "data": {
      "image/png": "[encoded data removed]",
      "text/plain": [
       "<Figure size 432x288 with 1 Axes>"
      ]
     },
     "metadata": {
      "needs_background": "light"
     },
     "output_type": "display_data"
    },
    {
     "data": {
      "image/png": "[encoded data removed]",
      "text/plain": [
       "<Figure size 432x288 with 1 Axes>"
      ]
     },
     "metadata": {
      "needs_background": "light"
     },
     "output_type": "display_data"
    },
    {
     "data": {
      "image/png": "[encoded data removed]",
      "text/plain": [
       "<Figure size 432x288 with 1 Axes>"
      ]
     },
     "metadata": {
      "needs_background": "light"
     },
     "output_type": "display_data"
    },
    {
     "data": {
      "image/png": "[encoded data removed]",
      "text/plain": [
       "<Figure size 432x288 with 1 Axes>"
      ]
     },
     "metadata": {
      "needs_background": "light"
     },
     "output_type": "display_data"
    }
   ],
   "source": [
    "for i in range(6):\n",
    "    plt.figure()\n",
    "    plt.plot(numpy.array(ft_values_up_to_down).T[i])"
   ]
  },
  {
   "cell_type": "code",
   "execution_count": 44,
   "metadata": {},
   "outputs": [],
   "source": [
    "ft_values_wall_to_lars=list()\n",
    "ft_zero()\n",
    "for i in range(750):\n",
    "    ft_values_wall_to_lars.append(ft_values)\n",
    "    rate.sleep()"
   ]
  },
  {
   "cell_type": "code",
   "execution_count": 45,
   "metadata": {},
   "outputs": [
    {
     "data": {
      "image/png": "[encoded data removed]",
      "text/plain": [
       "<Figure size 432x288 with 1 Axes>"
      ]
     },
     "metadata": {
      "needs_background": "light"
     },
     "output_type": "display_data"
    },
    {
     "data": {
      "image/png": "[encoded data removed]",
      "text/plain": [
       "<Figure size 432x288 with 1 Axes>"
      ]
     },
     "metadata": {
      "needs_background": "light"
     },
     "output_type": "display_data"
    },
    {
     "data": {
      "image/png": "[encoded data removed]",
      "text/plain": [
       "<Figure size 432x288 with 1 Axes>"
      ]
     },
     "metadata": {
      "needs_background": "light"
     },
     "output_type": "display_data"
    },
    {
     "data": {
      "image/png": "[encoded data removed]",
      "text/plain": [
       "<Figure size 432x288 with 1 Axes>"
      ]
     },
     "metadata": {
      "needs_background": "light"
     },
     "output_type": "display_data"
    },
    {
     "data": {
      "image/png": "[encoded data removed]",
      "text/plain": [
       "<Figure size 432x288 with 1 Axes>"
      ]
     },
     "metadata": {
      "needs_background": "light"
     },
     "output_type": "display_data"
    },
    {
     "data": {
      "image/png": "[encoded data removed]",
      "text/plain": [
       "<Figure size 432x288 with 1 Axes>"
      ]
     },
     "metadata": {
      "needs_background": "light"
     },
     "output_type": "display_data"
    }
   ],
   "source": [
    "for i in range(6):\n",
    "    plt.figure()\n",
    "    plt.plot(numpy.array(ft_values_wall_to_lars).T[i])"
   ]
  },
  {
   "cell_type": "code",
   "execution_count": 46,
   "metadata": {},
   "outputs": [
    {
     "name": "stdout",
     "output_type": "stream",
     "text": [
      "[ 1.42498827e-01 -7.46689118e-03 -1.41071208e-03 -2.56501088e-02\n",
      " -2.53881883e-02 -1.10276807e-02  2.52000000e+01 -2.73000000e+01\n",
      "  3.89999500e+00  2.00000000e+00 -8.30000000e-01 -3.80000000e-01]\n",
      "[ 25.2      -27.3        3.899995   2.        -0.83      -0.38    ]\n"
     ]
    }
   ],
   "source": [
    "ft_zero()\n",
    "print(get_obs())\n",
    "print(ft_values)\n"
   ]
  },
  {
   "cell_type": "code",
   "execution_count": null,
   "metadata": {},
   "outputs": [],
   "source": []
  }
 ],
 "metadata": {
  "kernelspec": {
   "display_name": "Python 3",
   "language": "python",
   "name": "python3"
  },
  "language_info": {
   "codemirror_mode": {
    "name": "ipython",
    "version": 3
   },
   "file_extension": ".py",
   "mimetype": "text/x-python",
   "name": "python",
   "nbconvert_exporter": "python",
   "pygments_lexer": "ipython3",
   "version": "3.6.9"
  }
 },
 "nbformat": 4,
 "nbformat_minor": 4
}
