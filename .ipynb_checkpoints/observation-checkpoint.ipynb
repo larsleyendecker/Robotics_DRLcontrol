{
 "cells": [
  {
   "cell_type": "code",
   "execution_count": 1,
   "metadata": {},
   "outputs": [],
   "source": [
    "import os\n",
    "import numpy\n",
    "\n",
    "import rospy\n",
    "from geometry_msgs.msg import WrenchStamped\n",
    "from realsense2_camera.msg import CustomVector\n",
    "from realsense2_camera.msg import EstimatedPose"
   ]
  },
  {
   "cell_type": "code",
   "execution_count": 2,
   "metadata": {},
   "outputs": [],
   "source": [
    "def normalize_rad(angles):\n",
    "    angles = numpy.array(angles)\n",
    "    angles = angles % (2*numpy.pi)\n",
    "    angles = (angles + 2*numpy.pi) % (2*numpy.pi)\n",
    "    for i in range(len(angles)):\n",
    "        if (angles[i] > numpy.pi):\n",
    "            angles[i] -= 2*numpy.pi\n",
    "    return angles"
   ]
  },
  {
   "cell_type": "code",
   "execution_count": 3,
   "metadata": {},
   "outputs": [],
   "source": [
    "def ft_callback(data):\n",
    "    '''ROS Callback function for the force-torque data'''\n",
    "    global ft_values\n",
    "    ft_values = numpy.array([data.wrench.force.x, data.wrench.force.y, data.wrench.force.z, data.wrench.torque.x, data.wrench.torque.y, data.wrench.torque.z])  \n",
    "    #publish_observations(ft_values)\n",
    "\n",
    "def rotmat_callback(data):\n",
    "    global x_mat_flat\n",
    "    x_mat_flat = numpy.array(data.data)\n",
    "\n",
    "def pose_callback(data):\n",
    "    '''ROS Callback function for the pose_estimation'''\n",
    "    global pose\n",
    "    pose = numpy.array([data.tx, data.ty, data.tz, data.rx, data.ry, data.rz])"
   ]
  },
  {
   "cell_type": "code",
   "execution_count": 4,
   "metadata": {},
   "outputs": [],
   "source": [
    "def publish_observations(posex,x_mat_flatx,ft_valuesx):\n",
    "    '''Function that computes and publishes the observations given the pose, rotation matrix and force torque data'''\n",
    "    pos = posex.copy()[:3]\n",
    "    rpy = posex.copy()[3:]\n",
    "    x_mat = x_mat_flatx.copy().reshape((3,3))\n",
    "    obs = numpy.concatenate([\n",
    "        x_mat.dot(pos), x_mat.dot(normalize_rad(rpy)), ft_valuesx.copy()\n",
    "    ])\n",
    "    observation_publisher.publish(obs)"
   ]
  },
  {
   "cell_type": "code",
   "execution_count": 5,
   "metadata": {},
   "outputs": [],
   "source": [
    "rospy.init_node(\"observator\", anonymous=True)\n",
    "observation_publisher = rospy.Publisher(\"/observation0\", CustomVector, queue_size=1)\n",
    "rospy.Subscriber(\"/rotation_matrix\", CustomVector, rotmat_callback)\n",
    "rospy.Subscriber(\"/ft300_force_torque\", WrenchStamped, ft_callback)\n",
    "rospy.Subscriber(\"/pose_estimation\", EstimatedPose, pose_callback)\n",
    "rate = rospy.Rate(1)"
   ]
  },
  {
   "cell_type": "code",
   "execution_count": null,
   "metadata": {},
   "outputs": [
    {
     "name": "stderr",
     "output_type": "stream",
     "text": [
      "[WARN] [1593004021.234314]: Inbound TCP/IP connection failed: connection from sender terminated before handshake header received. 0 bytes were received. Please check sender for additional details.\n"
     ]
    }
   ],
   "source": [
    "while not rospy.is_shutdown():\n",
    "    publish_observations(pose, x_mat_flat, ft_values)\n",
    "    rate.sleep()"
   ]
  },
  {
   "cell_type": "code",
   "execution_count": 8,
   "metadata": {},
   "outputs": [
    {
     "data": {
      "text/plain": [
       "array([-0.01488004,  0.02794781,  0.18030093, -3.12095371, -0.04345509,\n",
       "        0.08726412])"
      ]
     },
     "execution_count": 8,
     "metadata": {},
     "output_type": "execute_result"
    }
   ],
   "source": [
    "pose"
   ]
  },
  {
   "cell_type": "code",
   "execution_count": 11,
   "metadata": {},
   "outputs": [
    {
     "data": {
      "text/plain": [
       "array([[-1.00000000e+00, -4.59035946e-05,  2.27224632e-06],\n",
       "       [ 2.27388000e-06, -3.55858538e-05,  1.00000000e+00],\n",
       "       [-4.59035109e-05,  1.00000000e+00,  3.55859593e-05]])"
      ]
     },
     "execution_count": 11,
     "metadata": {},
     "output_type": "execute_result"
    }
   ],
   "source": [
    "x_mat_flat.reshape((3,3))"
   ]
  },
  {
   "cell_type": "code",
   "execution_count": 12,
   "metadata": {},
   "outputs": [
    {
     "data": {
      "text/plain": [
       "array([-2.8300000e+00, -1.9200000e+00, -3.7290001e+01, -3.0000000e-02,\n",
       "       -1.3000000e-02,  3.2000000e-01])"
      ]
     },
     "execution_count": 12,
     "metadata": {},
     "output_type": "execute_result"
    }
   ],
   "source": [
    "ft_values"
   ]
  },
  {
   "cell_type": "code",
   "execution_count": null,
   "metadata": {},
   "outputs": [],
   "source": [
    "def print(pose):\n",
    "    print(pose)"
   ]
  },
  {
   "cell_type": "code",
   "execution_count": null,
   "metadata": {},
   "outputs": [],
   "source": [
    "print(pose)"
   ]
  },
  {
   "cell_type": "code",
   "execution_count": null,
   "metadata": {},
   "outputs": [],
   "source": []
  }
 ],
 "metadata": {
  "kernelspec": {
   "display_name": "Python 3",
   "language": "python",
   "name": "python3"
  },
  "language_info": {
   "codemirror_mode": {
    "name": "ipython",
    "version": 3
   },
   "file_extension": ".py",
   "mimetype": "text/x-python",
   "name": "python",
   "nbconvert_exporter": "python",
   "pygments_lexer": "ipython3",
   "version": "3.6.9"
  }
 },
 "nbformat": 4,
 "nbformat_minor": 4
}
