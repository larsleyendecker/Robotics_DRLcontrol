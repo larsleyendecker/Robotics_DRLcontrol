{
 "cells": [
  {
   "cell_type": "code",
   "execution_count": 3,
   "metadata": {},
   "outputs": [],
   "source": [
    "import os\n",
    "import pandas\n",
    "import numpy"
   ]
  },
  {
   "cell_type": "code",
   "execution_count": 4,
   "metadata": {},
   "outputs": [],
   "source": [
    "fts = []\n",
    "for i in range(50):\n",
    "    fts.append(numpy.random.normal(0, 20, 6))"
   ]
  },
  {
   "cell_type": "code",
   "execution_count": 6,
   "metadata": {},
   "outputs": [
    {
     "name": "stdout",
     "output_type": "stream",
     "text": [
      "-3.098332718045776\n",
      "50.62627463733819\n",
      "-41.218742336391124\n",
      "7.466249523050465\n",
      "11.905359381132403\n",
      "-11.172782580175122\n",
      "-19.511606732155194\n",
      "9.95023233189523\n",
      "3.0561094684395664\n",
      "-20.724342211301483\n",
      "4.629826414690995\n",
      "-12.398783985891411\n",
      "20.84545759845821\n",
      "58.13783448743928\n",
      "-8.09840599090251\n",
      "12.764386211669866\n",
      "-2.513346338349503\n",
      "-15.519606891157549\n",
      "-8.951520842361491\n",
      "-6.637727216926212\n",
      "6.751007135240348\n",
      "11.2691550331546\n",
      "-1.6426902736928248\n",
      "3.3962007950062767\n",
      "6.992271843196036\n",
      "2.3494127317801263\n",
      "-0.45581744103464084\n",
      "-14.276415514381029\n",
      "-39.89021504096683\n",
      "-16.992036618725937\n",
      "11.744076327204773\n",
      "-13.49095636031108\n",
      "34.64814156061098\n",
      "-8.845983811637035\n",
      "12.077084006233822\n",
      "-8.415754968497593\n",
      "15.510282955593336\n",
      "15.398305639425729\n",
      "4.95378602256149\n",
      "3.706157440957567\n",
      "12.169885050381758\n",
      "7.7700405820351985\n",
      "-10.150111756941879\n",
      "5.8346389662512035\n",
      "-10.696648729568237\n",
      "1.2813167666085865\n",
      "26.13324852140564\n",
      "-2.8418599807840654\n",
      "-14.263024831833686\n",
      "-1.0911132723299248\n"
     ]
    }
   ],
   "source": [
    "for i in range(len(fts)):\n",
    "    print(fts[i][0])"
   ]
  },
  {
   "cell_type": "code",
   "execution_count": 12,
   "metadata": {},
   "outputs": [],
   "source": [
    "fxs = []\n",
    "fys = []\n",
    "fzs = []\n",
    "txs = []\n",
    "tys = []\n",
    "tzs = []\n",
    "\n",
    "for i in range(len(fts)):\n",
    "    fxs.append(fts[i][0])\n",
    "    fys.append(fts[i][0])\n",
    "    fzs.append(fts[i][0])\n",
    "    txs.append(fts[i][0])\n",
    "    tys.append(fts[i][0])\n",
    "    tzs.append(fts[i][0])\n",
    "\n",
    "\n",
    "ft_dict = {\n",
    "    \"fx\" : fxs,\n",
    "    \"fy\" : fys,\n",
    "    \"fz\" : fzs,\n",
    "    \"tx\" : txs,\n",
    "    \"ty\" : tys,\n",
    "    \"tz\" : tzs\n",
    "}"
   ]
  },
  {
   "cell_type": "code",
   "execution_count": 16,
   "metadata": {},
   "outputs": [],
   "source": [
    "values = numpy.array([0.0045173633843660355, -0.0014416234334930778, -0.00013387957005761564])"
   ]
  },
  {
   "cell_type": "code",
   "execution_count": 18,
   "metadata": {},
   "outputs": [
    {
     "data": {
      "text/plain": [
       "0.0045173633843660355"
      ]
     },
     "execution_count": 18,
     "metadata": {},
     "output_type": "execute_result"
    }
   ],
   "source": [
    "values[0]"
   ]
  },
  {
   "cell_type": "code",
   "execution_count": 22,
   "metadata": {},
   "outputs": [],
   "source": [
    "threshold = numpy.absolute(values[0]) + numpy.absolute(values[1]) + numpy.absolute(values[2])"
   ]
  },
  {
   "cell_type": "code",
   "execution_count": 23,
   "metadata": {},
   "outputs": [
    {
     "data": {
      "text/plain": [
       "0.006092866387916729"
      ]
     },
     "execution_count": 23,
     "metadata": {},
     "output_type": "execute_result"
    }
   ],
   "source": [
    "threshold"
   ]
  }
 ],
 "metadata": {
  "kernelspec": {
   "display_name": "Python 3",
   "language": "python",
   "name": "python3"
  },
  "language_info": {
   "codemirror_mode": {
    "name": "ipython",
    "version": 3
   },
   "file_extension": ".py",
   "mimetype": "text/x-python",
   "name": "python",
   "nbconvert_exporter": "python",
   "pygments_lexer": "ipython3",
   "version": "3.6.9"
  }
 },
 "nbformat": 4,
 "nbformat_minor": 4
}
