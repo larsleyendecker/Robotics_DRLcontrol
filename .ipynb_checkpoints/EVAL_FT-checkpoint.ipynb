{
 "cells": [
  {
   "cell_type": "code",
   "execution_count": 1,
   "metadata": {},
   "outputs": [],
   "source": [
    "import os\n",
    "import rospy\n",
    "import numpy\n",
    "import json\n",
    "import pandas\n",
    "from geometry_msgs.msg import WrenchStamped"
   ]
  },
  {
   "cell_type": "code",
   "execution_count": 2,
   "metadata": {},
   "outputs": [],
   "source": [
    "SAVE_PATH = os.getcwd()"
   ]
  },
  {
   "cell_type": "code",
   "execution_count": 3,
   "metadata": {},
   "outputs": [],
   "source": [
    "def ft_callback(data):\n",
    "    global ft_values\n",
    "    ft_values = numpy.array([data.wrench.force.x, data.wrench.force.y, data.wrench.force.z, data.wrench.torque.x, data.wrench.torque.y, data.wrench.torque.z])  "
   ]
  },
  {
   "cell_type": "code",
   "execution_count": 4,
   "metadata": {},
   "outputs": [],
   "source": [
    "rospy.init_node(\"FT300\", anonymous=True)\n",
    "rospy.Subscriber(\"/ft300_force_torque\", WrenchStamped, ft_callback)\n",
    "rate = rospy.Rate(100)"
   ]
  },
  {
   "cell_type": "code",
   "execution_count": 5,
   "metadata": {},
   "outputs": [],
   "source": [
    "Fxs = list()\n",
    "Fys = list()\n",
    "Fzs = list()\n",
    "Mxs = list()\n",
    "Mys = list()\n",
    "Mzs = list()"
   ]
  },
  {
   "cell_type": "code",
   "execution_count": 6,
   "metadata": {},
   "outputs": [],
   "source": [
    "for i in range(100*60):\n",
    "    Fxs.append(ft_values[0])\n",
    "    Fys.append(ft_values[1])\n",
    "    Fzs.append(ft_values[2])\n",
    "    Mxs.append(ft_values[3])\n",
    "    Mys.append(ft_values[4])\n",
    "    Mzs.append(ft_values[5])\n",
    "    rate.sleep()"
   ]
  },
  {
   "cell_type": "code",
   "execution_count": 7,
   "metadata": {},
   "outputs": [],
   "source": [
    "save_dict = {\n",
    "    \"Fx\"  : Fxs,\n",
    "    \"Fy\"  : Fzs,\n",
    "    \"Fz\"  : Fys,\n",
    "    \"Mx\"  : Mxs,\n",
    "    \"My\"  : Mys,\n",
    "    \"Mz\"  : Mzs,\n",
    "}\n",
    "filename = \"FT_EVALUATION_2.json\"\n",
    "with open(os.path.join(*[SAVE_PATH, filename]), 'w') as file:\n",
    "    json.dump(save_dict, file)\n",
    "    file.close()"
   ]
  },
  {
   "cell_type": "code",
   "execution_count": 8,
   "metadata": {},
   "outputs": [],
   "source": [
    "import matplotlib.pyplot as plt"
   ]
  },
  {
   "cell_type": "code",
   "execution_count": 11,
   "metadata": {},
   "outputs": [
    {
     "data": {
      "text/plain": [
       "[<matplotlib.lines.Line2D at 0x7fb8216d1588>]"
      ]
     },
     "execution_count": 11,
     "metadata": {},
     "output_type": "execute_result"
    },
    {
     "data": {
      "image/png": "[encoded data removed]",
      "text/plain": [
       "<Figure size 432x288 with 1 Axes>"
      ]
     },
     "metadata": {
      "needs_background": "light"
     },
     "output_type": "display_data"
    }
   ],
   "source": [
    "plt.plot(Fxs)"
   ]
  },
  {
   "cell_type": "code",
   "execution_count": null,
   "metadata": {},
   "outputs": [],
   "source": []
  }
 ],
 "metadata": {
  "kernelspec": {
   "display_name": "Python 3",
   "language": "python",
   "name": "python3"
  },
  "language_info": {
   "codemirror_mode": {
    "name": "ipython",
    "version": 3
   },
   "file_extension": ".py",
   "mimetype": "text/x-python",
   "name": "python",
   "nbconvert_exporter": "python",
   "pygments_lexer": "ipython3",
   "version": "3.6.9"
  }
 },
 "nbformat": 4,
 "nbformat_minor": 4
}
