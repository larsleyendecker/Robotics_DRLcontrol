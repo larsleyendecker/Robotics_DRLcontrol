{
 "cells": [
  {
   "cell_type": "code",
   "execution_count": 1,
   "metadata": {},
   "outputs": [],
   "source": [
    "import os\n",
    "import numpy\n",
    "import rospy\n",
    "from realsense2_camera.msg import EstimatedPose\n",
    "\n",
    "HOME = os.getenv(\"HOME\")\n",
    "SAVE_PATH = os.path.join(*[HOME, \"DRL_SetBot-RearVentilation\", \"DRLAI4RoMoCo\"])"
   ]
  },
  {
   "cell_type": "code",
   "execution_count": 2,
   "metadata": {},
   "outputs": [],
   "source": [
    "def pose_estimation_callback(data):\n",
    "    global pose_estimation\n",
    "    pose_estimation = np.array([data.tx, data.ty, data.tz, data.rx, data.ry, data.rz])"
   ]
  },
  {
   "cell_type": "code",
   "execution_count": null,
   "metadata": {},
   "outputs": [],
   "source": [
    "rospy.init_node(\"Pose_Listener\", anonymous=True)\n",
    "rospy.Subscriber(\"/pose_estimation\", EstimatedPose, pose_estimation_callback)\n",
    "rate = rospy.Rate(125)"
   ]
  },
  {
   "cell_type": "code",
   "execution_count": null,
   "metadata": {},
   "outputs": [],
   "source": [
    "pose_estimation_rec = []\n",
    "\n",
    "while True:\n",
    "    pose_estimation_rec.append(pose_estimation)\n",
    "    rate.sleep()"
   ]
  },
  {
   "cell_type": "code",
   "execution_count": null,
   "metadata": {},
   "outputs": [],
   "source": [
    "save_index = 0"
   ]
  },
  {
   "cell_type": "code",
   "execution_count": null,
   "metadata": {},
   "outputs": [],
   "source": [
    "numpy.save(os.path.join(*[SAVE_PATH,\"pose_estimation_{}.npy\".format(save_index)]), numpy.array(pose_estimation_rec))"
   ]
  }
 ],
 "metadata": {
  "kernelspec": {
   "display_name": "Python 3",
   "language": "python",
   "name": "python3"
  },
  "language_info": {
   "codemirror_mode": {
    "name": "ipython",
    "version": 3
   },
   "file_extension": ".py",
   "mimetype": "text/x-python",
   "name": "python",
   "nbconvert_exporter": "python",
   "pygments_lexer": "ipython3",
   "version": "3.6.9"
  }
 },
 "nbformat": 4,
 "nbformat_minor": 4
}
