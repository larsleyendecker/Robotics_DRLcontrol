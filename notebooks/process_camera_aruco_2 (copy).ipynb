{
 "cells": [
  {
   "cell_type": "markdown",
   "metadata": {},
   "source": [
    "# Description"
   ]
  },
  {
   "cell_type": "markdown",
   "metadata": {},
   "source": [
    "Script for doing pose estimation using Intel RealSense D435i, ROS Melodic, OpenCV and ArUco markers"
   ]
  },
  {
   "cell_type": "markdown",
   "metadata": {},
   "source": [
    "# Imports"
   ]
  },
  {
   "cell_type": "code",
   "execution_count": 1,
   "metadata": {},
   "outputs": [],
   "source": [
    "import os\n",
    "import numpy\n",
    "import cv2\n",
    "from cv_bridge import CvBridge\n",
    "from cv_bridge.boost.cv_bridge_boost import getCvType\n",
    "\n",
    "import rospy\n",
    "from sensor_msgs.msg import Image, CameraInfo"
   ]
  },
  {
   "cell_type": "markdown",
   "metadata": {},
   "source": [
    "# Functions"
   ]
  },
  {
   "cell_type": "markdown",
   "metadata": {},
   "source": [
    "OpenCV Functions"
   ]
  },
  {
   "cell_type": "code",
   "execution_count": 2,
   "metadata": {},
   "outputs": [],
   "source": [
    "def create_board(config, marker_index):\n",
    "    '''Creates a aruco board with the given configuration'''\n",
    "    return cv2.aruco.GridBoard_create(config[\"markersX\"], config[\"markersY\"], config[\"markerLength\"], config[\"markerSeparation\"], config[\"dictionary\"], marker_index)\n",
    "\n",
    "def create_boards(config):\n",
    "    '''Creates all four aruco boards and returns a list of them'''\n",
    "    boards = []\n",
    "    marker_index = 0\n",
    "    board_index = 0\n",
    "    \n",
    "    for board_index in range(4):\n",
    "        aruco_board = create_board(board_config, marker_index)\n",
    "        boards.append(aruco_board)\n",
    "        marker_index += 4\n",
    "    return boards\n",
    "\n",
    "def create_charuco_board(config):\n",
    "    '''Creates a charuco board with the given configuration'''\n",
    "    return cv2.aruco.CharucoBoard_create(config[\"squaresX\"], config[\"squaresY\"], config[\"squareLength\"], config[\"markerLength\"], config[\"dictionary\"])\n",
    "\n",
    "def create_charuco_boards(config):\n",
    "    '''Creates four charuco boards and return a list of them'''\n",
    "    charuco_boards = []\n",
    "    board_index = 0\n",
    "    \n",
    "    for board_index in range(4):\n",
    "        charuco_board = create_charuco_board(config)\n",
    "        charuco_boards.append(charuco_board)\n",
    "    \n",
    "    return charuco_boards\n",
    "\n",
    "def detect_marker(cv_image):\n",
    "    '''Detects aruco marker on the given image'''\n",
    "    aruco_dictionary = cv2.aruco.Dictionary_get(cv2.aruco.DICT_7X7_50)\n",
    "    markers, ids, _ = cv2.aruco.detectMarkers(cv_image, aruco_dictionary)\n",
    "    cv2.aruco.drawDetectedMarkers(cv_image, corners=markers,ids=ids, borderColor=150)\n",
    "    cv2.imshow(\"Aruco Window\", cv_image)\n",
    "    return cv_image\n",
    "    \n",
    "def single_pose_estimate(cv_image):\n",
    "    '''6DoF Pose estimation of the detected aruco markers'''\n",
    "    markers, ids, _ = cv2.aruco.detectMarkers(cv_image, board_config[\"dictionary\"])\n",
    "    if ids is not None:\n",
    "        if ids.size > 0:\n",
    "            cv2.aruco.drawDetectedMarkers(cv_image, corners=markers, ids=ids)\n",
    "            for marker in markers:\n",
    "                rotation_vector, translation_vector, _ = cv2.aruco.estimatePoseSingleMarkers(corners=marker, markerLength=board_config[\"markerLength\"], cameraMatrix=camera_matrix, distCoeffs=distortion_coefficients)\n",
    "                cv2.aruco.drawAxis(cv_image, cameraMatrix=camera_matrix, distCoeffs=distortion_coefficients, rvec=rotation_vector, tvec=translation_vector, length=board_config[\"markerLength\"])\n",
    "    cv2.imshow(\"Stream\", cv_image)\n",
    "    #out.write(cv_image)\n",
    "\n",
    "def board_pose_estimation(cv_image):\n",
    "    '''Does Board pose estimation'''\n",
    "    markers, ids, _ = cv2.aruco.detectMarkers(cv_image, board_config[\"dictionary\"])\n",
    "    if ids is not None:\n",
    "        if ids.size > 0:\n",
    "            cv2.aruco.drawDetectedMarkers(cv_image, corners=markers, ids=ids)\n",
    "            valid, rotation_vector, translation_vector = cv2.aruco.estimatePoseBoard(corners=markers, ids=ids, board=boards[0], cameraMatrix=camera_matrix, distCoeffs=distortion_coefficients)\n",
    "            if valid > 0:\n",
    "                cv2.aruco.drawAxis(cv_image, cameraMatrix=camera_matrix, distCoeffs=distortion_coefficients, rvec=rotation_vector, tvec=translation_vector)\n",
    "    cv2.imshow(\"Board\", cv_image)\n",
    "\n",
    "def charuco_pose_estimation(cv_image):\n",
    "    '''Does poes estimation using the charuco board (chessboard + aruco marker) in the given configuration'''\n",
    "    corners, ids, _ = cv2.aruco.detectMarkers(cv_image, charuco_config[\"dictionary\"], parameters=params)\n",
    "    \n",
    "    if ids is not None:\n",
    "        charuco_retval, charuco_corners, charuco_ids = cv2.aruco.interpolateCornersCharuco(corners, ids, cv_image, charuco_boards[0], minMarkers=1)\n",
    "        cv2.aruco.drawDetectedCornersCharuco(cv_image, charuco_corners, charuco_ids)\n",
    "        \n",
    "        retval, rotation_vector, translation_vector = cv2.aruco.estimatePoseCharucoBoard(charuco_corners, charuco_ids, charuco_boards[0],camera_matrix, distortion_coefficients, None, None)# rotation_vector, translation_vector)\n",
    "        if retval == True:\n",
    "            cv2.aruco.drawAxis(cv_image, camera_matrix, distortion_coefficients, rotation_vector, translation_vector, 0.03 )\n",
    "    cv2.imshow(\"Charuco\", cv_image)\n",
    "    #out.write(cv_image)"
   ]
  },
  {
   "cell_type": "markdown",
   "metadata": {},
   "source": [
    "ROS Functions"
   ]
  },
  {
   "cell_type": "code",
   "execution_count": 3,
   "metadata": {},
   "outputs": [],
   "source": [
    "def image_callback(ros_image):\n",
    "    '''Callback function for the subscription of the ROS topic /camera/color/image_raw (sensor_msgs Image)'''\n",
    "    global bridge\n",
    "    cv_image = bridge.imgmsg_to_cv2(ros_image, \"bgr8\")\n",
    "    #cv_image = cv2.cvtColor(cv_image, cv2.COLOR_BGR2GRAY)\n",
    "    #cv2.imshow(\"Raw Stream\", cv_image)\n",
    "    #detect_marker(cv_image)\n",
    "    #single_pose_estimate(cv_image)\n",
    "    #board_pose_estimation(cv_image)\n",
    "    charuco_pose_estimation(cv_image)\n",
    "    cv2.waitKey(1)\n",
    "    \n",
    "def calibration_callback(data):\n",
    "    '''Sets the calibration parameters - camera_matrix and distortion_coefficients - by reading ROS topic /camera/color/cameraInfo'''\n",
    "    global camera_matrix\n",
    "    global distortion_coefficients\n",
    "    camera_matrix = numpy.array(data.K).reshape(3,3)\n",
    "    distortion_coefficients = numpy.array(data.D).reshape(5,)\n",
    "    \n",
    "def run_ros_node():\n",
    "    '''Initializes the ROS node and setting up Subscriptions and Publishers'''\n",
    "    rospy.init_node(\"aruco_estimater\", anonymous=True)\n",
    "    rospy.Subscriber(\"/camera/color/image_raw\", Image, image_callback)\n",
    "    rospy.Subscriber(\"/camera/color/camera_info\", CameraInfo, calibration_callback)\n",
    "    rate = rospy.Rate(25)"
   ]
  },
  {
   "cell_type": "markdown",
   "metadata": {},
   "source": [
    "# Configuration | Instantiation"
   ]
  },
  {
   "cell_type": "code",
   "execution_count": 4,
   "metadata": {},
   "outputs": [],
   "source": [
    "bridge = CvBridge()\n",
    "#out = cv2.VideoWriter(\"200528_charuco_eval_1920_1080_5X5_0.avi\", cv2.VideoWriter_fourcc(\"M\", \"J\", \"P\", \"G\"), 30, (640,480))\n",
    "\n",
    "board_config = {\n",
    "    \"markersX\" : 2,\n",
    "    \"markersY\" : 2,\n",
    "    \"markerLength\" : 0.02, \n",
    "    \"markerSeparation\" :  0.01,\n",
    "    \"margins\" : 0.01,\n",
    "    \"dictionary\" : cv2.aruco.Dictionary_get(cv2.aruco.DICT_7X7_50),\n",
    "}\n",
    "\n",
    "charuco_config = {\n",
    "    \"squaresX\" : 5,\n",
    "    \"squaresY\" : 5,\n",
    "    \"squareLength\" : 0.0115,\n",
    "    \"markerLength\" : 0.008,\n",
    "    \"dictionary\" : cv2.aruco.Dictionary_get(cv2.aruco.DICT_7X7_50)\n",
    "}\n",
    "\n",
    "params = cv2.aruco.DetectorParameters_create()\n",
    "boards = create_boards(board_config)\n",
    "charuco_boards = create_charuco_boards(charuco_config)\n",
    "\n",
    "# P: Projection Camera Matrix (4x3)\n",
    "# K: Intrinsic Camera Matrix for (distorted) raw images (3x3)\n",
    "# R: Rectification Matrix (3x3)\n",
    "# D: Distortion Parameters (5x1)"
   ]
  },
  {
   "cell_type": "markdown",
   "metadata": {},
   "source": [
    "# Main"
   ]
  },
  {
   "cell_type": "code",
   "execution_count": 5,
   "metadata": {},
   "outputs": [],
   "source": [
    "def main():\n",
    "    '''Main Function'''\n",
    "    \n",
    "    run_ros_node()\n",
    "    rospy.spin()\n",
    "    \n",
    "    #out.release()"
   ]
  },
  {
   "cell_type": "code",
   "execution_count": null,
   "metadata": {
    "scrolled": true
   },
   "outputs": [],
   "source": [
    "main()"
   ]
  },
  {
   "cell_type": "code",
   "execution_count": null,
   "metadata": {},
   "outputs": [],
   "source": []
  }
 ],
 "metadata": {
  "kernelspec": {
   "display_name": "Python 3",
   "language": "python",
   "name": "python3"
  },
  "language_info": {
   "codemirror_mode": {
    "name": "ipython",
    "version": 3
   },
   "file_extension": ".py",
   "mimetype": "text/x-python",
   "name": "python",
   "nbconvert_exporter": "python",
   "pygments_lexer": "ipython3",
   "version": "3.6.9"
  }
 },
 "nbformat": 4,
 "nbformat_minor": 4
}
