{
 "cells": [
  {
   "cell_type": "code",
   "execution_count": 1,
   "metadata": {},
   "outputs": [],
   "source": [
    "take = 3\n",
    "AGENT = \"TestEnv\""
   ]
  },
  {
   "cell_type": "markdown",
   "metadata": {
    "scrolled": true
   },
   "source": [
    "# Description"
   ]
  },
  {
   "cell_type": "markdown",
   "metadata": {},
   "source": [
    "Script to run the agent on the hardware\n",
    "\n",
    "0. Description\n",
    "1. Imports\n",
    "2. Paths\n",
    "3. Configuration\n",
    "4. Functions\n",
    "5. Creation\n",
    "6. Run on Hardware\n",
    "7. Save recorded Data\n"
   ]
  },
  {
   "cell_type": "markdown",
   "metadata": {},
   "source": [
    "# Specification"
   ]
  },
  {
   "cell_type": "code",
   "execution_count": 2,
   "metadata": {},
   "outputs": [],
   "source": [
    "control_rate = 125 #Hz\n",
    "force_scale = 10\n",
    "dt = 0.1\n",
    "model_number = 999\n",
    "max_limit = 0.00005 #0.0001 0.000085\n",
    "R1 = 1\n",
    "R2 = 0.00025\n",
    "R_success = 250\n",
    "reality_distance_threshold = 0.0075\n",
    "\n",
    "reality_horizon = 3000"
   ]
  },
  {
   "cell_type": "markdown",
   "metadata": {},
   "source": [
    "# Imports"
   ]
  },
  {
   "cell_type": "code",
   "execution_count": 3,
   "metadata": {
    "scrolled": true
   },
   "outputs": [
    {
     "name": "stderr",
     "output_type": "stream",
     "text": [
      "In /home/lars/.local/lib/python3.6/site-packages/matplotlib/mpl-data/stylelib/_classic_test.mplstyle: \n",
      "The text.latex.preview rcparam was deprecated in Matplotlib 3.3 and will be removed two minor releases later.\n",
      "In /home/lars/.local/lib/python3.6/site-packages/matplotlib/mpl-data/stylelib/_classic_test.mplstyle: \n",
      "The mathtext.fallback_to_cm rcparam was deprecated in Matplotlib 3.3 and will be removed two minor releases later.\n",
      "In /home/lars/.local/lib/python3.6/site-packages/matplotlib/mpl-data/stylelib/_classic_test.mplstyle: Support for setting the 'mathtext.fallback_to_cm' rcParam is deprecated since 3.3 and will be removed two minor releases later; use 'mathtext.fallback : 'cm' instead.\n",
      "In /home/lars/.local/lib/python3.6/site-packages/matplotlib/mpl-data/stylelib/_classic_test.mplstyle: \n",
      "The validate_bool_maybe_none function was deprecated in Matplotlib 3.3 and will be removed two minor releases later.\n",
      "In /home/lars/.local/lib/python3.6/site-packages/matplotlib/mpl-data/stylelib/_classic_test.mplstyle: \n",
      "The savefig.jpeg_quality rcparam was deprecated in Matplotlib 3.3 and will be removed two minor releases later.\n",
      "In /home/lars/.local/lib/python3.6/site-packages/matplotlib/mpl-data/stylelib/_classic_test.mplstyle: \n",
      "The keymap.all_axes rcparam was deprecated in Matplotlib 3.3 and will be removed two minor releases later.\n",
      "In /home/lars/.local/lib/python3.6/site-packages/matplotlib/mpl-data/stylelib/_classic_test.mplstyle: \n",
      "The animation.avconv_path rcparam was deprecated in Matplotlib 3.3 and will be removed two minor releases later.\n",
      "In /home/lars/.local/lib/python3.6/site-packages/matplotlib/mpl-data/stylelib/_classic_test.mplstyle: \n",
      "The animation.avconv_args rcparam was deprecated in Matplotlib 3.3 and will be removed two minor releases later.\n",
      "/home/lars/.local/lib/python3.6/site-packages/tensorflow/python/framework/dtypes.py:516: FutureWarning: Passing (type, 1) or '1type' as a synonym of type is deprecated; in a future version of numpy, it will be understood as (type, (1,)) / '(1,)type'.\n",
      "  _np_qint8 = np.dtype([(\"qint8\", np.int8, 1)])\n",
      "/home/lars/.local/lib/python3.6/site-packages/tensorflow/python/framework/dtypes.py:517: FutureWarning: Passing (type, 1) or '1type' as a synonym of type is deprecated; in a future version of numpy, it will be understood as (type, (1,)) / '(1,)type'.\n",
      "  _np_quint8 = np.dtype([(\"quint8\", np.uint8, 1)])\n",
      "/home/lars/.local/lib/python3.6/site-packages/tensorflow/python/framework/dtypes.py:518: FutureWarning: Passing (type, 1) or '1type' as a synonym of type is deprecated; in a future version of numpy, it will be understood as (type, (1,)) / '(1,)type'.\n",
      "  _np_qint16 = np.dtype([(\"qint16\", np.int16, 1)])\n",
      "/home/lars/.local/lib/python3.6/site-packages/tensorflow/python/framework/dtypes.py:519: FutureWarning: Passing (type, 1) or '1type' as a synonym of type is deprecated; in a future version of numpy, it will be understood as (type, (1,)) / '(1,)type'.\n",
      "  _np_quint16 = np.dtype([(\"quint16\", np.uint16, 1)])\n",
      "/home/lars/.local/lib/python3.6/site-packages/tensorflow/python/framework/dtypes.py:520: FutureWarning: Passing (type, 1) or '1type' as a synonym of type is deprecated; in a future version of numpy, it will be understood as (type, (1,)) / '(1,)type'.\n",
      "  _np_qint32 = np.dtype([(\"qint32\", np.int32, 1)])\n",
      "/home/lars/.local/lib/python3.6/site-packages/tensorflow/python/framework/dtypes.py:525: FutureWarning: Passing (type, 1) or '1type' as a synonym of type is deprecated; in a future version of numpy, it will be understood as (type, (1,)) / '(1,)type'.\n",
      "  np_resource = np.dtype([(\"resource\", np.ubyte, 1)])\n",
      "/home/lars/.local/lib/python3.6/site-packages/tensorboard/compat/tensorflow_stub/dtypes.py:541: FutureWarning: Passing (type, 1) or '1type' as a synonym of type is deprecated; in a future version of numpy, it will be understood as (type, (1,)) / '(1,)type'.\n",
      "  _np_qint8 = np.dtype([(\"qint8\", np.int8, 1)])\n",
      "/home/lars/.local/lib/python3.6/site-packages/tensorboard/compat/tensorflow_stub/dtypes.py:542: FutureWarning: Passing (type, 1) or '1type' as a synonym of type is deprecated; in a future version of numpy, it will be understood as (type, (1,)) / '(1,)type'.\n",
      "  _np_quint8 = np.dtype([(\"quint8\", np.uint8, 1)])\n",
      "/home/lars/.local/lib/python3.6/site-packages/tensorboard/compat/tensorflow_stub/dtypes.py:543: FutureWarning: Passing (type, 1) or '1type' as a synonym of type is deprecated; in a future version of numpy, it will be understood as (type, (1,)) / '(1,)type'.\n",
      "  _np_qint16 = np.dtype([(\"qint16\", np.int16, 1)])\n",
      "/home/lars/.local/lib/python3.6/site-packages/tensorboard/compat/tensorflow_stub/dtypes.py:544: FutureWarning: Passing (type, 1) or '1type' as a synonym of type is deprecated; in a future version of numpy, it will be understood as (type, (1,)) / '(1,)type'.\n",
      "  _np_quint16 = np.dtype([(\"quint16\", np.uint16, 1)])\n",
      "/home/lars/.local/lib/python3.6/site-packages/tensorboard/compat/tensorflow_stub/dtypes.py:545: FutureWarning: Passing (type, 1) or '1type' as a synonym of type is deprecated; in a future version of numpy, it will be understood as (type, (1,)) / '(1,)type'.\n",
      "  _np_qint32 = np.dtype([(\"qint32\", np.int32, 1)])\n",
      "/home/lars/.local/lib/python3.6/site-packages/tensorboard/compat/tensorflow_stub/dtypes.py:550: FutureWarning: Passing (type, 1) or '1type' as a synonym of type is deprecated; in a future version of numpy, it will be understood as (type, (1,)) / '(1,)type'.\n",
      "  np_resource = np.dtype([(\"resource\", np.ubyte, 1)])\n"
     ]
    }
   ],
   "source": [
    "# General imports\n",
    "import os\n",
    "import time\n",
    "import datetime\n",
    "from os.path import expanduser\n",
    "import pandas\n",
    "import pickle\n",
    "import json\n",
    "import numpy\n",
    "from matplotlib import pyplot as plt\n",
    "\n",
    "# rllib imports\n",
    "import ray\n",
    "import ray.rllib.agents.ppo as ppo\n",
    "from ray.tune.registry import get_trainable_cls\n",
    "from ray.tune.registry import register_env\n",
    "from ray.rllib.env import MultiAgentEnv\n",
    "from ray.rllib.env.base_env import _DUMMY_AGENT_ID\n",
    "from ray.rllib.evaluation.worker_set import WorkerSet\n",
    "from ray.rllib.policy.sample_batch import DEFAULT_POLICY_ID\n",
    "from ray.rllib.utils.deprecation import deprecation_warning\n",
    "\n",
    "# Gym imports\n",
    "from gym.envs.robotics.ur10 import randomize\n",
    "from gym.envs.robotics.ur10 import pos_randomize\n",
    "#from gym.envs.robotics import ur10_noisy_pd_env_mh\n",
    "from gym.envs.robotics import ur10_sim2real_env\n",
    "from gym.envs.robotics import ur10_sim2real_pos_env\n",
    "from gym import utils\n",
    "from gym.envs.robotics import rotations, utils\n",
    "#from gym.envs.robotics import ur10_force_env_3\n",
    "#from gym.envs.robotics import ur10_force_env\n",
    "\n",
    "# MuJoCo imports\n",
    "import mujoco_py\n",
    "\n",
    "# ROS imports\n",
    "import rospy\n",
    "from sensor_msgs.msg import JointState\n",
    "from std_msgs.msg import Float64MultiArray\n",
    "from std_msgs.msg import String\n",
    "from geometry_msgs.msg import WrenchStamped\n",
    "from trajectory_msgs.msg import JointTrajectory, JointTrajectoryPoint\n",
    "from realsense2_camera.msg import CustomVector\n",
    "from realsense2_camera.msg import EstimatedPose"
   ]
  },
  {
   "cell_type": "markdown",
   "metadata": {},
   "source": [
    "# Paths"
   ]
  },
  {
   "cell_type": "code",
   "execution_count": 4,
   "metadata": {},
   "outputs": [
    {
     "name": "stdout",
     "output_type": "stream",
     "text": [
      "Force Control\n"
     ]
    }
   ],
   "source": [
    "HOME_PATH = os.getenv(\"HOME\")\n",
    "PROJECT_PATH = os.path.join(*[HOME_PATH, \"DRL_AI4RoMoCo\"])\n",
    "SAVE_PATH = os.path.join(*[PROJECT_PATH, \"code\", \"data\",\"TEST_Reality\"])\n",
    "\n",
    "XML_MODEL_PATH = os.path.join(*[HOME_PATH, \"DRL_AI4RoMoCo\", \"code\", \"environment\",\"UR10_single\",\"ur10_heg.xml\"])   #Force\n",
    "#XML_MODEL_PATH = os.path.join(*[HOME_PATH, \"DRL_AI4RoMoCo\", \"code\", \"environment\",\"UR10_single_position\",\"ur10_heg_position.xml\"])\n",
    "\n",
    "env_config = \"real_config_force.yml\"\n",
    "#checkpoint_number = 4950\n",
    "#model = \"PPO_NoisyPositionEnv_0_2020-09-18_20-14-55ej_cw9mo\"\n",
    "control_type = env_config.split(\"_\")[2].split(\".\")[0]\n",
    "\n",
    "if control_type == \"force\":\n",
    "    XML_MODEL_PATH = os.path.join(*[HOME_PATH, \"DRL_AI4RoMoCo\", \"code\", \"environment\",\"UR10_single\",\"ur10_heg.xml\"])   #Force\n",
    "    print(\"Force Control\")\n",
    "elif control_type == \"position\":\n",
    "    XML_MODEL_PATH = os.path.join(*[HOME_PATH, \"DRL_AI4RoMoCo\", \"code\", \"environment\",\"UR10_single_position\",\"ur10_heg_position.xml\"])\n",
    "    print(\"Position Control\")\n",
    "else:\n",
    "    print(\"ERROR\")\n",
    "\n",
    "ENV_CONFIG = os.path.join(*[HOME_PATH, \"AGENT_TESTS\", env_config])\n",
    "#ENV_CONFIG = os.path.join(*[HOME_PATH, \"AGENT_TESTS\", \"PPO_ForceEnv_0_2020-09-10_15-29-51_j1bhegb\", config])"
   ]
  },
  {
   "cell_type": "markdown",
   "metadata": {},
   "source": [
    "# Configuration"
   ]
  },
  {
   "cell_type": "markdown",
   "metadata": {},
   "source": [
    "Hardware - Environment (ROS)"
   ]
  },
  {
   "cell_type": "code",
   "execution_count": 5,
   "metadata": {},
   "outputs": [],
   "source": [
    "actual_q = numpy.zeros(6,)\n",
    "ft_values = numpy.zeros(6,)"
   ]
  },
  {
   "cell_type": "markdown",
   "metadata": {},
   "source": [
    "Simulation - Environment (MuJoCo, Gym)"
   ]
  },
  {
   "cell_type": "code",
   "execution_count": 6,
   "metadata": {},
   "outputs": [
    {
     "name": "stdout",
     "output_type": "stream",
     "text": [
      "[ 0.69539974 -0.83325208  1.17396257 -1.57092218  0.02244061  3.14048138]\n"
     ]
    }
   ],
   "source": [
    "#goal = numpy.array([0.69423743, -0.83110109,  1.17388998, -1.57161506,  0.02185773, -3.14102438])\n",
    "goal = numpy.array([0.69539974, -0.83325208,  1.17396257, -1.57092218,  0.02244061, 3.14048138])\n",
    "reward_type = \"dense\"\n",
    "distance_threshold = 0.002\n",
    "fail_threshold = 0.25\n",
    "punish_force = False\n",
    "punish_force_thresh = 20\n",
    "punish_force_factor = 0.001\n",
    "print(goal)"
   ]
  },
  {
   "cell_type": "code",
   "execution_count": 7,
   "metadata": {},
   "outputs": [],
   "source": [
    "initial_qpos_simpheg_conf2 = numpy.array([0, -1.3, 2.1, -0.80, 1.5708, 0])\n",
    "randomize_kwargs = {\n",
    "    'var_mass':     0,\n",
    "    'var_damp':     0,\n",
    "    'var_fr':       0,\n",
    "    'var_grav_x_y': 0,\n",
    "    'var_grav_z':   0,\n",
    "    'var_body_pos': 0,\n",
    "    'var_body_rot': 0,\n",
    "}"
   ]
  },
  {
   "cell_type": "markdown",
   "metadata": {},
   "source": [
    "Agent (ray, tune, rllib)"
   ]
  },
  {
   "cell_type": "code",
   "execution_count": 8,
   "metadata": {},
   "outputs": [],
   "source": [
    "checkpoint_model1 = os.path.join(*[HOME_PATH, \"DRL_SetBot-RearVentilation\", \"final_models\",\n",
    "                            \"model1\", \"checkpoint-2120\"])\n",
    "checkpoint_model2 = os.path.join(*[HOME_PATH, \"DRL_SetBot-RearVentilation\", \"final_models\",\n",
    "                            \"model2\", \"checkpoint-3440\"])\n",
    "checkpoint_model3 = os.path.join(*[HOME_PATH, \"DRL_SetBot-RearVentilation\", \"final_models\",\n",
    "                            \"model3\", \"checkpoint-3030\"])\n",
    "checkpoint_model4 = os.path.join(*[HOME_PATH, \"DRL_SetBot-RearVentilation\", \"final_models\",\n",
    "                            \"model4\", \"checkpoint-3590\"])\n",
    "checkpoint_model5 = os.path.join(*[HOME_PATH, \"DRL_SetBot-RearVentilation\", \"final_models\",\n",
    "                            \"model5\", \"checkpoint-4410\"])\n",
    "\n",
    "#checkpoint_lars = os.path.join(*[HOME_PATH, \"AGENT_TESTS\", \"PPO_RandDynRewEnv1_0_2020-10-01_11-29-11e7qxud90\", \"checkpoint_1850\", \"checkpoint-1850\"]) # RandEnv1\n",
    "#checkpoint_lars = os.path.join(*[HOME_PATH, \"AGENT_TESTS\", \"PPO_RandEnv1_0_2020-09-26_13-02-2022pd0qfg\", \"checkpoint_1540\", \"checkpoint-1540\"]) # RandEnv1\n",
    "checkpoint_lars = os.path.join(*[HOME_PATH, \"AGENT_TESTS\", \"PPO_StaticEnv_0_2020-09-24_08-39-32jdnl7ykv\", \"checkpoint_810\", \"checkpoint-810\"]) # Static25\n",
    "#checkpoint_lars = os.path.join(*[HOME_PATH, \"AGENT_TESTS\", \"PPO_NoisyPositionEnv_0_2020-09-18_20-14-55ej_cw9mo\", \"checkpoint_4950\", \"checkpoint-4950\"]) # Position\n",
    "#checkpoint_lars = os.path.join(*[HOME_PATH, \"AGENT_TESTS\", \"PPO_NoisyEnv_0_2020-09-24_09-07-22vaoju9fy\", \"checkpoint_780\", \"checkpoint-780\"]) # Noisy25\n",
    "#checkpoint_lars = checkpoint_model4    # Gutes Modell"
   ]
  },
  {
   "cell_type": "code",
   "execution_count": 9,
   "metadata": {},
   "outputs": [
    {
     "data": {
      "text/plain": [
       "'/home/lars/AGENT_TESTS/PPO_StaticEnv_0_2020-09-24_08-39-32jdnl7ykv/checkpoint_810/checkpoint-810'"
      ]
     },
     "execution_count": 9,
     "metadata": {},
     "output_type": "execute_result"
    }
   ],
   "source": [
    "def update_checkpoint_for_rollout(checkpoint_path):\n",
    "    with open(checkpoint_path, \"rb\") as f:\n",
    "        extra_data = pickle.load(f)\n",
    "    if not \"trainer_state\" in extra_data:\n",
    "        extra_data[\"trainer_state\"] = {}\n",
    "        with open(checkpoint_path, 'wb') as f:\n",
    "            pickle.dump(extra_data, f)\n",
    "\n",
    "checkpoint = checkpoint_lars\n",
    "update_checkpoint_for_rollout(checkpoint)\n",
    "checkpoint"
   ]
  },
  {
   "cell_type": "code",
   "execution_count": 10,
   "metadata": {},
   "outputs": [
    {
     "name": "stdout",
     "output_type": "stream",
     "text": [
      "Config found!\n"
     ]
    }
   ],
   "source": [
    "config = {}\n",
    "    # Load configuration from checkpoint file.\n",
    "config_dir = os.path.dirname(checkpoint)\n",
    "config_path = os.path.join(config_dir, \"params.pkl\")\n",
    "# Try parent directory.\n",
    "if not os.path.exists(config_path):\n",
    "    config_path = os.path.join(config_dir, \"../params.pkl\")\n",
    "if os.path.exists(config_path):\n",
    "    print(\"Config found!\")\n",
    "    with open(config_path, \"rb\") as f:\n",
    "            config = pickle.load(f)\n",
    "            \n",
    "config['num_workers'] = 2\n",
    "config['num_gpus'] = 1"
   ]
  },
  {
   "cell_type": "code",
   "execution_count": 11,
   "metadata": {},
   "outputs": [
    {
     "data": {
      "text/plain": [
       "{'env': 'StaticEnv',\n",
       " 'seed': 17,\n",
       " 'num_workers': 2,\n",
       " 'num_envs_per_worker': 1,\n",
       " 'num_gpus': 1,\n",
       " 'gamma': 0.99,\n",
       " 'lr': 0.0003,\n",
       " 'horizon': 500,\n",
       " 'soft_horizon': False,\n",
       " 'train_batch_size': 4500,\n",
       " 'callbacks': {'on_episode_start': None,\n",
       "  'on_episode_step': None,\n",
       "  'on_episode_end': None,\n",
       "  'on_postprocess_traj': None},\n",
       " 'model': {'use_lstm': False,\n",
       "  'lstm_cell_size': 128,\n",
       "  'fcnet_hiddens': [256, 256]},\n",
       " 'tf_session_args': {'allow_soft_placement': True}}"
      ]
     },
     "execution_count": 11,
     "metadata": {},
     "output_type": "execute_result"
    }
   ],
   "source": [
    "config"
   ]
  },
  {
   "cell_type": "markdown",
   "metadata": {},
   "source": [
    "# Functions"
   ]
  },
  {
   "cell_type": "markdown",
   "metadata": {},
   "source": [
    "Helper Functions"
   ]
  },
  {
   "cell_type": "code",
   "execution_count": 12,
   "metadata": {},
   "outputs": [],
   "source": [
    "def normalize_rad(angles):\n",
    "    angles = numpy.array(angles)\n",
    "    angles = angles % (2*numpy.pi)\n",
    "    angles = (angles + 2*numpy.pi) % (2*numpy.pi)\n",
    "    for i in range(len(angles)):\n",
    "        if (angles[i] > numpy.pi):\n",
    "            angles[i] -= 2*numpy.pi\n",
    "    return angles\n",
    "\n",
    "def get_obs():\n",
    "    set_state(actual_q)\n",
    "    for i in range(10):\n",
    "        viewer.render()\n",
    "    #print(ft_values)\n",
    "    x_pos = sim.data.get_body_xpos(\"gripper_dummy_heg\")\n",
    "    x_mat = sim.data.get_body_xmat(\"gripper_dummy_heg\")\n",
    "    rpy =  normalize_rad(rotations.mat2euler(x_mat))\n",
    "    #print(x_pos, rpy)\n",
    "\n",
    "    obs = numpy.concatenate([\n",
    "                x_mat.dot(x_pos-goal[:3]), x_mat.dot(normalize_rad(rpy-goal[3:])), ft_values.copy()\n",
    "            ])\n",
    "    return obs\n",
    "\n",
    "def get_dq(dx):\n",
    "    jacp = sim.data.get_body_jacp(name=\"gripper_dummy_heg\").reshape(3, 6)\n",
    "    jacr = sim.data.get_body_jacr(name=\"gripper_dummy_heg\").reshape(3, 6)\n",
    "    jac = numpy.vstack((jacp, jacr))\n",
    "    dq = numpy.linalg.lstsq(jac, dx)[0].reshape(6, )\n",
    "    return dq\n",
    "\n",
    "def go_smooth(q):\n",
    "    rate = rospy.Rate(125)\n",
    "    dq = q - actual_q\n",
    "    while numpy.linalg.norm(dq)>0.005:\n",
    "        dq = q - actual_q\n",
    "        dq_ = numpy.clip(dq, -0.0001, 0.0001)\n",
    "        control(ctrl_q+dq_)\n",
    "        rate.sleep()\n",
    "    control(q)\n",
    "    \n",
    "def set_state(qpos):\n",
    "    #assert qpos.shape == (model.nq,)\n",
    "    old_state = sim.get_state()\n",
    "    new_state = mujoco_py.MjSimState(old_state.time, qpos, old_state.qvel,\n",
    "                                     old_state.act, old_state.udd_state)\n",
    "    sim.set_state(new_state)\n",
    "    sim.forward()\n",
    "    \n",
    "def keep_going(steps, num_steps, episodes, num_episodes):\n",
    "    \"\"\"Determine whether we've collected enough data\"\"\"\n",
    "    # if num_episodes is set, this overrides num_steps\n",
    "    if num_episodes:\n",
    "        return episodes < num_episodes\n",
    "    # if num_steps is set, continue until we reach the limit\n",
    "    if num_steps:\n",
    "        return steps < num_steps\n",
    "    # otherwise keep going forever\n",
    "    return True"
   ]
  },
  {
   "cell_type": "markdown",
   "metadata": {},
   "source": [
    "# Observations"
   ]
  },
  {
   "cell_type": "code",
   "execution_count": 13,
   "metadata": {},
   "outputs": [],
   "source": [
    "def q_callback(data):\n",
    "    '''Callback for the joint angles, velocities and accelerations'''\n",
    "    global actual_q\n",
    "    actual_q = numpy.array(data.position)[[2,1,0,3,4,5]]\n",
    "    set_state(actual_q)\n",
    "    viewer.render()\n",
    "\n",
    "def pose_callback(data):\n",
    "    '''ROS Callback function for the pose_estimation'''\n",
    "    global pose\n",
    "    pose = numpy.array([(-1)*data.tx, data.ty, data.tz]) #, data.rx, data.ry, data.rz])\n",
    "        \n",
    "def ft_callback(data):\n",
    "    '''ROS Callback function for the force-torque data'''\n",
    "    global ft_values\n",
    "    ft_values = (-1)* numpy.array([data.wrench.force.x, data.wrench.force.y, data.wrench.force.z, data.wrench.torque.x, data.wrench.torque.y, data.wrench.torque.z])  \n",
    "\n",
    "def get_real_obs():\n",
    "    \n",
    "    set_state(actual_q)\n",
    "    \n",
    "    real_pos = pose.copy()\n",
    "    \n",
    "    x_mat = sim.data.get_body_xmat(\"gripper_dummy_heg\")\n",
    "    rpy =  normalize_rad(rotations.mat2euler(x_mat))\n",
    "\n",
    "    obs = numpy.concatenate([\n",
    "                x_mat.dot(real_pos), x_mat.dot(normalize_rad(rpy-goal[3:])), force_scale*ft_values.copy()\n",
    "            ])\n",
    "    return obs"
   ]
  },
  {
   "cell_type": "markdown",
   "metadata": {},
   "source": [
    "ROS"
   ]
  },
  {
   "cell_type": "code",
   "execution_count": 14,
   "metadata": {},
   "outputs": [],
   "source": [
    "def goal_distance(obs, goal):\n",
    "    '''Compute distance between TCP and Goal'''\n",
    "    obs = obs[:6]\n",
    "    assert obs.shape == goal.shape\n",
    "    return numpy.linalg.norm(obs*numpy.array([1, 1, 1, 0.3, 0.3, 0.3]), axis=-1)\n",
    "\n",
    "def compute_reward(obs, goal):\n",
    "    d = goal_distance(obs,goal)\n",
    "    f = numpy.absolute(obs[7]) + numpy.absolute(obs[8]) + numpy.absolute(obs[9])\n",
    "    rew = R1 * (-d) + R2 *(-f)\n",
    "    return rew\n",
    "\n",
    "def is_success(obs):\n",
    "    distance = numpy.absolute(obs[0]) + numpy.absolute(obs[1]) + numpy.absolute(obs[2])\n",
    "    if distance < reality_distance_threshold:\n",
    "        return True\n",
    "    else:\n",
    "        return False"
   ]
  },
  {
   "cell_type": "code",
   "execution_count": 15,
   "metadata": {},
   "outputs": [],
   "source": [
    "# ROS control commands\n",
    "def control(q):\n",
    "    '''Controlling the Universal Robot UR10 JointGroupPositionController'''\n",
    "    global ctrl_q\n",
    "    command = Float64MultiArray()\n",
    "    command.data = q\n",
    "    control_publisher.publish(command)\n",
    "    ctrl_q = q.copy()\n",
    "    \n",
    "def traj_control(q):\n",
    "    #dt = 0.025\n",
    "    global ctrl_q\n",
    "    command = JointTrajectory()\n",
    "    point = JointTrajectoryPoint()\n",
    "    \n",
    "    #command.header.stamp = rospy.Time.now()\n",
    "    #command.header.frame_id = \"DRL_UR10\"\n",
    "    #command.joint_names = [\"elbow_joint\", \"shoulder_lift_joint\", \"shoulder_pan_joint\", \"wrist_1_joint\", \"wrist_2_joint\", \"wrist_3_joint\"]\n",
    "    \n",
    "    #command.header.stamp = rospy.Time.now()\n",
    "    command.header.frame_id = \"DRL_UR10\"\n",
    "    command.joint_names.append(\"shoulder_pan_joint\")\n",
    "    command.joint_names.append(\"shoulder_lift_joint\")\n",
    "    command.joint_names.append(\"elbow_joint\")\n",
    "    command.joint_names.append(\"wrist_1_joint\")\n",
    "    command.joint_names.append(\"wrist_2_joint\")\n",
    "    command.joint_names.append(\"wrist_3_joint\")\n",
    "    \n",
    "\n",
    "    point.positions.append(q[0])\n",
    "    point.positions.append(q[1])\n",
    "    point.positions.append(q[2])\n",
    "    point.positions.append(q[3])\n",
    "    point.positions.append(q[4])\n",
    "    point.positions.append(q[5])\n",
    "    \n",
    "    command.points.append(point)\n",
    "    command.points[0].time_from_start=rospy.Duration.from_sec(dt)\n",
    "    \n",
    "    traj_control_publisher.publish(command)\n",
    "    ctrl_q = q.copy()\n",
    "    \n",
    "def static_approach():\n",
    "    \n",
    "    waypoint0 = numpy.array([1.6256170272827148, -0.9155753294574183, 1.5307668447494507, -0.6977546850787562, 1.5475375652313232, 0.011224725283682346])[[2,1,0,3,4,5]]\n",
    "    waypoint1 = numpy.array([2.47381329536438, -1.4324410597430628, 1.5743204355239868, -1.0292657057391565, 1.5910834074020386, 0.011859889142215252])[[2,1,0,3,4,5]]\n",
    "    waypoint2 = numpy.array([2.519468069076538, -1.6841238180743616, 0.13313426077365875, -0.8226664702044886, 1.7688652276992798, 0.014099815860390663])[[2,1,0,3,4,5]]\n",
    "    waypoint3 = numpy.array([2.1001405715942383, -1.3000262419330042, 7.190534961409867e-05, -0.7999804655658167, 1.5709056854248047, -3.5587941304981996e-05])[[2,1,0,3,4,5]]\n",
    "    \n",
    "    dt_static = 2\n",
    "    command = JointTrajectory()\n",
    "    point0 = JointTrajectoryPoint()\n",
    "    point1 = JointTrajectoryPoint()\n",
    "    point2 = JointTrajectoryPoint()\n",
    "    point3 = JointTrajectoryPoint()\n",
    "    \n",
    "    command.header.stamp = rospy.Time.now()\n",
    "    command.header.frame_id = \"DRL_UR10\"\n",
    "    command.joint_names.append(\"shoulder_pan_joint\")\n",
    "    command.joint_names.append(\"shoulder_lift_joint\")\n",
    "    command.joint_names.append(\"elbow_joint\")\n",
    "    command.joint_names.append(\"wrist_1_joint\")\n",
    "    command.joint_names.append(\"wrist_2_joint\")\n",
    "    command.joint_names.append(\"wrist_3_joint\")\n",
    "    \n",
    "    point0.positions.append(waypoint0[0])\n",
    "    point0.positions.append(waypoint0[1])\n",
    "    point0.positions.append(waypoint0[2])\n",
    "    point0.positions.append(waypoint0[3])\n",
    "    point0.positions.append(waypoint0[4])\n",
    "    point0.positions.append(waypoint0[5])\n",
    "    \n",
    "    #command.points.append(point0)\n",
    "    \n",
    "    point1.positions.append(waypoint1[0])\n",
    "    point1.positions.append(waypoint1[1])\n",
    "    point1.positions.append(waypoint1[2])\n",
    "    point1.positions.append(waypoint1[3])\n",
    "    point1.positions.append(waypoint1[4])\n",
    "    point1.positions.append(waypoint1[5])\n",
    "    \n",
    "    command.points.append(point1)\n",
    "    command.points[0].time_from_start=rospy.Duration.from_sec(dt_static)\n",
    "    \n",
    "    point2.positions.append(waypoint2[0])\n",
    "    point2.positions.append(waypoint2[1])\n",
    "    point2.positions.append(waypoint2[2])\n",
    "    point2.positions.append(waypoint2[3])\n",
    "    point2.positions.append(waypoint2[4])\n",
    "    point2.positions.append(waypoint2[5])\n",
    "    \n",
    "    command.points.append(point2)\n",
    "    command.points[1].time_from_start=rospy.Duration.from_sec(2*dt_static)\n",
    "    \n",
    "    point3.positions.append(waypoint3[0])\n",
    "    point3.positions.append(waypoint3[1])\n",
    "    point3.positions.append(waypoint3[2])\n",
    "    point3.positions.append(waypoint3[3])\n",
    "    point3.positions.append(waypoint3[4])\n",
    "    point3.positions.append(waypoint3[5])\n",
    "    \n",
    "    command.points.append(point3)\n",
    "    command.points[2].time_from_start=rospy.Duration.from_sec(2.5*dt_static)\n",
    "    \n",
    "    traj_control_publisher.publish(command)\n",
    "    \n",
    "def ft_zero():\n",
    "    '''Zeroes the Robotiq FT300 force torque sensor by sending an ur_script via UR Secondary Interface'''\n",
    "    zero_sensor_urscript = 'sec ft_set_zero():' + '\\n' + '\\t' + 'if(socket_open(\"127.0.0.1\", 63350, \"acc\")):' \\\n",
    "          + '\\n' + '\\t' + '\\t' + 'socket_send_string(\"SET ZRO\", \"acc\")' \\\n",
    "         + '\\n' + '\\t' + '\\t' + 'socket_close(\"acc\")' + '\\n' + '\\t' + 'end' + '\\n' + 'end' + '\\n'\n",
    "    ft_zero_publisher.publish(zero_sensor_urscript)"
   ]
  },
  {
   "cell_type": "markdown",
   "metadata": {},
   "source": [
    "# Creation"
   ]
  },
  {
   "cell_type": "markdown",
   "metadata": {},
   "source": [
    "Simulation Environment (Gym)"
   ]
  },
  {
   "cell_type": "code",
   "execution_count": 16,
   "metadata": {},
   "outputs": [
    {
     "name": "stdout",
     "output_type": "stream",
     "text": [
      "Creating window glfw\n"
     ]
    }
   ],
   "source": [
    "model = mujoco_py.load_model_from_path(XML_MODEL_PATH)\n",
    "sim = mujoco_py.MjSim(model)\n",
    "q_init = numpy.array([0, -1.3, 2.1, -0.80, 1.5708, 0.0])\n",
    "\n",
    "ctrl_q = q_init\n",
    "set_state(q_init)\n",
    "\n",
    "viewer = mujoco_py.MjViewer(sim)\n",
    "viewer.render()"
   ]
  },
  {
   "cell_type": "code",
   "execution_count": 17,
   "metadata": {},
   "outputs": [
    {
     "name": "stdout",
     "output_type": "stream",
     "text": [
      "[ 0.17736257 -0.48890026  0.00719308 -1.5719076  -1.57092218 -1.59323694\n",
      "  0.          0.          0.          0.          0.          0.        ]\n",
      "[ 1.1843   -0.826059  0.9966  ] [-1.57079633e+00  3.67320510e-06  3.14159265e+00]\n"
     ]
    }
   ],
   "source": [
    "x_pos = sim.data.get_body_xpos(\"gripper_dummy_heg\")\n",
    "x_mat = sim.data.get_body_xmat(\"gripper_dummy_heg\")\n",
    "rpy =  normalize_rad(rotations.mat2euler(x_mat))\n",
    "print(get_obs())\n",
    "print(x_pos, rpy)"
   ]
  },
  {
   "cell_type": "code",
   "execution_count": 18,
   "metadata": {},
   "outputs": [
    {
     "name": "stdout",
     "output_type": "stream",
     "text": [
      "FORCE CONTROL\n"
     ]
    }
   ],
   "source": [
    "if control_type == \"force\":\n",
    "    class Ur10HegRandForceEnv(ur10_sim2real_env.Ur10Env):\n",
    "        def __init__(self, env_config):\n",
    "            model_xml_path = os.path.join(*[PROJECT_PATH, \"code\", \"environment\", \"UR10_Force_Randomized\", \"ur10_assembly_setup_rand_temp_{}.xml\".format(env_config.worker_index)])\n",
    "            randomize.randomize_ur10_xml(worker_id = env_config.worker_index)\n",
    "            ur10_sim2real_env.Ur10Env.__init__(\n",
    "                self, ENV_CONFIG, model_xml_path = model_xml_path, worker_id=env_config.worker_index\n",
    "            )\n",
    "            #utils.EzPickle.__init__(self)\n",
    "    register_env(\"StaticEnv\", lambda config: Ur10HegRandForceEnv(config))\n",
    "    print(\"FORCE CONTROL\")\n",
    "elif control_type == \"position\":\n",
    "    class Ur10HegRandPositionEnv(ur10_sim2real_pos_env.Ur10Env):\n",
    "        def __init__(self, env_config):\n",
    "            model_xml_path = os.path.join(*[PROJECT_PATH, \"code\", \"environment\", \"UR10_Position_Randomized\", \"ur10_assembly_setup_rand_temp_{}.xml\".format(env_config.worker_index)])\n",
    "            pos_randomize.randomize_ur10_xml(worker_id = env_config.worker_index)\n",
    "            ur10_sim2real_pos_env.Ur10Env.__init__(\n",
    "                self, ENV_CONFIG, model_xml_path = model_xml_path, worker_id=env_config.worker_index\n",
    "            )\n",
    "            #utils.EzPickle.__init__(self)\n",
    "    register_env(\"NoisyPositionEnv\", lambda config: Ur10HegRandPositionEnv(config))\n",
    "    print(\"POSITION CONTROL\")\n",
    "else:\n",
    "    print(\"ERROR for control_type:\", control_type)"
   ]
  },
  {
   "cell_type": "markdown",
   "metadata": {},
   "source": [
    "Agent"
   ]
  },
  {
   "cell_type": "code",
   "execution_count": 19,
   "metadata": {},
   "outputs": [
    {
     "name": "stderr",
     "output_type": "stream",
     "text": [
      "2020-10-04 13:11:37,481\tINFO resource_spec.py:212 -- Starting Ray with 16.5 GiB memory available for workers and up to 8.27 GiB for objects. You can adjust these settings with ray.init(memory=<bytes>, object_store_memory=<bytes>).\n",
      "2020-10-04 13:11:38,062\tINFO services.py:1083 -- View the Ray dashboard at \u001b[1m\u001b[32mlocalhost:8265\u001b[39m\u001b[22m\n"
     ]
    }
   ],
   "source": [
    "ray.init()\n",
    "cls = get_trainable_cls(\"PPO\")"
   ]
  },
  {
   "cell_type": "code",
   "execution_count": 20,
   "metadata": {},
   "outputs": [
    {
     "name": "stderr",
     "output_type": "stream",
     "text": [
      "2020-10-04 13:11:38,731\tINFO trainer.py:420 -- Tip: set 'eager': true or the --eager flag to enable TensorFlow eager execution\n",
      "2020-10-04 13:11:38,828\tINFO trainer.py:580 -- Current log_level is WARN. For more information, set 'log_level': 'INFO' / 'DEBUG' or use the -v and -vv flags.\n"
     ]
    },
    {
     "name": "stdout",
     "output_type": "stream",
     "text": [
      "Reward: Static\n"
     ]
    },
    {
     "name": "stderr",
     "output_type": "stream",
     "text": [
      "/home/lars/gym/gym/logger.py:30: UserWarning: \u001b[33mWARN: Box bound precision lowered by casting to float32\u001b[0m\n",
      "  warnings.warn(colorize('%s: %s'%('WARN', msg % args), 'yellow'))\n"
     ]
    },
    {
     "name": "stdout",
     "output_type": "stream",
     "text": [
      "\u001b[2m\u001b[36m(pid=21459)\u001b[0m /home/lars/.local/lib/python3.6/site-packages/tensorflow/python/framework/dtypes.py:516: FutureWarning: Passing (type, 1) or '1type' as a synonym of type is deprecated; in a future version of numpy, it will be understood as (type, (1,)) / '(1,)type'.\n",
      "\u001b[2m\u001b[36m(pid=21459)\u001b[0m   _np_qint8 = np.dtype([(\"qint8\", np.int8, 1)])\n",
      "\u001b[2m\u001b[36m(pid=21459)\u001b[0m /home/lars/.local/lib/python3.6/site-packages/tensorflow/python/framework/dtypes.py:517: FutureWarning: Passing (type, 1) or '1type' as a synonym of type is deprecated; in a future version of numpy, it will be understood as (type, (1,)) / '(1,)type'.\n",
      "\u001b[2m\u001b[36m(pid=21459)\u001b[0m   _np_quint8 = np.dtype([(\"quint8\", np.uint8, 1)])\n",
      "\u001b[2m\u001b[36m(pid=21459)\u001b[0m /home/lars/.local/lib/python3.6/site-packages/tensorflow/python/framework/dtypes.py:518: FutureWarning: Passing (type, 1) or '1type' as a synonym of type is deprecated; in a future version of numpy, it will be understood as (type, (1,)) / '(1,)type'.\n",
      "\u001b[2m\u001b[36m(pid=21459)\u001b[0m   _np_qint16 = np.dtype([(\"qint16\", np.int16, 1)])\n",
      "\u001b[2m\u001b[36m(pid=21459)\u001b[0m /home/lars/.local/lib/python3.6/site-packages/tensorflow/python/framework/dtypes.py:519: FutureWarning: Passing (type, 1) or '1type' as a synonym of type is deprecated; in a future version of numpy, it will be understood as (type, (1,)) / '(1,)type'.\n",
      "\u001b[2m\u001b[36m(pid=21459)\u001b[0m   _np_quint16 = np.dtype([(\"quint16\", np.uint16, 1)])\n",
      "\u001b[2m\u001b[36m(pid=21459)\u001b[0m /home/lars/.local/lib/python3.6/site-packages/tensorflow/python/framework/dtypes.py:520: FutureWarning: Passing (type, 1) or '1type' as a synonym of type is deprecated; in a future version of numpy, it will be understood as (type, (1,)) / '(1,)type'.\n",
      "\u001b[2m\u001b[36m(pid=21459)\u001b[0m   _np_qint32 = np.dtype([(\"qint32\", np.int32, 1)])\n",
      "\u001b[2m\u001b[36m(pid=21459)\u001b[0m /home/lars/.local/lib/python3.6/site-packages/tensorflow/python/framework/dtypes.py:525: FutureWarning: Passing (type, 1) or '1type' as a synonym of type is deprecated; in a future version of numpy, it will be understood as (type, (1,)) / '(1,)type'.\n",
      "\u001b[2m\u001b[36m(pid=21459)\u001b[0m   np_resource = np.dtype([(\"resource\", np.ubyte, 1)])\n",
      "\u001b[2m\u001b[36m(pid=21460)\u001b[0m /home/lars/.local/lib/python3.6/site-packages/tensorflow/python/framework/dtypes.py:516: FutureWarning: Passing (type, 1) or '1type' as a synonym of type is deprecated; in a future version of numpy, it will be understood as (type, (1,)) / '(1,)type'.\n",
      "\u001b[2m\u001b[36m(pid=21460)\u001b[0m   _np_qint8 = np.dtype([(\"qint8\", np.int8, 1)])\n",
      "\u001b[2m\u001b[36m(pid=21460)\u001b[0m /home/lars/.local/lib/python3.6/site-packages/tensorflow/python/framework/dtypes.py:517: FutureWarning: Passing (type, 1) or '1type' as a synonym of type is deprecated; in a future version of numpy, it will be understood as (type, (1,)) / '(1,)type'.\n",
      "\u001b[2m\u001b[36m(pid=21460)\u001b[0m   _np_quint8 = np.dtype([(\"quint8\", np.uint8, 1)])\n",
      "\u001b[2m\u001b[36m(pid=21460)\u001b[0m /home/lars/.local/lib/python3.6/site-packages/tensorflow/python/framework/dtypes.py:518: FutureWarning: Passing (type, 1) or '1type' as a synonym of type is deprecated; in a future version of numpy, it will be understood as (type, (1,)) / '(1,)type'.\n",
      "\u001b[2m\u001b[36m(pid=21460)\u001b[0m   _np_qint16 = np.dtype([(\"qint16\", np.int16, 1)])\n",
      "\u001b[2m\u001b[36m(pid=21460)\u001b[0m /home/lars/.local/lib/python3.6/site-packages/tensorflow/python/framework/dtypes.py:519: FutureWarning: Passing (type, 1) or '1type' as a synonym of type is deprecated; in a future version of numpy, it will be understood as (type, (1,)) / '(1,)type'.\n",
      "\u001b[2m\u001b[36m(pid=21460)\u001b[0m   _np_quint16 = np.dtype([(\"quint16\", np.uint16, 1)])\n",
      "\u001b[2m\u001b[36m(pid=21460)\u001b[0m /home/lars/.local/lib/python3.6/site-packages/tensorflow/python/framework/dtypes.py:520: FutureWarning: Passing (type, 1) or '1type' as a synonym of type is deprecated; in a future version of numpy, it will be understood as (type, (1,)) / '(1,)type'.\n",
      "\u001b[2m\u001b[36m(pid=21460)\u001b[0m   _np_qint32 = np.dtype([(\"qint32\", np.int32, 1)])\n",
      "\u001b[2m\u001b[36m(pid=21460)\u001b[0m /home/lars/.local/lib/python3.6/site-packages/tensorflow/python/framework/dtypes.py:525: FutureWarning: Passing (type, 1) or '1type' as a synonym of type is deprecated; in a future version of numpy, it will be understood as (type, (1,)) / '(1,)type'.\n",
      "\u001b[2m\u001b[36m(pid=21460)\u001b[0m   np_resource = np.dtype([(\"resource\", np.ubyte, 1)])\n",
      "\u001b[2m\u001b[36m(pid=21459)\u001b[0m /home/lars/.local/lib/python3.6/site-packages/tensorboard/compat/tensorflow_stub/dtypes.py:541: FutureWarning: Passing (type, 1) or '1type' as a synonym of type is deprecated; in a future version of numpy, it will be understood as (type, (1,)) / '(1,)type'.\n",
      "\u001b[2m\u001b[36m(pid=21459)\u001b[0m   _np_qint8 = np.dtype([(\"qint8\", np.int8, 1)])\n",
      "\u001b[2m\u001b[36m(pid=21459)\u001b[0m /home/lars/.local/lib/python3.6/site-packages/tensorboard/compat/tensorflow_stub/dtypes.py:542: FutureWarning: Passing (type, 1) or '1type' as a synonym of type is deprecated; in a future version of numpy, it will be understood as (type, (1,)) / '(1,)type'.\n",
      "\u001b[2m\u001b[36m(pid=21459)\u001b[0m   _np_quint8 = np.dtype([(\"quint8\", np.uint8, 1)])\n",
      "\u001b[2m\u001b[36m(pid=21459)\u001b[0m /home/lars/.local/lib/python3.6/site-packages/tensorboard/compat/tensorflow_stub/dtypes.py:543: FutureWarning: Passing (type, 1) or '1type' as a synonym of type is deprecated; in a future version of numpy, it will be understood as (type, (1,)) / '(1,)type'.\n",
      "\u001b[2m\u001b[36m(pid=21459)\u001b[0m   _np_qint16 = np.dtype([(\"qint16\", np.int16, 1)])\n",
      "\u001b[2m\u001b[36m(pid=21459)\u001b[0m /home/lars/.local/lib/python3.6/site-packages/tensorboard/compat/tensorflow_stub/dtypes.py:544: FutureWarning: Passing (type, 1) or '1type' as a synonym of type is deprecated; in a future version of numpy, it will be understood as (type, (1,)) / '(1,)type'.\n",
      "\u001b[2m\u001b[36m(pid=21459)\u001b[0m   _np_quint16 = np.dtype([(\"quint16\", np.uint16, 1)])\n",
      "\u001b[2m\u001b[36m(pid=21459)\u001b[0m /home/lars/.local/lib/python3.6/site-packages/tensorboard/compat/tensorflow_stub/dtypes.py:545: FutureWarning: Passing (type, 1) or '1type' as a synonym of type is deprecated; in a future version of numpy, it will be understood as (type, (1,)) / '(1,)type'.\n",
      "\u001b[2m\u001b[36m(pid=21459)\u001b[0m   _np_qint32 = np.dtype([(\"qint32\", np.int32, 1)])\n",
      "\u001b[2m\u001b[36m(pid=21459)\u001b[0m /home/lars/.local/lib/python3.6/site-packages/tensorboard/compat/tensorflow_stub/dtypes.py:550: FutureWarning: Passing (type, 1) or '1type' as a synonym of type is deprecated; in a future version of numpy, it will be understood as (type, (1,)) / '(1,)type'.\n",
      "\u001b[2m\u001b[36m(pid=21459)\u001b[0m   np_resource = np.dtype([(\"resource\", np.ubyte, 1)])\n",
      "\u001b[2m\u001b[36m(pid=21460)\u001b[0m /home/lars/.local/lib/python3.6/site-packages/tensorboard/compat/tensorflow_stub/dtypes.py:541: FutureWarning: Passing (type, 1) or '1type' as a synonym of type is deprecated; in a future version of numpy, it will be understood as (type, (1,)) / '(1,)type'.\n",
      "\u001b[2m\u001b[36m(pid=21460)\u001b[0m   _np_qint8 = np.dtype([(\"qint8\", np.int8, 1)])\n",
      "\u001b[2m\u001b[36m(pid=21460)\u001b[0m /home/lars/.local/lib/python3.6/site-packages/tensorboard/compat/tensorflow_stub/dtypes.py:542: FutureWarning: Passing (type, 1) or '1type' as a synonym of type is deprecated; in a future version of numpy, it will be understood as (type, (1,)) / '(1,)type'.\n",
      "\u001b[2m\u001b[36m(pid=21460)\u001b[0m   _np_quint8 = np.dtype([(\"quint8\", np.uint8, 1)])\n",
      "\u001b[2m\u001b[36m(pid=21460)\u001b[0m /home/lars/.local/lib/python3.6/site-packages/tensorboard/compat/tensorflow_stub/dtypes.py:543: FutureWarning: Passing (type, 1) or '1type' as a synonym of type is deprecated; in a future version of numpy, it will be understood as (type, (1,)) / '(1,)type'.\n",
      "\u001b[2m\u001b[36m(pid=21460)\u001b[0m   _np_qint16 = np.dtype([(\"qint16\", np.int16, 1)])\n",
      "\u001b[2m\u001b[36m(pid=21460)\u001b[0m /home/lars/.local/lib/python3.6/site-packages/tensorboard/compat/tensorflow_stub/dtypes.py:544: FutureWarning: Passing (type, 1) or '1type' as a synonym of type is deprecated; in a future version of numpy, it will be understood as (type, (1,)) / '(1,)type'.\n",
      "\u001b[2m\u001b[36m(pid=21460)\u001b[0m   _np_quint16 = np.dtype([(\"quint16\", np.uint16, 1)])\n",
      "\u001b[2m\u001b[36m(pid=21460)\u001b[0m /home/lars/.local/lib/python3.6/site-packages/tensorboard/compat/tensorflow_stub/dtypes.py:545: FutureWarning: Passing (type, 1) or '1type' as a synonym of type is deprecated; in a future version of numpy, it will be understood as (type, (1,)) / '(1,)type'.\n",
      "\u001b[2m\u001b[36m(pid=21460)\u001b[0m   _np_qint32 = np.dtype([(\"qint32\", np.int32, 1)])\n",
      "\u001b[2m\u001b[36m(pid=21460)\u001b[0m /home/lars/.local/lib/python3.6/site-packages/tensorboard/compat/tensorflow_stub/dtypes.py:550: FutureWarning: Passing (type, 1) or '1type' as a synonym of type is deprecated; in a future version of numpy, it will be understood as (type, (1,)) / '(1,)type'.\n",
      "\u001b[2m\u001b[36m(pid=21460)\u001b[0m   np_resource = np.dtype([(\"resource\", np.ubyte, 1)])\n"
     ]
    },
    {
     "name": "stderr",
     "output_type": "stream",
     "text": [
      "2020-10-04 13:11:46,215\tWARNING trainable.py:210 -- Getting current IP.\n",
      "2020-10-04 13:11:46,217\tINFO trainable.py:416 -- Restored on 10.180.134.127 from checkpoint: /home/lars/AGENT_TESTS/PPO_StaticEnv_0_2020-09-24_08-39-32jdnl7ykv/checkpoint_810/checkpoint-810\n",
      "2020-10-04 13:11:46,218\tINFO trainable.py:423 -- Current state after restoring: {'_iteration': 810, '_timesteps_total': None, '_time_total': 83854.03840684891, '_episodes_total': 22182}\n"
     ]
    },
    {
     "name": "stdout",
     "output_type": "stream",
     "text": [
      "\u001b[2m\u001b[36m(pid=21460)\u001b[0m In /home/lars/.local/lib/python3.6/site-packages/matplotlib/mpl-data/stylelib/_classic_test.mplstyle: \n",
      "\u001b[2m\u001b[36m(pid=21460)\u001b[0m The text.latex.preview rcparam was deprecated in Matplotlib 3.3 and will be removed two minor releases later.\n",
      "\u001b[2m\u001b[36m(pid=21460)\u001b[0m In /home/lars/.local/lib/python3.6/site-packages/matplotlib/mpl-data/stylelib/_classic_test.mplstyle: \n",
      "\u001b[2m\u001b[36m(pid=21460)\u001b[0m The mathtext.fallback_to_cm rcparam was deprecated in Matplotlib 3.3 and will be removed two minor releases later.\n",
      "\u001b[2m\u001b[36m(pid=21460)\u001b[0m In /home/lars/.local/lib/python3.6/site-packages/matplotlib/mpl-data/stylelib/_classic_test.mplstyle: Support for setting the 'mathtext.fallback_to_cm' rcParam is deprecated since 3.3 and will be removed two minor releases later; use 'mathtext.fallback : 'cm' instead.\n",
      "\u001b[2m\u001b[36m(pid=21460)\u001b[0m In /home/lars/.local/lib/python3.6/site-packages/matplotlib/mpl-data/stylelib/_classic_test.mplstyle: \n",
      "\u001b[2m\u001b[36m(pid=21460)\u001b[0m The validate_bool_maybe_none function was deprecated in Matplotlib 3.3 and will be removed two minor releases later.\n",
      "\u001b[2m\u001b[36m(pid=21460)\u001b[0m In /home/lars/.local/lib/python3.6/site-packages/matplotlib/mpl-data/stylelib/_classic_test.mplstyle: \n",
      "\u001b[2m\u001b[36m(pid=21460)\u001b[0m The savefig.jpeg_quality rcparam was deprecated in Matplotlib 3.3 and will be removed two minor releases later.\n",
      "\u001b[2m\u001b[36m(pid=21460)\u001b[0m In /home/lars/.local/lib/python3.6/site-packages/matplotlib/mpl-data/stylelib/_classic_test.mplstyle: \n",
      "\u001b[2m\u001b[36m(pid=21460)\u001b[0m The keymap.all_axes rcparam was deprecated in Matplotlib 3.3 and will be removed two minor releases later.\n",
      "\u001b[2m\u001b[36m(pid=21460)\u001b[0m In /home/lars/.local/lib/python3.6/site-packages/matplotlib/mpl-data/stylelib/_classic_test.mplstyle: \n",
      "\u001b[2m\u001b[36m(pid=21460)\u001b[0m The animation.avconv_path rcparam was deprecated in Matplotlib 3.3 and will be removed two minor releases later.\n",
      "\u001b[2m\u001b[36m(pid=21460)\u001b[0m In /home/lars/.local/lib/python3.6/site-packages/matplotlib/mpl-data/stylelib/_classic_test.mplstyle: \n",
      "\u001b[2m\u001b[36m(pid=21460)\u001b[0m The animation.avconv_args rcparam was deprecated in Matplotlib 3.3 and will be removed two minor releases later.\n",
      "\u001b[2m\u001b[36m(pid=21460)\u001b[0m Reward: Static\n",
      "\u001b[2m\u001b[36m(pid=21459)\u001b[0m In /home/lars/.local/lib/python3.6/site-packages/matplotlib/mpl-data/stylelib/_classic_test.mplstyle: \n",
      "\u001b[2m\u001b[36m(pid=21459)\u001b[0m The text.latex.preview rcparam was deprecated in Matplotlib 3.3 and will be removed two minor releases later.\n",
      "\u001b[2m\u001b[36m(pid=21459)\u001b[0m In /home/lars/.local/lib/python3.6/site-packages/matplotlib/mpl-data/stylelib/_classic_test.mplstyle: \n",
      "\u001b[2m\u001b[36m(pid=21459)\u001b[0m The mathtext.fallback_to_cm rcparam was deprecated in Matplotlib 3.3 and will be removed two minor releases later.\n",
      "\u001b[2m\u001b[36m(pid=21459)\u001b[0m In /home/lars/.local/lib/python3.6/site-packages/matplotlib/mpl-data/stylelib/_classic_test.mplstyle: Support for setting the 'mathtext.fallback_to_cm' rcParam is deprecated since 3.3 and will be removed two minor releases later; use 'mathtext.fallback : 'cm' instead.\n",
      "\u001b[2m\u001b[36m(pid=21459)\u001b[0m In /home/lars/.local/lib/python3.6/site-packages/matplotlib/mpl-data/stylelib/_classic_test.mplstyle: \n",
      "\u001b[2m\u001b[36m(pid=21459)\u001b[0m The validate_bool_maybe_none function was deprecated in Matplotlib 3.3 and will be removed two minor releases later.\n",
      "\u001b[2m\u001b[36m(pid=21459)\u001b[0m In /home/lars/.local/lib/python3.6/site-packages/matplotlib/mpl-data/stylelib/_classic_test.mplstyle: \n",
      "\u001b[2m\u001b[36m(pid=21459)\u001b[0m The savefig.jpeg_quality rcparam was deprecated in Matplotlib 3.3 and will be removed two minor releases later.\n",
      "\u001b[2m\u001b[36m(pid=21459)\u001b[0m In /home/lars/.local/lib/python3.6/site-packages/matplotlib/mpl-data/stylelib/_classic_test.mplstyle: \n",
      "\u001b[2m\u001b[36m(pid=21459)\u001b[0m The keymap.all_axes rcparam was deprecated in Matplotlib 3.3 and will be removed two minor releases later.\n",
      "\u001b[2m\u001b[36m(pid=21459)\u001b[0m In /home/lars/.local/lib/python3.6/site-packages/matplotlib/mpl-data/stylelib/_classic_test.mplstyle: \n",
      "\u001b[2m\u001b[36m(pid=21459)\u001b[0m The animation.avconv_path rcparam was deprecated in Matplotlib 3.3 and will be removed two minor releases later.\n",
      "\u001b[2m\u001b[36m(pid=21459)\u001b[0m In /home/lars/.local/lib/python3.6/site-packages/matplotlib/mpl-data/stylelib/_classic_test.mplstyle: \n",
      "\u001b[2m\u001b[36m(pid=21459)\u001b[0m The animation.avconv_args rcparam was deprecated in Matplotlib 3.3 and will be removed two minor releases later.\n",
      "\u001b[2m\u001b[36m(pid=21459)\u001b[0m Reward: Static\n"
     ]
    }
   ],
   "source": [
    "#agent = cls(env=\"RandomizedEnv\", config=config)\n",
    "agent = cls(config=config)\n",
    "agent.restore(checkpoint)"
   ]
  },
  {
   "cell_type": "code",
   "execution_count": 21,
   "metadata": {},
   "outputs": [
    {
     "name": "stdout",
     "output_type": "stream",
     "text": [
      "<module 'ray' from '/home/lars/.local/lib/python3.6/site-packages/ray/__init__.py'>\n",
      "<function get_trainable_cls at 0x7f40f050e048>\n",
      "<module 'ray.tune.registry' from '/home/lars/.local/lib/python3.6/site-packages/ray/tune/registry.py'>\n"
     ]
    }
   ],
   "source": [
    "print(ray)\n",
    "print(get_trainable_cls)\n",
    "print(ray.tune.registry)\n",
    "clss = get_trainable_cls(\"PPO\")"
   ]
  },
  {
   "cell_type": "markdown",
   "metadata": {},
   "source": [
    "ROS-nodes"
   ]
  },
  {
   "cell_type": "code",
   "execution_count": 22,
   "metadata": {},
   "outputs": [
    {
     "name": "stdout",
     "output_type": "stream",
     "text": [
      "\u001b[2m\u001b[36m(pid=21460)\u001b[0m /home/lars/gym/gym/logger.py:30: UserWarning: \u001b[33mWARN: Box bound precision lowered by casting to float32\u001b[0m\n",
      "\u001b[2m\u001b[36m(pid=21460)\u001b[0m   warnings.warn(colorize('%s: %s'%('WARN', msg % args), 'yellow'))\n",
      "\u001b[2m\u001b[36m(pid=21459)\u001b[0m /home/lars/gym/gym/logger.py:30: UserWarning: \u001b[33mWARN: Box bound precision lowered by casting to float32\u001b[0m\n",
      "\u001b[2m\u001b[36m(pid=21459)\u001b[0m   warnings.warn(colorize('%s: %s'%('WARN', msg % args), 'yellow'))\n"
     ]
    }
   ],
   "source": [
    "rospy.init_node(\"DRL_AI4RoMoCo\", anonymous=True)\n",
    "rospy.Subscriber(\"/joint_states\", JointState, q_callback)\n",
    "rospy.Subscriber(\"/ft300_force_torque\", WrenchStamped, ft_callback)\n",
    "rospy.Subscriber(\"/pose_estimation\", EstimatedPose, pose_callback)\n",
    "#rospy.Subscriber(\"/observation\", CustomVector, observation_callback)\n",
    "control_publisher = rospy.Publisher(\"/joint_group_position_controller/command\", Float64MultiArray, queue_size=1)\n",
    "#traj_control_publisher = rospy.Publisher(\"/pos_traj_controller/command\", JointTrajectory, queue_size=1)\n",
    "ft_zero_publisher = rospy.Publisher(\"/ur_hardware_interface/script_command\", String, queue_size=1)\n",
    "rate = rospy.Rate(control_rate)"
   ]
  },
  {
   "cell_type": "markdown",
   "metadata": {},
   "source": [
    "Data structures for storing and saving data"
   ]
  },
  {
   "cell_type": "code",
   "execution_count": 23,
   "metadata": {},
   "outputs": [
    {
     "data": {
      "text/plain": [
       "array([ 1.27156424e-01,  9.22905739e-04,  3.10259456e-03, -1.40049195e-04,\n",
       "        1.20916420e-03, -2.24630413e-02, -4.00000000e-01, -4.00000000e-01,\n",
       "       -1.60000000e+00, -2.00000000e-02, -5.00000000e-02,  3.00000000e-02])"
      ]
     },
     "execution_count": 23,
     "metadata": {},
     "output_type": "execute_result"
    }
   ],
   "source": [
    "#observations = get_real_obs()\n",
    "real_observations = get_real_obs()\n",
    "sim_observations = get_obs()\n",
    "real_observations"
   ]
  },
  {
   "cell_type": "code",
   "execution_count": 24,
   "metadata": {},
   "outputs": [
    {
     "data": {
      "text/plain": [
       "array([ 1.23042235e-01,  1.74877891e-03, -2.75803075e-03, -1.40049195e-04,\n",
       "        1.20916420e-03, -2.24630413e-02, -4.00000000e-02, -4.00000000e-02,\n",
       "       -1.60000000e-01, -2.00000000e-03, -5.00000000e-03,  3.00000000e-03])"
      ]
     },
     "execution_count": 24,
     "metadata": {},
     "output_type": "execute_result"
    }
   ],
   "source": [
    "sim_observations"
   ]
  },
  {
   "cell_type": "code",
   "execution_count": 25,
   "metadata": {},
   "outputs": [],
   "source": [
    "trans_xs = list()\n",
    "trans_ys = list()\n",
    "trans_zs = list()\n",
    "rot_xs = list()\n",
    "rot_ys = list()\n",
    "rot_zs = list()\n",
    "\n",
    "Fxs = list()\n",
    "Fys = list()\n",
    "Fzs = list()\n",
    "Mxs = list()\n",
    "Mys = list()\n",
    "Mzs = list()\n",
    "\n",
    "rewards = list()\n",
    "success = False\n",
    "\n",
    "step = 0"
   ]
  },
  {
   "cell_type": "markdown",
   "metadata": {},
   "source": [
    "# Run On Hardware"
   ]
  },
  {
   "cell_type": "code",
   "execution_count": 26,
   "metadata": {},
   "outputs": [
    {
     "data": {
      "text/plain": [
       "array([-1.        , -1.        , -0.10499677,  1.        ,  0.11921614,\n",
       "       -0.20046061], dtype=float32)"
      ]
     },
     "execution_count": 26,
     "metadata": {},
     "output_type": "execute_result"
    }
   ],
   "source": [
    "agent.compute_action([0,0,0,0,0,0,0,0,0,0,0,0])"
   ]
  },
  {
   "cell_type": "code",
   "execution_count": 27,
   "metadata": {},
   "outputs": [
    {
     "name": "stderr",
     "output_type": "stream",
     "text": [
      "/home/lars/.local/lib/python3.6/site-packages/ipykernel_launcher.py:29: FutureWarning: `rcond` parameter will change to the default of machine precision times ``max(M, N)`` where M and N are the input matrix dimensions.\n",
      "To use the future default and silence this warning we advise to pass `rcond=None`, to keep using the old, explicitly pass `rcond=-1`.\n",
      "/home/lars/.local/lib/python3.6/site-packages/ipykernel_launcher.py:29: FutureWarning: `rcond` parameter will change to the default of machine precision times ``max(M, N)`` where M and N are the input matrix dimensions.\n",
      "To use the future default and silence this warning we advise to pass `rcond=None`, to keep using the old, explicitly pass `rcond=-1`.\n",
      "/home/lars/.local/lib/python3.6/site-packages/ipykernel_launcher.py:29: FutureWarning: `rcond` parameter will change to the default of machine precision times ``max(M, N)`` where M and N are the input matrix dimensions.\n",
      "To use the future default and silence this warning we advise to pass `rcond=None`, to keep using the old, explicitly pass `rcond=-1`.\n",
      "/home/lars/.local/lib/python3.6/site-packages/ipykernel_launcher.py:29: FutureWarning: `rcond` parameter will change to the default of machine precision times ``max(M, N)`` where M and N are the input matrix dimensions.\n",
      "To use the future default and silence this warning we advise to pass `rcond=None`, to keep using the old, explicitly pass `rcond=-1`.\n",
      "/home/lars/.local/lib/python3.6/site-packages/ipykernel_launcher.py:29: FutureWarning: `rcond` parameter will change to the default of machine precision times ``max(M, N)`` where M and N are the input matrix dimensions.\n",
      "To use the future default and silence this warning we advise to pass `rcond=None`, to keep using the old, explicitly pass `rcond=-1`.\n",
      "/home/lars/.local/lib/python3.6/site-packages/ipykernel_launcher.py:29: FutureWarning: `rcond` parameter will change to the default of machine precision times ``max(M, N)`` where M and N are the input matrix dimensions.\n",
      "To use the future default and silence this warning we advise to pass `rcond=None`, to keep using the old, explicitly pass `rcond=-1`.\n",
      "/home/lars/.local/lib/python3.6/site-packages/ipykernel_launcher.py:29: FutureWarning: `rcond` parameter will change to the default of machine precision times ``max(M, N)`` where M and N are the input matrix dimensions.\n",
      "To use the future default and silence this warning we advise to pass `rcond=None`, to keep using the old, explicitly pass `rcond=-1`.\n",
      "/home/lars/.local/lib/python3.6/site-packages/ipykernel_launcher.py:29: FutureWarning: `rcond` parameter will change to the default of machine precision times ``max(M, N)`` where M and N are the input matrix dimensions.\n",
      "To use the future default and silence this warning we advise to pass `rcond=None`, to keep using the old, explicitly pass `rcond=-1`.\n",
      "/home/lars/.local/lib/python3.6/site-packages/ipykernel_launcher.py:29: FutureWarning: `rcond` parameter will change to the default of machine precision times ``max(M, N)`` where M and N are the input matrix dimensions.\n",
      "To use the future default and silence this warning we advise to pass `rcond=None`, to keep using the old, explicitly pass `rcond=-1`.\n",
      "/home/lars/.local/lib/python3.6/site-packages/ipykernel_launcher.py:29: FutureWarning: `rcond` parameter will change to the default of machine precision times ``max(M, N)`` where M and N are the input matrix dimensions.\n",
      "To use the future default and silence this warning we advise to pass `rcond=None`, to keep using the old, explicitly pass `rcond=-1`.\n",
      "/home/lars/.local/lib/python3.6/site-packages/ipykernel_launcher.py:29: FutureWarning: `rcond` parameter will change to the default of machine precision times ``max(M, N)`` where M and N are the input matrix dimensions.\n",
      "To use the future default and silence this warning we advise to pass `rcond=None`, to keep using the old, explicitly pass `rcond=-1`.\n",
      "/home/lars/.local/lib/python3.6/site-packages/ipykernel_launcher.py:29: FutureWarning: `rcond` parameter will change to the default of machine precision times ``max(M, N)`` where M and N are the input matrix dimensions.\n",
      "To use the future default and silence this warning we advise to pass `rcond=None`, to keep using the old, explicitly pass `rcond=-1`.\n",
      "/home/lars/.local/lib/python3.6/site-packages/ipykernel_launcher.py:29: FutureWarning: `rcond` parameter will change to the default of machine precision times ``max(M, N)`` where M and N are the input matrix dimensions.\n",
      "To use the future default and silence this warning we advise to pass `rcond=None`, to keep using the old, explicitly pass `rcond=-1`.\n",
      "/home/lars/.local/lib/python3.6/site-packages/ipykernel_launcher.py:29: FutureWarning: `rcond` parameter will change to the default of machine precision times ``max(M, N)`` where M and N are the input matrix dimensions.\n",
      "To use the future default and silence this warning we advise to pass `rcond=None`, to keep using the old, explicitly pass `rcond=-1`.\n",
      "/home/lars/.local/lib/python3.6/site-packages/ipykernel_launcher.py:29: FutureWarning: `rcond` parameter will change to the default of machine precision times ``max(M, N)`` where M and N are the input matrix dimensions.\n",
      "To use the future default and silence this warning we advise to pass `rcond=None`, to keep using the old, explicitly pass `rcond=-1`.\n",
      "/home/lars/.local/lib/python3.6/site-packages/ipykernel_launcher.py:29: FutureWarning: `rcond` parameter will change to the default of machine precision times ``max(M, N)`` where M and N are the input matrix dimensions.\n",
      "To use the future default and silence this warning we advise to pass `rcond=None`, to keep using the old, explicitly pass `rcond=-1`.\n",
      "/home/lars/.local/lib/python3.6/site-packages/ipykernel_launcher.py:29: FutureWarning: `rcond` parameter will change to the default of machine precision times ``max(M, N)`` where M and N are the input matrix dimensions.\n",
      "To use the future default and silence this warning we advise to pass `rcond=None`, to keep using the old, explicitly pass `rcond=-1`.\n",
      "/home/lars/.local/lib/python3.6/site-packages/ipykernel_launcher.py:29: FutureWarning: `rcond` parameter will change to the default of machine precision times ``max(M, N)`` where M and N are the input matrix dimensions.\n",
      "To use the future default and silence this warning we advise to pass `rcond=None`, to keep using the old, explicitly pass `rcond=-1`.\n",
      "/home/lars/.local/lib/python3.6/site-packages/ipykernel_launcher.py:29: FutureWarning: `rcond` parameter will change to the default of machine precision times ``max(M, N)`` where M and N are the input matrix dimensions.\n",
      "To use the future default and silence this warning we advise to pass `rcond=None`, to keep using the old, explicitly pass `rcond=-1`.\n",
      "/home/lars/.local/lib/python3.6/site-packages/ipykernel_launcher.py:29: FutureWarning: `rcond` parameter will change to the default of machine precision times ``max(M, N)`` where M and N are the input matrix dimensions.\n",
      "To use the future default and silence this warning we advise to pass `rcond=None`, to keep using the old, explicitly pass `rcond=-1`.\n",
      "/home/lars/.local/lib/python3.6/site-packages/ipykernel_launcher.py:29: FutureWarning: `rcond` parameter will change to the default of machine precision times ``max(M, N)`` where M and N are the input matrix dimensions.\n",
      "To use the future default and silence this warning we advise to pass `rcond=None`, to keep using the old, explicitly pass `rcond=-1`.\n",
      "/home/lars/.local/lib/python3.6/site-packages/ipykernel_launcher.py:29: FutureWarning: `rcond` parameter will change to the default of machine precision times ``max(M, N)`` where M and N are the input matrix dimensions.\n",
      "To use the future default and silence this warning we advise to pass `rcond=None`, to keep using the old, explicitly pass `rcond=-1`.\n",
      "/home/lars/.local/lib/python3.6/site-packages/ipykernel_launcher.py:29: FutureWarning: `rcond` parameter will change to the default of machine precision times ``max(M, N)`` where M and N are the input matrix dimensions.\n",
      "To use the future default and silence this warning we advise to pass `rcond=None`, to keep using the old, explicitly pass `rcond=-1`.\n",
      "/home/lars/.local/lib/python3.6/site-packages/ipykernel_launcher.py:29: FutureWarning: `rcond` parameter will change to the default of machine precision times ``max(M, N)`` where M and N are the input matrix dimensions.\n",
      "To use the future default and silence this warning we advise to pass `rcond=None`, to keep using the old, explicitly pass `rcond=-1`.\n"
     ]
    },
    {
     "name": "stderr",
     "output_type": "stream",
     "text": [
      "/home/lars/.local/lib/python3.6/site-packages/ipykernel_launcher.py:29: FutureWarning: `rcond` parameter will change to the default of machine precision times ``max(M, N)`` where M and N are the input matrix dimensions.\n",
      "To use the future default and silence this warning we advise to pass `rcond=None`, to keep using the old, explicitly pass `rcond=-1`.\n",
      "/home/lars/.local/lib/python3.6/site-packages/ipykernel_launcher.py:29: FutureWarning: `rcond` parameter will change to the default of machine precision times ``max(M, N)`` where M and N are the input matrix dimensions.\n",
      "To use the future default and silence this warning we advise to pass `rcond=None`, to keep using the old, explicitly pass `rcond=-1`.\n",
      "/home/lars/.local/lib/python3.6/site-packages/ipykernel_launcher.py:29: FutureWarning: `rcond` parameter will change to the default of machine precision times ``max(M, N)`` where M and N are the input matrix dimensions.\n",
      "To use the future default and silence this warning we advise to pass `rcond=None`, to keep using the old, explicitly pass `rcond=-1`.\n",
      "/home/lars/.local/lib/python3.6/site-packages/ipykernel_launcher.py:29: FutureWarning: `rcond` parameter will change to the default of machine precision times ``max(M, N)`` where M and N are the input matrix dimensions.\n",
      "To use the future default and silence this warning we advise to pass `rcond=None`, to keep using the old, explicitly pass `rcond=-1`.\n",
      "/home/lars/.local/lib/python3.6/site-packages/ipykernel_launcher.py:29: FutureWarning: `rcond` parameter will change to the default of machine precision times ``max(M, N)`` where M and N are the input matrix dimensions.\n",
      "To use the future default and silence this warning we advise to pass `rcond=None`, to keep using the old, explicitly pass `rcond=-1`.\n",
      "/home/lars/.local/lib/python3.6/site-packages/ipykernel_launcher.py:29: FutureWarning: `rcond` parameter will change to the default of machine precision times ``max(M, N)`` where M and N are the input matrix dimensions.\n",
      "To use the future default and silence this warning we advise to pass `rcond=None`, to keep using the old, explicitly pass `rcond=-1`.\n",
      "/home/lars/.local/lib/python3.6/site-packages/ipykernel_launcher.py:29: FutureWarning: `rcond` parameter will change to the default of machine precision times ``max(M, N)`` where M and N are the input matrix dimensions.\n",
      "To use the future default and silence this warning we advise to pass `rcond=None`, to keep using the old, explicitly pass `rcond=-1`.\n",
      "/home/lars/.local/lib/python3.6/site-packages/ipykernel_launcher.py:29: FutureWarning: `rcond` parameter will change to the default of machine precision times ``max(M, N)`` where M and N are the input matrix dimensions.\n",
      "To use the future default and silence this warning we advise to pass `rcond=None`, to keep using the old, explicitly pass `rcond=-1`.\n",
      "/home/lars/.local/lib/python3.6/site-packages/ipykernel_launcher.py:29: FutureWarning: `rcond` parameter will change to the default of machine precision times ``max(M, N)`` where M and N are the input matrix dimensions.\n",
      "To use the future default and silence this warning we advise to pass `rcond=None`, to keep using the old, explicitly pass `rcond=-1`.\n",
      "/home/lars/.local/lib/python3.6/site-packages/ipykernel_launcher.py:29: FutureWarning: `rcond` parameter will change to the default of machine precision times ``max(M, N)`` where M and N are the input matrix dimensions.\n",
      "To use the future default and silence this warning we advise to pass `rcond=None`, to keep using the old, explicitly pass `rcond=-1`.\n",
      "/home/lars/.local/lib/python3.6/site-packages/ipykernel_launcher.py:29: FutureWarning: `rcond` parameter will change to the default of machine precision times ``max(M, N)`` where M and N are the input matrix dimensions.\n",
      "To use the future default and silence this warning we advise to pass `rcond=None`, to keep using the old, explicitly pass `rcond=-1`.\n",
      "/home/lars/.local/lib/python3.6/site-packages/ipykernel_launcher.py:29: FutureWarning: `rcond` parameter will change to the default of machine precision times ``max(M, N)`` where M and N are the input matrix dimensions.\n",
      "To use the future default and silence this warning we advise to pass `rcond=None`, to keep using the old, explicitly pass `rcond=-1`.\n",
      "/home/lars/.local/lib/python3.6/site-packages/ipykernel_launcher.py:29: FutureWarning: `rcond` parameter will change to the default of machine precision times ``max(M, N)`` where M and N are the input matrix dimensions.\n",
      "To use the future default and silence this warning we advise to pass `rcond=None`, to keep using the old, explicitly pass `rcond=-1`.\n"
     ]
    },
    {
     "ename": "NameError",
     "evalue": "name 'rewards_rec' is not defined",
     "output_type": "error",
     "traceback": [
      "\u001b[0;31m---------------------------------------------------------------------------\u001b[0m",
      "\u001b[0;31mNameError\u001b[0m                                 Traceback (most recent call last)",
      "\u001b[0;32m<ipython-input-27-895157b1f37c>\u001b[0m in \u001b[0;36m<module>\u001b[0;34m\u001b[0m\n\u001b[1;32m     34\u001b[0m         \u001b[0mstep\u001b[0m \u001b[0;34m+=\u001b[0m \u001b[0;36m1\u001b[0m\u001b[0;34m\u001b[0m\u001b[0;34m\u001b[0m\u001b[0m\n\u001b[1;32m     35\u001b[0m     \u001b[0;32mif\u001b[0m \u001b[0mis_success\u001b[0m\u001b[0;34m(\u001b[0m\u001b[0mobs\u001b[0m\u001b[0;34m)\u001b[0m \u001b[0;32mor\u001b[0m \u001b[0mstep\u001b[0m \u001b[0;34m>=\u001b[0m \u001b[0mreality_horizon\u001b[0m\u001b[0;34m:\u001b[0m\u001b[0;34m\u001b[0m\u001b[0;34m\u001b[0m\u001b[0m\n\u001b[0;32m---> 36\u001b[0;31m         \u001b[0mrewards_rec\u001b[0m\u001b[0;34m.\u001b[0m\u001b[0mappend\u001b[0m\u001b[0;34m(\u001b[0m\u001b[0mR_success\u001b[0m\u001b[0;34m)\u001b[0m\u001b[0;34m\u001b[0m\u001b[0;34m\u001b[0m\u001b[0m\n\u001b[0m\u001b[1;32m     37\u001b[0m         \u001b[0msuccess\u001b[0m \u001b[0;34m=\u001b[0m \u001b[0;32mTrue\u001b[0m\u001b[0;34m\u001b[0m\u001b[0;34m\u001b[0m\u001b[0m\n\u001b[1;32m     38\u001b[0m         \u001b[0;32mbreak\u001b[0m\u001b[0;34m\u001b[0m\u001b[0;34m\u001b[0m\u001b[0m\n",
      "\u001b[0;31mNameError\u001b[0m: name 'rewards_rec' is not defined"
     ]
    }
   ],
   "source": [
    "done = False\n",
    "ft_zero()\n",
    "\n",
    "time.sleep(2.5)\n",
    "while not done:\n",
    "    #obs = get_real_obs()\n",
    "    obs = get_obs()\n",
    "    action = agent.compute_action(obs)\n",
    "    for i in range(1):\n",
    "        dx = max_limit * action.copy()\n",
    "        rot_mat = sim.data.get_body_xmat('gripper_dummy_heg')\n",
    "        dx_ = numpy.concatenate([rot_mat.dot(dx[:3]), rot_mat.dot(dx[3:])])  ## transform to right coordinate system\n",
    "        dq  = get_dq(dx_)\n",
    "        q = ctrl_q + dq\n",
    "        control(q)\n",
    "        #traj_control(q)\n",
    "        \n",
    "        trans_xs.append(obs[0].copy())\n",
    "        trans_ys.append(obs[1].copy())\n",
    "        trans_zs.append(obs[2].copy())\n",
    "        rot_xs.append(obs[3].copy())\n",
    "        rot_ys.append(obs[4].copy())\n",
    "        rot_zs.append(obs[5].copy())\n",
    "        \n",
    "        Fxs.append(obs[6].copy())\n",
    "        Fys.append(obs[7].copy())\n",
    "        Fzs.append(obs[8].copy())\n",
    "        Mxs.append(obs[9].copy())\n",
    "        Mys.append(obs[10].copy())\n",
    "        Mzs.append(obs[11].copy())\n",
    "        \n",
    "        rewards.append(compute_reward(obs, goal))\n",
    "        \n",
    "        step += 1\n",
    "    if is_success(obs) or step >= reality_horizon:\n",
    "        rewards_rec.append(R_success)\n",
    "        success = True\n",
    "        break\n",
    "    rate.sleep()"
   ]
  },
  {
   "cell_type": "code",
   "execution_count": 28,
   "metadata": {},
   "outputs": [
    {
     "data": {
      "text/plain": [
       "[<matplotlib.lines.Line2D at 0x7fe9cca45b38>]"
      ]
     },
     "execution_count": 28,
     "metadata": {},
     "output_type": "execute_result"
    },
    {
     "data": {
      "image/png": "[encoded data removed]",
      "text/plain": [
       "<Figure size 432x288 with 1 Axes>"
      ]
     },
     "metadata": {
      "needs_background": "light"
     },
     "output_type": "display_data"
    }
   ],
   "source": [
    "plt.plot(Fxs)"
   ]
  },
  {
   "cell_type": "code",
   "execution_count": 29,
   "metadata": {},
   "outputs": [
    {
     "data": {
      "text/plain": [
       "[<matplotlib.lines.Line2D at 0x7fe6c0201710>]"
      ]
     },
     "execution_count": 29,
     "metadata": {},
     "output_type": "execute_result"
    },
    {
     "data": {
      "image/png": "[encoded data removed]",
      "text/plain": [
       "<Figure size 432x288 with 1 Axes>"
      ]
     },
     "metadata": {
      "needs_background": "light"
     },
     "output_type": "display_data"
    }
   ],
   "source": [
    "plt.plot(Fys)"
   ]
  },
  {
   "cell_type": "code",
   "execution_count": 30,
   "metadata": {},
   "outputs": [
    {
     "data": {
      "text/plain": [
       "[<matplotlib.lines.Line2D at 0x7fe6c01e8668>]"
      ]
     },
     "execution_count": 30,
     "metadata": {},
     "output_type": "execute_result"
    },
    {
     "data": {
      "image/png": "[encoded data removed]",
      "text/plain": [
       "<Figure size 432x288 with 1 Axes>"
      ]
     },
     "metadata": {
      "needs_background": "light"
     },
     "output_type": "display_data"
    }
   ],
   "source": [
    "plt.plot(Fzs)"
   ]
  },
  {
   "cell_type": "markdown",
   "metadata": {},
   "source": [
    "# Saving"
   ]
  },
  {
   "cell_type": "code",
   "execution_count": 31,
   "metadata": {},
   "outputs": [],
   "source": [
    "save_dict = {\n",
    "    \"Pose\" : {\n",
    "        \"trans_x\" : trans_xs,\n",
    "        \"trans_y\" : trans_ys,\n",
    "        \"trans_z\" : trans_zs,\n",
    "        \"rot_x\" : rot_xs,\n",
    "        \"rot_y\" : rot_ys,\n",
    "        \"rot_z\" : rot_zs,\n",
    "    },\n",
    "    \"Force\" : {\n",
    "        \"Fx\"  : Fxs,\n",
    "        \"Fy\"  : Fzs,\n",
    "        \"Fz\"  : Fys,\n",
    "    },\n",
    "    \"Torque\" : {\n",
    "        \"Mx\"  : Mxs,\n",
    "        \"My\"  : Mys,\n",
    "        \"Mz\"  : Mzs,\n",
    "    },\n",
    "    \"Reward\" : rewards,\n",
    "    \"Success\" : success,\n",
    "    \"Episode_Length\" : step,\n",
    "}\n",
    "\n",
    "\n",
    "filename = \"{}\".format(take).zfill(4)+\"_{}.json\".format(AGENT)\n",
    "with open(os.path.join(*[SAVE_PATH, filename]), 'w') as file:\n",
    "    json.dump(save_dict, file)\n",
    "    file.close()"
   ]
  },
  {
   "cell_type": "markdown",
   "metadata": {},
   "source": [
    "# Test Plots"
   ]
  },
  {
   "cell_type": "code",
   "execution_count": 28,
   "metadata": {},
   "outputs": [
    {
     "ename": "NameError",
     "evalue": "name 'poses_rec' is not defined",
     "output_type": "error",
     "traceback": [
      "\u001b[0;31m---------------------------------------------------------------------------\u001b[0m",
      "\u001b[0;31mNameError\u001b[0m                                 Traceback (most recent call last)",
      "\u001b[0;32m<ipython-input-28-f4b70aab0291>\u001b[0m in \u001b[0;36m<module>\u001b[0;34m\u001b[0m\n\u001b[0;32m----> 1\u001b[0;31m \u001b[0mposes_df\u001b[0m \u001b[0;34m=\u001b[0m \u001b[0mpandas\u001b[0m\u001b[0;34m.\u001b[0m\u001b[0mDataFrame\u001b[0m\u001b[0;34m(\u001b[0m\u001b[0mposes_rec\u001b[0m\u001b[0;34m,\u001b[0m \u001b[0mcolumns\u001b[0m\u001b[0;34m=\u001b[0m\u001b[0;34m[\u001b[0m\u001b[0;34m\"vz\"\u001b[0m\u001b[0;34m,\u001b[0m\u001b[0;34m\"lr\"\u001b[0m\u001b[0;34m,\u001b[0m\u001b[0;34m\"hr\"\u001b[0m\u001b[0;34m]\u001b[0m\u001b[0;34m)\u001b[0m\u001b[0;34m\u001b[0m\u001b[0;34m\u001b[0m\u001b[0m\n\u001b[0m\u001b[1;32m      2\u001b[0m \u001b[0mft_values_df\u001b[0m \u001b[0;34m=\u001b[0m \u001b[0mpandas\u001b[0m\u001b[0;34m.\u001b[0m\u001b[0mDataFrame\u001b[0m\u001b[0;34m(\u001b[0m\u001b[0mft_values_rec\u001b[0m\u001b[0;34m,\u001b[0m \u001b[0mcolumns\u001b[0m\u001b[0;34m=\u001b[0m\u001b[0;34m[\u001b[0m\u001b[0;34m\"Fx\"\u001b[0m\u001b[0;34m,\u001b[0m \u001b[0;34m\"Fy\"\u001b[0m\u001b[0;34m,\u001b[0m \u001b[0;34m\"Fz\"\u001b[0m\u001b[0;34m,\u001b[0m \u001b[0;34m\"Mx\"\u001b[0m\u001b[0;34m,\u001b[0m \u001b[0;34m\"My\"\u001b[0m\u001b[0;34m,\u001b[0m \u001b[0;34m\"Mz\"\u001b[0m\u001b[0;34m]\u001b[0m\u001b[0;34m)\u001b[0m\u001b[0;34m\u001b[0m\u001b[0;34m\u001b[0m\u001b[0m\n",
      "\u001b[0;31mNameError\u001b[0m: name 'poses_rec' is not defined"
     ]
    }
   ],
   "source": [
    "poses_df = pandas.DataFrame(poses_rec, columns=[\"vz\",\"lr\",\"hr\"])\n",
    "ft_values_df = pandas.DataFrame(ft_values_rec, columns=[\"Fx\", \"Fy\", \"Fz\", \"Mx\", \"My\", \"Mz\"])"
   ]
  },
  {
   "cell_type": "code",
   "execution_count": 34,
   "metadata": {},
   "outputs": [
    {
     "data": {
      "text/plain": [
       "<AxesSubplot:>"
      ]
     },
     "execution_count": 34,
     "metadata": {},
     "output_type": "execute_result"
    },
    {
     "data": {
      "image/png": "[encoded data removed]",
      "text/plain": [
       "<Figure size 432x288 with 1 Axes>"
      ]
     },
     "metadata": {
      "needs_background": "light"
     },
     "output_type": "display_data"
    }
   ],
   "source": [
    "poses_df.plot()"
   ]
  },
  {
   "cell_type": "code",
   "execution_count": 37,
   "metadata": {},
   "outputs": [
    {
     "data": {
      "text/plain": [
       "<AxesSubplot:>"
      ]
     },
     "execution_count": 37,
     "metadata": {},
     "output_type": "execute_result"
    },
    {
     "data": {
      "image/png": "[encoded data removed]",
      "text/plain": [
       "<Figure size 432x288 with 1 Axes>"
      ]
     },
     "metadata": {
      "needs_background": "light"
     },
     "output_type": "display_data"
    }
   ],
   "source": [
    "ft_values_df[\"Fx\"].plot()"
   ]
  },
  {
   "cell_type": "markdown",
   "metadata": {},
   "source": [
    "# !!! Save recorded Data !!!"
   ]
  }
 ],
 "metadata": {
  "kernelspec": {
   "display_name": "Python 3",
   "language": "python",
   "name": "python3"
  },
  "language_info": {
   "codemirror_mode": {
    "name": "ipython",
    "version": 3
   },
   "file_extension": ".py",
   "mimetype": "text/x-python",
   "name": "python",
   "nbconvert_exporter": "python",
   "pygments_lexer": "ipython3",
   "version": "3.6.9"
  }
 },
 "nbformat": 4,
 "nbformat_minor": 4
}
