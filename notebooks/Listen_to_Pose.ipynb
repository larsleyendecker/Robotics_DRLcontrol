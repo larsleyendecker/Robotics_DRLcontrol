{
 "cells": [
  {
   "cell_type": "markdown",
   "metadata": {},
   "source": [
    "# Description"
   ]
  },
  {
   "cell_type": "markdown",
   "metadata": {},
   "source": [
    "Script for listenting to the published pose from the ROS IntelRealSense2 package"
   ]
  },
  {
   "cell_type": "markdown",
   "metadata": {},
   "source": [
    "# Imports"
   ]
  },
  {
   "cell_type": "code",
   "execution_count": 8,
   "metadata": {},
   "outputs": [],
   "source": [
    "import os\n",
    "import numpy\n",
    "import pandas\n",
    "import matplotlib.pyplot as plt\n",
    "\n",
    "import rospy\n",
    "from realsense2_camera.msg import EstimatedPose\n",
    "\n",
    "HOME = os.getenv(\"HOME\")\n",
    "SAVE_PATH = os.path.join(*[HOME, \"DRL_SetBot-RearVentilation\", \"DRLAI4RoMoCo\"])"
   ]
  },
  {
   "cell_type": "markdown",
   "metadata": {},
   "source": [
    "# Configuration"
   ]
  },
  {
   "cell_type": "code",
   "execution_count": 9,
   "metadata": {},
   "outputs": [],
   "source": [
    "HOME = os.getenv(\"HOME\")\n",
    "SAVE_PATH = os.path.join(*[HOME, \"DRL_SetBot-RearVentilation\", \"DRLAI4RoMoCo\"])"
   ]
  },
  {
   "cell_type": "markdown",
   "metadata": {},
   "source": [
    "# Functions"
   ]
  },
  {
   "cell_type": "code",
   "execution_count": 10,
   "metadata": {},
   "outputs": [],
   "source": [
    "def pose_estimation_callback(data):\n",
    "    global pose\n",
    "    pose = numpy.array([data.tx, data.ty, data.tz, data.rx, data.ry, data.rz])"
   ]
  },
  {
   "cell_type": "markdown",
   "metadata": {},
   "source": [
    "# Main"
   ]
  },
  {
   "cell_type": "code",
   "execution_count": 11,
   "metadata": {},
   "outputs": [],
   "source": [
    "rospy.init_node(\"PoseEstimator\", anonymous=True)\n",
    "rospy.Subscriber(\"/pose_estimation\", EstimatedPose, pose_estimation_callback)\n",
    "rate = rospy.Rate(30)"
   ]
  },
  {
   "cell_type": "code",
   "execution_count": 12,
   "metadata": {},
   "outputs": [],
   "source": [
    "poses = []\n",
    "run = 0\n",
    "\n",
    "for i in range(30*20):\n",
    "    poses.append(pose)\n",
    "    rate.sleep()\n",
    "\n",
    "poses_df = pandas.DataFrame(poses, columns=[\"tx\", \"ty\", \"tz\", \"rx\", \"ry\", \"rz\"])"
   ]
  },
  {
   "cell_type": "code",
   "execution_count": 13,
   "metadata": {},
   "outputs": [
    {
     "data": {
      "text/html": [
       "<div>\n",
       "<style scoped>\n",
       "    .dataframe tbody tr th:only-of-type {\n",
       "        vertical-align: middle;\n",
       "    }\n",
       "\n",
       "    .dataframe tbody tr th {\n",
       "        vertical-align: top;\n",
       "    }\n",
       "\n",
       "    .dataframe thead th {\n",
       "        text-align: right;\n",
       "    }\n",
       "</style>\n",
       "<table border=\"1\" class=\"dataframe\">\n",
       "  <thead>\n",
       "    <tr style=\"text-align: right;\">\n",
       "      <th></th>\n",
       "      <th>tx</th>\n",
       "      <th>ty</th>\n",
       "      <th>tz</th>\n",
       "      <th>rx</th>\n",
       "      <th>ry</th>\n",
       "      <th>rz</th>\n",
       "    </tr>\n",
       "  </thead>\n",
       "  <tbody>\n",
       "    <tr>\n",
       "      <th>0</th>\n",
       "      <td>-0.014882</td>\n",
       "      <td>0.028025</td>\n",
       "      <td>0.180122</td>\n",
       "      <td>-3.124267</td>\n",
       "      <td>-0.042011</td>\n",
       "      <td>0.093582</td>\n",
       "    </tr>\n",
       "    <tr>\n",
       "      <th>1</th>\n",
       "      <td>-0.014882</td>\n",
       "      <td>0.028025</td>\n",
       "      <td>0.180122</td>\n",
       "      <td>-3.124267</td>\n",
       "      <td>-0.042011</td>\n",
       "      <td>0.093582</td>\n",
       "    </tr>\n",
       "    <tr>\n",
       "      <th>2</th>\n",
       "      <td>-0.014880</td>\n",
       "      <td>0.028015</td>\n",
       "      <td>0.180194</td>\n",
       "      <td>-3.123370</td>\n",
       "      <td>-0.042319</td>\n",
       "      <td>0.095289</td>\n",
       "    </tr>\n",
       "    <tr>\n",
       "      <th>3</th>\n",
       "      <td>-0.014877</td>\n",
       "      <td>0.028026</td>\n",
       "      <td>0.180124</td>\n",
       "      <td>-3.121164</td>\n",
       "      <td>-0.041620</td>\n",
       "      <td>0.089798</td>\n",
       "    </tr>\n",
       "    <tr>\n",
       "      <th>4</th>\n",
       "      <td>-0.014883</td>\n",
       "      <td>0.028030</td>\n",
       "      <td>0.180031</td>\n",
       "      <td>-3.120388</td>\n",
       "      <td>-0.041611</td>\n",
       "      <td>0.086061</td>\n",
       "    </tr>\n",
       "    <tr>\n",
       "      <th>...</th>\n",
       "      <td>...</td>\n",
       "      <td>...</td>\n",
       "      <td>...</td>\n",
       "      <td>...</td>\n",
       "      <td>...</td>\n",
       "      <td>...</td>\n",
       "    </tr>\n",
       "    <tr>\n",
       "      <th>595</th>\n",
       "      <td>-0.014875</td>\n",
       "      <td>0.028029</td>\n",
       "      <td>0.180231</td>\n",
       "      <td>-3.123954</td>\n",
       "      <td>-0.041888</td>\n",
       "      <td>0.096945</td>\n",
       "    </tr>\n",
       "    <tr>\n",
       "      <th>596</th>\n",
       "      <td>-0.014892</td>\n",
       "      <td>0.028020</td>\n",
       "      <td>0.180002</td>\n",
       "      <td>-3.122857</td>\n",
       "      <td>-0.042359</td>\n",
       "      <td>0.085453</td>\n",
       "    </tr>\n",
       "    <tr>\n",
       "      <th>597</th>\n",
       "      <td>-0.014884</td>\n",
       "      <td>0.028028</td>\n",
       "      <td>0.180086</td>\n",
       "      <td>-3.123415</td>\n",
       "      <td>-0.041931</td>\n",
       "      <td>0.090354</td>\n",
       "    </tr>\n",
       "    <tr>\n",
       "      <th>598</th>\n",
       "      <td>-0.014884</td>\n",
       "      <td>0.028028</td>\n",
       "      <td>0.180086</td>\n",
       "      <td>-3.123415</td>\n",
       "      <td>-0.041931</td>\n",
       "      <td>0.090354</td>\n",
       "    </tr>\n",
       "    <tr>\n",
       "      <th>599</th>\n",
       "      <td>-0.014883</td>\n",
       "      <td>0.028026</td>\n",
       "      <td>0.180124</td>\n",
       "      <td>-3.123256</td>\n",
       "      <td>-0.042189</td>\n",
       "      <td>0.088290</td>\n",
       "    </tr>\n",
       "  </tbody>\n",
       "</table>\n",
       "<p>600 rows × 6 columns</p>\n",
       "</div>"
      ],
      "text/plain": [
       "           tx        ty        tz        rx        ry        rz\n",
       "0   -0.014882  0.028025  0.180122 -3.124267 -0.042011  0.093582\n",
       "1   -0.014882  0.028025  0.180122 -3.124267 -0.042011  0.093582\n",
       "2   -0.014880  0.028015  0.180194 -3.123370 -0.042319  0.095289\n",
       "3   -0.014877  0.028026  0.180124 -3.121164 -0.041620  0.089798\n",
       "4   -0.014883  0.028030  0.180031 -3.120388 -0.041611  0.086061\n",
       "..        ...       ...       ...       ...       ...       ...\n",
       "595 -0.014875  0.028029  0.180231 -3.123954 -0.041888  0.096945\n",
       "596 -0.014892  0.028020  0.180002 -3.122857 -0.042359  0.085453\n",
       "597 -0.014884  0.028028  0.180086 -3.123415 -0.041931  0.090354\n",
       "598 -0.014884  0.028028  0.180086 -3.123415 -0.041931  0.090354\n",
       "599 -0.014883  0.028026  0.180124 -3.123256 -0.042189  0.088290\n",
       "\n",
       "[600 rows x 6 columns]"
      ]
     },
     "execution_count": 13,
     "metadata": {},
     "output_type": "execute_result"
    }
   ],
   "source": [
    "poses_df"
   ]
  },
  {
   "cell_type": "code",
   "execution_count": 14,
   "metadata": {},
   "outputs": [],
   "source": [
    "poses_df.to_feather(os.path.join(*[SAVE_PATH, \"poses_run_{}.ftr\".format(run)]))"
   ]
  },
  {
   "cell_type": "markdown",
   "metadata": {},
   "source": [
    "# Load and Plot Data"
   ]
  },
  {
   "cell_type": "code",
   "execution_count": 15,
   "metadata": {},
   "outputs": [],
   "source": [
    "poses_df_loaded = pandas.read_feather(os.path.join(*[SAVE_PATH, \"poses_run_{}.ftr\".format(run)]))"
   ]
  },
  {
   "cell_type": "code",
   "execution_count": 16,
   "metadata": {},
   "outputs": [
    {
     "data": {
      "text/html": [
       "<div>\n",
       "<style scoped>\n",
       "    .dataframe tbody tr th:only-of-type {\n",
       "        vertical-align: middle;\n",
       "    }\n",
       "\n",
       "    .dataframe tbody tr th {\n",
       "        vertical-align: top;\n",
       "    }\n",
       "\n",
       "    .dataframe thead th {\n",
       "        text-align: right;\n",
       "    }\n",
       "</style>\n",
       "<table border=\"1\" class=\"dataframe\">\n",
       "  <thead>\n",
       "    <tr style=\"text-align: right;\">\n",
       "      <th></th>\n",
       "      <th>tx</th>\n",
       "      <th>ty</th>\n",
       "      <th>tz</th>\n",
       "      <th>rx</th>\n",
       "      <th>ry</th>\n",
       "      <th>rz</th>\n",
       "    </tr>\n",
       "  </thead>\n",
       "  <tbody>\n",
       "    <tr>\n",
       "      <th>0</th>\n",
       "      <td>-0.014882</td>\n",
       "      <td>0.028025</td>\n",
       "      <td>0.180122</td>\n",
       "      <td>-3.124267</td>\n",
       "      <td>-0.042011</td>\n",
       "      <td>0.093582</td>\n",
       "    </tr>\n",
       "    <tr>\n",
       "      <th>1</th>\n",
       "      <td>-0.014882</td>\n",
       "      <td>0.028025</td>\n",
       "      <td>0.180122</td>\n",
       "      <td>-3.124267</td>\n",
       "      <td>-0.042011</td>\n",
       "      <td>0.093582</td>\n",
       "    </tr>\n",
       "    <tr>\n",
       "      <th>2</th>\n",
       "      <td>-0.014880</td>\n",
       "      <td>0.028015</td>\n",
       "      <td>0.180194</td>\n",
       "      <td>-3.123370</td>\n",
       "      <td>-0.042319</td>\n",
       "      <td>0.095289</td>\n",
       "    </tr>\n",
       "    <tr>\n",
       "      <th>3</th>\n",
       "      <td>-0.014877</td>\n",
       "      <td>0.028026</td>\n",
       "      <td>0.180124</td>\n",
       "      <td>-3.121164</td>\n",
       "      <td>-0.041620</td>\n",
       "      <td>0.089798</td>\n",
       "    </tr>\n",
       "    <tr>\n",
       "      <th>4</th>\n",
       "      <td>-0.014883</td>\n",
       "      <td>0.028030</td>\n",
       "      <td>0.180031</td>\n",
       "      <td>-3.120388</td>\n",
       "      <td>-0.041611</td>\n",
       "      <td>0.086061</td>\n",
       "    </tr>\n",
       "    <tr>\n",
       "      <th>...</th>\n",
       "      <td>...</td>\n",
       "      <td>...</td>\n",
       "      <td>...</td>\n",
       "      <td>...</td>\n",
       "      <td>...</td>\n",
       "      <td>...</td>\n",
       "    </tr>\n",
       "    <tr>\n",
       "      <th>595</th>\n",
       "      <td>-0.014875</td>\n",
       "      <td>0.028029</td>\n",
       "      <td>0.180231</td>\n",
       "      <td>-3.123954</td>\n",
       "      <td>-0.041888</td>\n",
       "      <td>0.096945</td>\n",
       "    </tr>\n",
       "    <tr>\n",
       "      <th>596</th>\n",
       "      <td>-0.014892</td>\n",
       "      <td>0.028020</td>\n",
       "      <td>0.180002</td>\n",
       "      <td>-3.122857</td>\n",
       "      <td>-0.042359</td>\n",
       "      <td>0.085453</td>\n",
       "    </tr>\n",
       "    <tr>\n",
       "      <th>597</th>\n",
       "      <td>-0.014884</td>\n",
       "      <td>0.028028</td>\n",
       "      <td>0.180086</td>\n",
       "      <td>-3.123415</td>\n",
       "      <td>-0.041931</td>\n",
       "      <td>0.090354</td>\n",
       "    </tr>\n",
       "    <tr>\n",
       "      <th>598</th>\n",
       "      <td>-0.014884</td>\n",
       "      <td>0.028028</td>\n",
       "      <td>0.180086</td>\n",
       "      <td>-3.123415</td>\n",
       "      <td>-0.041931</td>\n",
       "      <td>0.090354</td>\n",
       "    </tr>\n",
       "    <tr>\n",
       "      <th>599</th>\n",
       "      <td>-0.014883</td>\n",
       "      <td>0.028026</td>\n",
       "      <td>0.180124</td>\n",
       "      <td>-3.123256</td>\n",
       "      <td>-0.042189</td>\n",
       "      <td>0.088290</td>\n",
       "    </tr>\n",
       "  </tbody>\n",
       "</table>\n",
       "<p>600 rows × 6 columns</p>\n",
       "</div>"
      ],
      "text/plain": [
       "           tx        ty        tz        rx        ry        rz\n",
       "0   -0.014882  0.028025  0.180122 -3.124267 -0.042011  0.093582\n",
       "1   -0.014882  0.028025  0.180122 -3.124267 -0.042011  0.093582\n",
       "2   -0.014880  0.028015  0.180194 -3.123370 -0.042319  0.095289\n",
       "3   -0.014877  0.028026  0.180124 -3.121164 -0.041620  0.089798\n",
       "4   -0.014883  0.028030  0.180031 -3.120388 -0.041611  0.086061\n",
       "..        ...       ...       ...       ...       ...       ...\n",
       "595 -0.014875  0.028029  0.180231 -3.123954 -0.041888  0.096945\n",
       "596 -0.014892  0.028020  0.180002 -3.122857 -0.042359  0.085453\n",
       "597 -0.014884  0.028028  0.180086 -3.123415 -0.041931  0.090354\n",
       "598 -0.014884  0.028028  0.180086 -3.123415 -0.041931  0.090354\n",
       "599 -0.014883  0.028026  0.180124 -3.123256 -0.042189  0.088290\n",
       "\n",
       "[600 rows x 6 columns]"
      ]
     },
     "execution_count": 16,
     "metadata": {},
     "output_type": "execute_result"
    }
   ],
   "source": [
    "poses_df_loaded"
   ]
  },
  {
   "cell_type": "code",
   "execution_count": 17,
   "metadata": {},
   "outputs": [
    {
     "data": {
      "text/plain": [
       "[<matplotlib.lines.Line2D at 0x7f233dd3e5f8>,\n",
       " <matplotlib.lines.Line2D at 0x7f233dd3e710>,\n",
       " <matplotlib.lines.Line2D at 0x7f233dd3e860>,\n",
       " <matplotlib.lines.Line2D at 0x7f233dd3e9b0>,\n",
       " <matplotlib.lines.Line2D at 0x7f233dd3eb00>,\n",
       " <matplotlib.lines.Line2D at 0x7f233dd3ec50>]"
      ]
     },
     "execution_count": 17,
     "metadata": {},
     "output_type": "execute_result"
    },
    {
     "data": {
      "image/png": "[encoded data removed]",
      "text/plain": [
       "<Figure size 432x288 with 1 Axes>"
      ]
     },
     "metadata": {
      "needs_background": "light"
     },
     "output_type": "display_data"
    }
   ],
   "source": [
    "plt.plot(poses_df_loaded)"
   ]
  }
 ],
 "metadata": {
  "kernelspec": {
   "display_name": "Python 3",
   "language": "python",
   "name": "python3"
  },
  "language_info": {
   "codemirror_mode": {
    "name": "ipython",
    "version": 3
   },
   "file_extension": ".py",
   "mimetype": "text/x-python",
   "name": "python",
   "nbconvert_exporter": "python",
   "pygments_lexer": "ipython3",
   "version": "3.6.9"
  }
 },
 "nbformat": 4,
 "nbformat_minor": 4
}
