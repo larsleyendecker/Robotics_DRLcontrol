{
 "cells": [
  {
   "cell_type": "markdown",
   "metadata": {},
   "source": [
    "# Description"
   ]
  },
  {
   "cell_type": "markdown",
   "metadata": {},
   "source": [
    "Script for creating aruco board and saving them in pdf-files ready to be printed"
   ]
  },
  {
   "cell_type": "markdown",
   "metadata": {},
   "source": [
    "# Imports"
   ]
  },
  {
   "cell_type": "code",
   "execution_count": 1,
   "metadata": {},
   "outputs": [],
   "source": [
    "import os\n",
    "import cv2\n",
    "import cv2.aruco as ar\n",
    "from cv2.aruco import GridBoard_create\n",
    "from cv2.aruco import drawPlanarBoard\n",
    "\n",
    "from PIL import Image\n",
    "import numpy"
   ]
  },
  {
   "cell_type": "markdown",
   "metadata": {},
   "source": [
    "# Configuration"
   ]
  },
  {
   "cell_type": "code",
   "execution_count": 2,
   "metadata": {},
   "outputs": [],
   "source": [
    "board_config = {\n",
    "    \"markersX\" : 2,\n",
    "    \"markersY\" : 2,\n",
    "    \"markerLength\" : 0.02, \n",
    "    \"markerSeparation\" :  0.01,\n",
    "    \"margins\" : 0.01,\n",
    "    \"dictionary\" : cv2.aruco.Dictionary_get(cv2.aruco.DICT_7X7_50),\n",
    "}\n",
    "\n",
    "charuco_config1 = {\n",
    "    \"squaresX\" : 4,\n",
    "    \"squaresY\" : 4,\n",
    "    \"squareLength\" : 0.014,\n",
    "    \"markerLength\" : 0.01,\n",
    "    \"dictionary\" : cv2.aruco.Dictionary_get(cv2.aruco.DICT_4X4_50)\n",
    "}\n",
    "\n",
    "charuco_config = {\n",
    "    \"squaresX\" : 3,\n",
    "    \"squaresY\" : 3,\n",
    "    \"squareLength\" : 0.02,\n",
    "    \"markerLength\" : 0.015,\n",
    "    \"dictionary\" : cv2.aruco.Dictionary_get(cv2.aruco.DICT_4X4_50)\n",
    "}\n",
    "\n",
    "#3X3: 0.018, 0.014\n",
    "#4X4: \n",
    "#5X5: 0.0115, 0.008\n",
    "\n",
    "HOME = os.getenv(\"HOME\")\n",
    "SAVE_PATH = os.path.join(*[HOME, \"realsense2_ws\"])\n",
    "CWD = os.getcwd()"
   ]
  },
  {
   "cell_type": "markdown",
   "metadata": {},
   "source": [
    "# Functions"
   ]
  },
  {
   "cell_type": "code",
   "execution_count": 3,
   "metadata": {},
   "outputs": [],
   "source": [
    "def create_board(config, marker_index):\n",
    "    '''Creates a aruco board with the given configuration'''\n",
    "    return GridBoard_create(config[\"markersX\"], config[\"markersY\"], config[\"markerLength\"], config[\"markerSeparation\"], config[\"dictionary\"], marker_index)\n",
    "\n",
    "def draw_board(board):\n",
    "    '''Draws the given aruco board'''\n",
    "    board_array = board.draw((4000,4000), 100, 100)\n",
    "    board_image = Image.fromarray(board_array)\n",
    "    #cv2.imshow(\"Window\", board_image)\n",
    "    return board_image\n",
    "    \n",
    "def save_board_to_pdf(board_image, path, pdf_index):\n",
    "    '''Saves the board image as a pdf ready to be printed'''\n",
    "    board_image.save(os.path.join(*[path,\"{}{}.png\".format(\"charuco\",info)]))\n",
    "    print(\"Aruco Board {} successfully saved\".format(pdf_index))\n",
    "    \n",
    "def create_charuco_board(config):\n",
    "    '''Creates a charuco board with the given configuration'''\n",
    "    return cv2.aruco.CharucoBoard_create(config[\"squaresX\"], config[\"squaresY\"], config[\"squareLength\"], config[\"markerLength\"], config[\"dictionary\"])"
   ]
  },
  {
   "cell_type": "markdown",
   "metadata": {},
   "source": [
    "# Glue Code"
   ]
  },
  {
   "cell_type": "code",
   "execution_count": 4,
   "metadata": {},
   "outputs": [],
   "source": [
    "def board_main(config, pdf_path):\n",
    "    \n",
    "    marker_index = 0\n",
    "    board_index = 0\n",
    "    \n",
    "    for board_index in range(4):\n",
    "        aruco_board = create_board(config, marker_index)\n",
    "        aruco_board_image = draw_board(aruco_board)\n",
    "        save_board_to_pdf(aruco_board_image, pdf_path, board_index)\n",
    "        marker_index += 4\n",
    "    print(\"Succesfully created Aruco Boards\")"
   ]
  },
  {
   "cell_type": "code",
   "execution_count": 9,
   "metadata": {},
   "outputs": [],
   "source": [
    "def charuco_main(config, pdf_path):\n",
    "    board_index = 0\n",
    "    marker_index = 0\n",
    "    cc = \"33_002_0015\"\n",
    "    \n",
    "    #for board_index in range(4):\n",
    "    charuco_board = create_charuco_board(config)\n",
    "    charuco_board_image = draw_board(charuco_board)\n",
    "    save_board_to_pdf(charuco_board_image, pdf_path, cc)\n",
    "    #marker_index += 4\n",
    "    print(\"Succesfully created Charuco Board\")"
   ]
  },
  {
   "cell_type": "code",
   "execution_count": 10,
   "metadata": {},
   "outputs": [
    {
     "ename": "NameError",
     "evalue": "name 'info' is not defined",
     "output_type": "error",
     "traceback": [
      "\u001b[0;31m---------------------------------------------------------------------------\u001b[0m",
      "\u001b[0;31mNameError\u001b[0m                                 Traceback (most recent call last)",
      "\u001b[0;32m<ipython-input-10-d07df98e34dc>\u001b[0m in \u001b[0;36m<module>\u001b[0;34m\u001b[0m\n\u001b[0;32m----> 1\u001b[0;31m \u001b[0mcharuco_main\u001b[0m\u001b[0;34m(\u001b[0m\u001b[0mcharuco_config\u001b[0m\u001b[0;34m,\u001b[0m \u001b[0mCWD\u001b[0m\u001b[0;34m)\u001b[0m\u001b[0;34m\u001b[0m\u001b[0;34m\u001b[0m\u001b[0m\n\u001b[0m",
      "\u001b[0;32m<ipython-input-9-dd554f46ef74>\u001b[0m in \u001b[0;36mcharuco_main\u001b[0;34m(config, pdf_path)\u001b[0m\n\u001b[1;32m      7\u001b[0m     \u001b[0mcharuco_board\u001b[0m \u001b[0;34m=\u001b[0m \u001b[0mcreate_charuco_board\u001b[0m\u001b[0;34m(\u001b[0m\u001b[0mconfig\u001b[0m\u001b[0;34m)\u001b[0m\u001b[0;34m\u001b[0m\u001b[0;34m\u001b[0m\u001b[0m\n\u001b[1;32m      8\u001b[0m     \u001b[0mcharuco_board_image\u001b[0m \u001b[0;34m=\u001b[0m \u001b[0mdraw_board\u001b[0m\u001b[0;34m(\u001b[0m\u001b[0mcharuco_board\u001b[0m\u001b[0;34m)\u001b[0m\u001b[0;34m\u001b[0m\u001b[0;34m\u001b[0m\u001b[0m\n\u001b[0;32m----> 9\u001b[0;31m     \u001b[0msave_board_to_pdf\u001b[0m\u001b[0;34m(\u001b[0m\u001b[0mcharuco_board_image\u001b[0m\u001b[0;34m,\u001b[0m \u001b[0mpdf_path\u001b[0m\u001b[0;34m,\u001b[0m \u001b[0minfo\u001b[0m\u001b[0;34m)\u001b[0m\u001b[0;34m\u001b[0m\u001b[0;34m\u001b[0m\u001b[0m\n\u001b[0m\u001b[1;32m     10\u001b[0m     \u001b[0;31m#marker_index += 4\u001b[0m\u001b[0;34m\u001b[0m\u001b[0;34m\u001b[0m\u001b[0;34m\u001b[0m\u001b[0m\n\u001b[1;32m     11\u001b[0m     \u001b[0mprint\u001b[0m\u001b[0;34m(\u001b[0m\u001b[0;34m\"Succesfully created Charuco Board\"\u001b[0m\u001b[0;34m)\u001b[0m\u001b[0;34m\u001b[0m\u001b[0;34m\u001b[0m\u001b[0m\n",
      "\u001b[0;32m<ipython-input-3-6d29fa56578d>\u001b[0m in \u001b[0;36msave_board_to_pdf\u001b[0;34m(board_image, path, pdf_index)\u001b[0m\n\u001b[1;32m     12\u001b[0m \u001b[0;32mdef\u001b[0m \u001b[0msave_board_to_pdf\u001b[0m\u001b[0;34m(\u001b[0m\u001b[0mboard_image\u001b[0m\u001b[0;34m,\u001b[0m \u001b[0mpath\u001b[0m\u001b[0;34m,\u001b[0m \u001b[0mpdf_index\u001b[0m\u001b[0;34m)\u001b[0m\u001b[0;34m:\u001b[0m\u001b[0;34m\u001b[0m\u001b[0;34m\u001b[0m\u001b[0m\n\u001b[1;32m     13\u001b[0m     \u001b[0;34m'''Saves the board image as a pdf ready to be printed'''\u001b[0m\u001b[0;34m\u001b[0m\u001b[0;34m\u001b[0m\u001b[0m\n\u001b[0;32m---> 14\u001b[0;31m     \u001b[0mboard_image\u001b[0m\u001b[0;34m.\u001b[0m\u001b[0msave\u001b[0m\u001b[0;34m(\u001b[0m\u001b[0mos\u001b[0m\u001b[0;34m.\u001b[0m\u001b[0mpath\u001b[0m\u001b[0;34m.\u001b[0m\u001b[0mjoin\u001b[0m\u001b[0;34m(\u001b[0m\u001b[0;34m*\u001b[0m\u001b[0;34m[\u001b[0m\u001b[0mpath\u001b[0m\u001b[0;34m,\u001b[0m\u001b[0;34m\"{}{}.png\"\u001b[0m\u001b[0;34m.\u001b[0m\u001b[0mformat\u001b[0m\u001b[0;34m(\u001b[0m\u001b[0;34m\"charuco\"\u001b[0m\u001b[0;34m,\u001b[0m\u001b[0minfo\u001b[0m\u001b[0;34m)\u001b[0m\u001b[0;34m]\u001b[0m\u001b[0;34m)\u001b[0m\u001b[0;34m)\u001b[0m\u001b[0;34m\u001b[0m\u001b[0;34m\u001b[0m\u001b[0m\n\u001b[0m\u001b[1;32m     15\u001b[0m     \u001b[0mprint\u001b[0m\u001b[0;34m(\u001b[0m\u001b[0;34m\"Aruco Board {} successfully saved\"\u001b[0m\u001b[0;34m.\u001b[0m\u001b[0mformat\u001b[0m\u001b[0;34m(\u001b[0m\u001b[0mpdf_index\u001b[0m\u001b[0;34m)\u001b[0m\u001b[0;34m)\u001b[0m\u001b[0;34m\u001b[0m\u001b[0;34m\u001b[0m\u001b[0m\n\u001b[1;32m     16\u001b[0m \u001b[0;34m\u001b[0m\u001b[0m\n",
      "\u001b[0;31mNameError\u001b[0m: name 'info' is not defined"
     ]
    }
   ],
   "source": [
    "charuco_main(charuco_config, CWD)"
   ]
  },
  {
   "cell_type": "code",
   "execution_count": null,
   "metadata": {},
   "outputs": [],
   "source": []
  }
 ],
 "metadata": {
  "kernelspec": {
   "display_name": "Python 3",
   "language": "python",
   "name": "python3"
  },
  "language_info": {
   "codemirror_mode": {
    "name": "ipython",
    "version": 3
   },
   "file_extension": ".py",
   "mimetype": "text/x-python",
   "name": "python",
   "nbconvert_exporter": "python",
   "pygments_lexer": "ipython3",
   "version": "3.6.9"
  }
 },
 "nbformat": 4,
 "nbformat_minor": 4
}
