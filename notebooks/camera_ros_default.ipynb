{
 "cells": [
  {
   "cell_type": "markdown",
   "metadata": {},
   "source": [
    "# Description"
   ]
  },
  {
   "cell_type": "markdown",
   "metadata": {},
   "source": [
    "Script for accessing realsense camera using ROS, openCV and the openCV-Bridge for bridging ROS's image format to openCV"
   ]
  },
  {
   "cell_type": "markdown",
   "metadata": {},
   "source": [
    "# Detectron2 Imports"
   ]
  },
  {
   "cell_type": "code",
   "execution_count": null,
   "metadata": {},
   "outputs": [],
   "source": [
    "import os\n",
    "import numpy\n",
    "import torch, torchvision\n",
    "import detectron2\n",
    "import numpy as np\n",
    "import os, json, cv2, random\n",
    "import matplotlib.pyplot as plt\n",
    "from detectron2 import model_zoo\n",
    "from detectron2.engine import DefaultPredictor\n",
    "from detectron2.config import get_cfg\n",
    "from detectron2.utils.visualizer import Visualizer, VisImage\n",
    "from detectron2.data import MetadataCatalog, DatasetCatalog\n",
    "from detectron2.utils.visualizer import ColorMode\n",
    "from detectron2.engine import DefaultTrainer\n",
    "from detectron2.config import get_cfg"
   ]
  },
  {
   "cell_type": "markdown",
   "metadata": {},
   "source": [
    "# Detectron2 config"
   ]
  },
  {
   "cell_type": "code",
   "execution_count": null,
   "metadata": {},
   "outputs": [],
   "source": [
    "cfg = get_cfg()\n",
    "cfg.merge_from_file(model_zoo.get_config_file(\"COCO-InstanceSegmentation/mask_rcnn_R_50_FPN_3x.yaml\"))\n",
    "cfg.MODEL.WEIGHTS = os.path.join(*[os.getcwd(),\"output\", \"model_final.pth\"])\n",
    "cfg.MODEL.ROI_HEADS.SCORE_THRESH_TEST = 0.7\n",
    "cfg.MODEL.ROI_HEADS.NUM_CLASSES = 1\n",
    "predictor = DefaultPredictor(cfg)"
   ]
  },
  {
   "cell_type": "markdown",
   "metadata": {},
   "source": [
    "# ROS | openCV Imports"
   ]
  },
  {
   "cell_type": "code",
   "execution_count": 1,
   "metadata": {},
   "outputs": [],
   "source": [
    "import os\n",
    "import numpy\n",
    "import cv2\n",
    "from cv_bridge import CvBridge\n",
    "from cv_bridge.boost.cv_bridge_boost import getCvType\n",
    "\n",
    "import rospy\n",
    "from sensor_msgs.msg import Image, CameraInfo\n",
    "froms std_msgs.msg import Bool"
   ]
  },
  {
   "cell_type": "code",
   "execution_count": null,
   "metadata": {},
   "outputs": [],
   "source": [
    "#!!!\n",
    "def command_result(result):\n",
    "    command = String()\n",
    "    command = result\n",
    "    result_publisher.publish(command)"
   ]
  },
  {
   "cell_type": "code",
   "execution_count": null,
   "metadata": {},
   "outputs": [],
   "source": [
    "#!!!\n",
    "def publish_predicted_image(image):\n",
    "    message = Image()\n",
    "    message = bridge.cv2_to_imgmsg(image, \"bgr8\")\n",
    "    image_publisher.publish(message)"
   ]
  },
  {
   "cell_type": "markdown",
   "metadata": {},
   "source": [
    "# ROS | openCV Functions"
   ]
  },
  {
   "cell_type": "markdown",
   "metadata": {},
   "source": [
    "ROS Functions"
   ]
  },
  {
   "cell_type": "code",
   "execution_count": 2,
   "metadata": {},
   "outputs": [],
   "source": [
    "def image_callback(ros_image):\n",
    "    '''Callback function for the subscription of the ROS topic /camera/color/image_raw (sensor_msgs Image)'''\n",
    "    global bridge\n",
    "    global cv_image\n",
    "    cv_image = bridge.imgmsg_to_cv2(ros_image, \"bgr8\")\n",
    "    cv2.imshow(\"Realsense2\",cv_image )\n",
    "    cv2.waitKey(1)\n",
    "    \n",
    "def run_ros_node():\n",
    "    '''Initializes the ROS node and setting up Subscriptions and Publishers'''\n",
    "    rospy.init_node(\"camera\", anonymous=True)\n",
    "    rospy.Subscriber(\"/camera/color/image_raw\", Image, image_callback)\n",
    "    rospy.Subscriber(\"/image_trigger\", Bool, trigger_callback)\n",
    "    result_publisher = rospy.Publisher(\"/prediction_result\", String, queue_size=1)\n",
    "    image_publisher = rospy.Publisher(\"/prediction_image\", Image, queue_size=1)\n",
    "    rate = rospy.Rate(30)\n",
    "    \n",
    "def trigger_callback(signal):\n",
    "    \n",
    "    if signal == True:\n",
    "        \n",
    "        cv2.imshow(\"BeforePrediction\",cv_image )\n",
    "        \n",
    "        to_predict_image = cv_image\n",
    "        prediction, result = predict(to_predict_image)\n",
    "        \n",
    "        plt.figure(figsize = (14, 10))\n",
    "        plt.imshow(cv2.cvtColor(v.get_image()[:, :, ::-1], cv2.COLOR_BGR2RGB))\n",
    "        \n",
    "        index = 0\n",
    "        plt.savefig(os.path.join(*[os.getcwd(), \"img_prediction_{}.png\".format(index)]))\n",
    "        plt.show()\n",
    "        "
   ]
  },
  {
   "cell_type": "markdown",
   "metadata": {},
   "source": [
    "# Detectron2 Function"
   ]
  },
  {
   "cell_type": "code",
   "execution_count": null,
   "metadata": {},
   "outputs": [],
   "source": [
    "def predict(im):\n",
    "    '''Detectron2 prediction on passed image'''\n",
    "    \n",
    "    if im.shape != (900,600,3):\n",
    "        im = cv2.resize(im,(900,600))\n",
    "    \n",
    "    outputs = predictor(im)\n",
    "    v = Visualizer(im[:, :, ::-1],\n",
    "                    #metadata=microcontroller_metadata, \n",
    "                    scale=1.0, \n",
    "                    #instance_mode=ColorMode.IMAGE_BW   # remove the colors of unsegmented pixels\n",
    "    )\n",
    "    v = v.draw_instance_predictions(outputs[\"instances\"].to(\"cpu\"))\n",
    "    \n",
    "    if len(outputs[\"instances\"].pred_classes.tolist()) !=4:\n",
    "        info = \"NIO\"\n",
    "    else:\n",
    "        info = \"IO\"\n",
    "    \n",
    "    return v, info"
   ]
  },
  {
   "cell_type": "markdown",
   "metadata": {},
   "source": [
    "# Configuration | Instantiation"
   ]
  },
  {
   "cell_type": "code",
   "execution_count": 3,
   "metadata": {},
   "outputs": [],
   "source": [
    "bridge = CvBridge()"
   ]
  },
  {
   "cell_type": "markdown",
   "metadata": {},
   "source": [
    "# Main"
   ]
  },
  {
   "cell_type": "code",
   "execution_count": 4,
   "metadata": {},
   "outputs": [],
   "source": [
    "def main():\n",
    "    '''Main Function'''\n",
    "    \n",
    "    run_ros_node()\n",
    "    rospy.spin()\n",
    "    \n",
    "    #out.release()"
   ]
  },
  {
   "cell_type": "code",
   "execution_count": null,
   "metadata": {
    "scrolled": true
   },
   "outputs": [],
   "source": [
    "main()"
   ]
  },
  {
   "cell_type": "code",
   "execution_count": null,
   "metadata": {},
   "outputs": [],
   "source": []
  }
 ],
 "metadata": {
  "kernelspec": {
   "display_name": "Python 3",
   "language": "python",
   "name": "python3"
  },
  "language_info": {
   "codemirror_mode": {
    "name": "ipython",
    "version": 3
   },
   "file_extension": ".py",
   "mimetype": "text/x-python",
   "name": "python",
   "nbconvert_exporter": "python",
   "pygments_lexer": "ipython3",
   "version": "3.6.9"
  }
 },
 "nbformat": 4,
 "nbformat_minor": 4
}
