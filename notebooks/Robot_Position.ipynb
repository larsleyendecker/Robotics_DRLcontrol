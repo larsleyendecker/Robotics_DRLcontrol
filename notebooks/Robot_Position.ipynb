{
 "cells": [
  {
   "cell_type": "code",
   "execution_count": 1,
   "metadata": {},
   "outputs": [
    {
     "name": "stderr",
     "output_type": "stream",
     "text": [
      "In /home/lars/.local/lib/python3.6/site-packages/matplotlib/mpl-data/stylelib/_classic_test.mplstyle: \n",
      "The text.latex.preview rcparam was deprecated in Matplotlib 3.3 and will be removed two minor releases later.\n",
      "In /home/lars/.local/lib/python3.6/site-packages/matplotlib/mpl-data/stylelib/_classic_test.mplstyle: \n",
      "The mathtext.fallback_to_cm rcparam was deprecated in Matplotlib 3.3 and will be removed two minor releases later.\n",
      "In /home/lars/.local/lib/python3.6/site-packages/matplotlib/mpl-data/stylelib/_classic_test.mplstyle: Support for setting the 'mathtext.fallback_to_cm' rcParam is deprecated since 3.3 and will be removed two minor releases later; use 'mathtext.fallback : 'cm' instead.\n",
      "In /home/lars/.local/lib/python3.6/site-packages/matplotlib/mpl-data/stylelib/_classic_test.mplstyle: \n",
      "The validate_bool_maybe_none function was deprecated in Matplotlib 3.3 and will be removed two minor releases later.\n",
      "In /home/lars/.local/lib/python3.6/site-packages/matplotlib/mpl-data/stylelib/_classic_test.mplstyle: \n",
      "The savefig.jpeg_quality rcparam was deprecated in Matplotlib 3.3 and will be removed two minor releases later.\n",
      "In /home/lars/.local/lib/python3.6/site-packages/matplotlib/mpl-data/stylelib/_classic_test.mplstyle: \n",
      "The keymap.all_axes rcparam was deprecated in Matplotlib 3.3 and will be removed two minor releases later.\n",
      "In /home/lars/.local/lib/python3.6/site-packages/matplotlib/mpl-data/stylelib/_classic_test.mplstyle: \n",
      "The animation.avconv_path rcparam was deprecated in Matplotlib 3.3 and will be removed two minor releases later.\n",
      "In /home/lars/.local/lib/python3.6/site-packages/matplotlib/mpl-data/stylelib/_classic_test.mplstyle: \n",
      "The animation.avconv_args rcparam was deprecated in Matplotlib 3.3 and will be removed two minor releases later.\n"
     ]
    }
   ],
   "source": [
    "import os\n",
    "import numpy\n",
    "import sys\n",
    "import pandas\n",
    "import rospy\n",
    "import mujoco_py\n",
    "from sensor_msgs.msg import JointState\n",
    "from std_msgs.msg import Float64MultiArray\n",
    "from std_msgs.msg import String\n",
    "from geometry_msgs.msg import WrenchStamped\n",
    "from trajectory_msgs.msg import JointTrajectory, JointTrajectoryPoint\n",
    "from realsense2_camera.msg import CustomVector\n",
    "from realsense2_camera.msg import EstimatedPose\n",
    "from gym.envs.robotics import rotations"
   ]
  },
  {
   "cell_type": "code",
   "execution_count": 2,
   "metadata": {},
   "outputs": [],
   "source": [
    "def q_callback(data):\n",
    "    global qpos\n",
    "    qpos= numpy.array(data.position)[[2,1,0,3,4,5]]\n",
    "    \n",
    "def rad2deg(rad):\n",
    "    deg= rad*(180/numpy.pi)\n",
    "    return deg\n",
    "\n",
    "def traj_control(q):\n",
    "    dt = 10\n",
    "    global ctrl_q\n",
    "    command = JointTrajectory()\n",
    "    point = JointTrajectoryPoint()\n",
    "    \n",
    "    #command.header.stamp = rospy.Time.now()\n",
    "    #command.header.frame_id = \"DRL_UR10\"\n",
    "    #command.joint_names = [\"elbow_joint\", \"shoulder_lift_joint\", \"shoulder_pan_joint\", \"wrist_1_joint\", \"wrist_2_joint\", \"wrist_3_joint\"]\n",
    "    \n",
    "    #command.header.stamp = rospy.Time.now()\n",
    "    command.header.frame_id = \"DRL_UR10\"\n",
    "    command.joint_names.append(\"shoulder_pan_joint\")\n",
    "    command.joint_names.append(\"shoulder_lift_joint\")\n",
    "    command.joint_names.append(\"elbow_joint\")\n",
    "    command.joint_names.append(\"wrist_1_joint\")\n",
    "    command.joint_names.append(\"wrist_2_joint\")\n",
    "    command.joint_names.append(\"wrist_3_joint\")\n",
    "    \n",
    "\n",
    "    point.positions.append(q[0])\n",
    "    point.positions.append(q[1])\n",
    "    point.positions.append(q[2])\n",
    "    point.positions.append(q[3])\n",
    "    point.positions.append(q[4])\n",
    "    point.positions.append(q[5])\n",
    "    \n",
    "    command.points.append(point)\n",
    "    command.points[0].time_from_start=rospy.Duration.from_sec(dt)\n",
    "    \n",
    "    traj_control_publisher.publish(command)\n",
    "    ctrl_q = q.copy()\n",
    "\n",
    "#numpy.savetxt(sys.stdout, qpos, '%5.2f')"
   ]
  },
  {
   "cell_type": "code",
   "execution_count": 3,
   "metadata": {},
   "outputs": [
    {
     "data": {
      "text/plain": [
       "<rospy.topics.Subscriber at 0x7fc420846be0>"
      ]
     },
     "execution_count": 3,
     "metadata": {},
     "output_type": "execute_result"
    }
   ],
   "source": [
    "rospy.init_node(\"DRL_Calibration\")\n",
    "rospy.Subscriber(\"/joint_states\", JointState, q_callback)\n",
    "#traj_control_publisher = rospy.Publisher(\"/pos_traj_controller/command\", JointTrajectory, queue_size=1)"
   ]
  },
  {
   "cell_type": "code",
   "execution_count": 4,
   "metadata": {},
   "outputs": [],
   "source": [
    "goal_rad = numpy.array([0.00, -1.14, 1.85, -0.70, 1.55, 0.00])\n",
    "start_rad = numpy.array([1.19467746e-04, -1.30006248e+00,  2.10014057e+00, -8.00064389e-01, 1.57103789e+00, 1.19467746e-04])\n",
    "goal_deg = [rad2deg(elem) for elem in goal_rad]\n",
    "start_deg = [rad2deg(elem) for elem in start_rad]"
   ]
  },
  {
   "cell_type": "code",
   "execution_count": 5,
   "metadata": {},
   "outputs": [],
   "source": [
    "traj_control(goal_rad)"
   ]
  },
  {
   "cell_type": "code",
   "execution_count": 5,
   "metadata": {},
   "outputs": [
    {
     "data": {
      "text/plain": [
       "array([ 4.40832227e-03, -1.13823349e+00,  1.86037254e+00, -7.23192994e-01,\n",
       "        1.59764516e+00, -1.79592763e-04])"
      ]
     },
     "execution_count": 5,
     "metadata": {},
     "output_type": "execute_result"
    }
   ],
   "source": [
    "qpos"
   ]
  },
  {
   "cell_type": "markdown",
   "metadata": {},
   "source": [
    "# SIMULATION"
   ]
  },
  {
   "cell_type": "code",
   "execution_count": 6,
   "metadata": {},
   "outputs": [],
   "source": [
    "HOME_PATH = os.getenv(\"HOME\")\n",
    "XML_MODEL_PATH = os.path.join(*[HOME_PATH, \"DRL_AI4RoMoCo\", \"code\", \"environment\",\"UR10_single\",\"ur10_heg.xml\"])"
   ]
  },
  {
   "cell_type": "code",
   "execution_count": 7,
   "metadata": {},
   "outputs": [],
   "source": [
    "def normalize_rad(angles):\n",
    "    angles = numpy.array(angles)\n",
    "    angles = angles % (2*numpy.pi)\n",
    "    angles = (angles + 2*numpy.pi) % (2*numpy.pi)\n",
    "    for i in range(len(angles)):\n",
    "        if (angles[i] > numpy.pi):\n",
    "            angles[i] -= 2*numpy.pi\n",
    "    return angles"
   ]
  },
  {
   "cell_type": "code",
   "execution_count": 8,
   "metadata": {},
   "outputs": [],
   "source": [
    "def set_state(qpos):\n",
    "    #assert qpos.shape == (model.nq,)\n",
    "    old_state = sim.get_state()\n",
    "    new_state = mujoco_py.MjSimState(old_state.time, qpos, old_state.qvel,\n",
    "                                     old_state.act, old_state.udd_state)\n",
    "    sim.set_state(new_state)\n",
    "    sim.forward()"
   ]
  },
  {
   "cell_type": "code",
   "execution_count": 9,
   "metadata": {},
   "outputs": [],
   "source": [
    "model = mujoco_py.load_model_from_path(XML_MODEL_PATH)\n",
    "sim = mujoco_py.MjSim(model)\n",
    "q_init = numpy.array([0, -1.3, 2.1, -0.80, 1.5708, 0.0])\n",
    "q_goal = numpy.array([0.00, -1.14, 1.85, -0.70, 1.55, 0.00])\n",
    "\n",
    "ctrl_q = q_init\n",
    "set_state(qpos)\n",
    "\n",
    "xpos = sim.data.get_body_xpos(\"gripper_dummy_heg\")\n",
    "x_mat = sim.data.get_body_xmat(\"gripper_dummy_heg\")\n",
    "rpy = normalize_rad(rotations.mat2euler(x_mat))\n",
    "\n",
    "#viewer = mujoco_py.MjViewer(sim)\n",
    "#viewer.render()"
   ]
  },
  {
   "cell_type": "code",
   "execution_count": 10,
   "metadata": {},
   "outputs": [
    {
     "data": {
      "text/plain": [
       "array([ 0.69539974, -0.83325208,  1.17396257])"
      ]
     },
     "execution_count": 10,
     "metadata": {},
     "output_type": "execute_result"
    }
   ],
   "source": [
    "xpos"
   ]
  },
  {
   "cell_type": "code",
   "execution_count": 11,
   "metadata": {},
   "outputs": [
    {
     "data": {
      "text/plain": [
       "array([-1.57092218,  0.02244061,  3.14048138])"
      ]
     },
     "execution_count": 11,
     "metadata": {},
     "output_type": "execute_result"
    }
   ],
   "source": [
    "rpy"
   ]
  },
  {
   "cell_type": "code",
   "execution_count": 12,
   "metadata": {},
   "outputs": [],
   "source": [
    "goal = numpy.concatenate([xpos,rpy])"
   ]
  },
  {
   "cell_type": "code",
   "execution_count": 13,
   "metadata": {},
   "outputs": [
    {
     "data": {
      "text/plain": [
       "array([ 0.69539974, -0.83325208,  1.17396257, -1.57092218,  0.02244061,\n",
       "        3.14048138])"
      ]
     },
     "execution_count": 13,
     "metadata": {},
     "output_type": "execute_result"
    }
   ],
   "source": [
    "goal"
   ]
  },
  {
   "cell_type": "code",
   "execution_count": null,
   "metadata": {},
   "outputs": [],
   "source": []
  }
 ],
 "metadata": {
  "kernelspec": {
   "display_name": "Python 3",
   "language": "python",
   "name": "python3"
  },
  "language_info": {
   "codemirror_mode": {
    "name": "ipython",
    "version": 3
   },
   "file_extension": ".py",
   "mimetype": "text/x-python",
   "name": "python",
   "nbconvert_exporter": "python",
   "pygments_lexer": "ipython3",
   "version": "3.6.9"
  }
 },
 "nbformat": 4,
 "nbformat_minor": 4
}
