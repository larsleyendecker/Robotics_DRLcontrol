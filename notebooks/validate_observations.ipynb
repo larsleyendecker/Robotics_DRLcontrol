{
 "cells": [
  {
   "cell_type": "code",
   "execution_count": 10,
   "metadata": {},
   "outputs": [],
   "source": [
    "# General imports\n",
    "import os\n",
    "import time\n",
    "import datetime\n",
    "from os.path import expanduser\n",
    "import pandas\n",
    "import pickle\n",
    "import json\n",
    "import numpy\n",
    "from matplotlib import pyplot as plt\n",
    "\n",
    "import mujoco_py\n",
    "from gym.envs.robotics import rotations\n",
    "\n",
    "import rospy\n",
    "from sensor_msgs.msg import JointState\n",
    "from std_msgs.msg import Float64MultiArray\n",
    "from std_msgs.msg import String\n",
    "from geometry_msgs.msg import WrenchStamped\n",
    "from trajectory_msgs.msg import JointTrajectory, JointTrajectoryPoint\n",
    "from realsense2_camera.msg import CustomVector\n",
    "from realsense2_camera.msg import EstimatedPose"
   ]
  },
  {
   "cell_type": "code",
   "execution_count": 8,
   "metadata": {},
   "outputs": [],
   "source": [
    "def normalize_rad(angles):\n",
    "    angles = numpy.array(angles)\n",
    "    angles = angles % (2*numpy.pi)\n",
    "    angles = (angles + 2*numpy.pi) % (2*numpy.pi)\n",
    "    for i in range(len(angles)):\n",
    "        if (angles[i] > numpy.pi):\n",
    "            angles[i] -= 2*numpy.pi\n",
    "    return angles"
   ]
  },
  {
   "cell_type": "code",
   "execution_count": 12,
   "metadata": {},
   "outputs": [],
   "source": [
    "HOME_PATH = os.getenv(\"HOME\")\n",
    "PROJECT_PATH = os.path.join(*[HOME_PATH, \"DRL_AI4RoMoCo\"])\n",
    "SAVE_PATH = os.path.join(*[PROJECT_PATH, \"code\", \"data\",\"TEST_Reality\"])\n",
    "\n",
    "goal = numpy.array([0.69539974, -0.83325208,  1.17396257, -1.57092218,  0.02244061, 3.14048138])\n",
    "\n",
    "XML_MODEL_PATH = os.path.join(*[HOME_PATH, \"DRL_AI4RoMoCo\", \"code\", \"environment\",\"UR10_single\",\"ur10_heg.xml\"])   #Force\n",
    "#XML_MODEL_PATH = os.path.join(*[HOME_PATH, \"DRL_AI4RoMoCo\", \"code\", \"environment\",\"UR10_single_position\",\"ur10_heg_position.xml\"])\n",
    "\n",
    "env_config = \"reality_config_force.yml\"\n",
    "#checkpoint_number = 4950\n",
    "#model = \"PPO_NoisyPositionEnv_0_2020-09-18_20-14-55ej_cw9mo\"\n",
    "control_type = env_config.split(\"_\")[2].split(\".\")[0]\n",
    "\n",
    "ENV_CONFIG = os.path.join(*[HOME_PATH, \"AGENT_TESTS\", env_config])\n",
    "#ENV_CONFIG = os.path.join(*[HOME_PATH, \"AGENT_TESTS\", \"PPO_ForceEnv_0_2020-09-10_15-29-51_j1bhegb\", config])"
   ]
  },
  {
   "cell_type": "code",
   "execution_count": null,
   "metadata": {},
   "outputs": [],
   "source": []
  },
  {
   "cell_type": "code",
   "execution_count": 3,
   "metadata": {},
   "outputs": [],
   "source": [
    "def get_dq(dx):\n",
    "    jacp = sim.data.get_body_jacp(name=\"gripper_dummy_heg\").reshape(3, 6)\n",
    "    jacr = sim.data.get_body_jacr(name=\"gripper_dummy_heg\").reshape(3, 6)\n",
    "    jac = numpy.vstack((jacp, jacr))\n",
    "    dq = numpy.linalg.lstsq(jac, dx)[0].reshape(6, )\n",
    "    return dq\n",
    "\n",
    "def go_smooth(q):\n",
    "    rate = rospy.Rate(125)\n",
    "    dq = q - actual_q\n",
    "    while numpy.linalg.norm(dq)>0.005:\n",
    "        dq = q - actual_q\n",
    "        dq_ = numpy.clip(dq, -0.0001, 0.0001)\n",
    "        control(ctrl_q+dq_)\n",
    "        rate.sleep()\n",
    "    control(q)\n",
    "    \n",
    "def set_state(qpos):\n",
    "    #assert qpos.shape == (model.nq,)\n",
    "    old_state = sim.get_state()\n",
    "    new_state = mujoco_py.MjSimState(old_state.time, qpos, old_state.qvel,\n",
    "                                     old_state.act, old_state.udd_state)\n",
    "    sim.set_state(new_state)\n",
    "    sim.forward()"
   ]
  },
  {
   "cell_type": "code",
   "execution_count": 4,
   "metadata": {},
   "outputs": [
    {
     "name": "stdout",
     "output_type": "stream",
     "text": [
      "Creating window glfw\n"
     ]
    }
   ],
   "source": [
    "model = mujoco_py.load_model_from_path(XML_MODEL_PATH)\n",
    "sim = mujoco_py.MjSim(model)\n",
    "q_init = numpy.array([0, -1.3, 2.1, -0.80, 1.5708, 0.0])\n",
    "\n",
    "ctrl_q = q_init\n",
    "set_state(q_init)\n",
    "\n",
    "viewer = mujoco_py.MjViewer(sim)\n",
    "viewer.render()"
   ]
  },
  {
   "cell_type": "code",
   "execution_count": 5,
   "metadata": {},
   "outputs": [],
   "source": [
    "def q_callback(data):\n",
    "    '''Callback for the joint angles, velocities and accelerations'''\n",
    "    global actual_q\n",
    "    actual_q = numpy.array(data.position)[[2,1,0,3,4,5]]\n",
    "    set_state(actual_q)\n",
    "    #viewer.render()\n",
    "\n",
    "def pose_callback(data):\n",
    "    '''ROS Callback function for the pose_estimation'''\n",
    "    global pose\n",
    "    pose = numpy.array([(-1)*data.tx, data.ty, data.tz]) #, data.rx, data.ry, data.rz])\n",
    "        \n",
    "def ft_callback(data):\n",
    "    '''ROS Callback function for the force-torque data'''\n",
    "    global ft_values\n",
    "    ft_values = (-1)* numpy.array([data.wrench.force.x, data.wrench.force.y, data.wrench.force.z, data.wrench.torque.x, data.wrench.torque.y, data.wrench.torque.z])  \n",
    "\n",
    "def get_real_obs():\n",
    "    \n",
    "    set_state(actual_q)\n",
    "    \n",
    "    real_pos = pose.copy()\n",
    "    \n",
    "    x_mat = sim.data.get_body_xmat(\"gripper_dummy_heg\")\n",
    "    rpy =  normalize_rad(rotations.mat2euler(x_mat))\n",
    "\n",
    "    obs = numpy.concatenate([\n",
    "                x_mat.dot(real_pos), x_mat.dot(normalize_rad(rpy-goal[3:])), ft_values.copy()\n",
    "            ])\n",
    "    return obs"
   ]
  },
  {
   "cell_type": "code",
   "execution_count": 6,
   "metadata": {},
   "outputs": [],
   "source": [
    "rospy.init_node(\"DRL_AI4RoMoCo\", anonymous=True)\n",
    "rospy.Subscriber(\"/joint_states\", JointState, q_callback)\n",
    "rospy.Subscriber(\"/ft300_force_torque\", WrenchStamped, ft_callback)\n",
    "rospy.Subscriber(\"/pose_estimation\", EstimatedPose, pose_callback)\n",
    "#rospy.Subscriber(\"/observation\", CustomVector, observation_callback)\n",
    "#control_publisher = rospy.Publisher(\"/joint_group_position_controller/command\", Float64MultiArray, queue_size=1)\n",
    "#traj_control_publisher = rospy.Publisher(\"/pos_traj_controller/command\", JointTrajectory, queue_size=1)\n",
    "#ft_zero_publisher = rospy.Publisher(\"/ur_hardware_interface/script_command\", String, queue_size=1)\n",
    "rate = rospy.Rate(25)"
   ]
  },
  {
   "cell_type": "code",
   "execution_count": 13,
   "metadata": {},
   "outputs": [
    {
     "data": {
      "text/plain": [
       "array([-1.28194379e-01,  2.95363139e-03,  2.58527672e-03, -2.48634502e-04,\n",
       "        1.27166100e-03, -2.23066894e-02, -2.99000000e+00,  7.80000000e+00,\n",
       "       -1.93099990e+01,  1.10000000e-01,  1.77000000e-01, -9.00000000e-03])"
      ]
     },
     "execution_count": 13,
     "metadata": {},
     "output_type": "execute_result"
    }
   ],
   "source": [
    "get_real_obs()"
   ]
  },
  {
   "cell_type": "code",
   "execution_count": null,
   "metadata": {},
   "outputs": [],
   "source": []
  }
 ],
 "metadata": {
  "kernelspec": {
   "display_name": "Python 3",
   "language": "python",
   "name": "python3"
  },
  "language_info": {
   "codemirror_mode": {
    "name": "ipython",
    "version": 3
   },
   "file_extension": ".py",
   "mimetype": "text/x-python",
   "name": "python",
   "nbconvert_exporter": "python",
   "pygments_lexer": "ipython3",
   "version": "3.6.9"
  }
 },
 "nbformat": 4,
 "nbformat_minor": 4
}
