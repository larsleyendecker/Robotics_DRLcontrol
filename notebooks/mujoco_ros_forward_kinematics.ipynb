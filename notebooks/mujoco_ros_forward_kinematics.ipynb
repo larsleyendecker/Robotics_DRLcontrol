{
 "cells": [
  {
   "cell_type": "markdown",
   "metadata": {},
   "source": [
    "# Description"
   ]
  },
  {
   "cell_type": "markdown",
   "metadata": {},
   "source": [
    "Script for extracting the rotation matrix using the real joint angles and publishing it to a ROS topic"
   ]
  },
  {
   "cell_type": "markdown",
   "metadata": {},
   "source": [
    "# Imports"
   ]
  },
  {
   "cell_type": "code",
   "execution_count": 1,
   "metadata": {},
   "outputs": [],
   "source": [
    "import os\n",
    "import gym\n",
    "import numpy\n",
    "import pandas\n",
    "import mujoco_py\n",
    "\n",
    "import rospy\n",
    "from sensor_msgs.msg import JointState\n",
    "from std_msgs.msg import Float64MultiArray"
   ]
  },
  {
   "cell_type": "markdown",
   "metadata": {},
   "source": [
    "# Paths"
   ]
  },
  {
   "cell_type": "code",
   "execution_count": 2,
   "metadata": {},
   "outputs": [],
   "source": [
    "HOME = os.getenv(\"HOME\")\n",
    "MODEL_PATH = os.path.join(*[HOME, \"DRL_AI4RoMoCo\", \"code\", \"environment\", \"UR10\", \"ur10_heg.xml\"])"
   ]
  },
  {
   "cell_type": "markdown",
   "metadata": {},
   "source": [
    "# Configuration"
   ]
  },
  {
   "cell_type": "code",
   "execution_count": 3,
   "metadata": {},
   "outputs": [],
   "source": [
    "q_init = numpy.array([0, -1.3, 1.0, -0.80, 1.5708, 0.0])"
   ]
  },
  {
   "cell_type": "markdown",
   "metadata": {},
   "source": [
    "# Functions"
   ]
  },
  {
   "cell_type": "code",
   "execution_count": 4,
   "metadata": {},
   "outputs": [],
   "source": [
    "def set_state(qpos):\n",
    "    assert qpos.shape == (model.nq,)\n",
    "    old_state = sim.get_state()\n",
    "    new_state = mujoco_py.MjSimState(old_state.time, qpos, old_state.qvel,\n",
    "                                     old_state.act, old_state.udd_state)\n",
    "    sim.set_state(new_state)\n",
    "    sim.forward()"
   ]
  },
  {
   "cell_type": "code",
   "execution_count": 5,
   "metadata": {},
   "outputs": [],
   "source": [
    "def q_callback(data):\n",
    "    '''Callback function for receiving Joint States'''\n",
    "    global q\n",
    "    q = numpy.array(data.position)[[2,1,0,3,4,5]]\n",
    "    set_state(q)\n",
    "    xmat = sim.data.get_body_xmat(\"gripper_dummy_heg\")\n",
    "    publish_xmat(xmat)"
   ]
  },
  {
   "cell_type": "code",
   "execution_count": 6,
   "metadata": {},
   "outputs": [],
   "source": [
    "vector = numpy.array([1,2,3])"
   ]
  },
  {
   "cell_type": "code",
   "execution_count": 7,
   "metadata": {},
   "outputs": [],
   "source": [
    "def publish_xmat(xmat):\n",
    "    '''Message which includes the rotation matrix'''\n",
    "\n",
    "    message = Float64MultiArray()\n",
    "    message.data = xmat.reshape((9,))\n",
    "    xmat_publisher.publish(message)"
   ]
  },
  {
   "cell_type": "markdown",
   "metadata": {},
   "source": [
    "# Main"
   ]
  },
  {
   "cell_type": "code",
   "execution_count": 8,
   "metadata": {},
   "outputs": [],
   "source": [
    "model = mujoco_py.load_model_from_path(MODEL_PATH)\n",
    "sim = mujoco_py.MjSim(model)\n",
    "set_state(q_init)"
   ]
  },
  {
   "cell_type": "code",
   "execution_count": 9,
   "metadata": {},
   "outputs": [],
   "source": [
    "rospy.init_node(\"forward_kinematics\", anonymous=True)\n",
    "rospy.Subscriber(\"/joint_states\", JointState, q_callback)\n",
    "xmat_publisher = rospy.Publisher(\"/rotation_matrix\", Float64MultiArray, queue_size=1)"
   ]
  },
  {
   "cell_type": "code",
   "execution_count": null,
   "metadata": {},
   "outputs": [],
   "source": [
    "while True:\n",
    "    rospy.spin()"
   ]
  },
  {
   "cell_type": "code",
   "execution_count": null,
   "metadata": {},
   "outputs": [],
   "source": []
  }
 ],
 "metadata": {
  "kernelspec": {
   "display_name": "Python 3",
   "language": "python",
   "name": "python3"
  },
  "language_info": {
   "codemirror_mode": {
    "name": "ipython",
    "version": 3
   },
   "file_extension": ".py",
   "mimetype": "text/x-python",
   "name": "python",
   "nbconvert_exporter": "python",
   "pygments_lexer": "ipython3",
   "version": "3.6.9"
  }
 },
 "nbformat": 4,
 "nbformat_minor": 4
}
