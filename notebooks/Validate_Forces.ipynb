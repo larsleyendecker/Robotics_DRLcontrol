{
 "cells": [
  {
   "cell_type": "code",
   "execution_count": 1,
   "metadata": {},
   "outputs": [],
   "source": [
    "take = 3\n",
    "AGENT = \"TestEnv\""
   ]
  },
  {
   "cell_type": "markdown",
   "metadata": {},
   "source": [
    "# Specification"
   ]
  },
  {
   "cell_type": "code",
   "execution_count": 2,
   "metadata": {},
   "outputs": [],
   "source": [
    "control_rate = 125 #Hz\n",
    "force_scale = 1\n",
    "dt = 0.1\n",
    "model_number = 999\n",
    "max_limit = 0.00005 #0.0001 0.000085\n",
    "R1 = 1\n",
    "R2 = 0.00025\n",
    "R_success = 250\n",
    "reality_distance_threshold = 0.0075\n",
    "\n",
    "reality_horizon = 3000"
   ]
  },
  {
   "cell_type": "markdown",
   "metadata": {},
   "source": [
    "# Imports"
   ]
  },
  {
   "cell_type": "code",
   "execution_count": 3,
   "metadata": {
    "scrolled": true
   },
   "outputs": [
    {
     "name": "stderr",
     "output_type": "stream",
     "text": [
      "In /home/lars/.local/lib/python3.6/site-packages/matplotlib/mpl-data/stylelib/_classic_test.mplstyle: \n",
      "The text.latex.preview rcparam was deprecated in Matplotlib 3.3 and will be removed two minor releases later.\n",
      "In /home/lars/.local/lib/python3.6/site-packages/matplotlib/mpl-data/stylelib/_classic_test.mplstyle: \n",
      "The mathtext.fallback_to_cm rcparam was deprecated in Matplotlib 3.3 and will be removed two minor releases later.\n",
      "In /home/lars/.local/lib/python3.6/site-packages/matplotlib/mpl-data/stylelib/_classic_test.mplstyle: Support for setting the 'mathtext.fallback_to_cm' rcParam is deprecated since 3.3 and will be removed two minor releases later; use 'mathtext.fallback : 'cm' instead.\n",
      "In /home/lars/.local/lib/python3.6/site-packages/matplotlib/mpl-data/stylelib/_classic_test.mplstyle: \n",
      "The validate_bool_maybe_none function was deprecated in Matplotlib 3.3 and will be removed two minor releases later.\n",
      "In /home/lars/.local/lib/python3.6/site-packages/matplotlib/mpl-data/stylelib/_classic_test.mplstyle: \n",
      "The savefig.jpeg_quality rcparam was deprecated in Matplotlib 3.3 and will be removed two minor releases later.\n",
      "In /home/lars/.local/lib/python3.6/site-packages/matplotlib/mpl-data/stylelib/_classic_test.mplstyle: \n",
      "The keymap.all_axes rcparam was deprecated in Matplotlib 3.3 and will be removed two minor releases later.\n",
      "In /home/lars/.local/lib/python3.6/site-packages/matplotlib/mpl-data/stylelib/_classic_test.mplstyle: \n",
      "The animation.avconv_path rcparam was deprecated in Matplotlib 3.3 and will be removed two minor releases later.\n",
      "In /home/lars/.local/lib/python3.6/site-packages/matplotlib/mpl-data/stylelib/_classic_test.mplstyle: \n",
      "The animation.avconv_args rcparam was deprecated in Matplotlib 3.3 and will be removed two minor releases later.\n"
     ]
    }
   ],
   "source": [
    "# General imports\n",
    "import os\n",
    "import time\n",
    "import datetime\n",
    "from os.path import expanduser\n",
    "import pandas\n",
    "import pickle\n",
    "import json\n",
    "import numpy\n",
    "from matplotlib import pyplot as plt\n",
    "\n",
    "\n",
    "# Gym imports\n",
    "from gym.envs.robotics.ur10 import randomize\n",
    "from gym.envs.robotics.ur10 import pos_randomize\n",
    "#from gym.envs.robotics import ur10_noisy_pd_env_mh\n",
    "from gym.envs.robotics import ur10_sim2real_env\n",
    "from gym.envs.robotics import ur10_sim2real_pos_env\n",
    "from gym import utils\n",
    "from gym.envs.robotics import rotations, utils\n",
    "#from gym.envs.robotics import ur10_force_env_3\n",
    "#from gym.envs.robotics import ur10_force_env\n",
    "\n",
    "# MuJoCo imports\n",
    "import mujoco_py\n",
    "\n",
    "# ROS imports\n",
    "import rospy\n",
    "from sensor_msgs.msg import JointState\n",
    "from std_msgs.msg import Float64MultiArray\n",
    "from std_msgs.msg import String\n",
    "from geometry_msgs.msg import WrenchStamped\n",
    "from trajectory_msgs.msg import JointTrajectory, JointTrajectoryPoint\n",
    "from realsense2_camera.msg import CustomVector\n",
    "from realsense2_camera.msg import EstimatedPose"
   ]
  },
  {
   "cell_type": "markdown",
   "metadata": {},
   "source": [
    "# Paths"
   ]
  },
  {
   "cell_type": "code",
   "execution_count": 4,
   "metadata": {},
   "outputs": [
    {
     "name": "stdout",
     "output_type": "stream",
     "text": [
      "Force Control\n"
     ]
    }
   ],
   "source": [
    "HOME_PATH = os.getenv(\"HOME\")\n",
    "PROJECT_PATH = os.path.join(*[HOME_PATH, \"DRL_AI4RoMoCo\"])\n",
    "SAVE_PATH = os.path.join(*[PROJECT_PATH, \"code\", \"data\",\"TEST_Reality\"])\n",
    "\n",
    "XML_MODEL_PATH = os.path.join(*[HOME_PATH, \"DRL_AI4RoMoCo\", \"code\", \"environment\",\"UR10_single\",\"ur10_heg.xml\"])   #Force\n",
    "#XML_MODEL_PATH = os.path.join(*[HOME_PATH, \"DRL_AI4RoMoCo\", \"code\", \"environment\",\"UR10_single_position\",\"ur10_heg_position.xml\"])\n",
    "\n",
    "env_config = \"real_config_force.yml\"\n",
    "#checkpoint_number = 4950\n",
    "#model = \"PPO_NoisyPositionEnv_0_2020-09-18_20-14-55ej_cw9mo\"\n",
    "control_type = env_config.split(\"_\")[2].split(\".\")[0]\n",
    "\n",
    "if control_type == \"force\":\n",
    "    XML_MODEL_PATH = os.path.join(*[HOME_PATH, \"DRL_AI4RoMoCo\", \"code\", \"environment\",\"UR10_single\",\"ur10_heg.xml\"])   #Force\n",
    "    print(\"Force Control\")\n",
    "elif control_type == \"position\":\n",
    "    XML_MODEL_PATH = os.path.join(*[HOME_PATH, \"DRL_AI4RoMoCo\", \"code\", \"environment\",\"UR10_single_position\",\"ur10_heg_position.xml\"])\n",
    "    print(\"Position Control\")\n",
    "else:\n",
    "    print(\"ERROR\")\n",
    "\n",
    "ENV_CONFIG = os.path.join(*[HOME_PATH, \"AGENT_TESTS\", env_config])\n",
    "#ENV_CONFIG = os.path.join(*[HOME_PATH, \"AGENT_TESTS\", \"PPO_ForceEnv_0_2020-09-10_15-29-51_j1bhegb\", config])"
   ]
  },
  {
   "cell_type": "markdown",
   "metadata": {},
   "source": [
    "# Configuration"
   ]
  },
  {
   "cell_type": "markdown",
   "metadata": {},
   "source": [
    "Hardware - Environment (ROS)"
   ]
  },
  {
   "cell_type": "code",
   "execution_count": 5,
   "metadata": {},
   "outputs": [],
   "source": [
    "actual_q = numpy.zeros(6,)\n",
    "ft_values = numpy.zeros(6,)"
   ]
  },
  {
   "cell_type": "markdown",
   "metadata": {},
   "source": [
    "Simulation - Environment (MuJoCo, Gym)"
   ]
  },
  {
   "cell_type": "code",
   "execution_count": 6,
   "metadata": {},
   "outputs": [
    {
     "name": "stdout",
     "output_type": "stream",
     "text": [
      "[ 0.69539974 -0.83325208  1.17396257 -1.57092218  0.02244061  3.14048138]\n"
     ]
    }
   ],
   "source": [
    "#goal = numpy.array([0.69423743, -0.83110109,  1.17388998, -1.57161506,  0.02185773, -3.14102438])\n",
    "goal = numpy.array([0.69539974, -0.83325208,  1.17396257, -1.57092218,  0.02244061, 3.14048138])\n",
    "reward_type = \"dense\"\n",
    "distance_threshold = 0.002\n",
    "fail_threshold = 0.25\n",
    "punish_force = False\n",
    "punish_force_thresh = 20\n",
    "punish_force_factor = 0.001\n",
    "print(goal)"
   ]
  },
  {
   "cell_type": "code",
   "execution_count": 7,
   "metadata": {},
   "outputs": [],
   "source": [
    "initial_qpos_simpheg_conf2 = numpy.array([0, -1.3, 2.1, -0.80, 1.5708, 0])"
   ]
  },
  {
   "cell_type": "markdown",
   "metadata": {},
   "source": [
    "# Functions"
   ]
  },
  {
   "cell_type": "code",
   "execution_count": 8,
   "metadata": {},
   "outputs": [],
   "source": [
    "def normalize_rad(angles):\n",
    "    angles = numpy.array(angles)\n",
    "    angles = angles % (2*numpy.pi)\n",
    "    angles = (angles + 2*numpy.pi) % (2*numpy.pi)\n",
    "    for i in range(len(angles)):\n",
    "        if (angles[i] > numpy.pi):\n",
    "            angles[i] -= 2*numpy.pi\n",
    "    return angles\n",
    "\n",
    "def get_obs():\n",
    "    set_state(actual_q)\n",
    "    for i in range(10):\n",
    "        viewer.render()\n",
    "    #print(ft_values)\n",
    "    x_pos = sim.data.get_body_xpos(\"gripper_dummy_heg\")\n",
    "    x_mat = sim.data.get_body_xmat(\"gripper_dummy_heg\")\n",
    "    rpy =  normalize_rad(rotations.mat2euler(x_mat))\n",
    "    #print(x_pos, rpy)\n",
    "\n",
    "    obs = numpy.concatenate([\n",
    "                x_mat.dot(x_pos-goal[:3]), x_mat.dot(normalize_rad(rpy-goal[3:])), ft_values.copy()\n",
    "            ])\n",
    "    return obs\n",
    "\n",
    "def get_dq(dx):\n",
    "    jacp = sim.data.get_body_jacp(name=\"gripper_dummy_heg\").reshape(3, 6)\n",
    "    jacr = sim.data.get_body_jacr(name=\"gripper_dummy_heg\").reshape(3, 6)\n",
    "    jac = numpy.vstack((jacp, jacr))\n",
    "    dq = numpy.linalg.lstsq(jac, dx)[0].reshape(6, )\n",
    "    return dq\n",
    "\n",
    "def go_smooth(q):\n",
    "    rate = rospy.Rate(125)\n",
    "    dq = q - actual_q\n",
    "    while numpy.linalg.norm(dq)>0.005:\n",
    "        dq = q - actual_q\n",
    "        dq_ = numpy.clip(dq, -0.0001, 0.0001)\n",
    "        control(ctrl_q+dq_)\n",
    "        rate.sleep()\n",
    "    control(q)\n",
    "    \n",
    "def set_state(qpos):\n",
    "    #assert qpos.shape == (model.nq,)\n",
    "    old_state = sim.get_state()\n",
    "    new_state = mujoco_py.MjSimState(old_state.time, qpos, old_state.qvel,\n",
    "                                     old_state.act, old_state.udd_state)\n",
    "    sim.set_state(new_state)\n",
    "    sim.forward()\n",
    "    \n",
    "def keep_going(steps, num_steps, episodes, num_episodes):\n",
    "    \"\"\"Determine whether we've collected enough data\"\"\"\n",
    "    # if num_episodes is set, this overrides num_steps\n",
    "    if num_episodes:\n",
    "        return episodes < num_episodes\n",
    "    # if num_steps is set, continue until we reach the limit\n",
    "    if num_steps:\n",
    "        return steps < num_steps\n",
    "    # otherwise keep going forever\n",
    "    return True"
   ]
  },
  {
   "cell_type": "markdown",
   "metadata": {},
   "source": [
    "# Observations"
   ]
  },
  {
   "cell_type": "code",
   "execution_count": 9,
   "metadata": {},
   "outputs": [],
   "source": [
    "def q_callback(data):\n",
    "    '''Callback for the joint angles, velocities and accelerations'''\n",
    "    global actual_q\n",
    "    actual_q = numpy.array(data.position)[[2,1,0,3,4,5]]\n",
    "    set_state(actual_q)\n",
    "    viewer.render()\n",
    "\n",
    "def pose_callback(data):\n",
    "    '''ROS Callback function for the pose_estimation'''\n",
    "    global pose\n",
    "    pose = numpy.array([(-1)*data.tx, data.ty, data.tz]) #, data.rx, data.ry, data.rz])\n",
    "        \n",
    "def ft_callback(data):\n",
    "    '''ROS Callback function for the force-torque data'''\n",
    "    global ft_values\n",
    "    ft_values = (-1)* numpy.array([data.wrench.force.x, data.wrench.force.y, data.wrench.force.z, data.wrench.torque.x, data.wrench.torque.y, data.wrench.torque.z])  \n",
    "\n",
    "def get_real_obs():\n",
    "    \n",
    "    set_state(actual_q)\n",
    "    \n",
    "    real_pos = pose.copy()\n",
    "    \n",
    "    x_mat = sim.data.get_body_xmat(\"gripper_dummy_heg\")\n",
    "    rpy =  normalize_rad(rotations.mat2euler(x_mat))\n",
    "\n",
    "    obs = numpy.concatenate([\n",
    "                x_mat.dot(real_pos), x_mat.dot(normalize_rad(rpy-goal[3:])), force_scale*ft_values.copy()\n",
    "            ])\n",
    "    return obs"
   ]
  },
  {
   "cell_type": "markdown",
   "metadata": {},
   "source": [
    "ROS"
   ]
  },
  {
   "cell_type": "code",
   "execution_count": 10,
   "metadata": {},
   "outputs": [],
   "source": [
    "def goal_distance(obs, goal):\n",
    "    '''Compute distance between TCP and Goal'''\n",
    "    obs = obs[:6]\n",
    "    assert obs.shape == goal.shape\n",
    "    return numpy.linalg.norm(obs*numpy.array([1, 1, 1, 0.3, 0.3, 0.3]), axis=-1)\n",
    "\n",
    "def compute_reward(obs, goal):\n",
    "    d = goal_distance(obs,goal)\n",
    "    f = numpy.absolute(obs[7]) + numpy.absolute(obs[8]) + numpy.absolute(obs[9])\n",
    "    rew = R1 * (-d) + R2 *(-f)\n",
    "    return rew\n",
    "\n",
    "def is_success(obs):\n",
    "    distance = numpy.absolute(obs[0]) + numpy.absolute(obs[1]) + numpy.absolute(obs[2])\n",
    "    if distance < reality_distance_threshold:\n",
    "        return True\n",
    "    else:\n",
    "        return False"
   ]
  },
  {
   "cell_type": "code",
   "execution_count": 11,
   "metadata": {},
   "outputs": [],
   "source": [
    "# ROS control commands\n",
    "def control(q):\n",
    "    '''Controlling the Universal Robot UR10 JointGroupPositionController'''\n",
    "    global ctrl_q\n",
    "    command = Float64MultiArray()\n",
    "    command.data = q\n",
    "    control_publisher.publish(command)\n",
    "    ctrl_q = q.copy()\n",
    "    \n",
    "def traj_control(q):\n",
    "    #dt = 0.025\n",
    "    global ctrl_q\n",
    "    command = JointTrajectory()\n",
    "    point = JointTrajectoryPoint()\n",
    "    \n",
    "    #command.header.stamp = rospy.Time.now()\n",
    "    #command.header.frame_id = \"DRL_UR10\"\n",
    "    #command.joint_names = [\"elbow_joint\", \"shoulder_lift_joint\", \"shoulder_pan_joint\", \"wrist_1_joint\", \"wrist_2_joint\", \"wrist_3_joint\"]\n",
    "    \n",
    "    #command.header.stamp = rospy.Time.now()\n",
    "    command.header.frame_id = \"DRL_UR10\"\n",
    "    command.joint_names.append(\"shoulder_pan_joint\")\n",
    "    command.joint_names.append(\"shoulder_lift_joint\")\n",
    "    command.joint_names.append(\"elbow_joint\")\n",
    "    command.joint_names.append(\"wrist_1_joint\")\n",
    "    command.joint_names.append(\"wrist_2_joint\")\n",
    "    command.joint_names.append(\"wrist_3_joint\")\n",
    "    \n",
    "\n",
    "    point.positions.append(q[0])\n",
    "    point.positions.append(q[1])\n",
    "    point.positions.append(q[2])\n",
    "    point.positions.append(q[3])\n",
    "    point.positions.append(q[4])\n",
    "    point.positions.append(q[5])\n",
    "    \n",
    "    command.points.append(point)\n",
    "    command.points[0].time_from_start=rospy.Duration.from_sec(dt)\n",
    "    \n",
    "    traj_control_publisher.publish(command)\n",
    "    ctrl_q = q.copy()\n",
    "    \n",
    "def static_approach():\n",
    "    \n",
    "    waypoint0 = numpy.array([1.6256170272827148, -0.9155753294574183, 1.5307668447494507, -0.6977546850787562, 1.5475375652313232, 0.011224725283682346])[[2,1,0,3,4,5]]\n",
    "    waypoint1 = numpy.array([2.47381329536438, -1.4324410597430628, 1.5743204355239868, -1.0292657057391565, 1.5910834074020386, 0.011859889142215252])[[2,1,0,3,4,5]]\n",
    "    waypoint2 = numpy.array([2.519468069076538, -1.6841238180743616, 0.13313426077365875, -0.8226664702044886, 1.7688652276992798, 0.014099815860390663])[[2,1,0,3,4,5]]\n",
    "    waypoint3 = numpy.array([2.1001405715942383, -1.3000262419330042, 7.190534961409867e-05, -0.7999804655658167, 1.5709056854248047, -3.5587941304981996e-05])[[2,1,0,3,4,5]]\n",
    "    \n",
    "    dt_static = 2\n",
    "    command = JointTrajectory()\n",
    "    point0 = JointTrajectoryPoint()\n",
    "    point1 = JointTrajectoryPoint()\n",
    "    point2 = JointTrajectoryPoint()\n",
    "    point3 = JointTrajectoryPoint()\n",
    "    \n",
    "    command.header.stamp = rospy.Time.now()\n",
    "    command.header.frame_id = \"DRL_UR10\"\n",
    "    command.joint_names.append(\"shoulder_pan_joint\")\n",
    "    command.joint_names.append(\"shoulder_lift_joint\")\n",
    "    command.joint_names.append(\"elbow_joint\")\n",
    "    command.joint_names.append(\"wrist_1_joint\")\n",
    "    command.joint_names.append(\"wrist_2_joint\")\n",
    "    command.joint_names.append(\"wrist_3_joint\")\n",
    "    \n",
    "    point0.positions.append(waypoint0[0])\n",
    "    point0.positions.append(waypoint0[1])\n",
    "    point0.positions.append(waypoint0[2])\n",
    "    point0.positions.append(waypoint0[3])\n",
    "    point0.positions.append(waypoint0[4])\n",
    "    point0.positions.append(waypoint0[5])\n",
    "    \n",
    "    #command.points.append(point0)\n",
    "    \n",
    "    point1.positions.append(waypoint1[0])\n",
    "    point1.positions.append(waypoint1[1])\n",
    "    point1.positions.append(waypoint1[2])\n",
    "    point1.positions.append(waypoint1[3])\n",
    "    point1.positions.append(waypoint1[4])\n",
    "    point1.positions.append(waypoint1[5])\n",
    "    \n",
    "    command.points.append(point1)\n",
    "    command.points[0].time_from_start=rospy.Duration.from_sec(dt_static)\n",
    "    \n",
    "    point2.positions.append(waypoint2[0])\n",
    "    point2.positions.append(waypoint2[1])\n",
    "    point2.positions.append(waypoint2[2])\n",
    "    point2.positions.append(waypoint2[3])\n",
    "    point2.positions.append(waypoint2[4])\n",
    "    point2.positions.append(waypoint2[5])\n",
    "    \n",
    "    command.points.append(point2)\n",
    "    command.points[1].time_from_start=rospy.Duration.from_sec(2*dt_static)\n",
    "    \n",
    "    point3.positions.append(waypoint3[0])\n",
    "    point3.positions.append(waypoint3[1])\n",
    "    point3.positions.append(waypoint3[2])\n",
    "    point3.positions.append(waypoint3[3])\n",
    "    point3.positions.append(waypoint3[4])\n",
    "    point3.positions.append(waypoint3[5])\n",
    "    \n",
    "    command.points.append(point3)\n",
    "    command.points[2].time_from_start=rospy.Duration.from_sec(2.5*dt_static)\n",
    "    \n",
    "    traj_control_publisher.publish(command)\n",
    "    \n",
    "def ft_zero():\n",
    "    '''Zeroes the Robotiq FT300 force torque sensor by sending an ur_script via UR Secondary Interface'''\n",
    "    zero_sensor_urscript = 'sec ft_set_zero():' + '\\n' + '\\t' + 'if(socket_open(\"127.0.0.1\", 63350, \"acc\")):' \\\n",
    "          + '\\n' + '\\t' + '\\t' + 'socket_send_string(\"SET ZRO\", \"acc\")' \\\n",
    "         + '\\n' + '\\t' + '\\t' + 'socket_close(\"acc\")' + '\\n' + '\\t' + 'end' + '\\n' + 'end' + '\\n'\n",
    "    ft_zero_publisher.publish(zero_sensor_urscript)"
   ]
  },
  {
   "cell_type": "markdown",
   "metadata": {},
   "source": [
    "# Creation"
   ]
  },
  {
   "cell_type": "markdown",
   "metadata": {},
   "source": [
    "Simulation Environment (Gym)"
   ]
  },
  {
   "cell_type": "code",
   "execution_count": 12,
   "metadata": {},
   "outputs": [
    {
     "name": "stdout",
     "output_type": "stream",
     "text": [
      "Creating window glfw\n"
     ]
    }
   ],
   "source": [
    "model = mujoco_py.load_model_from_path(XML_MODEL_PATH)\n",
    "sim = mujoco_py.MjSim(model)\n",
    "q_init = numpy.array([0, -1.3, 2.1, -0.80, 1.5708, 0.0])\n",
    "\n",
    "ctrl_q = q_init\n",
    "set_state(q_init)\n",
    "\n",
    "viewer = mujoco_py.MjViewer(sim)\n",
    "viewer.render()"
   ]
  },
  {
   "cell_type": "code",
   "execution_count": 13,
   "metadata": {},
   "outputs": [
    {
     "name": "stdout",
     "output_type": "stream",
     "text": [
      "[ 0.17736257 -0.48890026  0.00719308 -1.5719076  -1.57092218 -1.59323694\n",
      "  0.          0.          0.          0.          0.          0.        ]\n",
      "[ 1.1843   -0.826059  0.9966  ] [-1.57079633e+00  3.67320510e-06  3.14159265e+00]\n"
     ]
    }
   ],
   "source": [
    "x_pos = sim.data.get_body_xpos(\"gripper_dummy_heg\")\n",
    "x_mat = sim.data.get_body_xmat(\"gripper_dummy_heg\")\n",
    "rpy =  normalize_rad(rotations.mat2euler(x_mat))\n",
    "print(get_obs())\n",
    "print(x_pos, rpy)"
   ]
  },
  {
   "cell_type": "markdown",
   "metadata": {},
   "source": [
    "ROS-nodes"
   ]
  },
  {
   "cell_type": "code",
   "execution_count": 14,
   "metadata": {},
   "outputs": [],
   "source": [
    "rospy.init_node(\"DRL_AI4RoMoCo\", anonymous=True)\n",
    "rospy.Subscriber(\"/joint_states\", JointState, q_callback)\n",
    "rospy.Subscriber(\"/ft300_force_torque\", WrenchStamped, ft_callback)\n",
    "rospy.Subscriber(\"/pose_estimation\", EstimatedPose, pose_callback)\n",
    "#rospy.Subscriber(\"/observation\", CustomVector, observation_callback)\n",
    "control_publisher = rospy.Publisher(\"/joint_group_position_controller/command\", Float64MultiArray, queue_size=1)\n",
    "#traj_control_publisher = rospy.Publisher(\"/pos_traj_controller/command\", JointTrajectory, queue_size=1)\n",
    "ft_zero_publisher = rospy.Publisher(\"/ur_hardware_interface/script_command\", String, queue_size=1)\n",
    "rate = rospy.Rate(control_rate)"
   ]
  },
  {
   "cell_type": "markdown",
   "metadata": {},
   "source": [
    "Data structures for storing and saving data"
   ]
  },
  {
   "cell_type": "code",
   "execution_count": 15,
   "metadata": {},
   "outputs": [
    {
     "data": {
      "text/plain": [
       "array([ 1.26596412e-01, -2.51379757e-04,  3.27048706e-03,  6.12148515e-04,\n",
       "        5.20409270e-03, -2.47894212e-02,  4.00000000e+00,  3.33000000e+00,\n",
       "       -6.53000000e+00,  7.00000000e-02, -1.27000000e-01, -2.40000000e-02])"
      ]
     },
     "execution_count": 15,
     "metadata": {},
     "output_type": "execute_result"
    }
   ],
   "source": [
    "#observations = get_real_obs()\n",
    "real_observations = get_real_obs()\n",
    "sim_observations = get_obs()\n",
    "real_observations"
   ]
  },
  {
   "cell_type": "code",
   "execution_count": 16,
   "metadata": {},
   "outputs": [
    {
     "data": {
      "text/plain": [
       "array([ 1.22435790e-01,  2.35695546e-03, -3.37415626e-03,  6.01433638e-04,\n",
       "        5.18010593e-03, -2.47528492e-02,  4.00000000e+00,  3.33000000e+00,\n",
       "       -6.53000000e+00,  7.00000000e-02, -1.27000000e-01, -2.40000000e-02])"
      ]
     },
     "execution_count": 16,
     "metadata": {},
     "output_type": "execute_result"
    }
   ],
   "source": [
    "sim_observations"
   ]
  },
  {
   "cell_type": "code",
   "execution_count": 54,
   "metadata": {},
   "outputs": [],
   "source": [
    "trans_xs = list()\n",
    "trans_ys = list()\n",
    "trans_zs = list()\n",
    "rot_xs = list()\n",
    "rot_ys = list()\n",
    "rot_zs = list()\n",
    "\n",
    "Fxs = list()\n",
    "Fys = list()\n",
    "Fzs = list()\n",
    "Mxs = list()\n",
    "Mys = list()\n",
    "Mzs = list()\n",
    "\n",
    "rewards = list()\n",
    "success = False\n",
    "\n",
    "step = 0"
   ]
  },
  {
   "cell_type": "markdown",
   "metadata": {},
   "source": [
    "# Run On Hardware"
   ]
  },
  {
   "cell_type": "code",
   "execution_count": 55,
   "metadata": {},
   "outputs": [
    {
     "ename": "KeyboardInterrupt",
     "evalue": "",
     "output_type": "error",
     "traceback": [
      "\u001b[0;31m---------------------------------------------------------------------------\u001b[0m",
      "\u001b[0;31mKeyboardInterrupt\u001b[0m                         Traceback (most recent call last)",
      "\u001b[0;32m<ipython-input-55-357ae22f00ba>\u001b[0m in \u001b[0;36m<module>\u001b[0;34m\u001b[0m\n\u001b[1;32m     36\u001b[0m         \u001b[0msuccess\u001b[0m \u001b[0;34m=\u001b[0m \u001b[0;32mTrue\u001b[0m\u001b[0;34m\u001b[0m\u001b[0;34m\u001b[0m\u001b[0m\n\u001b[1;32m     37\u001b[0m         \u001b[0;32mbreak\u001b[0m\u001b[0;34m\u001b[0m\u001b[0;34m\u001b[0m\u001b[0m\n\u001b[0;32m---> 38\u001b[0;31m     \u001b[0mrate\u001b[0m\u001b[0;34m.\u001b[0m\u001b[0msleep\u001b[0m\u001b[0;34m(\u001b[0m\u001b[0;34m)\u001b[0m\u001b[0;34m\u001b[0m\u001b[0;34m\u001b[0m\u001b[0m\n\u001b[0m",
      "\u001b[0;32m/opt/ros/melodic/lib/python2.7/dist-packages/rospy/timer.py\u001b[0m in \u001b[0;36msleep\u001b[0;34m(self)\u001b[0m\n\u001b[1;32m    101\u001b[0m         \u001b[0mcurr_time\u001b[0m \u001b[0;34m=\u001b[0m \u001b[0mrospy\u001b[0m\u001b[0;34m.\u001b[0m\u001b[0mrostime\u001b[0m\u001b[0;34m.\u001b[0m\u001b[0mget_rostime\u001b[0m\u001b[0;34m(\u001b[0m\u001b[0;34m)\u001b[0m\u001b[0;34m\u001b[0m\u001b[0;34m\u001b[0m\u001b[0m\n\u001b[1;32m    102\u001b[0m         \u001b[0;32mtry\u001b[0m\u001b[0;34m:\u001b[0m\u001b[0;34m\u001b[0m\u001b[0;34m\u001b[0m\u001b[0m\n\u001b[0;32m--> 103\u001b[0;31m             \u001b[0msleep\u001b[0m\u001b[0;34m(\u001b[0m\u001b[0mself\u001b[0m\u001b[0;34m.\u001b[0m\u001b[0m_remaining\u001b[0m\u001b[0;34m(\u001b[0m\u001b[0mcurr_time\u001b[0m\u001b[0;34m)\u001b[0m\u001b[0;34m)\u001b[0m\u001b[0;34m\u001b[0m\u001b[0;34m\u001b[0m\u001b[0m\n\u001b[0m\u001b[1;32m    104\u001b[0m         \u001b[0;32mexcept\u001b[0m \u001b[0mrospy\u001b[0m\u001b[0;34m.\u001b[0m\u001b[0mexceptions\u001b[0m\u001b[0;34m.\u001b[0m\u001b[0mROSTimeMovedBackwardsException\u001b[0m\u001b[0;34m:\u001b[0m\u001b[0;34m\u001b[0m\u001b[0;34m\u001b[0m\u001b[0m\n\u001b[1;32m    105\u001b[0m             \u001b[0;32mif\u001b[0m \u001b[0;32mnot\u001b[0m \u001b[0mself\u001b[0m\u001b[0;34m.\u001b[0m\u001b[0m_reset\u001b[0m\u001b[0;34m:\u001b[0m\u001b[0;34m\u001b[0m\u001b[0;34m\u001b[0m\u001b[0m\n",
      "\u001b[0;32m/opt/ros/melodic/lib/python2.7/dist-packages/rospy/timer.py\u001b[0m in \u001b[0;36msleep\u001b[0;34m(duration)\u001b[0m\n\u001b[1;32m    132\u001b[0m             \u001b[0;32mreturn\u001b[0m\u001b[0;34m\u001b[0m\u001b[0;34m\u001b[0m\u001b[0m\n\u001b[1;32m    133\u001b[0m         \u001b[0;32melse\u001b[0m\u001b[0;34m:\u001b[0m\u001b[0;34m\u001b[0m\u001b[0;34m\u001b[0m\u001b[0m\n\u001b[0;32m--> 134\u001b[0;31m             \u001b[0mrospy\u001b[0m\u001b[0;34m.\u001b[0m\u001b[0mrostime\u001b[0m\u001b[0;34m.\u001b[0m\u001b[0mwallsleep\u001b[0m\u001b[0;34m(\u001b[0m\u001b[0mduration\u001b[0m\u001b[0;34m)\u001b[0m\u001b[0;34m\u001b[0m\u001b[0;34m\u001b[0m\u001b[0m\n\u001b[0m\u001b[1;32m    135\u001b[0m     \u001b[0;32melse\u001b[0m\u001b[0;34m:\u001b[0m\u001b[0;34m\u001b[0m\u001b[0;34m\u001b[0m\u001b[0m\n\u001b[1;32m    136\u001b[0m         \u001b[0minitial_rostime\u001b[0m \u001b[0;34m=\u001b[0m \u001b[0mrospy\u001b[0m\u001b[0;34m.\u001b[0m\u001b[0mrostime\u001b[0m\u001b[0;34m.\u001b[0m\u001b[0mget_rostime\u001b[0m\u001b[0;34m(\u001b[0m\u001b[0;34m)\u001b[0m\u001b[0;34m\u001b[0m\u001b[0;34m\u001b[0m\u001b[0m\n",
      "\u001b[0;32m/opt/ros/melodic/lib/python2.7/dist-packages/rospy/rostime.py\u001b[0m in \u001b[0;36mwallsleep\u001b[0;34m(duration)\u001b[0m\n\u001b[1;32m    275\u001b[0m             \u001b[0;32mpass\u001b[0m\u001b[0;34m\u001b[0m\u001b[0;34m\u001b[0m\u001b[0m\n\u001b[1;32m    276\u001b[0m     \u001b[0;32melse\u001b[0m\u001b[0;34m:\u001b[0m\u001b[0;34m\u001b[0m\u001b[0;34m\u001b[0m\u001b[0m\n\u001b[0;32m--> 277\u001b[0;31m         \u001b[0mtime\u001b[0m\u001b[0;34m.\u001b[0m\u001b[0msleep\u001b[0m\u001b[0;34m(\u001b[0m\u001b[0mduration\u001b[0m\u001b[0;34m)\u001b[0m\u001b[0;34m\u001b[0m\u001b[0;34m\u001b[0m\u001b[0m\n\u001b[0m",
      "\u001b[0;31mKeyboardInterrupt\u001b[0m: "
     ]
    }
   ],
   "source": [
    "done = False\n",
    "ft_zero()\n",
    "\n",
    "time.sleep(2.5)\n",
    "while not done:\n",
    "    #obs = get_real_obs()\n",
    "    obs = get_real_obs()\n",
    "    for i in range(1):\n",
    "        #dx = max_limit * action.copy()\n",
    "        #rot_mat = sim.data.get_body_xmat('gripper_dummy_heg')\n",
    "        #dx_ = numpy.concatenate([rot_mat.dot(dx[:3]), rot_mat.dot(dx[3:])])  ## transform to right coordinate system\n",
    "        #dq  = get_dq(dx_)\n",
    "        #q = ctrl_q + dq\n",
    "        #control(q)\n",
    "        #traj_control(q)\n",
    "        \n",
    "        trans_xs.append(obs[0].copy())\n",
    "        trans_ys.append(obs[1].copy())\n",
    "        trans_zs.append(obs[2].copy())\n",
    "        rot_xs.append(obs[3].copy())\n",
    "        rot_ys.append(obs[4].copy())\n",
    "        rot_zs.append(obs[5].copy())\n",
    "        \n",
    "        Fxs.append(obs[6].copy())\n",
    "        Fys.append(obs[7].copy())\n",
    "        Fzs.append(obs[8].copy())\n",
    "        Mxs.append(obs[9].copy())\n",
    "        Mys.append(obs[10].copy())\n",
    "        Mzs.append(obs[11].copy())\n",
    "        \n",
    "        rewards.append(compute_reward(obs, goal))\n",
    "        \n",
    "        step += 1\n",
    "    if is_success(obs) or step >= reality_horizon:\n",
    "        rewards_rec.append(R_success)\n",
    "        success = True\n",
    "        break\n",
    "    rate.sleep()"
   ]
  },
  {
   "cell_type": "code",
   "execution_count": 56,
   "metadata": {},
   "outputs": [
    {
     "data": {
      "text/plain": [
       "[<matplotlib.lines.Line2D at 0x7fe628481eb8>]"
      ]
     },
     "execution_count": 56,
     "metadata": {},
     "output_type": "execute_result"
    },
    {
     "data": {
      "image/png": "[encoded data removed]",
      "text/plain": [
       "<Figure size 432x288 with 1 Axes>"
      ]
     },
     "metadata": {
      "needs_background": "light"
     },
     "output_type": "display_data"
    }
   ],
   "source": [
    "plt.plot(Fxs)"
   ]
  },
  {
   "cell_type": "code",
   "execution_count": 57,
   "metadata": {},
   "outputs": [
    {
     "data": {
      "text/plain": [
       "[<matplotlib.lines.Line2D at 0x7fe628463f98>]"
      ]
     },
     "execution_count": 57,
     "metadata": {},
     "output_type": "execute_result"
    },
    {
     "data": {
      "image/png": "[encoded data removed]",
      "text/plain": [
       "<Figure size 432x288 with 1 Axes>"
      ]
     },
     "metadata": {
      "needs_background": "light"
     },
     "output_type": "display_data"
    }
   ],
   "source": [
    "plt.plot(Fys)"
   ]
  },
  {
   "cell_type": "code",
   "execution_count": 58,
   "metadata": {},
   "outputs": [
    {
     "data": {
      "text/plain": [
       "[<matplotlib.lines.Line2D at 0x7fe6283d1b38>]"
      ]
     },
     "execution_count": 58,
     "metadata": {},
     "output_type": "execute_result"
    },
    {
     "data": {
      "image/png": "[encoded data removed]",
      "text/plain": [
       "<Figure size 432x288 with 1 Axes>"
      ]
     },
     "metadata": {
      "needs_background": "light"
     },
     "output_type": "display_data"
    }
   ],
   "source": [
    "plt.plot(Fzs)"
   ]
  },
  {
   "cell_type": "markdown",
   "metadata": {},
   "source": [
    "# Saving"
   ]
  },
  {
   "cell_type": "code",
   "execution_count": 31,
   "metadata": {},
   "outputs": [],
   "source": [
    "save_dict = {\n",
    "    \"Pose\" : {\n",
    "        \"trans_x\" : trans_xs,\n",
    "        \"trans_y\" : trans_ys,\n",
    "        \"trans_z\" : trans_zs,\n",
    "        \"rot_x\" : rot_xs,\n",
    "        \"rot_y\" : rot_ys,\n",
    "        \"rot_z\" : rot_zs,\n",
    "    },\n",
    "    \"Force\" : {\n",
    "        \"Fx\"  : Fxs,\n",
    "        \"Fy\"  : Fzs,\n",
    "        \"Fz\"  : Fys,\n",
    "    },\n",
    "    \"Torque\" : {\n",
    "        \"Mx\"  : Mxs,\n",
    "        \"My\"  : Mys,\n",
    "        \"Mz\"  : Mzs,\n",
    "    },\n",
    "    \"Reward\" : rewards,\n",
    "    \"Success\" : success,\n",
    "    \"Episode_Length\" : step,\n",
    "}\n",
    "\n",
    "\n",
    "filename = \"{}\".format(take).zfill(4)+\"_{}.json\".format(AGENT)\n",
    "with open(os.path.join(*[SAVE_PATH, filename]), 'w') as file:\n",
    "    json.dump(save_dict, file)\n",
    "    file.close()"
   ]
  },
  {
   "cell_type": "markdown",
   "metadata": {},
   "source": [
    "# Test Plots"
   ]
  },
  {
   "cell_type": "code",
   "execution_count": 28,
   "metadata": {},
   "outputs": [
    {
     "ename": "NameError",
     "evalue": "name 'poses_rec' is not defined",
     "output_type": "error",
     "traceback": [
      "\u001b[0;31m---------------------------------------------------------------------------\u001b[0m",
      "\u001b[0;31mNameError\u001b[0m                                 Traceback (most recent call last)",
      "\u001b[0;32m<ipython-input-28-f4b70aab0291>\u001b[0m in \u001b[0;36m<module>\u001b[0;34m\u001b[0m\n\u001b[0;32m----> 1\u001b[0;31m \u001b[0mposes_df\u001b[0m \u001b[0;34m=\u001b[0m \u001b[0mpandas\u001b[0m\u001b[0;34m.\u001b[0m\u001b[0mDataFrame\u001b[0m\u001b[0;34m(\u001b[0m\u001b[0mposes_rec\u001b[0m\u001b[0;34m,\u001b[0m \u001b[0mcolumns\u001b[0m\u001b[0;34m=\u001b[0m\u001b[0;34m[\u001b[0m\u001b[0;34m\"vz\"\u001b[0m\u001b[0;34m,\u001b[0m\u001b[0;34m\"lr\"\u001b[0m\u001b[0;34m,\u001b[0m\u001b[0;34m\"hr\"\u001b[0m\u001b[0;34m]\u001b[0m\u001b[0;34m)\u001b[0m\u001b[0;34m\u001b[0m\u001b[0;34m\u001b[0m\u001b[0m\n\u001b[0m\u001b[1;32m      2\u001b[0m \u001b[0mft_values_df\u001b[0m \u001b[0;34m=\u001b[0m \u001b[0mpandas\u001b[0m\u001b[0;34m.\u001b[0m\u001b[0mDataFrame\u001b[0m\u001b[0;34m(\u001b[0m\u001b[0mft_values_rec\u001b[0m\u001b[0;34m,\u001b[0m \u001b[0mcolumns\u001b[0m\u001b[0;34m=\u001b[0m\u001b[0;34m[\u001b[0m\u001b[0;34m\"Fx\"\u001b[0m\u001b[0;34m,\u001b[0m \u001b[0;34m\"Fy\"\u001b[0m\u001b[0;34m,\u001b[0m \u001b[0;34m\"Fz\"\u001b[0m\u001b[0;34m,\u001b[0m \u001b[0;34m\"Mx\"\u001b[0m\u001b[0;34m,\u001b[0m \u001b[0;34m\"My\"\u001b[0m\u001b[0;34m,\u001b[0m \u001b[0;34m\"Mz\"\u001b[0m\u001b[0;34m]\u001b[0m\u001b[0;34m)\u001b[0m\u001b[0;34m\u001b[0m\u001b[0;34m\u001b[0m\u001b[0m\n",
      "\u001b[0;31mNameError\u001b[0m: name 'poses_rec' is not defined"
     ]
    }
   ],
   "source": [
    "poses_df = pandas.DataFrame(poses_rec, columns=[\"vz\",\"lr\",\"hr\"])\n",
    "ft_values_df = pandas.DataFrame(ft_values_rec, columns=[\"Fx\", \"Fy\", \"Fz\", \"Mx\", \"My\", \"Mz\"])"
   ]
  },
  {
   "cell_type": "code",
   "execution_count": 34,
   "metadata": {},
   "outputs": [
    {
     "data": {
      "text/plain": [
       "<AxesSubplot:>"
      ]
     },
     "execution_count": 34,
     "metadata": {},
     "output_type": "execute_result"
    },
    {
     "data": {
      "image/png": "[encoded data removed]",
      "text/plain": [
       "<Figure size 432x288 with 1 Axes>"
      ]
     },
     "metadata": {
      "needs_background": "light"
     },
     "output_type": "display_data"
    }
   ],
   "source": [
    "poses_df.plot()"
   ]
  },
  {
   "cell_type": "code",
   "execution_count": 37,
   "metadata": {},
   "outputs": [
    {
     "data": {
      "text/plain": [
       "<AxesSubplot:>"
      ]
     },
     "execution_count": 37,
     "metadata": {},
     "output_type": "execute_result"
    },
    {
     "data": {
      "image/png": "[encoded data removed]",
      "text/plain": [
       "<Figure size 432x288 with 1 Axes>"
      ]
     },
     "metadata": {
      "needs_background": "light"
     },
     "output_type": "display_data"
    }
   ],
   "source": [
    "ft_values_df[\"Fx\"].plot()"
   ]
  },
  {
   "cell_type": "markdown",
   "metadata": {},
   "source": [
    "# !!! Save recorded Data !!!"
   ]
  }
 ],
 "metadata": {
  "kernelspec": {
   "display_name": "Python 3",
   "language": "python",
   "name": "python3"
  },
  "language_info": {
   "codemirror_mode": {
    "name": "ipython",
    "version": 3
   },
   "file_extension": ".py",
   "mimetype": "text/x-python",
   "name": "python",
   "nbconvert_exporter": "python",
   "pygments_lexer": "ipython3",
   "version": "3.7.6"
  }
 },
 "nbformat": 4,
 "nbformat_minor": 4
}
