{
 "cells": [
  {
   "cell_type": "code",
   "execution_count": 1,
   "metadata": {},
   "outputs": [],
   "source": [
    "take = 555"
   ]
  },
  {
   "cell_type": "markdown",
   "metadata": {
    "scrolled": true
   },
   "source": [
    "# Description"
   ]
  },
  {
   "cell_type": "markdown",
   "metadata": {},
   "source": [
    "Script to run the agent on the hardware\n",
    "\n",
    "0. Description\n",
    "1. Imports\n",
    "2. Paths\n",
    "3. Configuration\n",
    "4. Functions\n",
    "5. Creation\n",
    "6. Run on Hardware\n",
    "7. Save recorded Data\n"
   ]
  },
  {
   "cell_type": "markdown",
   "metadata": {},
   "source": [
    "# Specification"
   ]
  },
  {
   "cell_type": "code",
   "execution_count": 2,
   "metadata": {},
   "outputs": [],
   "source": [
    "control_rate = 25 #Hz\n",
    "dt = 0.1\n",
    "model_number = 999\n",
    "max_limit = 0.0002 #0.0001 0.000085\n",
    "R1 = 1\n",
    "R2 = 0.005\n",
    "R_success = 250\n",
    "reality_distance_threshold = 0.0075\n",
    "\n",
    "reality_horizon = 3000"
   ]
  },
  {
   "cell_type": "markdown",
   "metadata": {},
   "source": [
    "# Imports"
   ]
  },
  {
   "cell_type": "code",
   "execution_count": 3,
   "metadata": {
    "scrolled": true
   },
   "outputs": [
    {
     "name": "stderr",
     "output_type": "stream",
     "text": [
      "In /home/lars/.local/lib/python3.6/site-packages/matplotlib/mpl-data/stylelib/_classic_test.mplstyle: \n",
      "The text.latex.preview rcparam was deprecated in Matplotlib 3.3 and will be removed two minor releases later.\n",
      "In /home/lars/.local/lib/python3.6/site-packages/matplotlib/mpl-data/stylelib/_classic_test.mplstyle: \n",
      "The mathtext.fallback_to_cm rcparam was deprecated in Matplotlib 3.3 and will be removed two minor releases later.\n",
      "In /home/lars/.local/lib/python3.6/site-packages/matplotlib/mpl-data/stylelib/_classic_test.mplstyle: Support for setting the 'mathtext.fallback_to_cm' rcParam is deprecated since 3.3 and will be removed two minor releases later; use 'mathtext.fallback : 'cm' instead.\n",
      "In /home/lars/.local/lib/python3.6/site-packages/matplotlib/mpl-data/stylelib/_classic_test.mplstyle: \n",
      "The validate_bool_maybe_none function was deprecated in Matplotlib 3.3 and will be removed two minor releases later.\n",
      "In /home/lars/.local/lib/python3.6/site-packages/matplotlib/mpl-data/stylelib/_classic_test.mplstyle: \n",
      "The savefig.jpeg_quality rcparam was deprecated in Matplotlib 3.3 and will be removed two minor releases later.\n",
      "In /home/lars/.local/lib/python3.6/site-packages/matplotlib/mpl-data/stylelib/_classic_test.mplstyle: \n",
      "The keymap.all_axes rcparam was deprecated in Matplotlib 3.3 and will be removed two minor releases later.\n",
      "In /home/lars/.local/lib/python3.6/site-packages/matplotlib/mpl-data/stylelib/_classic_test.mplstyle: \n",
      "The animation.avconv_path rcparam was deprecated in Matplotlib 3.3 and will be removed two minor releases later.\n",
      "In /home/lars/.local/lib/python3.6/site-packages/matplotlib/mpl-data/stylelib/_classic_test.mplstyle: \n",
      "The animation.avconv_args rcparam was deprecated in Matplotlib 3.3 and will be removed two minor releases later.\n",
      "/home/lars/.local/lib/python3.6/site-packages/tensorflow/python/framework/dtypes.py:516: FutureWarning: Passing (type, 1) or '1type' as a synonym of type is deprecated; in a future version of numpy, it will be understood as (type, (1,)) / '(1,)type'.\n",
      "  _np_qint8 = np.dtype([(\"qint8\", np.int8, 1)])\n",
      "/home/lars/.local/lib/python3.6/site-packages/tensorflow/python/framework/dtypes.py:517: FutureWarning: Passing (type, 1) or '1type' as a synonym of type is deprecated; in a future version of numpy, it will be understood as (type, (1,)) / '(1,)type'.\n",
      "  _np_quint8 = np.dtype([(\"quint8\", np.uint8, 1)])\n",
      "/home/lars/.local/lib/python3.6/site-packages/tensorflow/python/framework/dtypes.py:518: FutureWarning: Passing (type, 1) or '1type' as a synonym of type is deprecated; in a future version of numpy, it will be understood as (type, (1,)) / '(1,)type'.\n",
      "  _np_qint16 = np.dtype([(\"qint16\", np.int16, 1)])\n",
      "/home/lars/.local/lib/python3.6/site-packages/tensorflow/python/framework/dtypes.py:519: FutureWarning: Passing (type, 1) or '1type' as a synonym of type is deprecated; in a future version of numpy, it will be understood as (type, (1,)) / '(1,)type'.\n",
      "  _np_quint16 = np.dtype([(\"quint16\", np.uint16, 1)])\n",
      "/home/lars/.local/lib/python3.6/site-packages/tensorflow/python/framework/dtypes.py:520: FutureWarning: Passing (type, 1) or '1type' as a synonym of type is deprecated; in a future version of numpy, it will be understood as (type, (1,)) / '(1,)type'.\n",
      "  _np_qint32 = np.dtype([(\"qint32\", np.int32, 1)])\n",
      "/home/lars/.local/lib/python3.6/site-packages/tensorflow/python/framework/dtypes.py:525: FutureWarning: Passing (type, 1) or '1type' as a synonym of type is deprecated; in a future version of numpy, it will be understood as (type, (1,)) / '(1,)type'.\n",
      "  np_resource = np.dtype([(\"resource\", np.ubyte, 1)])\n",
      "/home/lars/.local/lib/python3.6/site-packages/tensorboard/compat/tensorflow_stub/dtypes.py:541: FutureWarning: Passing (type, 1) or '1type' as a synonym of type is deprecated; in a future version of numpy, it will be understood as (type, (1,)) / '(1,)type'.\n",
      "  _np_qint8 = np.dtype([(\"qint8\", np.int8, 1)])\n",
      "/home/lars/.local/lib/python3.6/site-packages/tensorboard/compat/tensorflow_stub/dtypes.py:542: FutureWarning: Passing (type, 1) or '1type' as a synonym of type is deprecated; in a future version of numpy, it will be understood as (type, (1,)) / '(1,)type'.\n",
      "  _np_quint8 = np.dtype([(\"quint8\", np.uint8, 1)])\n",
      "/home/lars/.local/lib/python3.6/site-packages/tensorboard/compat/tensorflow_stub/dtypes.py:543: FutureWarning: Passing (type, 1) or '1type' as a synonym of type is deprecated; in a future version of numpy, it will be understood as (type, (1,)) / '(1,)type'.\n",
      "  _np_qint16 = np.dtype([(\"qint16\", np.int16, 1)])\n",
      "/home/lars/.local/lib/python3.6/site-packages/tensorboard/compat/tensorflow_stub/dtypes.py:544: FutureWarning: Passing (type, 1) or '1type' as a synonym of type is deprecated; in a future version of numpy, it will be understood as (type, (1,)) / '(1,)type'.\n",
      "  _np_quint16 = np.dtype([(\"quint16\", np.uint16, 1)])\n",
      "/home/lars/.local/lib/python3.6/site-packages/tensorboard/compat/tensorflow_stub/dtypes.py:545: FutureWarning: Passing (type, 1) or '1type' as a synonym of type is deprecated; in a future version of numpy, it will be understood as (type, (1,)) / '(1,)type'.\n",
      "  _np_qint32 = np.dtype([(\"qint32\", np.int32, 1)])\n",
      "/home/lars/.local/lib/python3.6/site-packages/tensorboard/compat/tensorflow_stub/dtypes.py:550: FutureWarning: Passing (type, 1) or '1type' as a synonym of type is deprecated; in a future version of numpy, it will be understood as (type, (1,)) / '(1,)type'.\n",
      "  np_resource = np.dtype([(\"resource\", np.ubyte, 1)])\n"
     ]
    }
   ],
   "source": [
    "# General imports\n",
    "import os\n",
    "import time\n",
    "import datetime\n",
    "from os.path import expanduser\n",
    "import pandas\n",
    "import pickle\n",
    "import json\n",
    "import numpy\n",
    "from matplotlib import pyplot as plt\n",
    "\n",
    "# rllib imports\n",
    "import ray\n",
    "import ray.rllib.agents.ppo as ppo\n",
    "from ray.tune.registry import get_trainable_cls\n",
    "from ray.tune.registry import register_env\n",
    "from ray.rllib.env import MultiAgentEnv\n",
    "from ray.rllib.env.base_env import _DUMMY_AGENT_ID\n",
    "from ray.rllib.evaluation.worker_set import WorkerSet\n",
    "from ray.rllib.policy.sample_batch import DEFAULT_POLICY_ID\n",
    "from ray.rllib.utils.deprecation import deprecation_warning\n",
    "\n",
    "# Gym imports\n",
    "from gym.envs.robotics.ur10 import randomize\n",
    "from gym.envs.robotics.ur10 import pos_randomize\n",
    "from gym.envs.robotics import ur10_noisy_pd_env_mh\n",
    "from gym.envs.robotics import ur10_sim2real_pos_env\n",
    "from gym import utils\n",
    "from gym.envs.robotics import rotations, robot_custom_env_mh, utils\n",
    "from gym.envs.robotics import ur10_force_env_3\n",
    "from gym.envs.robotics import ur10_force_env\n",
    "\n",
    "# MuJoCo imports\n",
    "import mujoco_py\n",
    "\n",
    "# ROS imports\n",
    "import rospy\n",
    "from sensor_msgs.msg import JointState\n",
    "from std_msgs.msg import Float64MultiArray\n",
    "from std_msgs.msg import String\n",
    "from geometry_msgs.msg import WrenchStamped\n",
    "from trajectory_msgs.msg import JointTrajectory, JointTrajectoryPoint\n",
    "from realsense2_camera.msg import CustomVector\n",
    "from realsense2_camera.msg import EstimatedPose"
   ]
  },
  {
   "cell_type": "markdown",
   "metadata": {},
   "source": [
    "# Paths"
   ]
  },
  {
   "cell_type": "code",
   "execution_count": 4,
   "metadata": {},
   "outputs": [],
   "source": [
    "HOME_PATH = os.getenv(\"HOME\")\n",
    "PROJECT_PATH = os.path.join(*[HOME_PATH, \"DRL_AI4RoMoCo\"])\n",
    "SAVE_PATH = os.path.join(*[PROJECT_PATH, \"code\", \"data\",\"TEST_Reality\"])\n",
    "\n",
    "#XML_MODEL_PATH = os.path.join(*[HOME_PATH, \"DRL_AI4RoMoCo\", \"code\", \"environment\",\"UR10_single\",\"ur10_heg.xml\"])   #Force\n",
    "XML_MODEL_PATH = os.path.join(*[HOME_PATH, \"DRL_AI4RoMoCo\", \"code\", \"environment\",\"UR10_single_position\",\"ur10_heg_position.xml\"])   #Position\n",
    "\n",
    "env_config = \"reality_config_force.yml\"\n",
    "#checkpoint_number = 4950\n",
    "#model = \"PPO_NoisyPositionEnv_0_2020-09-18_20-14-55ej_cw9mo\"\n",
    "control_type = env_config.split(\"_\")[2].split(\".\")[0]\n",
    "\n",
    "ENV_CONFIG = os.path.join(*[HOME_PATH, \"AGENT_TESTS\", env_config])\n",
    "#ENV_CONFIG = os.path.join(*[HOME_PATH, \"AGENT_TESTS\", \"PPO_ForceEnv_0_2020-09-10_15-29-51_j1bhegb\", config])"
   ]
  },
  {
   "cell_type": "markdown",
   "metadata": {},
   "source": [
    "# Configuration"
   ]
  },
  {
   "cell_type": "markdown",
   "metadata": {},
   "source": [
    "Hardware - Environment (ROS)"
   ]
  },
  {
   "cell_type": "code",
   "execution_count": 5,
   "metadata": {},
   "outputs": [],
   "source": [
    "actual_q = numpy.zeros(6,)\n",
    "ft_values = numpy.zeros(6,)"
   ]
  },
  {
   "cell_type": "markdown",
   "metadata": {},
   "source": [
    "Simulation - Environment (MuJoCo, Gym)"
   ]
  },
  {
   "cell_type": "code",
   "execution_count": 6,
   "metadata": {},
   "outputs": [
    {
     "name": "stdout",
     "output_type": "stream",
     "text": [
      "[ 0.69423743 -0.83110109  1.17388998 -1.57161506  0.02185773 -3.14102438]\n"
     ]
    }
   ],
   "source": [
    "goal = numpy.array([0.69423743, -0.83110109,  1.17388998, -1.57161506,  0.02185773, -3.14102438])\n",
    "reward_type = \"dense\"\n",
    "distance_threshold = 0.002\n",
    "fail_threshold = 0.25\n",
    "punish_force = False\n",
    "punish_force_thresh = 20\n",
    "punish_force_factor = 0.001\n",
    "print(goal)"
   ]
  },
  {
   "cell_type": "code",
   "execution_count": 7,
   "metadata": {},
   "outputs": [],
   "source": [
    "initial_qpos_simpheg_conf2 = numpy.array([0, -1.3, 2.1, -0.80, 1.5708, 0])\n",
    "randomize_kwargs = {\n",
    "    'var_mass':     0,#0.5,\n",
    "    'var_damp':     0,#0.5,\n",
    "    'var_fr':       0,#0.5,\n",
    "    'var_grav_x_y': 0,#0.5,\n",
    "    'var_grav_z':   0,#1,\n",
    "    'var_body_pos': 0,#0.05,\n",
    "    'var_body_rot': 0,\n",
    "}"
   ]
  },
  {
   "cell_type": "markdown",
   "metadata": {},
   "source": [
    "Agent (ray, tune, rllib)"
   ]
  },
  {
   "cell_type": "code",
   "execution_count": 8,
   "metadata": {},
   "outputs": [],
   "source": [
    "checkpoint_model1 = os.path.join(*[HOME_PATH, \"DRL_SetBot-RearVentilation\", \"final_models\",\n",
    "                            \"model1\", \"checkpoint-2120\"])\n",
    "checkpoint_model2 = os.path.join(*[HOME_PATH, \"DRL_SetBot-RearVentilation\", \"final_models\",\n",
    "                            \"model2\", \"checkpoint-3440\"])\n",
    "checkpoint_model3 = os.path.join(*[HOME_PATH, \"DRL_SetBot-RearVentilation\", \"final_models\",\n",
    "                            \"model3\", \"checkpoint-3030\"])\n",
    "checkpoint_model4 = os.path.join(*[HOME_PATH, \"DRL_SetBot-RearVentilation\", \"final_models\",\n",
    "                            \"model4\", \"checkpoint-3590\"])\n",
    "checkpoint_model5 = os.path.join(*[HOME_PATH, \"DRL_SetBot-RearVentilation\", \"final_models\",\n",
    "                            \"model5\", \"checkpoint-4410\"])\n",
    "\n",
    "#checkpoint_lars = os.path.join(*[HOME_PATH, \"AGENT_TESTS\", \"PPO_NoisyVaryEnv_0_2020-09-15_13-53-11d046bzlf\", \"checkpoint_2675\", \"checkpoint-2675\"]) #Fail\n",
    "#checkpoint_lars = os.path.join(*[HOME_PATH, \"AGENT_TESTS\", \"PPO_NoisyVaryEnv_0_2020-09-16_20-33-05bjvfub2b\", \"checkpoint_4275\", \"checkpoint-4275\"]) #works\n",
    "#checkpoint_lars = os.path.join(*[HOME_PATH, \"AGENT_TESTS\", \"PPO_NoisyPositionEnv_0_2020-09-18_20-14-55ej_cw9mo\", \"checkpoint_4950\", \"checkpoint-4950\"]) #Position\n",
    "#checkpoint_lars = os.path.join(*[HOME_PATH, \"AGENT_TESTS\", \"PPO_NoisyEnv_0_2020-09-22_19-50-24bt7wx44r\", \"checkpoint_1175\", \"checkpoint-1175\"]) # New and corrective\n",
    "#checkpoint_lars = os.path.join(*[HOME_PATH, \"AGENT_TESTS\", \"PPO_NoisyEnv_0_2020-09-22_13-53-53m9s7_v8d\", \"checkpoint_220\", \"checkpoint-220\"]) # New and corrective\n",
    "#checkpoint_lars = os.path.join(*[HOME_PATH, \"AGENT_TESTS\", \"PPO_NoisyEnv_0_2020-09-17_16-12-44a70jmqsn\", \"checkpoint_3150\", \"checkpoint-3150\"]) #works\n",
    "#checkpoint_lars = os.path.join(*[HOME_PATH, \"AGENT_TESTS\", \"PPO_NoisyCorEnv_0_2020-09-22_12-24-02irctporb\", \"checkpoint_75\", \"checkpoint-75\"]) # CorEnv\n",
    "\n",
    "#scheckpoint_lars = os.path.join(*[HOME_PATH, \"AGENT_TESTS\", \"PPO_StaticEnv_0_2020-09-24_08-39-32jdnl7ykv\", \"checkpoint_810\", \"checkpoint-810\"]) # Static25\n",
    "checkpoint_lars = os.path.join(*[HOME_PATH, \"AGENT_TESTS\", \"PPO_NoisyEnv_0_2020-09-24_09-07-22vaoju9fy\", \"checkpoint_780\", \"checkpoint-780\"]) # Noisy25\n",
    "#checkpoint_lars = checkpoint_model4    # Gutes Modell\n"
   ]
  },
  {
   "cell_type": "code",
   "execution_count": 9,
   "metadata": {},
   "outputs": [
    {
     "data": {
      "text/plain": [
       "'/home/lars/AGENT_TESTS/PPO_NoisyEnv_0_2020-09-24_09-07-22vaoju9fy/checkpoint_780/checkpoint-780'"
      ]
     },
     "execution_count": 9,
     "metadata": {},
     "output_type": "execute_result"
    }
   ],
   "source": [
    "def update_checkpoint_for_rollout(checkpoint_path):\n",
    "    with open(checkpoint_path, \"rb\") as f:\n",
    "        extra_data = pickle.load(f)\n",
    "    if not \"trainer_state\" in extra_data:\n",
    "        extra_data[\"trainer_state\"] = {}\n",
    "        with open(checkpoint_path, 'wb') as f:\n",
    "            pickle.dump(extra_data, f)\n",
    "\n",
    "checkpoint = checkpoint_lars\n",
    "update_checkpoint_for_rollout(checkpoint)\n",
    "checkpoint"
   ]
  },
  {
   "cell_type": "code",
   "execution_count": 10,
   "metadata": {},
   "outputs": [
    {
     "name": "stdout",
     "output_type": "stream",
     "text": [
      "Config found!\n"
     ]
    }
   ],
   "source": [
    "config = {}\n",
    "    # Load configuration from checkpoint file.\n",
    "config_dir = os.path.dirname(checkpoint)\n",
    "config_path = os.path.join(config_dir, \"params.pkl\")\n",
    "# Try parent directory.\n",
    "if not os.path.exists(config_path):\n",
    "    config_path = os.path.join(config_dir, \"../params.pkl\")\n",
    "if os.path.exists(config_path):\n",
    "    print(\"Config found!\")\n",
    "    with open(config_path, \"rb\") as f:\n",
    "            config = pickle.load(f)\n",
    "            \n",
    "config['num_workers'] = 2\n",
    "config['num_gpus'] = 1"
   ]
  },
  {
   "cell_type": "code",
   "execution_count": 11,
   "metadata": {},
   "outputs": [
    {
     "data": {
      "text/plain": [
       "{'env': 'NoisyEnv',\n",
       " 'seed': 1794,\n",
       " 'num_workers': 2,\n",
       " 'num_envs_per_worker': 1,\n",
       " 'num_gpus': 1,\n",
       " 'gamma': 0.99,\n",
       " 'lr': 0.0003,\n",
       " 'horizon': 500,\n",
       " 'soft_horizon': False,\n",
       " 'train_batch_size': 11000,\n",
       " 'callbacks': {'on_episode_start': None,\n",
       "  'on_episode_step': None,\n",
       "  'on_episode_end': None,\n",
       "  'on_postprocess_traj': None},\n",
       " 'model': {'use_lstm': False,\n",
       "  'lstm_cell_size': 128,\n",
       "  'fcnet_hiddens': [256, 256]},\n",
       " 'tf_session_args': {'allow_soft_placement': True}}"
      ]
     },
     "execution_count": 11,
     "metadata": {},
     "output_type": "execute_result"
    }
   ],
   "source": [
    "config"
   ]
  },
  {
   "cell_type": "markdown",
   "metadata": {},
   "source": [
    "# Functions"
   ]
  },
  {
   "cell_type": "markdown",
   "metadata": {},
   "source": [
    "Helper Functions"
   ]
  },
  {
   "cell_type": "code",
   "execution_count": 12,
   "metadata": {},
   "outputs": [],
   "source": [
    "def normalize_rad(angles):\n",
    "    angles = numpy.array(angles)\n",
    "    angles = angles % (2*numpy.pi)\n",
    "    angles = (angles + 2*numpy.pi) % (2*numpy.pi)\n",
    "    for i in range(len(angles)):\n",
    "        if (angles[i] > numpy.pi):\n",
    "            angles[i] -= 2*numpy.pi\n",
    "    return angles\n",
    "\n",
    "def get_obs():\n",
    "    set_state(actual_q)\n",
    "    for i in range(10):\n",
    "        viewer.render()\n",
    "    #print(ft_values)\n",
    "    x_pos = sim.data.get_body_xpos(\"gripper_dummy_heg\")\n",
    "    x_mat = sim.data.get_body_xmat(\"gripper_dummy_heg\")\n",
    "    rpy =  normalize_rad(rotations.mat2euler(x_mat))\n",
    "    #print(x_pos, rpy)\n",
    "\n",
    "    obs = numpy.concatenate([\n",
    "                x_mat.dot(x_pos-goal[:3]), x_mat.dot(normalize_rad(rpy-goal[3:])), ft_values.copy()\n",
    "            ])\n",
    "    return obs\n",
    "\n",
    "def get_dq(dx):\n",
    "    jacp = sim.data.get_body_jacp(name=\"gripper_dummy_heg\").reshape(3, 6)\n",
    "    jacr = sim.data.get_body_jacr(name=\"gripper_dummy_heg\").reshape(3, 6)\n",
    "    jac = numpy.vstack((jacp, jacr))\n",
    "    dq = numpy.linalg.lstsq(jac, dx)[0].reshape(6, )\n",
    "    return dq\n",
    "\n",
    "def go_smooth(q):\n",
    "    rate = rospy.Rate(125)\n",
    "    dq = q - actual_q\n",
    "    while numpy.linalg.norm(dq)>0.005:\n",
    "        dq = q - actual_q\n",
    "        dq_ = numpy.clip(dq, -0.0001, 0.0001)\n",
    "        control(ctrl_q+dq_)\n",
    "        rate.sleep()\n",
    "    control(q)\n",
    "    \n",
    "def set_state(qpos):\n",
    "    #assert qpos.shape == (model.nq,)\n",
    "    old_state = sim.get_state()\n",
    "    new_state = mujoco_py.MjSimState(old_state.time, qpos, old_state.qvel,\n",
    "                                     old_state.act, old_state.udd_state)\n",
    "    sim.set_state(new_state)\n",
    "    sim.forward()\n",
    "    \n",
    "def keep_going(steps, num_steps, episodes, num_episodes):\n",
    "    \"\"\"Determine whether we've collected enough data\"\"\"\n",
    "    # if num_episodes is set, this overrides num_steps\n",
    "    if num_episodes:\n",
    "        return episodes < num_episodes\n",
    "    # if num_steps is set, continue until we reach the limit\n",
    "    if num_steps:\n",
    "        return steps < num_steps\n",
    "    # otherwise keep going forever\n",
    "    return True"
   ]
  },
  {
   "cell_type": "markdown",
   "metadata": {},
   "source": [
    "ROS"
   ]
  },
  {
   "cell_type": "code",
   "execution_count": 13,
   "metadata": {},
   "outputs": [],
   "source": [
    "# ROS callback functions\n",
    "def q_callback(data):\n",
    "    '''Callback for the joint angles, velocities and accelerations'''\n",
    "    global actual_q\n",
    "    global actual_qd\n",
    "    global actual_qdd\n",
    "    actual_q = numpy.array(data.position)[[2,1,0,3,4,5]]\n",
    "    actual_qd = numpy.array(data.velocity)[[2,1,0,3,4,5]]\n",
    "    actual_qdd = numpy.array(data.effort)[[2,1,0,3,4,5]]\n",
    "    set_state(actual_q)\n",
    "    viewer.render()\n",
    "    \n",
    "#def ft_callback(data):\n",
    "#    '''Callback for the Robotiq FT300 force torque values'''\n",
    "#    global ft_values\n",
    "#    ft_values = 1 * numpy.array([data.wrench.force.x, data.wrench.force.y, data.wrench.force.z, data.wrench.torque.x, \\\n",
    "#                            data.wrench.torque.y, data.wrench.torque.z])\n",
    "    \n",
    "def pose_callback(data):\n",
    "    '''Callback for the Intel Realsense D435i and OpenCV charuco pose estimation'''\n",
    "    global pose\n",
    "    raw_pose = numpy.array([data.tx, data.ty, data.tz, data.rx, data.ry, data.rz])\n",
    "    \n",
    "    \n",
    "def observation_callback(data):\n",
    "    '''Callback for the entire observation array (same as in simulation)'''\n",
    "    global observations\n",
    "    #global good_pos\n",
    "    observations = numpy.array(data.data)\n",
    "    #pos = raw_observations[:3]\n",
    "    #if i % 2 == 0:\n",
    "    #    observations = raw_observations\n",
    "    #    good_pos = raw_observatations[:3]\n",
    "    #else:\n",
    "    #    observations = numpy.concatenate([good_pos, raw_observations[3:]])\n",
    "    #i+=1\n",
    "    \n",
    "#def check_ROS_topics():\n",
    "#    '''Listens to all required ROS topics and checks if each of them is online and sending'''\n",
    "#    check_jointstates = []\n",
    "#    check_ft300_force_torque = []\n",
    "#    check_observations = []\n",
    "#    check_pose_estimation = []\n",
    "#    \n",
    "#    for i in range(5):\n",
    "#        check_jointstates.append(actual_q)\n",
    "#        check_ft300_force_torque.append(ft_values)\n",
    "#        check_observations.append(observations)\n",
    "#        check_pose_estimation.append(pose)\n",
    "#        time.sleep(0.5)\n",
    "#        \n",
    "#    topics = [\"/joint_states\", \"/ft300_force_torque\", \"/observation\", \"/pose_estimation\"]\n",
    "#    topics_dict = {\n",
    "#        \"/joint_states\" : check_jointstates,\n",
    "#        \"/ft300_force_torque\" : check_ft300_force_torque,\n",
    "#        \"/observation\" : check_observations,\n",
    "#        \"/pose_estimation\" : check_pose_estimation\n",
    "#    }\n",
    "#    \n",
    "#    for topic in topics:\n",
    "#        if not topics_dict[topic]:\n",
    "#            print(\"ERROR: {} is offline or not sending\".format(topic))\n",
    "#        else:\n",
    "#            print(\"SUCCESS: {} is online and sending\".format(topic))"
   ]
  },
  {
   "cell_type": "code",
   "execution_count": 14,
   "metadata": {},
   "outputs": [],
   "source": [
    "def goal_distance(obs, goal):\n",
    "    '''Compute distance between TCP and Goal'''\n",
    "    obs = obs[:6]\n",
    "    assert obs.shape == goal.shape\n",
    "    return numpy.linalg.norm(obs*numpy.array([1, 1, 1, 0.3, 0.3, 0.3]), axis=-1)\n",
    "\n",
    "def compute_reward(obs, goal):\n",
    "    d = goal_distance(obs,goal)\n",
    "    f = numpy.absolute(obs[7]) + numpy.absolute(obs[8]) + numpy.absolute(obs[9])\n",
    "    rew = R1 * (-d) + R2 *(-f)\n",
    "    return rew\n",
    "'''\n",
    "def is_success(obs, goal):\n",
    "    d = goal_distance(obs,goal)\n",
    "    if d < distance_threshold:\n",
    "        return True\n",
    "    else:\n",
    "        return False\n",
    "'''\n",
    "def is_success(obs):\n",
    "    distance = numpy.absolute(obs[0]) + numpy.absolute(obs[1]) + numpy.absolute(obs[2])\n",
    "    if distance < reality_distance_threshold:\n",
    "        return True\n",
    "    else:\n",
    "        return False"
   ]
  },
  {
   "cell_type": "code",
   "execution_count": 15,
   "metadata": {},
   "outputs": [],
   "source": [
    "# ROS control commands\n",
    "def control(q):\n",
    "    '''Controlling the Universal Robot UR10 JointGroupPositionController'''\n",
    "    global ctrl_q\n",
    "    command = Float64MultiArray()\n",
    "    command.data = q\n",
    "    control_publisher.publish(command)\n",
    "    ctrl_q = q.copy()\n",
    "    \n",
    "def traj_control(q):\n",
    "    #dt = 0.025\n",
    "    global ctrl_q\n",
    "    command = JointTrajectory()\n",
    "    point = JointTrajectoryPoint()\n",
    "    \n",
    "    #command.header.stamp = rospy.Time.now()\n",
    "    #command.header.frame_id = \"DRL_UR10\"\n",
    "    #command.joint_names = [\"elbow_joint\", \"shoulder_lift_joint\", \"shoulder_pan_joint\", \"wrist_1_joint\", \"wrist_2_joint\", \"wrist_3_joint\"]\n",
    "    \n",
    "    #command.header.stamp = rospy.Time.now()\n",
    "    command.header.frame_id = \"DRL_UR10\"\n",
    "    command.joint_names.append(\"shoulder_pan_joint\")\n",
    "    command.joint_names.append(\"shoulder_lift_joint\")\n",
    "    command.joint_names.append(\"elbow_joint\")\n",
    "    command.joint_names.append(\"wrist_1_joint\")\n",
    "    command.joint_names.append(\"wrist_2_joint\")\n",
    "    command.joint_names.append(\"wrist_3_joint\")\n",
    "    \n",
    "\n",
    "    point.positions.append(q[0])\n",
    "    point.positions.append(q[1])\n",
    "    point.positions.append(q[2])\n",
    "    point.positions.append(q[3])\n",
    "    point.positions.append(q[4])\n",
    "    point.positions.append(q[5])\n",
    "    \n",
    "    command.points.append(point)\n",
    "    command.points[0].time_from_start=rospy.Duration.from_sec(dt)\n",
    "    \n",
    "    traj_control_publisher.publish(command)\n",
    "    ctrl_q = q.copy()\n",
    "    \n",
    "def static_approach():\n",
    "    \n",
    "    waypoint0 = numpy.array([1.6256170272827148, -0.9155753294574183, 1.5307668447494507, -0.6977546850787562, 1.5475375652313232, 0.011224725283682346])[[2,1,0,3,4,5]]\n",
    "    waypoint1 = numpy.array([2.47381329536438, -1.4324410597430628, 1.5743204355239868, -1.0292657057391565, 1.5910834074020386, 0.011859889142215252])[[2,1,0,3,4,5]]\n",
    "    waypoint2 = numpy.array([2.519468069076538, -1.6841238180743616, 0.13313426077365875, -0.8226664702044886, 1.7688652276992798, 0.014099815860390663])[[2,1,0,3,4,5]]\n",
    "    waypoint3 = numpy.array([2.1001405715942383, -1.3000262419330042, 7.190534961409867e-05, -0.7999804655658167, 1.5709056854248047, -3.5587941304981996e-05])[[2,1,0,3,4,5]]\n",
    "    \n",
    "    dt_static = 2\n",
    "    command = JointTrajectory()\n",
    "    point0 = JointTrajectoryPoint()\n",
    "    point1 = JointTrajectoryPoint()\n",
    "    point2 = JointTrajectoryPoint()\n",
    "    point3 = JointTrajectoryPoint()\n",
    "    \n",
    "    command.header.stamp = rospy.Time.now()\n",
    "    command.header.frame_id = \"DRL_UR10\"\n",
    "    command.joint_names.append(\"shoulder_pan_joint\")\n",
    "    command.joint_names.append(\"shoulder_lift_joint\")\n",
    "    command.joint_names.append(\"elbow_joint\")\n",
    "    command.joint_names.append(\"wrist_1_joint\")\n",
    "    command.joint_names.append(\"wrist_2_joint\")\n",
    "    command.joint_names.append(\"wrist_3_joint\")\n",
    "    \n",
    "    point0.positions.append(waypoint0[0])\n",
    "    point0.positions.append(waypoint0[1])\n",
    "    point0.positions.append(waypoint0[2])\n",
    "    point0.positions.append(waypoint0[3])\n",
    "    point0.positions.append(waypoint0[4])\n",
    "    point0.positions.append(waypoint0[5])\n",
    "    \n",
    "    #command.points.append(point0)\n",
    "    \n",
    "    point1.positions.append(waypoint1[0])\n",
    "    point1.positions.append(waypoint1[1])\n",
    "    point1.positions.append(waypoint1[2])\n",
    "    point1.positions.append(waypoint1[3])\n",
    "    point1.positions.append(waypoint1[4])\n",
    "    point1.positions.append(waypoint1[5])\n",
    "    \n",
    "    command.points.append(point1)\n",
    "    command.points[0].time_from_start=rospy.Duration.from_sec(dt_static)\n",
    "    \n",
    "    point2.positions.append(waypoint2[0])\n",
    "    point2.positions.append(waypoint2[1])\n",
    "    point2.positions.append(waypoint2[2])\n",
    "    point2.positions.append(waypoint2[3])\n",
    "    point2.positions.append(waypoint2[4])\n",
    "    point2.positions.append(waypoint2[5])\n",
    "    \n",
    "    command.points.append(point2)\n",
    "    command.points[1].time_from_start=rospy.Duration.from_sec(2*dt_static)\n",
    "    \n",
    "    point3.positions.append(waypoint3[0])\n",
    "    point3.positions.append(waypoint3[1])\n",
    "    point3.positions.append(waypoint3[2])\n",
    "    point3.positions.append(waypoint3[3])\n",
    "    point3.positions.append(waypoint3[4])\n",
    "    point3.positions.append(waypoint3[5])\n",
    "    \n",
    "    command.points.append(point3)\n",
    "    command.points[2].time_from_start=rospy.Duration.from_sec(2.5*dt_static)\n",
    "    \n",
    "    traj_control_publisher.publish(command)\n",
    "    \n",
    "def ft_zero():\n",
    "    '''Zeroes the Robotiq FT300 force torque sensor by sending an ur_script via UR Secondary Interface'''\n",
    "    zero_sensor_urscript = 'sec ft_set_zero():' + '\\n' + '\\t' + 'if(socket_open(\"127.0.0.1\", 63350, \"acc\")):' \\\n",
    "          + '\\n' + '\\t' + '\\t' + 'socket_send_string(\"SET ZRO\", \"acc\")' \\\n",
    "         + '\\n' + '\\t' + '\\t' + 'socket_close(\"acc\")' + '\\n' + '\\t' + 'end' + '\\n' + 'end' + '\\n'\n",
    "    ft_zero_publisher.publish(zero_sensor_urscript)"
   ]
  },
  {
   "cell_type": "markdown",
   "metadata": {},
   "source": [
    "# Creation"
   ]
  },
  {
   "cell_type": "markdown",
   "metadata": {},
   "source": [
    "Simulation Environment (Gym)"
   ]
  },
  {
   "cell_type": "code",
   "execution_count": 16,
   "metadata": {},
   "outputs": [
    {
     "name": "stdout",
     "output_type": "stream",
     "text": [
      "Creating window glfw\n"
     ]
    }
   ],
   "source": [
    "model = mujoco_py.load_model_from_path(XML_MODEL_PATH)\n",
    "sim = mujoco_py.MjSim(model)\n",
    "q_init = numpy.array([0, -1.3, 2.1, -0.80, 1.5708, 0.0])\n",
    "\n",
    "ctrl_q = q_init\n",
    "set_state(q_init)\n",
    "\n",
    "viewer = mujoco_py.MjViewer(sim)\n",
    "viewer.render()"
   ]
  },
  {
   "cell_type": "code",
   "execution_count": 17,
   "metadata": {},
   "outputs": [
    {
     "name": "stdout",
     "output_type": "stream",
     "text": [
      "[ 0.17728998 -0.49006257  0.00504209 -1.57022805 -1.57161506 -1.59265406\n",
      "  0.          0.          0.          0.          0.          0.        ]\n",
      "[ 1.1843   -0.826059  0.9966  ] [-1.57079633e+00  3.67320510e-06  3.14159265e+00]\n"
     ]
    }
   ],
   "source": [
    "x_pos = sim.data.get_body_xpos(\"gripper_dummy_heg\")\n",
    "x_mat = sim.data.get_body_xmat(\"gripper_dummy_heg\")\n",
    "rpy =  normalize_rad(rotations.mat2euler(x_mat))\n",
    "print(get_obs())\n",
    "print(x_pos, rpy)"
   ]
  },
  {
   "cell_type": "code",
   "execution_count": 18,
   "metadata": {},
   "outputs": [
    {
     "name": "stdout",
     "output_type": "stream",
     "text": [
      "FORCE CONTROL\n"
     ]
    }
   ],
   "source": [
    "if control_type == \"force\":\n",
    "    class Ur10HegRandForceEnv(ur10_noisy_pd_env_mh.Ur10Env):\n",
    "        def __init__(self, env_config):\n",
    "            model_xml_path = os.path.join(*[PROJECT_PATH, \"code\", \"environment\", \"UR10_Force_Randomized\", \"ur10_assembly_setup_rand_temp_{}.xml\".format(env_config.worker_index)])\n",
    "            randomize.randomize_ur10_xml(worker_id = env_config.worker_index)\n",
    "            ur10_noisy_pd_env_mh.Ur10Env.__init__(\n",
    "                self, ENV_CONFIG, model_xml_path = model_xml_path, worker_id=env_config.worker_index\n",
    "            )\n",
    "            #utils.EzPickle.__init__(self)\n",
    "    register_env(\"NoisyEnv\", lambda config: Ur10HegRandForceEnv(config))\n",
    "    print(\"FORCE CONTROL\")\n",
    "elif control_type == \"position\":\n",
    "    class Ur10HegRandPositionEnv(ur10_sim2real_pos_env.Ur10Env):\n",
    "        def __init__(self, env_config):\n",
    "            model_xml_path = os.path.join(*[PROJECT_PATH, \"code\", \"environment\", \"UR10_Position_Randomized\", \"ur10_assembly_setup_rand_temp_{}.xml\".format(env_config.worker_index)])\n",
    "            pos_randomize.randomize_ur10_xml(worker_id = env_config.worker_index)\n",
    "            ur10_sim2real_pos_env.Ur10Env.__init__(\n",
    "                self, ENV_CONFIG, model_xml_path = model_xml_path, worker_id=env_config.worker_index\n",
    "            )\n",
    "            #utils.EzPickle.__init__(self)\n",
    "    register_env(\"NoisyPositionEnv\", lambda config: Ur10HegRandPositionEnv(config))\n",
    "    print(\"POSITION CONTROL\")\n",
    "else:\n",
    "    print(\"ERROR for control_type:\", control_type)"
   ]
  },
  {
   "cell_type": "markdown",
   "metadata": {},
   "source": [
    "Agent"
   ]
  },
  {
   "cell_type": "code",
   "execution_count": 19,
   "metadata": {},
   "outputs": [
    {
     "name": "stderr",
     "output_type": "stream",
     "text": [
      "2020-09-25 15:17:45,090\tINFO resource_spec.py:212 -- Starting Ray with 10.89 GiB memory available for workers and up to 5.45 GiB for objects. You can adjust these settings with ray.init(memory=<bytes>, object_store_memory=<bytes>).\n",
      "2020-09-25 15:17:45,567\tINFO services.py:1083 -- View the Ray dashboard at \u001b[1m\u001b[32mlocalhost:8266\u001b[39m\u001b[22m\n"
     ]
    }
   ],
   "source": [
    "ray.init()\n",
    "cls = get_trainable_cls(\"PPO\")"
   ]
  },
  {
   "cell_type": "code",
   "execution_count": 20,
   "metadata": {},
   "outputs": [
    {
     "name": "stderr",
     "output_type": "stream",
     "text": [
      "2020-09-25 15:17:46,360\tINFO trainer.py:420 -- Tip: set 'eager': true or the --eager flag to enable TensorFlow eager execution\n",
      "2020-09-25 15:17:46,431\tINFO trainer.py:580 -- Current log_level is WARN. For more information, set 'log_level': 'INFO' / 'DEBUG' or use the -v and -vv flags.\n",
      "/home/lars/gym/gym/logger.py:30: UserWarning: \u001b[33mWARN: Box bound precision lowered by casting to float32\u001b[0m\n",
      "  warnings.warn(colorize('%s: %s'%('WARN', msg % args), 'yellow'))\n"
     ]
    },
    {
     "name": "stdout",
     "output_type": "stream",
     "text": [
      "\u001b[2m\u001b[36m(pid=25223)\u001b[0m /home/lars/.local/lib/python3.6/site-packages/tensorflow/python/framework/dtypes.py:516: FutureWarning: Passing (type, 1) or '1type' as a synonym of type is deprecated; in a future version of numpy, it will be understood as (type, (1,)) / '(1,)type'.\n",
      "\u001b[2m\u001b[36m(pid=25223)\u001b[0m   _np_qint8 = np.dtype([(\"qint8\", np.int8, 1)])\n",
      "\u001b[2m\u001b[36m(pid=25223)\u001b[0m /home/lars/.local/lib/python3.6/site-packages/tensorflow/python/framework/dtypes.py:517: FutureWarning: Passing (type, 1) or '1type' as a synonym of type is deprecated; in a future version of numpy, it will be understood as (type, (1,)) / '(1,)type'.\n",
      "\u001b[2m\u001b[36m(pid=25223)\u001b[0m   _np_quint8 = np.dtype([(\"quint8\", np.uint8, 1)])\n",
      "\u001b[2m\u001b[36m(pid=25223)\u001b[0m /home/lars/.local/lib/python3.6/site-packages/tensorflow/python/framework/dtypes.py:518: FutureWarning: Passing (type, 1) or '1type' as a synonym of type is deprecated; in a future version of numpy, it will be understood as (type, (1,)) / '(1,)type'.\n",
      "\u001b[2m\u001b[36m(pid=25223)\u001b[0m   _np_qint16 = np.dtype([(\"qint16\", np.int16, 1)])\n",
      "\u001b[2m\u001b[36m(pid=25223)\u001b[0m /home/lars/.local/lib/python3.6/site-packages/tensorflow/python/framework/dtypes.py:519: FutureWarning: Passing (type, 1) or '1type' as a synonym of type is deprecated; in a future version of numpy, it will be understood as (type, (1,)) / '(1,)type'.\n",
      "\u001b[2m\u001b[36m(pid=25223)\u001b[0m   _np_quint16 = np.dtype([(\"quint16\", np.uint16, 1)])\n",
      "\u001b[2m\u001b[36m(pid=25223)\u001b[0m /home/lars/.local/lib/python3.6/site-packages/tensorflow/python/framework/dtypes.py:520: FutureWarning: Passing (type, 1) or '1type' as a synonym of type is deprecated; in a future version of numpy, it will be understood as (type, (1,)) / '(1,)type'.\n",
      "\u001b[2m\u001b[36m(pid=25223)\u001b[0m   _np_qint32 = np.dtype([(\"qint32\", np.int32, 1)])\n",
      "\u001b[2m\u001b[36m(pid=25223)\u001b[0m /home/lars/.local/lib/python3.6/site-packages/tensorflow/python/framework/dtypes.py:525: FutureWarning: Passing (type, 1) or '1type' as a synonym of type is deprecated; in a future version of numpy, it will be understood as (type, (1,)) / '(1,)type'.\n",
      "\u001b[2m\u001b[36m(pid=25223)\u001b[0m   np_resource = np.dtype([(\"resource\", np.ubyte, 1)])\n",
      "\u001b[2m\u001b[36m(pid=25221)\u001b[0m /home/lars/.local/lib/python3.6/site-packages/tensorflow/python/framework/dtypes.py:516: FutureWarning: Passing (type, 1) or '1type' as a synonym of type is deprecated; in a future version of numpy, it will be understood as (type, (1,)) / '(1,)type'.\n",
      "\u001b[2m\u001b[36m(pid=25221)\u001b[0m   _np_qint8 = np.dtype([(\"qint8\", np.int8, 1)])\n",
      "\u001b[2m\u001b[36m(pid=25221)\u001b[0m /home/lars/.local/lib/python3.6/site-packages/tensorflow/python/framework/dtypes.py:517: FutureWarning: Passing (type, 1) or '1type' as a synonym of type is deprecated; in a future version of numpy, it will be understood as (type, (1,)) / '(1,)type'.\n",
      "\u001b[2m\u001b[36m(pid=25221)\u001b[0m   _np_quint8 = np.dtype([(\"quint8\", np.uint8, 1)])\n",
      "\u001b[2m\u001b[36m(pid=25221)\u001b[0m /home/lars/.local/lib/python3.6/site-packages/tensorflow/python/framework/dtypes.py:518: FutureWarning: Passing (type, 1) or '1type' as a synonym of type is deprecated; in a future version of numpy, it will be understood as (type, (1,)) / '(1,)type'.\n",
      "\u001b[2m\u001b[36m(pid=25221)\u001b[0m   _np_qint16 = np.dtype([(\"qint16\", np.int16, 1)])\n",
      "\u001b[2m\u001b[36m(pid=25221)\u001b[0m /home/lars/.local/lib/python3.6/site-packages/tensorflow/python/framework/dtypes.py:519: FutureWarning: Passing (type, 1) or '1type' as a synonym of type is deprecated; in a future version of numpy, it will be understood as (type, (1,)) / '(1,)type'.\n",
      "\u001b[2m\u001b[36m(pid=25221)\u001b[0m   _np_quint16 = np.dtype([(\"quint16\", np.uint16, 1)])\n",
      "\u001b[2m\u001b[36m(pid=25221)\u001b[0m /home/lars/.local/lib/python3.6/site-packages/tensorflow/python/framework/dtypes.py:520: FutureWarning: Passing (type, 1) or '1type' as a synonym of type is deprecated; in a future version of numpy, it will be understood as (type, (1,)) / '(1,)type'.\n",
      "\u001b[2m\u001b[36m(pid=25221)\u001b[0m   _np_qint32 = np.dtype([(\"qint32\", np.int32, 1)])\n",
      "\u001b[2m\u001b[36m(pid=25221)\u001b[0m /home/lars/.local/lib/python3.6/site-packages/tensorflow/python/framework/dtypes.py:525: FutureWarning: Passing (type, 1) or '1type' as a synonym of type is deprecated; in a future version of numpy, it will be understood as (type, (1,)) / '(1,)type'.\n",
      "\u001b[2m\u001b[36m(pid=25221)\u001b[0m   np_resource = np.dtype([(\"resource\", np.ubyte, 1)])\n",
      "\u001b[2m\u001b[36m(pid=25221)\u001b[0m /home/lars/.local/lib/python3.6/site-packages/tensorboard/compat/tensorflow_stub/dtypes.py:541: FutureWarning: Passing (type, 1) or '1type' as a synonym of type is deprecated; in a future version of numpy, it will be understood as (type, (1,)) / '(1,)type'.\n",
      "\u001b[2m\u001b[36m(pid=25221)\u001b[0m   _np_qint8 = np.dtype([(\"qint8\", np.int8, 1)])\n",
      "\u001b[2m\u001b[36m(pid=25221)\u001b[0m /home/lars/.local/lib/python3.6/site-packages/tensorboard/compat/tensorflow_stub/dtypes.py:542: FutureWarning: Passing (type, 1) or '1type' as a synonym of type is deprecated; in a future version of numpy, it will be understood as (type, (1,)) / '(1,)type'.\n",
      "\u001b[2m\u001b[36m(pid=25221)\u001b[0m   _np_quint8 = np.dtype([(\"quint8\", np.uint8, 1)])\n",
      "\u001b[2m\u001b[36m(pid=25221)\u001b[0m /home/lars/.local/lib/python3.6/site-packages/tensorboard/compat/tensorflow_stub/dtypes.py:543: FutureWarning: Passing (type, 1) or '1type' as a synonym of type is deprecated; in a future version of numpy, it will be understood as (type, (1,)) / '(1,)type'.\n",
      "\u001b[2m\u001b[36m(pid=25221)\u001b[0m   _np_qint16 = np.dtype([(\"qint16\", np.int16, 1)])\n",
      "\u001b[2m\u001b[36m(pid=25221)\u001b[0m /home/lars/.local/lib/python3.6/site-packages/tensorboard/compat/tensorflow_stub/dtypes.py:544: FutureWarning: Passing (type, 1) or '1type' as a synonym of type is deprecated; in a future version of numpy, it will be understood as (type, (1,)) / '(1,)type'.\n",
      "\u001b[2m\u001b[36m(pid=25221)\u001b[0m   _np_quint16 = np.dtype([(\"quint16\", np.uint16, 1)])\n",
      "\u001b[2m\u001b[36m(pid=25221)\u001b[0m /home/lars/.local/lib/python3.6/site-packages/tensorboard/compat/tensorflow_stub/dtypes.py:545: FutureWarning: Passing (type, 1) or '1type' as a synonym of type is deprecated; in a future version of numpy, it will be understood as (type, (1,)) / '(1,)type'.\n",
      "\u001b[2m\u001b[36m(pid=25221)\u001b[0m   _np_qint32 = np.dtype([(\"qint32\", np.int32, 1)])\n",
      "\u001b[2m\u001b[36m(pid=25221)\u001b[0m /home/lars/.local/lib/python3.6/site-packages/tensorboard/compat/tensorflow_stub/dtypes.py:550: FutureWarning: Passing (type, 1) or '1type' as a synonym of type is deprecated; in a future version of numpy, it will be understood as (type, (1,)) / '(1,)type'.\n",
      "\u001b[2m\u001b[36m(pid=25221)\u001b[0m   np_resource = np.dtype([(\"resource\", np.ubyte, 1)])\n",
      "\u001b[2m\u001b[36m(pid=25223)\u001b[0m /home/lars/.local/lib/python3.6/site-packages/tensorboard/compat/tensorflow_stub/dtypes.py:541: FutureWarning: Passing (type, 1) or '1type' as a synonym of type is deprecated; in a future version of numpy, it will be understood as (type, (1,)) / '(1,)type'.\n",
      "\u001b[2m\u001b[36m(pid=25223)\u001b[0m   _np_qint8 = np.dtype([(\"qint8\", np.int8, 1)])\n",
      "\u001b[2m\u001b[36m(pid=25223)\u001b[0m /home/lars/.local/lib/python3.6/site-packages/tensorboard/compat/tensorflow_stub/dtypes.py:542: FutureWarning: Passing (type, 1) or '1type' as a synonym of type is deprecated; in a future version of numpy, it will be understood as (type, (1,)) / '(1,)type'.\n",
      "\u001b[2m\u001b[36m(pid=25223)\u001b[0m   _np_quint8 = np.dtype([(\"quint8\", np.uint8, 1)])\n",
      "\u001b[2m\u001b[36m(pid=25223)\u001b[0m /home/lars/.local/lib/python3.6/site-packages/tensorboard/compat/tensorflow_stub/dtypes.py:543: FutureWarning: Passing (type, 1) or '1type' as a synonym of type is deprecated; in a future version of numpy, it will be understood as (type, (1,)) / '(1,)type'.\n",
      "\u001b[2m\u001b[36m(pid=25223)\u001b[0m   _np_qint16 = np.dtype([(\"qint16\", np.int16, 1)])\n",
      "\u001b[2m\u001b[36m(pid=25223)\u001b[0m /home/lars/.local/lib/python3.6/site-packages/tensorboard/compat/tensorflow_stub/dtypes.py:544: FutureWarning: Passing (type, 1) or '1type' as a synonym of type is deprecated; in a future version of numpy, it will be understood as (type, (1,)) / '(1,)type'.\n",
      "\u001b[2m\u001b[36m(pid=25223)\u001b[0m   _np_quint16 = np.dtype([(\"quint16\", np.uint16, 1)])\n",
      "\u001b[2m\u001b[36m(pid=25223)\u001b[0m /home/lars/.local/lib/python3.6/site-packages/tensorboard/compat/tensorflow_stub/dtypes.py:545: FutureWarning: Passing (type, 1) or '1type' as a synonym of type is deprecated; in a future version of numpy, it will be understood as (type, (1,)) / '(1,)type'.\n",
      "\u001b[2m\u001b[36m(pid=25223)\u001b[0m   _np_qint32 = np.dtype([(\"qint32\", np.int32, 1)])\n",
      "\u001b[2m\u001b[36m(pid=25223)\u001b[0m /home/lars/.local/lib/python3.6/site-packages/tensorboard/compat/tensorflow_stub/dtypes.py:550: FutureWarning: Passing (type, 1) or '1type' as a synonym of type is deprecated; in a future version of numpy, it will be understood as (type, (1,)) / '(1,)type'.\n",
      "\u001b[2m\u001b[36m(pid=25223)\u001b[0m   np_resource = np.dtype([(\"resource\", np.ubyte, 1)])\n"
     ]
    },
    {
     "name": "stderr",
     "output_type": "stream",
     "text": [
      "2020-09-25 15:17:53,933\tWARNING trainable.py:210 -- Getting current IP.\n",
      "2020-09-25 15:17:53,935\tINFO trainable.py:416 -- Restored on 10.180.134.127 from checkpoint: /home/lars/AGENT_TESTS/PPO_NoisyEnv_0_2020-09-24_09-07-22vaoju9fy/checkpoint_780/checkpoint-780\n",
      "2020-09-25 15:17:53,935\tINFO trainable.py:423 -- Current state after restoring: {'_iteration': 780, '_timesteps_total': None, '_time_total': 83469.00706005096, '_episodes_total': 55618}\n"
     ]
    }
   ],
   "source": [
    "#agent = cls(env=\"RandomizedEnv\", config=config)\n",
    "agent = cls(config=config)\n",
    "agent.restore(checkpoint)"
   ]
  },
  {
   "cell_type": "code",
   "execution_count": 21,
   "metadata": {},
   "outputs": [
    {
     "name": "stdout",
     "output_type": "stream",
     "text": [
      "<module 'ray' from '/home/lars/.local/lib/python3.6/site-packages/ray/__init__.py'>\n",
      "<function get_trainable_cls at 0x7fc426ae3048>\n",
      "<module 'ray.tune.registry' from '/home/lars/.local/lib/python3.6/site-packages/ray/tune/registry.py'>\n",
      "\u001b[2m\u001b[36m(pid=25223)\u001b[0m In /home/lars/.local/lib/python3.6/site-packages/matplotlib/mpl-data/stylelib/_classic_test.mplstyle: \n",
      "\u001b[2m\u001b[36m(pid=25223)\u001b[0m The text.latex.preview rcparam was deprecated in Matplotlib 3.3 and will be removed two minor releases later.\n",
      "\u001b[2m\u001b[36m(pid=25223)\u001b[0m In /home/lars/.local/lib/python3.6/site-packages/matplotlib/mpl-data/stylelib/_classic_test.mplstyle: \n",
      "\u001b[2m\u001b[36m(pid=25223)\u001b[0m The mathtext.fallback_to_cm rcparam was deprecated in Matplotlib 3.3 and will be removed two minor releases later.\n",
      "\u001b[2m\u001b[36m(pid=25223)\u001b[0m In /home/lars/.local/lib/python3.6/site-packages/matplotlib/mpl-data/stylelib/_classic_test.mplstyle: Support for setting the 'mathtext.fallback_to_cm' rcParam is deprecated since 3.3 and will be removed two minor releases later; use 'mathtext.fallback : 'cm' instead.\n",
      "\u001b[2m\u001b[36m(pid=25223)\u001b[0m In /home/lars/.local/lib/python3.6/site-packages/matplotlib/mpl-data/stylelib/_classic_test.mplstyle: \n",
      "\u001b[2m\u001b[36m(pid=25223)\u001b[0m The validate_bool_maybe_none function was deprecated in Matplotlib 3.3 and will be removed two minor releases later.\n",
      "\u001b[2m\u001b[36m(pid=25223)\u001b[0m In /home/lars/.local/lib/python3.6/site-packages/matplotlib/mpl-data/stylelib/_classic_test.mplstyle: \n",
      "\u001b[2m\u001b[36m(pid=25223)\u001b[0m The savefig.jpeg_quality rcparam was deprecated in Matplotlib 3.3 and will be removed two minor releases later.\n",
      "\u001b[2m\u001b[36m(pid=25223)\u001b[0m In /home/lars/.local/lib/python3.6/site-packages/matplotlib/mpl-data/stylelib/_classic_test.mplstyle: \n",
      "\u001b[2m\u001b[36m(pid=25223)\u001b[0m The keymap.all_axes rcparam was deprecated in Matplotlib 3.3 and will be removed two minor releases later.\n",
      "\u001b[2m\u001b[36m(pid=25223)\u001b[0m In /home/lars/.local/lib/python3.6/site-packages/matplotlib/mpl-data/stylelib/_classic_test.mplstyle: \n",
      "\u001b[2m\u001b[36m(pid=25223)\u001b[0m The animation.avconv_path rcparam was deprecated in Matplotlib 3.3 and will be removed two minor releases later.\n",
      "\u001b[2m\u001b[36m(pid=25223)\u001b[0m In /home/lars/.local/lib/python3.6/site-packages/matplotlib/mpl-data/stylelib/_classic_test.mplstyle: \n",
      "\u001b[2m\u001b[36m(pid=25223)\u001b[0m The animation.avconv_args rcparam was deprecated in Matplotlib 3.3 and will be removed two minor releases later.\n"
     ]
    }
   ],
   "source": [
    "print(ray)\n",
    "print(get_trainable_cls)\n",
    "print(ray.tune.registry)\n",
    "clss = get_trainable_cls(\"PPO\")"
   ]
  },
  {
   "cell_type": "markdown",
   "metadata": {},
   "source": [
    "ROS-nodes"
   ]
  },
  {
   "cell_type": "code",
   "execution_count": 22,
   "metadata": {},
   "outputs": [
    {
     "name": "stdout",
     "output_type": "stream",
     "text": [
      "\u001b[2m\u001b[36m(pid=25221)\u001b[0m In /home/lars/.local/lib/python3.6/site-packages/matplotlib/mpl-data/stylelib/_classic_test.mplstyle: \n",
      "\u001b[2m\u001b[36m(pid=25221)\u001b[0m The text.latex.preview rcparam was deprecated in Matplotlib 3.3 and will be removed two minor releases later.\n",
      "\u001b[2m\u001b[36m(pid=25221)\u001b[0m In /home/lars/.local/lib/python3.6/site-packages/matplotlib/mpl-data/stylelib/_classic_test.mplstyle: \n",
      "\u001b[2m\u001b[36m(pid=25221)\u001b[0m The mathtext.fallback_to_cm rcparam was deprecated in Matplotlib 3.3 and will be removed two minor releases later.\n",
      "\u001b[2m\u001b[36m(pid=25221)\u001b[0m In /home/lars/.local/lib/python3.6/site-packages/matplotlib/mpl-data/stylelib/_classic_test.mplstyle: Support for setting the 'mathtext.fallback_to_cm' rcParam is deprecated since 3.3 and will be removed two minor releases later; use 'mathtext.fallback : 'cm' instead.\n",
      "\u001b[2m\u001b[36m(pid=25221)\u001b[0m In /home/lars/.local/lib/python3.6/site-packages/matplotlib/mpl-data/stylelib/_classic_test.mplstyle: \n",
      "\u001b[2m\u001b[36m(pid=25221)\u001b[0m The validate_bool_maybe_none function was deprecated in Matplotlib 3.3 and will be removed two minor releases later.\n",
      "\u001b[2m\u001b[36m(pid=25221)\u001b[0m In /home/lars/.local/lib/python3.6/site-packages/matplotlib/mpl-data/stylelib/_classic_test.mplstyle: \n",
      "\u001b[2m\u001b[36m(pid=25221)\u001b[0m The savefig.jpeg_quality rcparam was deprecated in Matplotlib 3.3 and will be removed two minor releases later.\n",
      "\u001b[2m\u001b[36m(pid=25221)\u001b[0m In /home/lars/.local/lib/python3.6/site-packages/matplotlib/mpl-data/stylelib/_classic_test.mplstyle: \n",
      "\u001b[2m\u001b[36m(pid=25221)\u001b[0m The keymap.all_axes rcparam was deprecated in Matplotlib 3.3 and will be removed two minor releases later.\n",
      "\u001b[2m\u001b[36m(pid=25221)\u001b[0m In /home/lars/.local/lib/python3.6/site-packages/matplotlib/mpl-data/stylelib/_classic_test.mplstyle: \n",
      "\u001b[2m\u001b[36m(pid=25221)\u001b[0m The animation.avconv_path rcparam was deprecated in Matplotlib 3.3 and will be removed two minor releases later.\n",
      "\u001b[2m\u001b[36m(pid=25221)\u001b[0m In /home/lars/.local/lib/python3.6/site-packages/matplotlib/mpl-data/stylelib/_classic_test.mplstyle: \n",
      "\u001b[2m\u001b[36m(pid=25221)\u001b[0m The animation.avconv_args rcparam was deprecated in Matplotlib 3.3 and will be removed two minor releases later.\n"
     ]
    }
   ],
   "source": [
    "rospy.init_node(\"DRL_AI4RoMoCo\", anonymous=True)\n",
    "rospy.Subscriber(\"/joint_states\", JointState, q_callback)\n",
    "#rospy.Subscriber(\"/ft300_force_torque\", WrenchStamped, ft_callback)\n",
    "#rospy.Subscriber(\"/pose_estimation\", EstimatedPose, pose_callback)\n",
    "rospy.Subscriber(\"/observation\", CustomVector, observation_callback)\n",
    "#control_publisher = rospy.Publisher(\"/joint_group_position_controller/command\", Float64MultiArray, queue_size=1)\n",
    "traj_control_publisher = rospy.Publisher(\"/pos_traj_controller/command\", JointTrajectory, queue_size=1)\n",
    "ft_zero_publisher = rospy.Publisher(\"/ur_hardware_interface/script_command\", String, queue_size=1)\n",
    "\n",
    "#rate = rospy.Rate(1)\n",
    "rate = rospy.Rate(control_rate)"
   ]
  },
  {
   "cell_type": "markdown",
   "metadata": {},
   "source": [
    "Data structures for storing and saving data"
   ]
  },
  {
   "cell_type": "code",
   "execution_count": 23,
   "metadata": {},
   "outputs": [
    {
     "data": {
      "text/plain": [
       "array([ 0.12814374,  0.00218198,  0.00478047, -0.00095543, -0.00032368,\n",
       "       -0.02172379, -0.07      ,  0.05      , -0.089999  , -0.        ,\n",
       "       -0.002     ,  0.001     ])"
      ]
     },
     "execution_count": 23,
     "metadata": {},
     "output_type": "execute_result"
    },
    {
     "name": "stdout",
     "output_type": "stream",
     "text": [
      "\u001b[2m\u001b[36m(pid=25223)\u001b[0m /home/lars/gym/gym/logger.py:30: UserWarning: \u001b[33mWARN: Box bound precision lowered by casting to float32\u001b[0m\n",
      "\u001b[2m\u001b[36m(pid=25223)\u001b[0m   warnings.warn(colorize('%s: %s'%('WARN', msg % args), 'yellow'))\n",
      "\u001b[2m\u001b[36m(pid=25221)\u001b[0m /home/lars/gym/gym/logger.py:30: UserWarning: \u001b[33mWARN: Box bound precision lowered by casting to float32\u001b[0m\n",
      "\u001b[2m\u001b[36m(pid=25221)\u001b[0m   warnings.warn(colorize('%s: %s'%('WARN', msg % args), 'yellow'))\n"
     ]
    }
   ],
   "source": [
    "observations"
   ]
  },
  {
   "cell_type": "code",
   "execution_count": 24,
   "metadata": {},
   "outputs": [],
   "source": [
    "observations_rec = []\n",
    "poses_rec = []\n",
    "ft_values_rec = []\n",
    "positions = []\n",
    "q_rec = []\n",
    "qd_rec = []\n",
    "rewards_rec = []\n",
    "step = 0"
   ]
  },
  {
   "cell_type": "markdown",
   "metadata": {},
   "source": [
    "# Run On Hardware"
   ]
  },
  {
   "cell_type": "code",
   "execution_count": 25,
   "metadata": {},
   "outputs": [
    {
     "data": {
      "text/plain": [
       "array([-1.        , -0.65675116,  1.        , -0.16475676, -0.59990036,\n",
       "        0.10499126], dtype=float32)"
      ]
     },
     "execution_count": 25,
     "metadata": {},
     "output_type": "execute_result"
    }
   ],
   "source": [
    "agent.compute_action([0,0,0,0,0,0,0,0,0,0,0,0])"
   ]
  },
  {
   "cell_type": "code",
   "execution_count": 26,
   "metadata": {},
   "outputs": [
    {
     "name": "stderr",
     "output_type": "stream",
     "text": [
      "/home/lars/.local/lib/python3.6/site-packages/ipykernel_launcher.py:29: FutureWarning: `rcond` parameter will change to the default of machine precision times ``max(M, N)`` where M and N are the input matrix dimensions.\n",
      "To use the future default and silence this warning we advise to pass `rcond=None`, to keep using the old, explicitly pass `rcond=-1`.\n"
     ]
    },
    {
     "name": "stdout",
     "output_type": "stream",
     "text": [
      "pos  [0.12774663 0.00235562 0.00497042]\n",
      "force  [ 0.01  0.04 -0.03]\n",
      "pos  [0.12774663 0.00235562 0.00497042]\n",
      "force  [ 0.01  0.04 -0.03]\n",
      "pos  [0.12776843 0.00235213 0.0049709 ]\n",
      "force  [-0.04 -0.    0.01]\n",
      "pos  [0.12776524 0.00235297 0.00497018]\n",
      "force  [-0.03 -0.03 -0.12]\n",
      "pos  [0.1277483  0.0023542  0.00497267]\n",
      "force  [0.58999997 0.2        0.11      ]\n",
      "pos  [0.12760612 0.00226747 0.00505513]\n",
      "force  [-0.04  0.09  0.16]\n",
      "pos  [0.12743527 0.00218727 0.00509029]\n",
      "force  [-0.08  0.07 -0.13]\n",
      "pos  [0.12739459 0.00211524 0.00513271]\n",
      "force  [0.01 0.07 0.16]\n",
      "pos  [0.12731126 0.00200944 0.00515225]\n",
      "force  [-0.37 -0.05 -0.04]\n",
      "pos  [0.12714036 0.0018584  0.00512785]\n",
      "force  [-0.25999999 -0.15000001  0.01      ]\n",
      "pos  [0.12692961 0.00164496 0.00505745]\n",
      "force  [-0.01  0.06 -0.01]\n",
      "pos  [0.12672839 0.00149598 0.00503114]\n",
      "force  [-0.19        0.18000001  0.13      ]\n",
      "pos  [0.12654321 0.00134689 0.00502723]\n",
      "force  [-0.09     -0.17      0.099999]\n",
      "pos  [0.12637661 0.00125496 0.00503535]\n",
      "force  [ 0.13  0.09 -0.02]\n",
      "pos  [0.12627928 0.0011575  0.0050564 ]\n",
      "force  [-0.43000001  0.12       -0.08      ]\n",
      "pos  [0.12595649 0.00093672 0.00505595]\n",
      "force  [-0.05 -0.06  0.01]\n",
      "pos  [0.12585402 0.00088986 0.00504968]\n",
      "force  [-0.13 -0.09  0.05]\n",
      "pos  [0.12573186 0.00078967 0.0050224 ]\n",
      "force  [ 0.61000001  0.36000001 -0.01      ]\n",
      "pos  [0.12555042 0.00065482 0.00498384]\n",
      "force  [-0.06  0.08 -0.04]\n",
      "pos  [0.12539703 0.00057186 0.00495832]\n",
      "force  [-0.12 -0.17 -0.08]\n",
      "pos  [0.12502281 0.00045081 0.00490216]\n",
      "force  [ 0.07 -0.13  0.03]\n",
      "pos  [0.12476571 0.00048187 0.00487365]\n",
      "force  [-0.34        0.47999999 -0.03      ]\n",
      "pos  [0.12454394 0.00059138 0.00484899]\n",
      "force  [-0.38999999  0.46000001 -0.22      ]\n",
      "pos  [0.12439295 0.00063679 0.00481629]\n",
      "force  [-0.28999999  0.23999999 -0.04      ]\n"
     ]
    },
    {
     "name": "stderr",
     "output_type": "stream",
     "text": [
      "/home/lars/.local/lib/python3.6/site-packages/ipykernel_launcher.py:29: FutureWarning: `rcond` parameter will change to the default of machine precision times ``max(M, N)`` where M and N are the input matrix dimensions.\n",
      "To use the future default and silence this warning we advise to pass `rcond=None`, to keep using the old, explicitly pass `rcond=-1`.\n"
     ]
    },
    {
     "name": "stdout",
     "output_type": "stream",
     "text": [
      "pos  [0.12421371 0.00060066 0.00478238]\n",
      "force  [-0.17 -0.41  0.04]\n",
      "pos  [0.12382422 0.00044788 0.00468094]\n",
      "force  [-0.04 -0.17  0.08]\n",
      "pos  [0.12368079 0.00029294 0.00460756]\n",
      "force  [0.09 0.41 0.19]\n",
      "pos  [0.12351126 0.00014393 0.00454429]\n",
      "force  [ 0.25999999 -0.05        0.08      ]\n",
      "pos  [1.23289928e-01 6.81959427e-05 4.46437346e-03]\n",
      "force  [0.1  0.14 0.03]\n",
      "pos  [1.23188727e-01 2.64637492e-05 4.36411193e-03]\n",
      "force  [ 0.30000001 -0.23       -0.11      ]\n",
      "pos  [ 0.12283321 -0.00017233  0.0041599 ]\n",
      "force  [-0.25999999  0.08        0.02      ]\n",
      "pos  [ 0.12263985 -0.00022939  0.00406494]\n",
      "force  [-0.61000001  0.25        0.11      ]\n",
      "pos  [ 0.12252931 -0.00029932  0.00398925]\n",
      "force  [ 0.18000001 -0.23       -0.03      ]\n",
      "pos  [ 0.12231332 -0.00039769  0.00394824]\n",
      "force  [0.23999999 0.03       0.25      ]\n",
      "pos  [ 0.12220874 -0.00045618  0.00393841]\n",
      "force  [-0.17       -0.05       -0.30000001]\n",
      "pos  [ 0.12193689 -0.00049707  0.00397895]\n",
      "force  [ 0.01       -0.49000001 -0.190001  ]\n",
      "pos  [ 0.12172765 -0.00049401  0.00399534]\n",
      "force  [-0.18000001 -0.06        0.25999999]\n",
      "pos  [ 0.1214619  -0.00042133  0.00399643]\n",
      "force  [-0.23999999 -0.28999999 -0.41999999]\n",
      "pos  [ 0.12126637 -0.00033471  0.00399888]\n",
      "force  [-0.41  0.13 -0.05]\n",
      "pos  [ 0.12086973 -0.00020567  0.00389653]\n",
      "force  [-0.11        0.30000001 -0.05      ]\n",
      "pos  [ 0.1207239  -0.00014557  0.00382951]\n",
      "force  [-0.18000001 -0.27000001 -0.05      ]\n"
     ]
    },
    {
     "name": "stderr",
     "output_type": "stream",
     "text": [
      "/home/lars/.local/lib/python3.6/site-packages/ipykernel_launcher.py:29: FutureWarning: `rcond` parameter will change to the default of machine precision times ``max(M, N)`` where M and N are the input matrix dimensions.\n",
      "To use the future default and silence this warning we advise to pass `rcond=None`, to keep using the old, explicitly pass `rcond=-1`.\n"
     ]
    },
    {
     "name": "stdout",
     "output_type": "stream",
     "text": [
      "pos  [ 0.12049386 -0.00027325  0.00372388]\n",
      "force  [0.25       0.17       0.41999999]\n",
      "pos  [ 0.12049386 -0.00027325  0.00372388]\n",
      "force  [0.25       0.17       0.41999999]\n",
      "pos  [ 0.12049386 -0.00027325  0.00372388]\n",
      "force  [0.25       0.17       0.41999999]\n",
      "pos  [ 0.12007733 -0.00026482  0.00369486]\n",
      "force  [0.34999999 0.11       0.099999  ]\n",
      "pos  [ 0.11968815 -0.00016755  0.00372948]\n",
      "force  [-0.13       -0.03        0.25999999]\n",
      "pos  [ 1.19541869e-01 -5.95899837e-05  3.73998540e-03]\n",
      "force  [0.12       0.64999998 0.23999999]\n",
      "pos  [1.19421303e-01 3.38999635e-05 3.76066589e-03]\n",
      "force  [ 0.14 -0.37  0.01]\n",
      "pos  [1.19244479e-01 2.60539455e-05 3.78240994e-03]\n",
      "force  [-0.06 -0.07 -0.14]\n",
      "pos  [ 1.19060881e-01 -4.03470658e-05  3.80240078e-03]\n",
      "force  [0.09       0.58999997 0.05      ]\n",
      "pos  [ 0.11873648 -0.00013617  0.00382564]\n",
      "force  [ 0.34999999 -0.33000001 -0.28999999]\n",
      "pos  [ 0.11854744 -0.00023974  0.00383773]\n",
      "force  [-0.18000001  0.55000001 -0.05      ]\n",
      "pos  [ 0.11843256 -0.00036928  0.00383885]\n",
      "force  [ 0.2  -0.25 -0.2 ]\n",
      "pos  [ 0.11832508 -0.00045681  0.00385142]\n",
      "force  [-0.34 -0.1  -0.22]\n",
      "pos  [ 0.11818083 -0.00054959  0.00387255]\n",
      "force  [-0.01  0.01  0.08]\n",
      "pos  [ 0.11783531 -0.00080707  0.00395104]\n",
      "force  [-0.22        0.28        0.43000001]\n",
      "pos  [ 0.1176903  -0.00083507  0.00400398]\n",
      "force  [-0.17 -0.03  0.04]\n",
      "pos  [ 0.11750323 -0.00085604  0.0040585 ]\n",
      "force  [0.02 0.2  0.09]\n"
     ]
    },
    {
     "name": "stderr",
     "output_type": "stream",
     "text": [
      "/home/lars/.local/lib/python3.6/site-packages/ipykernel_launcher.py:29: FutureWarning: `rcond` parameter will change to the default of machine precision times ``max(M, N)`` where M and N are the input matrix dimensions.\n",
      "To use the future default and silence this warning we advise to pass `rcond=None`, to keep using the old, explicitly pass `rcond=-1`.\n"
     ]
    },
    {
     "name": "stdout",
     "output_type": "stream",
     "text": [
      "pos  [ 0.11727332 -0.00086774  0.00413431]\n",
      "force  [-0.          0.18000001  0.11      ]\n",
      "pos  [ 0.11698407 -0.00080366  0.00421215]\n",
      "force  [-0.          0.18000001  0.11      ]\n",
      "pos  [ 0.11657743 -0.00056667  0.00439881]\n",
      "force  [ 0.11        0.22       -0.28999999]\n",
      "pos  [ 0.11639959 -0.00047251  0.00447633]\n",
      "force  [ 0.06        0.08       -0.34999999]\n",
      "pos  [ 0.1162233  -0.00040594  0.00451429]\n",
      "force  [-0.08        0.34999999 -0.16      ]\n",
      "pos  [ 0.11610809 -0.00038531  0.00451613]\n",
      "force  [-0.13  0.38  0.19]\n",
      "pos  [ 0.11594428 -0.00036364  0.00449495]\n",
      "force  [-0.1        -0.31999999 -0.31999999]\n",
      "pos  [ 0.11558475 -0.00025568  0.00435946]\n",
      "force  [-0.81999999 -0.14       -0.1       ]\n",
      "pos  [ 0.11544091 -0.00017524  0.00426379]\n",
      "force  [-0.          0.68000001  0.52999997]\n",
      "pos  [ 1.15328185e-01 -5.90064010e-05  4.16532438e-03]\n",
      "force  [-0.          0.68000001  0.52999997]\n",
      "pos  [1.15208514e-01 3.01670916e-05 4.09884099e-03]\n",
      "force  [-0.5  -0.2  -0.23]\n",
      "pos  [1.15030579e-01 6.48662972e-05 4.05494822e-03]\n",
      "force  [ 0.17       -0.28999999 -0.13      ]\n",
      "pos  [0.11463763 0.00012619 0.00411439]\n",
      "force  [-0.56 -0.2  -0.11]\n",
      "pos  [0.11442351 0.00012971 0.00420067]\n",
      "force  [-0.31999999 -0.15000001  0.23999999]\n",
      "pos  [0.11419765 0.00011703 0.0042706 ]\n",
      "force  [-0.47  0.25  0.28]\n",
      "pos  [0.11405586 0.00012731 0.00434367]\n",
      "force  [-0.05        0.54000002 -0.06      ]\n",
      "pos  [0.113875   0.00017349 0.00442315]\n",
      "force  [-0.36000001 -0.28       -0.31      ]\n",
      "pos  [0.11357556 0.00034419 0.00457148]\n",
      "force  [-0.03       -0.23999999 -0.150001  ]\n",
      "pos  [0.11342512 0.00042962 0.00469504]\n",
      "force  [-0.69999999  0.04        0.12      ]\n",
      "pos  [0.11326069 0.00050066 0.00481215]\n",
      "force  [ 0.11 -0.13 -0.09]\n",
      "pos  [0.11312187 0.0005538  0.00492927]\n",
      "force  [0.18000001 0.28       0.01      ]\n",
      "pos  [0.11286757 0.00060272 0.0050486 ]\n",
      "force  [-0.1   0.12  0.01]\n",
      "pos  [0.11247333 0.00069576 0.00527543]\n",
      "force  [-0.68000001  0.02       -0.09      ]\n",
      "pos  [0.11223292 0.00075151 0.00538255]\n",
      "force  [ 0.23  0.02 -0.28]"
     ]
    },
    {
     "name": "stderr",
     "output_type": "stream",
     "text": [
      "/home/lars/.local/lib/python3.6/site-packages/ipykernel_launcher.py:29: FutureWarning: `rcond` parameter will change to the default of machine precision times ``max(M, N)`` where M and N are the input matrix dimensions.\n",
      "To use the future default and silence this warning we advise to pass `rcond=None`, to keep using the old, explicitly pass `rcond=-1`.\n"
     ]
    },
    {
     "name": "stdout",
     "output_type": "stream",
     "text": [
      "\n",
      "pos  [0.11202281 0.00080043 0.00546319]\n",
      "force  [0.63999999 0.20999999 0.27000001]\n",
      "pos  [0.11189049 0.00083916 0.00553189]\n",
      "force  [-0.01       -0.40000001 -0.44000101]\n",
      "pos  [0.11168654 0.00086152 0.00556091]\n",
      "force  [ 0.17  0.16 -0.14]\n",
      "pos  [0.11147783 0.00107805 0.0055728 ]\n",
      "force  [-0.40000001  0.19        0.30999899]\n",
      "pos  [0.11129949 0.00119444 0.00554418]\n",
      "force  [-0.68000001  0.01       -0.28      ]\n",
      "pos  [0.11114323 0.0012751  0.00547587]\n",
      "force  [ 0.07       -0.06        0.27000001]\n",
      "pos  [0.1109974  0.00134614 0.00539242]\n",
      "force  [-0.50999999 -0.22       -0.1       ]\n",
      "pos  [0.11076576 0.00137641 0.00526659]\n",
      "force  [-0.34 -0.07  0.07]\n",
      "pos  [0.11046027 0.00145337 0.00505665]\n",
      "force  [ 0.20999999  0.18000001 -0.23      ]\n",
      "pos  [0.11024084 0.00147684 0.00498914]\n",
      "force  [-0.36000001 -0.25        0.07      ]\n",
      "pos  [0.1100773  0.00148412 0.00491685]\n",
      "force  [ 0.19        0.30000001 -0.23999999]\n",
      "pos  [0.10986897 0.00148509 0.0048673 ]\n",
      "force  [ 0.43000001  0.1        -0.190001  ]\n",
      "pos  [0.10970449 0.00147568 0.00482259]\n",
      "force  [0.06 0.01 0.08]\n",
      "pos  [0.10933037 0.00153559 0.0047402 ]\n",
      "force  [ 0.07  0.19 -0.2 ]\n",
      "pos  [0.10913496 0.00158105 0.00471957]\n",
      "force  [-0.40000001  0.16       -0.31      ]\n",
      "pos  [0.1089619  0.00159876 0.00470836]\n",
      "force  [-0.40000001  0.16       -0.31      ]\n",
      "pos  [0.108771   0.00156215 0.00469639]\n",
      "force  [ 0.38        0.19       -0.18000001]\n"
     ]
    },
    {
     "name": "stderr",
     "output_type": "stream",
     "text": [
      "/home/lars/.local/lib/python3.6/site-packages/ipykernel_launcher.py:29: FutureWarning: `rcond` parameter will change to the default of machine precision times ``max(M, N)`` where M and N are the input matrix dimensions.\n",
      "To use the future default and silence this warning we advise to pass `rcond=None`, to keep using the old, explicitly pass `rcond=-1`.\n"
     ]
    },
    {
     "name": "stdout",
     "output_type": "stream",
     "text": [
      "pos  [0.10865992 0.00146454 0.00469638]\n",
      "force  [-0.04  0.01 -0.22]\n",
      "pos  [0.10838351 0.00123936 0.0047243 ]\n",
      "force  [ 0.5   0.03 -0.06]\n",
      "pos  [0.10820419 0.00116678 0.00475019]\n",
      "force  [-0.06        0.15000001  0.23999999]\n",
      "pos  [0.10804728 0.00115013 0.00479   ]\n",
      "force  [0.17       0.18000001 0.17      ]\n",
      "pos  [0.10789185 0.00115383 0.00484201]\n",
      "force  [ 0.37 -0.14  0.09]\n",
      "pos  [0.10768112 0.00111241 0.00488944]\n",
      "force  [-0.22  0.41  0.09]\n",
      "pos  [0.10733481 0.00103293 0.00496468]\n",
      "force  [ 0.06  0.03 -0.13]\n",
      "pos  [0.10721516 0.00100467 0.0049946 ]\n",
      "force  [-0.46000001 -0.51999998 -0.04      ]\n",
      "pos  [0.1070065  0.00093638 0.00500432]\n",
      "force  [-0.47999999  0.54000002  0.17      ]\n",
      "pos  [0.10682492 0.00093119 0.00501372]\n",
      "force  [-0.23  0.16 -0.03]\n",
      "pos  [0.10667792 0.00101006 0.00501882]\n",
      "force  [ 0.11       -0.27000001  0.03      ]\n",
      "pos  [0.10629842 0.00098993 0.00505615]\n",
      "force  [ 0.30000001 -0.04        0.22      ]\n",
      "pos  [0.10620792 0.00094461 0.00510235]\n",
      "force  [-0.17       -0.49000001 -0.07      ]\n",
      "pos  [0.10600235 0.00091142 0.00516973]\n",
      "force  [ 0.07       -0.28999999  0.19      ]\n",
      "pos  [0.10585379 0.00086287 0.00527414]\n",
      "force  [ 0.17 -0.5  -0.09]\n",
      "pos  [0.10568918 0.00078748 0.00539663]\n",
      "force  [-0.34999999  0.34999999 -0.30000001]\n"
     ]
    },
    {
     "name": "stderr",
     "output_type": "stream",
     "text": [
      "/home/lars/.local/lib/python3.6/site-packages/ipykernel_launcher.py:29: FutureWarning: `rcond` parameter will change to the default of machine precision times ``max(M, N)`` where M and N are the input matrix dimensions.\n",
      "To use the future default and silence this warning we advise to pass `rcond=None`, to keep using the old, explicitly pass `rcond=-1`.\n"
     ]
    },
    {
     "name": "stdout",
     "output_type": "stream",
     "text": [
      "pos  [0.10527527 0.00067246 0.00585167]\n",
      "force  [-0.03       -0.30000001 -0.09      ]\n",
      "pos  [0.10527527 0.00067246 0.00585167]\n",
      "force  [-0.03       -0.30000001 -0.09      ]\n",
      "pos  [0.10512424 0.0005412  0.00600694]\n",
      "force  [-0.33000001 -0.61000001 -0.04      ]\n",
      "pos  [0.10499348 0.00039317 0.00614424]\n",
      "force  [ 0.34999999  0.18000001 -0.01      ]\n",
      "pos  [0.10484961 0.00025657 0.00626382]\n",
      "force  [-0.54000002 -0.1         0.37      ]\n",
      "pos  [1.04351923e-01 3.73768598e-05 6.38696086e-03]\n",
      "force  [0.13       0.15000001 0.03      ]\n",
      "pos  [1.04108155e-01 9.48590787e-06 6.39542332e-03]\n",
      "force  [-0.2  -0.05 -0.11]\n",
      "pos  [1.03852749e-01 3.07084847e-05 6.40487298e-03]\n",
      "force  [-0.28999999 -0.08       -0.01      ]\n",
      "pos  [1.03652276e-01 4.99369598e-05 6.39494974e-03]\n",
      "force  [0.22 0.13 0.07]\n",
      "pos  [0.10354067 0.00010782 0.00641992]\n",
      "force  [0.12 0.03 0.08]\n",
      "pos  [0.10323756 0.00030094 0.00653681]\n",
      "force  [0.56999999 0.28999999 0.20999999]\n",
      "pos  [0.103094   0.00035164 0.00663602]\n",
      "force  [-0.06        0.63999999  0.12      ]\n",
      "pos  [0.10289574 0.00041594 0.0067646 ]\n",
      "force  [-0.1         1.07000005  0.34      ]\n",
      "pos  [0.1026402  0.0005007  0.00689548]\n",
      "force  [0.22     0.41     0.099999]\n",
      "pos  [0.10243686 0.00055888 0.0070226 ]\n",
      "force  [-0.06       -0.30000001 -0.50999999]\n",
      "pos  [0.10205542 0.000528   0.00723117]\n",
      "force  [0.43000001 0.61000001 0.33000001]\n",
      "pos  [0.10192943 0.00052815 0.00730191]\n",
      "force  [-0.12       -0.31999999 -0.33000001]\n",
      "pos  [0.10182374 0.00042814 0.0073474 ]\n",
      "force  [ 0.08        0.44999999 -0.09      ]\n",
      "pos  [0.10170992 0.00024374 0.00738835]\n",
      "force  [ 0.14  0.09 -0.03]\n",
      "pos  [0.10147098 0.00010457 0.00740848]\n",
      "force  [-0.    0.02  0.25]\n",
      "pos  [ 1.01026095e-01 -2.64723967e-05  7.47080147e-03]\n",
      "force  [-0.09  0.07  0.05]\n",
      "pos  [ 1.00753397e-01 -1.17982036e-05  7.50165991e-03]\n",
      "force  [0.03       0.40000001 0.14      ]\n",
      "pos  [1.00551352e-01 5.19872519e-05 7.53181241e-03]\n",
      "force  [-0.07 -0.04 -0.12]\n",
      "pos  [1.00463875e-01 5.76199091e-05 7.54984654e-03]\n",
      "force  [0.33000001 0.40000001 0.16      ]\n"
     ]
    },
    {
     "name": "stderr",
     "output_type": "stream",
     "text": [
      "/home/lars/.local/lib/python3.6/site-packages/ipykernel_launcher.py:29: FutureWarning: `rcond` parameter will change to the default of machine precision times ``max(M, N)`` where M and N are the input matrix dimensions.\n",
      "To use the future default and silence this warning we advise to pass `rcond=None`, to keep using the old, explicitly pass `rcond=-1`.\n"
     ]
    },
    {
     "name": "stdout",
     "output_type": "stream",
     "text": [
      "pos  [1.00357100e-01 1.84578912e-05 7.55290920e-03]\n",
      "force  [0.22       0.44999999 0.07      ]\n",
      "pos  [ 1.00126766e-01 -4.86229765e-05  7.57618900e-03]\n",
      "force  [-0.04      0.31     -0.190001]\n",
      "pos  [ 0.09989008 -0.00012518  0.00758086]\n",
      "force  [-0.44999999  0.27000001  0.08      ]\n",
      "pos  [ 0.09966778 -0.00015931  0.0076052 ]\n",
      "force  [-0.1  -0.19 -0.28]\n",
      "pos  [ 0.09952524 -0.00019079  0.00763758]\n",
      "force  [-0.    0.19  0.12]\n",
      "pos  [ 0.09937173 -0.00030979  0.00765464]\n",
      "force  [-0.19        0.15000001  0.11      ]\n",
      "pos  [ 0.09905639 -0.00053996  0.00769023]\n",
      "force  [-0.04        0.25999999  0.08      ]\n",
      "pos  [ 0.0988483  -0.00056645  0.00768836]\n",
      "force  [-0.33000001 -0.13       -0.17      ]\n",
      "pos  [ 0.09861735 -0.00057379  0.00768463]\n",
      "force  [-0.22       -0.16       -0.20999999]\n",
      "pos  [ 0.09837494 -0.00053185  0.00769826]\n",
      "force  [0.13 0.1  0.03]\n",
      "pos  [ 0.09824152 -0.00045034  0.00771236]\n",
      "force  [-0.17       -0.02       -0.28999999]\n",
      "pos  [ 0.09791759 -0.00039777  0.00773262]\n",
      "force  [ 0.2        -0.47       -0.20999999]\n",
      "pos  [ 0.09772599 -0.00048796  0.00774921]\n",
      "force  [-0.14      0.19      0.099999]\n",
      "pos  [ 0.0975323  -0.00055843  0.00775893]\n",
      "force  [ 0.04 -0.38  0.02]\n",
      "pos  [ 0.09730767 -0.00059942  0.00779442]\n",
      "force  [-0.04 -0.14  0.11]\n",
      "pos  [ 0.0969813  -0.00067351  0.0078831 ]\n",
      "force  [-0.05 -0.06  0.05]\n",
      "pos  [ 0.09683968 -0.00062175  0.00791561]\n",
      "force  [-0.05        0.04       -0.18000001]\n"
     ]
    },
    {
     "name": "stderr",
     "output_type": "stream",
     "text": [
      "/home/lars/.local/lib/python3.6/site-packages/ipykernel_launcher.py:29: FutureWarning: `rcond` parameter will change to the default of machine precision times ``max(M, N)`` where M and N are the input matrix dimensions.\n",
      "To use the future default and silence this warning we advise to pass `rcond=None`, to keep using the old, explicitly pass `rcond=-1`.\n"
     ]
    },
    {
     "name": "stdout",
     "output_type": "stream",
     "text": [
      "pos  [ 0.09672014 -0.00055184  0.00794821]\n",
      "force  [-0.18000001 -0.02       -0.13      ]\n",
      "pos  [ 0.09659199 -0.00049099  0.00796595]\n",
      "force  [-0.12       -0.15000001 -0.47999999]\n",
      "pos  [ 0.09640238 -0.00045069  0.00797508]\n",
      "force  [ 0.03 -0.19 -0.09]\n",
      "pos  [ 0.09629695 -0.00038921  0.00800352]\n",
      "force  [-0.06       -0.15000001 -0.27000001]\n",
      "pos  [ 0.09600422 -0.00044754  0.00809515]\n",
      "force  [ 0.23999999 -0.03       -0.05      ]\n",
      "pos  [ 0.09581231 -0.0005561   0.00814521]\n",
      "force  [ 0.20999999 -0.05       -0.25      ]\n",
      "pos  [ 0.0956389  -0.00068473  0.00820526]\n",
      "force  [ 0.04  0.28 -0.04]\n",
      "pos  [ 0.09541011 -0.00084221  0.00825479]\n",
      "force  [-0.15000001 -0.64999998  0.15000001]\n",
      "pos  [ 0.09520753 -0.00096282  0.00828157]\n",
      "force  [0.12     0.11     0.059999]\n",
      "pos  [ 0.09481829 -0.00106257  0.00823997]\n",
      "force  [-0.34       -0.25999999  0.28      ]\n",
      "pos  [ 0.09465191 -0.00102599  0.00817612]\n",
      "force  [ 0.11       -0.36000001  0.03      ]\n",
      "pos  [ 0.09416813 -0.00061837  0.00788451]\n",
      "force  [ 0.31  0.2  -0.01]\n",
      "pos  [ 0.09416813 -0.00061837  0.00788451]\n",
      "force  [ 0.31  0.2  -0.01]\n",
      "pos  [ 0.09416813 -0.00061837  0.00788451]\n",
      "force  [ 0.31  0.2  -0.01]\n",
      "pos  [ 0.09383089 -0.00042821  0.00772145]\n",
      "force  [-0.06 -0.04  0.07]\n",
      "pos  [ 0.09363715 -0.00034245  0.00764713]\n",
      "force  [-0.13       -0.25999999 -0.190001  ]\n",
      "pos  [ 0.09357698 -0.000349    0.00758549]\n",
      "force  [ 0.28999999 -0.37        0.08      ]\n"
     ]
    },
    {
     "name": "stderr",
     "output_type": "stream",
     "text": [
      "/home/lars/.local/lib/python3.6/site-packages/ipykernel_launcher.py:29: FutureWarning: `rcond` parameter will change to the default of machine precision times ``max(M, N)`` where M and N are the input matrix dimensions.\n",
      "To use the future default and silence this warning we advise to pass `rcond=None`, to keep using the old, explicitly pass `rcond=-1`.\n"
     ]
    },
    {
     "name": "stdout",
     "output_type": "stream",
     "text": [
      "pos  [ 0.09326049 -0.0005938   0.0074239 ]\n",
      "force  [-0.16        0.44999999  0.099999  ]\n",
      "pos  [ 0.09312542 -0.00066601  0.00737048]\n",
      "force  [-0.41999999  0.06       -0.02      ]\n",
      "pos  [ 0.0929726  -0.00071632  0.00731055]\n",
      "force  [0.23999999 0.28999999 0.41999999]\n",
      "pos  [ 0.09280524 -0.00079255  0.00724231]\n",
      "force  [0.07       0.79000002 0.059999  ]\n",
      "pos  [ 0.09252433 -0.00082457  0.00717086]\n",
      "force  [-0.44999999 -0.2        -0.70999998]\n",
      "pos  [ 0.09231895 -0.00080196  0.0070969 ]\n",
      "force  [-0.47999999  0.60000002  0.30000001]\n",
      "pos  [ 0.09216592 -0.0008119   0.00703781]\n",
      "force  [-0.1   0.06  0.02]\n",
      "pos  [ 0.09185213 -0.00098724  0.00695554]\n",
      "force  [-0.47        0.41999999 -0.05      ]\n",
      "pos  [ 0.09169486 -0.00101326  0.00692207]\n",
      "force  [-0.36000001  0.23999999  0.09      ]\n",
      "pos  [ 0.0915579  -0.00106501  0.00690148]\n",
      "force  [-0.33000001  0.01       -0.38999999]\n",
      "pos  [ 0.09137417 -0.00115673  0.0068824 ]\n",
      "force  [0.05       0.33000001 0.01      ]\n",
      "pos  [ 0.09115402 -0.0011932   0.0068949 ]\n",
      "force  [-0.37 -0.25 -0.08]\n",
      "pos  [ 0.09086795 -0.00124763  0.00702937]\n",
      "force  [-0.31       -0.30000001 -0.56999999]\n",
      "pos  [ 0.09075216 -0.00130761  0.00711722]\n",
      "force  [0.09 0.03 0.22]\n",
      "pos  [ 0.09061015 -0.0013728   0.00718771]\n",
      "force  [ 0.47       -0.23999999 -0.38999999]\n",
      "pos  [ 0.09046324 -0.00145597  0.00723693]\n",
      "force  [-0.28999999 -0.         -0.        ]\n",
      "pos  [ 0.09027123 -0.00152793  0.0072682 ]\n",
      "force  [-0.20999999  0.63        0.30000001]\n",
      "pos  [ 0.08973294 -0.00148648  0.00725676]\n",
      "force  [ 0.07  0.07 -0.  ]\n",
      "pos  [ 0.08952967 -0.00135285  0.00726639]\n",
      "force  [ 0.34999999 -0.17       -0.01      ]\n",
      "pos  [ 0.08928136 -0.00119731  0.00729237]\n",
      "force  [ 0.34999999 -0.17       -0.01      ]\n",
      "pos  [ 0.08906352 -0.00103613  0.00734569]\n",
      "force  [-0.2         0.44999999  0.16      ]\n",
      "pos  [ 0.08888504 -0.0008608   0.00741555]\n",
      "force  [-0.01      0.1       0.059999]\n",
      "pos  [ 0.08860745 -0.00069315  0.00759263]\n",
      "force  [-0.49000001  0.25999999  0.04      ]\n",
      "pos  [ 0.08847421 -0.00073476  0.00765971]\n",
      "force  [0.07       0.46000001 0.27000001]\n",
      "pos  [ 0.08834811 -0.00079045  0.00770129]\n",
      "force  [-0.31999999  0.31        0.40000001]\n"
     ]
    },
    {
     "name": "stderr",
     "output_type": "stream",
     "text": [
      "/home/lars/.local/lib/python3.6/site-packages/ipykernel_launcher.py:29: FutureWarning: `rcond` parameter will change to the default of machine precision times ``max(M, N)`` where M and N are the input matrix dimensions.\n",
      "To use the future default and silence this warning we advise to pass `rcond=None`, to keep using the old, explicitly pass `rcond=-1`.\n"
     ]
    },
    {
     "name": "stdout",
     "output_type": "stream",
     "text": [
      "pos  [ 0.08819298 -0.00085305  0.00771922]\n",
      "force  [-0.25 -0.02 -0.25]\n",
      "pos  [ 0.0880602  -0.00094792  0.00772175]\n",
      "force  [-0.23999999  0.28        0.08      ]\n",
      "pos  [ 0.08766104 -0.0010182   0.00773   ]\n",
      "force  [-0.03        0.12       -0.33000001]\n",
      "pos  [ 0.08750492 -0.00105003  0.00774079]\n",
      "force  [ 0.11  0.25 -0.1 ]\n",
      "pos  [ 0.08743215 -0.00114185  0.00777   ]\n",
      "force  [ 0.25999999 -0.2        -0.38      ]\n",
      "pos  [ 0.08725694 -0.00127314  0.00779214]\n",
      "force  [ 0.1         0.43000001 -0.31999999]\n",
      "pos  [ 0.08704273 -0.00137767  0.00781463]\n",
      "force  [0.15000001 0.34       0.23      ]\n",
      "pos  [ 0.08671129 -0.00142846  0.00776549]\n",
      "force  [-0.41  0.62  0.22]\n",
      "pos  [ 0.08649037 -0.00141138  0.00768116]\n",
      "force  [-0.15000001 -0.16        0.05      ]\n",
      "pos  [ 0.08630481 -0.00136432  0.00757819]\n",
      "force  [-0.25999999  0.43000001  0.20999999]\n",
      "pos  [ 0.08612506 -0.00126534  0.00746016]\n",
      "force  [ 0.18000001  0.38       -0.02      ]\n",
      "pos  [ 0.08595084 -0.00116928  0.00736489]\n",
      "force  [-0.13       -0.28999999 -0.150001  ]\n",
      "pos  [ 0.08552021 -0.00109573  0.00727813]\n",
      "force  [ 0.2         0.51999998 -0.        ]\n",
      "pos  [ 0.08531441 -0.00099449  0.00726858]\n",
      "force  [-0.08 -0.47 -0.28]\n",
      "pos  [ 0.08518069 -0.00091021  0.00728388]\n",
      "force  [ 0.13       -0.05       -0.20999999]\n",
      "pos  [ 0.0850589 -0.0009177  0.0072989]\n",
      "force  [-0.25        0.58999997  0.12      ]\n",
      "pos  [ 0.08482287 -0.0009137   0.00729854]\n",
      "force  [-0.46000001  0.23999999  0.18000001]\n",
      "pos  [ 0.08464614 -0.00086856  0.00734081]\n",
      "force  [-0.51999998 -0.23999999 -0.23      ]\n"
     ]
    },
    {
     "name": "stderr",
     "output_type": "stream",
     "text": [
      "/home/lars/.local/lib/python3.6/site-packages/ipykernel_launcher.py:29: FutureWarning: `rcond` parameter will change to the default of machine precision times ``max(M, N)`` where M and N are the input matrix dimensions.\n",
      "To use the future default and silence this warning we advise to pass `rcond=None`, to keep using the old, explicitly pass `rcond=-1`.\n"
     ]
    },
    {
     "name": "stdout",
     "output_type": "stream",
     "text": [
      "pos  [ 0.08451939 -0.00096637  0.00736801]\n",
      "force  [0.11       0.61000001 0.27000001]\n",
      "pos  [ 0.0842743  -0.00102001  0.00738901]\n",
      "force  [-0.28999999  0.15000001  0.099999  ]\n",
      "pos  [ 0.08413327 -0.00101185  0.0074135 ]\n",
      "force  [-0.25       -0.41999999 -0.25      ]\n",
      "pos  [ 0.0840399  -0.0010566   0.00743347]\n",
      "force  [-0.43000001  0.17        0.099999  ]\n",
      "pos  [ 0.08365852 -0.00121898  0.00739121]\n",
      "force  [ 0.27000001 -0.14       -0.34      ]\n",
      "pos  [ 0.08347458 -0.00118971  0.007339  ]\n",
      "force  [-0.1        -0.47       -0.30000001]\n",
      "pos  [ 0.08330975 -0.00115727  0.0072615 ]\n",
      "force  [ 0.34 -0.14 -0.  ]\n",
      "pos  [ 0.0831041  -0.00110883  0.00714246]\n",
      "force  [ 0.11 -0.   -0.38]\n",
      "pos  [ 0.0828209 -0.0009725  0.0069924]\n",
      "force  [ 0.06 -0.   -0.  ]\n",
      "pos  [ 0.08253039 -0.00072392  0.00674869]\n",
      "force  [ 0.05        0.06       -0.18000001]\n",
      "pos  [ 0.0823272  -0.00075093  0.00666118]\n",
      "force  [ 0.13        0.36000001 -0.07      ]\n",
      "pos  [ 0.0820297  -0.00075268  0.00661506]\n",
      "force  [-0.02        0.20999999 -0.13      ]\n",
      "pos  [ 0.08189193 -0.00070491  0.00661493]\n",
      "force  [ 0.15000001 -0.14       -0.        ]\n",
      "pos  [ 0.08173274 -0.0006793   0.00662553]\n",
      "force  [0.01 0.23 0.07]\n",
      "pos  [ 0.08136097 -0.00050527  0.00662169]\n",
      "force  [0.57999998 0.73000002 0.16      ]\n",
      "pos  [ 0.08126082 -0.00036853  0.00657905]\n",
      "force  [-0.20999999  0.60000002 -0.01      ]\n",
      "pos  [ 0.08113086 -0.00034028  0.00650808]\n",
      "force  [-0.20999999  0.27000001 -0.11      ]\n",
      "pos  [ 0.08096937 -0.00037151  0.00641206]\n",
      "force  [ 0.34999999  0.18000001 -0.25      ]\n"
     ]
    },
    {
     "name": "stderr",
     "output_type": "stream",
     "text": [
      "/home/lars/.local/lib/python3.6/site-packages/ipykernel_launcher.py:29: FutureWarning: `rcond` parameter will change to the default of machine precision times ``max(M, N)`` where M and N are the input matrix dimensions.\n",
      "To use the future default and silence this warning we advise to pass `rcond=None`, to keep using the old, explicitly pass `rcond=-1`.\n"
     ]
    },
    {
     "name": "stdout",
     "output_type": "stream",
     "text": [
      "pos  [ 0.0808356  -0.00037704  0.00629974]\n",
      "force  [-0.2         0.05       -0.23999999]\n",
      "pos  [ 0.08050779 -0.00054078  0.00606383]\n",
      "force  [0.15000001 0.75999999 0.01      ]\n",
      "pos  [ 0.08027629 -0.00064004  0.00593055]\n",
      "force  [-0.18000001  0.5         0.12      ]\n",
      "pos  [ 0.08007975 -0.00065681  0.00579189]\n",
      "force  [-0.31       -0.22       -0.50999999]\n",
      "pos  [ 0.07987734 -0.0006792   0.00565479]\n",
      "force  [0.16 0.31 0.16]\n",
      "pos  [ 0.07966492 -0.00074483  0.00551483]\n",
      "force  [0.16 0.22 0.17]\n",
      "pos  [ 0.07931906 -0.00064946  0.00529665]\n",
      "force  [-0.22       -0.28999999 -0.36000001]\n",
      "pos  [ 0.0791849  -0.00062622  0.00523066]\n",
      "force  [0.34 0.12 0.13]\n",
      "pos  [ 0.07902879 -0.0006479   0.00517649]\n",
      "force  [-0.01  0.16  0.05]\n",
      "pos  [ 0.07879551 -0.00062342  0.00514915]\n",
      "force  [-0.05        0.41999999  0.099999  ]\n",
      "pos  [ 0.07862925 -0.00056321  0.00515822]\n",
      "force  [-0.02       -0.34999999  0.07      ]\n",
      "pos  [ 0.07817674 -0.00057119  0.00519435]\n",
      "force  [ 0.18000001 -0.15000001 -0.01      ]\n",
      "pos  [ 0.0779947  -0.00052806  0.0052075 ]\n",
      "force  [ 0.50999999 -0.38999999 -0.18000001]\n",
      "pos  [ 0.07786987 -0.00047032  0.00521403]\n",
      "force  [-0.38       -0.25       -0.31999999]\n",
      "pos  [ 0.07777308 -0.00050649  0.00520651]\n",
      "force  [-0.20999999 -0.08        0.33000001]\n",
      "pos  [ 0.07761652 -0.00058084  0.00518231]\n",
      "force  [-0.25        0.05        0.18000001]\n",
      "pos  [ 0.07727949 -0.00064112  0.00512213]\n",
      "force  [-0.   -0.03  0.08]\n",
      "pos  [ 0.07716455 -0.00077483  0.0050712 ]\n",
      "force  [-0.34999999 -0.15000001 -0.49000001]\n"
     ]
    },
    {
     "name": "stderr",
     "output_type": "stream",
     "text": [
      "/home/lars/.local/lib/python3.6/site-packages/ipykernel_launcher.py:29: FutureWarning: `rcond` parameter will change to the default of machine precision times ``max(M, N)`` where M and N are the input matrix dimensions.\n",
      "To use the future default and silence this warning we advise to pass `rcond=None`, to keep using the old, explicitly pass `rcond=-1`.\n"
     ]
    },
    {
     "name": "stdout",
     "output_type": "stream",
     "text": [
      "pos  [ 0.07699063 -0.00091363  0.00500866]\n",
      "force  [-0.41999999 -0.19       -0.34      ]\n",
      "pos  [ 0.07678146 -0.00097974  0.00492091]\n",
      "force  [-0.05  0.06  0.09]\n",
      "pos  [ 0.07662625 -0.00103893  0.0048187 ]\n",
      "force  [-0.1        -0.03       -0.55000001]\n",
      "pos  [ 0.07627357 -0.00123426  0.00464337]\n",
      "force  [ 0.18000001 -0.06       -0.150001  ]\n",
      "pos  [ 0.07605313 -0.001265    0.00454504]\n",
      "force  [ 0.13 -0.13 -0.  ]\n",
      "pos  [ 0.07589954 -0.00128462  0.00446428]\n",
      "force  [ 0.33000001 -0.11       -0.06      ]\n",
      "pos  [ 0.0756965  -0.0013335   0.00440453]\n",
      "force  [ 0.09  0.02 -0.04]\n",
      "pos  [ 0.07546797 -0.00132215  0.00434602]\n",
      "force  [-0.07        0.30000001 -0.        ]\n",
      "pos  [ 0.07514526 -0.00108971  0.00425995]\n",
      "force  [ 0.40000001 -0.46000001 -0.09      ]\n",
      "pos  [ 0.07502306 -0.00104312  0.00421294]\n",
      "force  [-0.1  -0.02  0.13]\n",
      "pos  [ 0.07483745 -0.00103757  0.00414772]\n",
      "force  [-0.25  0.02 -0.07]\n",
      "pos  [ 0.07462866 -0.00100606  0.00407199]\n",
      "force  [ 0.13  0.1  -0.22]\n",
      "pos  [ 0.07443783 -0.00097291  0.003996  ]\n",
      "force  [ 0.11       -0.28       -0.28999999]\n",
      "pos  [ 0.07408081 -0.00098572  0.00391075]\n",
      "force  [-0.17        0.18000001 -0.34999999]\n",
      "pos  [ 0.07396251 -0.00093352  0.00389018]\n",
      "force  [-0.03        0.49000001  0.16      ]\n",
      "pos  [ 0.07383674 -0.00090104  0.00387316]\n",
      "force  [-0.14       -0.03       -0.33000001]\n",
      "pos  [ 0.07371219 -0.00093964  0.00386366]\n",
      "force  [-0.13        0.19       -0.27000001]\n"
     ]
    },
    {
     "name": "stderr",
     "output_type": "stream",
     "text": [
      "/home/lars/.local/lib/python3.6/site-packages/ipykernel_launcher.py:29: FutureWarning: `rcond` parameter will change to the default of machine precision times ``max(M, N)`` where M and N are the input matrix dimensions.\n",
      "To use the future default and silence this warning we advise to pass `rcond=None`, to keep using the old, explicitly pass `rcond=-1`.\n"
     ]
    },
    {
     "name": "stdout",
     "output_type": "stream",
     "text": [
      "pos  [ 0.07334907 -0.0010526   0.00384041]\n",
      "force  [ 0.11  0.31 -0.07]\n",
      "pos  [ 0.07317498 -0.00109646  0.00383265]\n",
      "force  [-0.18000001 -0.         -0.14      ]\n",
      "pos  [ 0.07300238 -0.00116664  0.00382958]\n",
      "force  [ 0.18000001  0.12       -0.07      ]\n",
      "pos  [ 0.07280535 -0.0012136   0.00382964]\n",
      "force  [-0.08        0.20999999 -0.16      ]\n",
      "pos  [ 0.07266744 -0.00120938  0.00383394]\n",
      "force  [0.09 0.28 0.01]\n",
      "pos  [ 0.07250161 -0.00117863  0.003852  ]\n",
      "force  [-0.23999999 -0.05        0.03      ]\n",
      "pos  [ 0.07215778 -0.0011907   0.00390352]\n",
      "force  [0.23 0.22 0.01]\n",
      "pos  [ 0.07198425 -0.00119292  0.0039291 ]\n",
      "force  [0.03       0.37       0.18000001]\n",
      "pos  [ 0.07179218 -0.00116506  0.00395272]\n",
      "force  [-0.09  0.28 -0.  ]\n",
      "pos  [ 0.07153912 -0.00111853  0.00395797]\n",
      "force  [-0.23999999  0.51999998  0.14      ]\n",
      "pos  [ 0.07138224 -0.00105309  0.00395733]\n",
      "force  [ 0.05 -0.2   0.01]\n",
      "pos  [ 0.07105051 -0.00099449  0.00388854]\n",
      "force  [-0.25999999  0.73000002  0.30000001]\n",
      "pos  [ 0.0708851  -0.00104389  0.00381928]\n",
      "force  [-0.1  -0.12  0.03]\n",
      "pos  [ 0.07074338 -0.00113445  0.00376008]\n",
      "force  [-0.30000001 -0.11       -0.31999999]\n",
      "pos  [ 0.07053711 -0.00122429  0.003687  ]\n",
      "force  [-0.25        0.20999999  0.25      ]\n",
      "pos  [ 0.07038242 -0.00128998  0.00363004]\n",
      "force  [ 0.01 -0.56 -0.09]\n",
      "pos  [ 0.07007133 -0.00150044  0.00355167]\n",
      "force  [-0.28        0.43000001  0.04      ]\n",
      "pos  [ 0.06992938 -0.00165233  0.00349121]\n",
      "force  [-0.02        0.31999999  0.22      ]\n",
      "pos  [ 0.06977032 -0.00180889  0.00343259]\n",
      "force  [-0.46000001  0.57999998 -0.01      ]\n",
      "pos  [ 0.06958617 -0.00194365  0.00335879]\n",
      "force  [-0.05       -0.34999999 -0.14      ]\n",
      "pos  [ 0.06920988 -0.00206526  0.00323357]\n",
      "force  [-0.01  0.11 -0.13]\n",
      "pos  [ 0.068999   -0.00207058  0.00314868]\n",
      "force  [0.15000001 0.14       0.01      ]\n",
      "pos  [ 0.06879991 -0.00207394  0.00303231]\n",
      "force  [0.09       0.38999999 0.23999999]\n"
     ]
    },
    {
     "name": "stderr",
     "output_type": "stream",
     "text": [
      "/home/lars/.local/lib/python3.6/site-packages/ipykernel_launcher.py:29: FutureWarning: `rcond` parameter will change to the default of machine precision times ``max(M, N)`` where M and N are the input matrix dimensions.\n",
      "To use the future default and silence this warning we advise to pass `rcond=None`, to keep using the old, explicitly pass `rcond=-1`.\n"
     ]
    },
    {
     "name": "stdout",
     "output_type": "stream",
     "text": [
      "pos  [ 0.06859816 -0.00211114  0.00289671]\n",
      "force  [0.47999999 0.38       0.16      ]\n",
      "pos  [ 0.06796584 -0.00195084  0.00248219]\n",
      "force  [ 0.11 -0.08 -0.05]\n",
      "pos  [ 0.06796584 -0.00195084  0.00248219]\n",
      "force  [ 0.11 -0.08 -0.05]\n",
      "pos  [ 0.06778173 -0.00184797  0.00235525]\n",
      "force  [-0.17 -0.07 -0.1 ]\n",
      "pos  [ 0.0675864  -0.00173849  0.0022264 ]\n",
      "force  [-0.08        0.31999999  0.40000001]\n",
      "pos  [ 0.06741116 -0.00159974  0.00207771]\n",
      "force  [ 0.02        0.60000002 -0.12      ]\n",
      "pos  [ 0.06724291 -0.00151796  0.00194941]\n",
      "force  [-0.41999999 -0.03       -0.41      ]\n",
      "pos  [ 0.06707148 -0.00148036  0.00185528]\n",
      "force  [-0.28        0.47999999  0.51999998]\n",
      "pos  [ 0.06671549 -0.00140499  0.00175042]\n",
      "force  [-0.22 -0.04 -0.38]\n",
      "pos  [ 0.06657899 -0.00143915  0.00174409]\n",
      "force  [-0.34999999  0.07       -0.01      ]\n",
      "pos  [ 0.0664242  -0.00154706  0.00173675]\n",
      "force  [-0.34999999  0.36000001 -0.07      ]\n",
      "pos  [ 0.06621433 -0.00166407  0.00170478]\n",
      "force  [-0.80000001  0.19        0.01      ]\n",
      "pos  [ 0.06603847 -0.00176826  0.00167552]\n",
      "force  [-0.20999999  0.50999999  0.099999  ]\n",
      "pos  [ 0.06562936 -0.00191865  0.00158224]\n",
      "force  [-0.38999999  0.5        -0.03      ]\n",
      "pos  [ 0.06545644 -0.00193352  0.00151958]\n",
      "force  [-0.18000001  0.11        0.01      ]\n",
      "pos  [ 0.06531867 -0.00196087  0.00148011]\n",
      "force  [-0.25 -0.05 -0.05]\n"
     ]
    },
    {
     "name": "stderr",
     "output_type": "stream",
     "text": [
      "/home/lars/.local/lib/python3.6/site-packages/ipykernel_launcher.py:29: FutureWarning: `rcond` parameter will change to the default of machine precision times ``max(M, N)`` where M and N are the input matrix dimensions.\n",
      "To use the future default and silence this warning we advise to pass `rcond=None`, to keep using the old, explicitly pass `rcond=-1`.\n"
     ]
    },
    {
     "name": "stdout",
     "output_type": "stream",
     "text": [
      "pos  [ 0.06501914 -0.00215199  0.0013844 ]\n",
      "force  [-0.08  0.11 -0.  ]\n",
      "pos  [ 0.06485036 -0.00225864  0.00134019]\n",
      "force  [ 0.02 -0.37 -0.14]\n",
      "pos  [ 0.06463822 -0.00234135  0.00128915]\n",
      "force  [-0.2        -0.43000001 -0.2       ]\n",
      "pos  [ 0.06442139 -0.00240036  0.00123146]\n",
      "force  [-0.52999997  0.40000001 -0.23      ]\n",
      "pos  [ 0.06415652 -0.00241358  0.00120585]\n",
      "force  [0.18000001 0.68000001 0.55000001]\n",
      "pos  [ 0.06396437 -0.00236252  0.00118743]\n",
      "force  [-0.12        0.43000001  0.15000001]\n",
      "pos  [ 0.06376574 -0.00226532  0.00117827]\n",
      "force  [-0.14 -0.    0.04]\n",
      "pos  [ 0.06345139 -0.00218974  0.00121937]\n",
      "force  [ 0.46000001 -0.2        -0.01      ]\n",
      "pos  [ 0.06331107 -0.00220496  0.00122585]\n",
      "force  [-0.19        0.47999999  0.03      ]\n",
      "pos  [ 0.06317351 -0.00224958  0.00123852]\n",
      "force  [-0.05        0.20999999  0.41999999]\n",
      "pos  [ 0.06302784 -0.00234173  0.00125929]\n",
      "force  [ 0.43000001 -0.18000001 -0.150001  ]\n",
      "pos  [ 0.06285306 -0.00244134  0.00125652]\n",
      "force  [-0.28999999  0.28999999 -0.05      ]\n",
      "pos  [ 0.06252537 -0.00256241  0.00122979]\n",
      "force  [0.25       0.20999999 0.17      ]\n",
      "pos  [ 0.06235544 -0.00267352  0.00117907]\n",
      "force  [-0.02        0.47999999  0.2       ]\n",
      "pos  [ 0.06216666 -0.00283658  0.00110036]\n",
      "force  [0.08       0.31       0.18000001]\n",
      "pos  [ 0.06200206 -0.00297851  0.00101219]\n",
      "force  [0.44999999 0.36000001 0.33000001]\n",
      "pos  [ 0.06178429 -0.00306641  0.00090973]\n",
      "force  [-0.1         0.23999999 -0.12      ]\n",
      "pos  [ 0.06140367 -0.00305055  0.00065458]\n",
      "force  [0.22     0.02     0.099999]\n",
      "pos  [ 0.06120678 -0.00293112  0.00051651]\n",
      "force  [-0.25  0.37 -0.23]\n",
      "pos  [ 0.06084441 -0.00262048  0.00020243]\n",
      "force  [-0.2  -0.03  0.02]\n",
      "pos  [ 0.06084441 -0.00262048  0.00020243]\n",
      "force  [-0.2  -0.03  0.02]\n",
      "pos  [ 6.06418103e-02 -2.49817618e-03  5.23636591e-05]\n",
      "force  [0.55000001 0.09       0.13      ]\n",
      "pos  [ 0.06023432 -0.00228225 -0.00014996]\n",
      "force  [-0.68000001 -0.18000001 -0.38999999]\n"
     ]
    },
    {
     "name": "stderr",
     "output_type": "stream",
     "text": [
      "/home/lars/.local/lib/python3.6/site-packages/ipykernel_launcher.py:29: FutureWarning: `rcond` parameter will change to the default of machine precision times ``max(M, N)`` where M and N are the input matrix dimensions.\n",
      "To use the future default and silence this warning we advise to pass `rcond=None`, to keep using the old, explicitly pass `rcond=-1`.\n"
     ]
    },
    {
     "name": "stdout",
     "output_type": "stream",
     "text": [
      "pos  [ 0.06006415 -0.00222758 -0.00020357]\n",
      "force  [ 0.40000001 -1.50999999 -0.07      ]\n",
      "pos  [ 0.05985307 -0.00219535 -0.00023313]\n",
      "force  [-0.44       -0.44999999  0.23999999]\n",
      "pos  [ 0.05966458 -0.00216179 -0.00024787]\n",
      "force  [-0.87        0.23        0.31999999]\n",
      "pos  [ 0.05946447 -0.00214214 -0.00026043]\n",
      "force  [-0.97000003 -1.10000002  0.28      ]\n",
      "pos  [ 0.0591064  -0.00207323 -0.00029352]\n",
      "force  [-2.53999996 -1.28999996  1.08000004]\n",
      "pos  [ 0.05896479 -0.00203177 -0.0003047 ]\n",
      "force  [-3.55999994 -1.21000004  1.22000003]\n",
      "pos  [ 0.05880295 -0.00201051 -0.00031406]\n",
      "force  [-4.19999981 -1.67999995  0.34      ]\n",
      "pos  [ 0.05865468 -0.00197658 -0.00033018]\n",
      "force  [-4.23000002 -1.87        0.70999998]\n",
      "pos  [ 0.05848374 -0.00193998 -0.0003466 ]\n",
      "force  [-4.61999989 -1.96000004 -0.190001  ]\n",
      "pos  [ 0.0581932  -0.0019303  -0.00038931]\n",
      "force  [-7.92000008 -3.02999997  2.17000008]\n",
      "pos  [ 0.05803788 -0.00192604 -0.00043865]\n",
      "force  [-10.80000019   0.62        -1.40000105]\n",
      "pos  [ 0.0578915  -0.00193207 -0.00050413]\n",
      "force  [-11.27000046   0.2          1.71000004]\n",
      "pos  [ 0.05772256 -0.00193883 -0.00058702]\n",
      "force  [-11.71000004   1.63999999   2.        ]\n",
      "pos  [ 0.05755659 -0.00190916 -0.00066258]\n",
      "force  [-10.86999989   3.86999989   1.99000001]\n",
      "pos  [ 0.05716536 -0.00184921 -0.00074851]\n",
      "force  [-10.69999981   2.54999995   1.54999995]\n",
      "pos  [ 0.0567792  -0.00180553 -0.00073531]\n",
      "force  [-10.10000038   0.80000001   0.82999998]\n",
      "pos  [ 0.0567792  -0.00180553 -0.00073531]\n",
      "force  [-10.10000038   0.80000001   0.82999998]\n"
     ]
    },
    {
     "name": "stderr",
     "output_type": "stream",
     "text": [
      "/home/lars/.local/lib/python3.6/site-packages/ipykernel_launcher.py:29: FutureWarning: `rcond` parameter will change to the default of machine precision times ``max(M, N)`` where M and N are the input matrix dimensions.\n",
      "To use the future default and silence this warning we advise to pass `rcond=None`, to keep using the old, explicitly pass `rcond=-1`.\n"
     ]
    },
    {
     "name": "stdout",
     "output_type": "stream",
     "text": [
      "pos  [ 0.05655311 -0.00181166 -0.00071293]\n",
      "force  [-9.85000038 -0.54000002  1.15999997]\n",
      "pos  [ 0.05634446 -0.00182855 -0.00068524]\n",
      "force  [-8.88000011 -0.69        0.30000001]\n",
      "pos  [ 0.05593619 -0.0018471  -0.00062213]\n",
      "force  [-7.36999989 -4.19999981  0.81999999]\n",
      "pos  [ 0.05577337 -0.0018603  -0.000575  ]\n",
      "force  [-5.76999998 -7.57999992  3.19000006]\n",
      "pos  [ 0.05560164 -0.00186531 -0.00052014]\n",
      "force  [-4.55000019 -6.76000023  1.21000004]\n",
      "pos  [ 0.05542615 -0.00187041 -0.00045629]\n",
      "force  [-4.28000021 -7.59000015  0.43000001]\n",
      "pos  [ 0.05525468 -0.0018842  -0.00039586]\n",
      "force  [-4.9000001  -9.38000011  1.08000004]\n",
      "pos  [ 0.05492518 -0.00189004 -0.00031219]\n",
      "force  [-3.46000004 -6.03999996  0.41      ]\n",
      "pos  [ 0.05475917 -0.00188622 -0.00029998]\n",
      "force  [-1.95000005 -3.38000011  0.2       ]\n",
      "pos  [ 0.05459081 -0.00187525 -0.00030705]\n",
      "force  [-0.85000002 -1.28999996  0.69999999]\n",
      "pos  [ 0.05439312 -0.00183046 -0.00031507]\n",
      "force  [-2.0999999  -0.25        0.44999999]\n",
      "pos  [ 0.05421669 -0.00173839 -0.00031888]\n",
      "force  [-1.25        0.04        0.57999998]\n",
      "pos  [ 0.05377334 -0.00145172 -0.00030412]\n",
      "force  [-0.14        0.22        0.28999999]\n",
      "pos  [ 0.05356823 -0.00124767 -0.00024905]\n",
      "force  [ 0.85000002 -0.11        0.28999999]\n",
      "pos  [ 0.05337984 -0.00105222 -0.00017307]\n",
      "force  [ 0.05 -0.12  0.01]\n",
      "pos  [ 0.05321253 -0.00092667 -0.00011072]\n",
      "force  [ 0.5      -0.04      0.099999]\n",
      "pos  [ 5.30772805e-02 -8.99432809e-04 -5.22244227e-05]\n",
      "force  [0.31999999 0.12       0.17      ]\n",
      "pos  [ 5.27734570e-02 -1.07224099e-03 -4.22880039e-05]\n",
      "force  [0.37 0.09 0.28]\n",
      "pos  [ 5.26378751e-02 -1.17926626e-03 -9.74906725e-05]\n",
      "force  [0.74000001 0.05       0.36000001]\n",
      "pos  [ 0.05250291 -0.00123841 -0.00015143]\n",
      "force  [0.38       0.04       0.34999901]\n",
      "pos  [ 0.05241326 -0.00122239 -0.00021072]\n",
      "force  [-0.27000001  0.02        0.37      ]\n",
      "pos  [ 0.05233252 -0.00108578 -0.00028323]\n",
      "force  [-0.58999997 -0.02        0.44      ]\n",
      "pos  [ 0.05232912 -0.00103746 -0.00029762]\n",
      "force  [-0.60000002  0.14        0.44999999]\n"
     ]
    },
    {
     "name": "stderr",
     "output_type": "stream",
     "text": [
      "/home/lars/.local/lib/python3.6/site-packages/ipykernel_launcher.py:29: FutureWarning: `rcond` parameter will change to the default of machine precision times ``max(M, N)`` where M and N are the input matrix dimensions.\n",
      "To use the future default and silence this warning we advise to pass `rcond=None`, to keep using the old, explicitly pass `rcond=-1`.\n"
     ]
    },
    {
     "name": "stdout",
     "output_type": "stream",
     "text": [
      "pos  [ 0.05231505 -0.00101923 -0.00030101]\n",
      "force  [-0.28       -0.02        0.31999999]\n",
      "pos  [ 0.05228112 -0.00101836 -0.00030133]\n",
      "force  [-0.82999998 -0.1         0.28999999]\n",
      "pos  [ 0.05223938 -0.00101213 -0.00030368]\n",
      "force  [-0.63       -0.25        0.28999999]\n",
      "pos  [ 0.0522559  -0.0009979  -0.00030446]\n",
      "force  [-0.94 -0.09  0.34]\n",
      "pos  [ 0.05221393 -0.00096659 -0.0003211 ]\n",
      "force  [-2.3599999  -0.81999999 -0.03      ]\n",
      "pos  [ 0.05222116 -0.00094325 -0.00033272]\n",
      "force  [-3.16000009 -1.37       -0.25      ]\n",
      "pos  [ 0.05223506 -0.00092685 -0.00034505]\n",
      "force  [-3.0999999  -1.32000005 -0.34      ]\n",
      "pos  [ 0.0521832  -0.00092809 -0.00035955]\n",
      "force  [-3.13000011 -1.28999996 -0.25      ]\n",
      "pos  [ 0.05221189 -0.00091599 -0.00036684]\n",
      "force  [-3.33999991 -1.41999996 -0.44000101]\n",
      "pos  [ 0.05219956 -0.00091763 -0.00037163]\n",
      "force  [-2.83999991 -1.12        0.02      ]\n",
      "pos  [ 0.05219123 -0.00091857 -0.00037211]\n",
      "force  [-3.01999998 -1.07000005 -0.16      ]\n",
      "pos  [ 0.05218138 -0.00092261 -0.00037279]\n",
      "force  [-2.83999991 -1.16999996 -0.25999999]\n",
      "pos  [ 0.05218138 -0.00092261 -0.00037279]\n",
      "force  [-2.96000004 -1.19000006 -0.11      ]\n",
      "pos  [ 0.05215227 -0.00093681 -0.0003742 ]\n",
      "force  [-2.99000001 -1.16999996 -0.56      ]\n",
      "pos  [ 0.0520694  -0.00096416 -0.00038051]\n",
      "force  [-3.         -1.05999994 -0.31999999]\n",
      "pos  [ 0.05209931 -0.00096376 -0.0003782 ]\n",
      "force  [-2.97000003 -1.14999998 -0.34      ]\n",
      "pos  [ 0.0521361  -0.00095863 -0.0003754 ]\n",
      "force  [-3.04999995 -1.15999997 -0.30000001]\n",
      "pos  [ 0.05216241 -0.00095849 -0.000376  ]"
     ]
    },
    {
     "name": "stderr",
     "output_type": "stream",
     "text": [
      "/home/lars/.local/lib/python3.6/site-packages/ipykernel_launcher.py:29: FutureWarning: `rcond` parameter will change to the default of machine precision times ``max(M, N)`` where M and N are the input matrix dimensions.\n",
      "To use the future default and silence this warning we advise to pass `rcond=None`, to keep using the old, explicitly pass `rcond=-1`.\n"
     ]
    },
    {
     "name": "stdout",
     "output_type": "stream",
     "text": [
      "\n",
      "force  [-3.03999996 -1.17999995 -0.25999999]\n",
      "pos  [ 0.05215013 -0.00096089 -0.00037613]\n",
      "force  [-3.06999993 -1.15999997 -0.28999999]\n",
      "pos  [ 0.05218017 -0.00095952 -0.00037529]\n",
      "force  [-2.95000005 -1.25999999 -0.16      ]\n",
      "pos  [ 0.05214804 -0.00096687 -0.0003801 ]\n",
      "force  [-2.8499999  -0.92000002 -0.34999999]\n",
      "pos  [ 0.05212076 -0.00097022 -0.00038204]\n",
      "force  [-2.8499999  -1.20000005 -0.09      ]\n",
      "pos  [ 0.05215056 -0.00096518 -0.00038005]\n",
      "force  [-2.63000011 -1.08000004 -0.30000001]\n",
      "pos  [ 0.05212754 -0.00096615 -0.00038064]\n",
      "force  [-2.82999992 -1.17999995 -0.190001  ]\n",
      "pos  [ 0.05213586 -0.00096328 -0.00037907]\n",
      "force  [-2.8900001  -1.04999995 -0.23      ]\n",
      "pos  [ 0.05214877 -0.00096286 -0.00037924]\n",
      "force  [-2.8499999  -1.15999997 -0.08      ]\n",
      "pos  [ 0.05214877 -0.00096286 -0.00037924]\n",
      "force  [-2.78999996 -1.16999996 -0.150001  ]\n",
      "pos  [ 0.0521556  -0.0009644  -0.00038036]\n",
      "force  [-2.72000003 -1.01999998 -0.16      ]\n",
      "pos  [ 0.0521556  -0.0009644  -0.00038036]\n",
      "force  [-2.93000007 -1.07000005 -0.33000001]\n",
      "pos  [ 0.05213731 -0.00096316 -0.00038002]\n",
      "force  [-2.95000005 -1.13       -0.23999999]\n",
      "pos  [ 0.05213435 -0.00096399 -0.0003813 ]\n",
      "force  [-2.75999999 -1.15999997 -0.44999999]\n",
      "pos  [ 0.05212225 -0.00096278 -0.00038238]\n",
      "force  [-3.1500001  -1.33000004 -0.22      ]\n",
      "pos  [ 0.05216621 -0.00094984 -0.0003794 ]\n",
      "force  [-3.26999998 -1.48000002 -0.47      ]\n",
      "pos  [ 0.05214167 -0.00093875 -0.00038353]\n",
      "force  [-2.95000005 -1.23000002 -0.69000101]\n",
      "pos "
     ]
    },
    {
     "name": "stderr",
     "output_type": "stream",
     "text": [
      "/home/lars/.local/lib/python3.6/site-packages/ipykernel_launcher.py:29: FutureWarning: `rcond` parameter will change to the default of machine precision times ``max(M, N)`` where M and N are the input matrix dimensions.\n",
      "To use the future default and silence this warning we advise to pass `rcond=None`, to keep using the old, explicitly pass `rcond=-1`.\n"
     ]
    },
    {
     "name": "stdout",
     "output_type": "stream",
     "text": [
      " [ 0.05217588 -0.00092278 -0.00037901]\n",
      "force  [-2.82999992 -1.11000001 -0.47999999]\n",
      "pos  [ 0.05221325 -0.00091236 -0.00037656]\n",
      "force  [-2.96000004 -1.39999998 -0.28999999]\n",
      "pos  [ 0.05221325 -0.00091236 -0.00037656]\n",
      "force  [-3.         -1.30999994 -0.58999997]\n",
      "pos  [ 0.05218908 -0.00091321 -0.00037843]\n",
      "force  [-2.86999989 -1.25999999 -0.50999999]\n",
      "pos  [ 0.05218564 -0.00091119 -0.00037717]\n",
      "force  [-2.81999993 -1.10000002 -0.33000001]\n",
      "pos  [ 0.05217395 -0.00091354 -0.00037873]\n",
      "force  [-2.75999999 -1.15999997 -0.30000001]\n",
      "pos  [ 0.05216683 -0.00091391 -0.00037855]\n",
      "force  [-2.92000008 -1.03999996 -0.41999999]\n",
      "pos  [ 0.05213319 -0.00091855 -0.00038225]\n",
      "force  [-3.08999991 -1.49000001 -0.52999997]\n",
      "pos  [ 0.05212405 -0.00091819 -0.00038197]\n",
      "force  [-2.82999992 -1.08000004 -0.34      ]\n",
      "pos  [ 0.05214221 -0.00091894 -0.00038339]\n",
      "force  [-2.9000001  -1.05999994 -0.31999999]\n",
      "pos  [ 0.05216129 -0.00091705 -0.0003814 ]\n",
      "force  [-2.74000001 -0.98000002 -0.34      ]\n",
      "pos  [ 0.05214602 -0.00091658 -0.00038205]\n",
      "force  [-2.86999989 -1.21000004 -0.44000101]\n",
      "pos  [ 0.05214073 -0.00091508 -0.00038186]\n",
      "force  [-2.8900001  -1.22000003 -0.47999999]\n",
      "pos  [ 0.05211496 -0.00091732 -0.00038215]\n",
      "force  [-2.82999992 -1.16999996 -0.33000001]\n",
      "pos  [ 0.05207103 -0.00092679 -0.00038773]\n",
      "force  [-2.8599999  -1.10000002 -0.28      ]\n",
      "pos  [ 0.05207103 -0.00092679 -0.00038773]\n",
      "force  [-2.8599999  -1.10000002 -0.28      ]\n",
      "pos  [ 0.05208558 -0.00092595 -0.00038539]\n",
      "force  [-2.8599999  -1.07000005 -0.44999999]\n",
      "pos  [ 0.05209896 -0.00092419 -0.00038406]\n",
      "force  [-2.94000006 -1.13999999 -0.46000001]\n",
      "pos  [ 0.0521464  -0.00091599 -0.00037958]\n",
      "force  [-2.76999998 -1.07000005 -0.41      ]\n",
      "pos  [ 0.0521464  -0.00091599 -0.00037958]\n",
      "force  [-2.76999998 -1.07000005 -0.41      ]\n",
      "pos  [ 0.05214785 -0.00091683 -0.00038068]\n",
      "force  [-2.8599999  -0.98000002 -0.04      ]\n",
      "pos  [ 0.05214911 -0.00091782 -0.00038172]\n",
      "force  [-2.8499999  -1.20000005 -0.28      ]\n",
      "pos  [ 0.05214361 -0.00092242 -0.00038349]\n",
      "force  [-2.78999996 -1.04999995 -0.23999999]\n"
     ]
    },
    {
     "name": "stderr",
     "output_type": "stream",
     "text": [
      "/home/lars/.local/lib/python3.6/site-packages/ipykernel_launcher.py:29: FutureWarning: `rcond` parameter will change to the default of machine precision times ``max(M, N)`` where M and N are the input matrix dimensions.\n",
      "To use the future default and silence this warning we advise to pass `rcond=None`, to keep using the old, explicitly pass `rcond=-1`.\n"
     ]
    },
    {
     "name": "stdout",
     "output_type": "stream",
     "text": [
      "pos  [ 0.05214958 -0.00092354 -0.0003847 ]\n",
      "force  [-2.75       -1.09000003 -0.25999999]\n",
      "pos  [ 0.05214958 -0.00092354 -0.0003847 ]\n",
      "force  [-2.82999992 -1.05999994 -0.40000099]\n",
      "pos  [ 0.05214902 -0.00091973 -0.00038275]\n",
      "force  [-2.66000009 -0.87       -0.23      ]\n",
      "pos  [ 0.05212038 -0.00092254 -0.00038458]\n",
      "force  [-2.8499999  -1.03999996 -0.31999999]\n",
      "pos  [ 0.05211395 -0.00092198 -0.00038369]\n",
      "force  [-2.69000006 -0.99000001 -0.37      ]\n",
      "pos  [ 0.05210482 -0.00092514 -0.00038446]\n",
      "force  [-2.75999999 -1.03999996 -0.36000001]\n",
      "pos  [ 0.05213436 -0.00092138 -0.00038184]\n",
      "force  [-2.63000011 -1.01999998 -0.11      ]\n",
      "pos  [ 0.05214949 -0.00092265 -0.00038381]\n",
      "force  [-2.96000004 -1.13999999 -0.31      ]\n",
      "pos  [ 0.05217068 -0.00092133 -0.00038396]\n",
      "force  [-2.68000007 -1.01999998 -0.08      ]\n",
      "pos  [ 0.05217068 -0.00092133 -0.00038396]\n",
      "force  [-2.6099999  -1.00999999 -0.27000001]\n",
      "pos  [ 0.05217641 -0.00092252 -0.00038573]\n",
      "force  [-2.68000007 -1.04999995 -0.17      ]\n",
      "pos  [ 0.05217275 -0.00091946 -0.00038489]\n",
      "force  [-2.76999998 -0.98000002 -0.34      ]\n",
      "pos  [ 0.05211665 -0.00092535 -0.00038711]\n",
      "force  [-2.78999996 -1.12       -0.25999999]\n",
      "pos  [ 0.05211665 -0.00092535 -0.00038711]\n",
      "force  [-2.66000009 -0.92000002 -0.25      ]\n",
      "pos  [ 0.05216807 -0.00091494 -0.00037946]\n",
      "force  [-2.76999998 -0.98000002 -0.28      ]\n",
      "pos  [ 0.05216807 -0.00091494 -0.00037946]\n",
      "force  [-2.76999998 -0.98000002 -0.28      ]\n",
      "pos  [ 0.05218646 -0.00091543 -0.00038061]\n",
      "force  [-2.81999993 -1.13       -0.34      ]\n",
      "pos  [ 0.05215469 -0.00091913 -0.00038466]"
     ]
    },
    {
     "name": "stderr",
     "output_type": "stream",
     "text": [
      "/home/lars/.local/lib/python3.6/site-packages/ipykernel_launcher.py:29: FutureWarning: `rcond` parameter will change to the default of machine precision times ``max(M, N)`` where M and N are the input matrix dimensions.\n",
      "To use the future default and silence this warning we advise to pass `rcond=None`, to keep using the old, explicitly pass `rcond=-1`.\n"
     ]
    },
    {
     "name": "stdout",
     "output_type": "stream",
     "text": [
      "\n",
      "force  [-2.75999999 -1.02999997 -0.31      ]\n",
      "pos  [ 0.05215874 -0.00092088 -0.00038577]\n",
      "force  [-2.76999998 -1.01999998 -0.28999999]\n",
      "pos  [ 0.0521493  -0.00091851 -0.00038399]\n",
      "force  [-2.81999993 -1.01999998 -0.25      ]\n",
      "pos  [ 0.05213916 -0.00092076 -0.00038303]\n",
      "force  [-2.86999989 -1.19000006 -0.41      ]\n",
      "pos  [ 0.05212156 -0.00092513 -0.0003852 ]\n",
      "force  [-2.66000009 -0.89999998 -0.30000001]\n",
      "pos  [ 0.05214097 -0.00092381 -0.00038525]\n",
      "force  [-2.75       -1.04999995 -0.190001  ]\n",
      "pos  [ 0.05214699 -0.00092505 -0.00038641]\n",
      "force  [-2.73000002 -1.00999999 -0.31999999]\n",
      "pos  [ 0.05214699 -0.00092505 -0.00038641]\n",
      "force  [-2.81999993 -1.03999996 -0.40000099]\n",
      "pos  [ 0.05214581 -0.00092133 -0.00038585]\n",
      "force  [-2.79999995 -1.05999994 -0.23999999]\n",
      "pos  [ 0.05216352 -0.00091862 -0.00038395]\n",
      "force  [-2.75999999 -0.95999998 -0.09      ]\n",
      "pos  [ 0.05216979 -0.00091525 -0.00038117]\n",
      "force  [-2.80999994 -1.00999999 -0.23999999]\n",
      "pos  [ 0.05216523 -0.00091713 -0.00038165]\n",
      "force  [-2.76999998 -1.08000004 -0.31      ]\n",
      "pos  [ 0.05216523 -0.00091713 -0.00038165]\n",
      "force  [-2.69000006 -0.77999997 -0.07      ]\n"
     ]
    },
    {
     "ename": "KeyboardInterrupt",
     "evalue": "",
     "output_type": "error",
     "traceback": [
      "\u001b[0;31m---------------------------------------------------------------------------\u001b[0m",
      "\u001b[0;31mKeyboardInterrupt\u001b[0m                         Traceback (most recent call last)",
      "\u001b[0;32m<ipython-input-26-c84aaf42f23b>\u001b[0m in \u001b[0;36m<module>\u001b[0;34m\u001b[0m\n\u001b[1;32m     11\u001b[0m     \u001b[0;31m#    obs = numpy.concatenate([good_pos, observations[3:]])\u001b[0m\u001b[0;34m\u001b[0m\u001b[0;34m\u001b[0m\u001b[0;34m\u001b[0m\u001b[0m\n\u001b[1;32m     12\u001b[0m     \u001b[0mobs\u001b[0m \u001b[0;34m=\u001b[0m \u001b[0mobservations\u001b[0m\u001b[0;34m\u001b[0m\u001b[0;34m\u001b[0m\u001b[0m\n\u001b[0;32m---> 13\u001b[0;31m     \u001b[0maction\u001b[0m \u001b[0;34m=\u001b[0m \u001b[0magent\u001b[0m\u001b[0;34m.\u001b[0m\u001b[0mcompute_action\u001b[0m\u001b[0;34m(\u001b[0m\u001b[0mobs\u001b[0m\u001b[0;34m)\u001b[0m\u001b[0;34m\u001b[0m\u001b[0;34m\u001b[0m\u001b[0m\n\u001b[0m\u001b[1;32m     14\u001b[0m     \u001b[0;32mfor\u001b[0m \u001b[0mi\u001b[0m \u001b[0;32min\u001b[0m \u001b[0mrange\u001b[0m\u001b[0;34m(\u001b[0m\u001b[0;36m1\u001b[0m\u001b[0;34m)\u001b[0m\u001b[0;34m:\u001b[0m\u001b[0;34m\u001b[0m\u001b[0;34m\u001b[0m\u001b[0m\n\u001b[1;32m     15\u001b[0m         \u001b[0mdx\u001b[0m \u001b[0;34m=\u001b[0m \u001b[0mmax_limit\u001b[0m \u001b[0;34m*\u001b[0m \u001b[0maction\u001b[0m\u001b[0;34m.\u001b[0m\u001b[0mcopy\u001b[0m\u001b[0;34m(\u001b[0m\u001b[0;34m)\u001b[0m\u001b[0;34m\u001b[0m\u001b[0;34m\u001b[0m\u001b[0m\n",
      "\u001b[0;32m~/.local/lib/python3.6/site-packages/ray/rllib/agents/trainer.py\u001b[0m in \u001b[0;36mcompute_action\u001b[0;34m(self, observation, state, prev_action, prev_reward, info, policy_id, full_fetch, explore)\u001b[0m\n\u001b[1;32m    779\u001b[0m             \u001b[0mclip_actions\u001b[0m\u001b[0;34m=\u001b[0m\u001b[0mself\u001b[0m\u001b[0;34m.\u001b[0m\u001b[0mconfig\u001b[0m\u001b[0;34m[\u001b[0m\u001b[0;34m\"clip_actions\"\u001b[0m\u001b[0;34m]\u001b[0m\u001b[0;34m,\u001b[0m\u001b[0;34m\u001b[0m\u001b[0;34m\u001b[0m\u001b[0m\n\u001b[1;32m    780\u001b[0m             \u001b[0mexplore\u001b[0m\u001b[0;34m=\u001b[0m\u001b[0mexplore\u001b[0m\u001b[0;34m,\u001b[0m\u001b[0;34m\u001b[0m\u001b[0;34m\u001b[0m\u001b[0m\n\u001b[0;32m--> 781\u001b[0;31m             timestep=timestep)\n\u001b[0m\u001b[1;32m    782\u001b[0m \u001b[0;34m\u001b[0m\u001b[0m\n\u001b[1;32m    783\u001b[0m         \u001b[0;32mif\u001b[0m \u001b[0mstate\u001b[0m \u001b[0;32mor\u001b[0m \u001b[0mfull_fetch\u001b[0m\u001b[0;34m:\u001b[0m\u001b[0;34m\u001b[0m\u001b[0;34m\u001b[0m\u001b[0m\n",
      "\u001b[0;32m~/.local/lib/python3.6/site-packages/ray/rllib/policy/policy.py\u001b[0m in \u001b[0;36mcompute_single_action\u001b[0;34m(self, obs, state, prev_action, prev_reward, info, episode, clip_actions, explore, timestep, **kwargs)\u001b[0m\n\u001b[1;32m    156\u001b[0m             \u001b[0mepisodes\u001b[0m\u001b[0;34m=\u001b[0m\u001b[0mepisodes\u001b[0m\u001b[0;34m,\u001b[0m\u001b[0;34m\u001b[0m\u001b[0;34m\u001b[0m\u001b[0m\n\u001b[1;32m    157\u001b[0m             \u001b[0mexplore\u001b[0m\u001b[0;34m=\u001b[0m\u001b[0mexplore\u001b[0m\u001b[0;34m,\u001b[0m\u001b[0;34m\u001b[0m\u001b[0;34m\u001b[0m\u001b[0m\n\u001b[0;32m--> 158\u001b[0;31m             timestep=timestep)\n\u001b[0m\u001b[1;32m    159\u001b[0m \u001b[0;34m\u001b[0m\u001b[0m\n\u001b[1;32m    160\u001b[0m         \u001b[0;32mif\u001b[0m \u001b[0mclip_actions\u001b[0m\u001b[0;34m:\u001b[0m\u001b[0;34m\u001b[0m\u001b[0;34m\u001b[0m\u001b[0m\n",
      "\u001b[0;32m~/.local/lib/python3.6/site-packages/ray/rllib/policy/tf_policy.py\u001b[0m in \u001b[0;36mcompute_actions\u001b[0;34m(self, obs_batch, state_batches, prev_action_batch, prev_reward_batch, info_batch, episodes, explore, timestep, **kwargs)\u001b[0m\n\u001b[1;32m    267\u001b[0m             if timestep is not None else self.global_timestep)\n\u001b[1;32m    268\u001b[0m         \u001b[0;31m# Execute session run to get action (and other fetches).\u001b[0m\u001b[0;34m\u001b[0m\u001b[0;34m\u001b[0m\u001b[0;34m\u001b[0m\u001b[0m\n\u001b[0;32m--> 269\u001b[0;31m         \u001b[0;32mreturn\u001b[0m \u001b[0mbuilder\u001b[0m\u001b[0;34m.\u001b[0m\u001b[0mget\u001b[0m\u001b[0;34m(\u001b[0m\u001b[0mfetches\u001b[0m\u001b[0;34m)\u001b[0m\u001b[0;34m\u001b[0m\u001b[0;34m\u001b[0m\u001b[0m\n\u001b[0m\u001b[1;32m    270\u001b[0m \u001b[0;34m\u001b[0m\u001b[0m\n\u001b[1;32m    271\u001b[0m     \u001b[0;34m@\u001b[0m\u001b[0moverride\u001b[0m\u001b[0;34m(\u001b[0m\u001b[0mPolicy\u001b[0m\u001b[0;34m)\u001b[0m\u001b[0;34m\u001b[0m\u001b[0;34m\u001b[0m\u001b[0m\n",
      "\u001b[0;32m~/.local/lib/python3.6/site-packages/ray/rllib/utils/tf_run_builder.py\u001b[0m in \u001b[0;36mget\u001b[0;34m(self, to_fetch)\u001b[0m\n\u001b[1;32m     42\u001b[0m                 self._executed = run_timeline(\n\u001b[1;32m     43\u001b[0m                     \u001b[0mself\u001b[0m\u001b[0;34m.\u001b[0m\u001b[0msession\u001b[0m\u001b[0;34m,\u001b[0m \u001b[0mself\u001b[0m\u001b[0;34m.\u001b[0m\u001b[0mfetches\u001b[0m\u001b[0;34m,\u001b[0m \u001b[0mself\u001b[0m\u001b[0;34m.\u001b[0m\u001b[0mdebug_name\u001b[0m\u001b[0;34m,\u001b[0m\u001b[0;34m\u001b[0m\u001b[0;34m\u001b[0m\u001b[0m\n\u001b[0;32m---> 44\u001b[0;31m                     self.feed_dict, os.environ.get(\"TF_TIMELINE_DIR\"))\n\u001b[0m\u001b[1;32m     45\u001b[0m             \u001b[0;32mexcept\u001b[0m \u001b[0mException\u001b[0m\u001b[0;34m:\u001b[0m\u001b[0;34m\u001b[0m\u001b[0;34m\u001b[0m\u001b[0m\n\u001b[1;32m     46\u001b[0m                 logger.exception(\"Error fetching: {}, feed_dict={}\".format(\n",
      "\u001b[0;32m~/.local/lib/python3.6/site-packages/ray/rllib/utils/tf_run_builder.py\u001b[0m in \u001b[0;36mrun_timeline\u001b[0;34m(sess, ops, debug_name, feed_dict, timeline_dir)\u001b[0m\n\u001b[1;32m     88\u001b[0m                 \u001b[0;34m\"Executing TF run without tracing. To dump TF timeline traces \"\u001b[0m\u001b[0;34m\u001b[0m\u001b[0;34m\u001b[0m\u001b[0m\n\u001b[1;32m     89\u001b[0m                 \"to disk, set the TF_TIMELINE_DIR environment variable.\")\n\u001b[0;32m---> 90\u001b[0;31m         \u001b[0mfetches\u001b[0m \u001b[0;34m=\u001b[0m \u001b[0msess\u001b[0m\u001b[0;34m.\u001b[0m\u001b[0mrun\u001b[0m\u001b[0;34m(\u001b[0m\u001b[0mops\u001b[0m\u001b[0;34m,\u001b[0m \u001b[0mfeed_dict\u001b[0m\u001b[0;34m=\u001b[0m\u001b[0mfeed_dict\u001b[0m\u001b[0;34m)\u001b[0m\u001b[0;34m\u001b[0m\u001b[0;34m\u001b[0m\u001b[0m\n\u001b[0m\u001b[1;32m     91\u001b[0m     \u001b[0;32mreturn\u001b[0m \u001b[0mfetches\u001b[0m\u001b[0;34m\u001b[0m\u001b[0;34m\u001b[0m\u001b[0m\n",
      "\u001b[0;32m~/.local/lib/python3.6/site-packages/tensorflow/python/client/session.py\u001b[0m in \u001b[0;36mrun\u001b[0;34m(self, fetches, feed_dict, options, run_metadata)\u001b[0m\n\u001b[1;32m    948\u001b[0m     \u001b[0;32mtry\u001b[0m\u001b[0;34m:\u001b[0m\u001b[0;34m\u001b[0m\u001b[0;34m\u001b[0m\u001b[0m\n\u001b[1;32m    949\u001b[0m       result = self._run(None, fetches, feed_dict, options_ptr,\n\u001b[0;32m--> 950\u001b[0;31m                          run_metadata_ptr)\n\u001b[0m\u001b[1;32m    951\u001b[0m       \u001b[0;32mif\u001b[0m \u001b[0mrun_metadata\u001b[0m\u001b[0;34m:\u001b[0m\u001b[0;34m\u001b[0m\u001b[0;34m\u001b[0m\u001b[0m\n\u001b[1;32m    952\u001b[0m         \u001b[0mproto_data\u001b[0m \u001b[0;34m=\u001b[0m \u001b[0mtf_session\u001b[0m\u001b[0;34m.\u001b[0m\u001b[0mTF_GetBuffer\u001b[0m\u001b[0;34m(\u001b[0m\u001b[0mrun_metadata_ptr\u001b[0m\u001b[0;34m)\u001b[0m\u001b[0;34m\u001b[0m\u001b[0;34m\u001b[0m\u001b[0m\n",
      "\u001b[0;32m~/.local/lib/python3.6/site-packages/tensorflow/python/client/session.py\u001b[0m in \u001b[0;36m_run\u001b[0;34m(self, handle, fetches, feed_dict, options, run_metadata)\u001b[0m\n\u001b[1;32m   1171\u001b[0m     \u001b[0;32mif\u001b[0m \u001b[0mfinal_fetches\u001b[0m \u001b[0;32mor\u001b[0m \u001b[0mfinal_targets\u001b[0m \u001b[0;32mor\u001b[0m \u001b[0;34m(\u001b[0m\u001b[0mhandle\u001b[0m \u001b[0;32mand\u001b[0m \u001b[0mfeed_dict_tensor\u001b[0m\u001b[0;34m)\u001b[0m\u001b[0;34m:\u001b[0m\u001b[0;34m\u001b[0m\u001b[0;34m\u001b[0m\u001b[0m\n\u001b[1;32m   1172\u001b[0m       results = self._do_run(handle, final_targets, final_fetches,\n\u001b[0;32m-> 1173\u001b[0;31m                              feed_dict_tensor, options, run_metadata)\n\u001b[0m\u001b[1;32m   1174\u001b[0m     \u001b[0;32melse\u001b[0m\u001b[0;34m:\u001b[0m\u001b[0;34m\u001b[0m\u001b[0;34m\u001b[0m\u001b[0m\n\u001b[1;32m   1175\u001b[0m       \u001b[0mresults\u001b[0m \u001b[0;34m=\u001b[0m \u001b[0;34m[\u001b[0m\u001b[0;34m]\u001b[0m\u001b[0;34m\u001b[0m\u001b[0;34m\u001b[0m\u001b[0m\n",
      "\u001b[0;32m~/.local/lib/python3.6/site-packages/tensorflow/python/client/session.py\u001b[0m in \u001b[0;36m_do_run\u001b[0;34m(self, handle, target_list, fetch_list, feed_dict, options, run_metadata)\u001b[0m\n\u001b[1;32m   1348\u001b[0m     \u001b[0;32mif\u001b[0m \u001b[0mhandle\u001b[0m \u001b[0;32mis\u001b[0m \u001b[0;32mNone\u001b[0m\u001b[0;34m:\u001b[0m\u001b[0;34m\u001b[0m\u001b[0;34m\u001b[0m\u001b[0m\n\u001b[1;32m   1349\u001b[0m       return self._do_call(_run_fn, feeds, fetches, targets, options,\n\u001b[0;32m-> 1350\u001b[0;31m                            run_metadata)\n\u001b[0m\u001b[1;32m   1351\u001b[0m     \u001b[0;32melse\u001b[0m\u001b[0;34m:\u001b[0m\u001b[0;34m\u001b[0m\u001b[0;34m\u001b[0m\u001b[0m\n\u001b[1;32m   1352\u001b[0m       \u001b[0;32mreturn\u001b[0m \u001b[0mself\u001b[0m\u001b[0;34m.\u001b[0m\u001b[0m_do_call\u001b[0m\u001b[0;34m(\u001b[0m\u001b[0m_prun_fn\u001b[0m\u001b[0;34m,\u001b[0m \u001b[0mhandle\u001b[0m\u001b[0;34m,\u001b[0m \u001b[0mfeeds\u001b[0m\u001b[0;34m,\u001b[0m \u001b[0mfetches\u001b[0m\u001b[0;34m)\u001b[0m\u001b[0;34m\u001b[0m\u001b[0;34m\u001b[0m\u001b[0m\n",
      "\u001b[0;32m~/.local/lib/python3.6/site-packages/tensorflow/python/client/session.py\u001b[0m in \u001b[0;36m_do_call\u001b[0;34m(self, fn, *args)\u001b[0m\n\u001b[1;32m   1354\u001b[0m   \u001b[0;32mdef\u001b[0m \u001b[0m_do_call\u001b[0m\u001b[0;34m(\u001b[0m\u001b[0mself\u001b[0m\u001b[0;34m,\u001b[0m \u001b[0mfn\u001b[0m\u001b[0;34m,\u001b[0m \u001b[0;34m*\u001b[0m\u001b[0margs\u001b[0m\u001b[0;34m)\u001b[0m\u001b[0;34m:\u001b[0m\u001b[0;34m\u001b[0m\u001b[0;34m\u001b[0m\u001b[0m\n\u001b[1;32m   1355\u001b[0m     \u001b[0;32mtry\u001b[0m\u001b[0;34m:\u001b[0m\u001b[0;34m\u001b[0m\u001b[0;34m\u001b[0m\u001b[0m\n\u001b[0;32m-> 1356\u001b[0;31m       \u001b[0;32mreturn\u001b[0m \u001b[0mfn\u001b[0m\u001b[0;34m(\u001b[0m\u001b[0;34m*\u001b[0m\u001b[0margs\u001b[0m\u001b[0;34m)\u001b[0m\u001b[0;34m\u001b[0m\u001b[0;34m\u001b[0m\u001b[0m\n\u001b[0m\u001b[1;32m   1357\u001b[0m     \u001b[0;32mexcept\u001b[0m \u001b[0merrors\u001b[0m\u001b[0;34m.\u001b[0m\u001b[0mOpError\u001b[0m \u001b[0;32mas\u001b[0m \u001b[0me\u001b[0m\u001b[0;34m:\u001b[0m\u001b[0;34m\u001b[0m\u001b[0;34m\u001b[0m\u001b[0m\n\u001b[1;32m   1358\u001b[0m       \u001b[0mmessage\u001b[0m \u001b[0;34m=\u001b[0m \u001b[0mcompat\u001b[0m\u001b[0;34m.\u001b[0m\u001b[0mas_text\u001b[0m\u001b[0;34m(\u001b[0m\u001b[0me\u001b[0m\u001b[0;34m.\u001b[0m\u001b[0mmessage\u001b[0m\u001b[0;34m)\u001b[0m\u001b[0;34m\u001b[0m\u001b[0;34m\u001b[0m\u001b[0m\n",
      "\u001b[0;32m~/.local/lib/python3.6/site-packages/tensorflow/python/client/session.py\u001b[0m in \u001b[0;36m_run_fn\u001b[0;34m(feed_dict, fetch_list, target_list, options, run_metadata)\u001b[0m\n\u001b[1;32m   1337\u001b[0m     \u001b[0;32mdef\u001b[0m \u001b[0m_run_fn\u001b[0m\u001b[0;34m(\u001b[0m\u001b[0mfeed_dict\u001b[0m\u001b[0;34m,\u001b[0m \u001b[0mfetch_list\u001b[0m\u001b[0;34m,\u001b[0m \u001b[0mtarget_list\u001b[0m\u001b[0;34m,\u001b[0m \u001b[0moptions\u001b[0m\u001b[0;34m,\u001b[0m \u001b[0mrun_metadata\u001b[0m\u001b[0;34m)\u001b[0m\u001b[0;34m:\u001b[0m\u001b[0;34m\u001b[0m\u001b[0;34m\u001b[0m\u001b[0m\n\u001b[1;32m   1338\u001b[0m       \u001b[0;31m# Ensure any changes to the graph are reflected in the runtime.\u001b[0m\u001b[0;34m\u001b[0m\u001b[0;34m\u001b[0m\u001b[0;34m\u001b[0m\u001b[0m\n\u001b[0;32m-> 1339\u001b[0;31m       \u001b[0mself\u001b[0m\u001b[0;34m.\u001b[0m\u001b[0m_extend_graph\u001b[0m\u001b[0;34m(\u001b[0m\u001b[0;34m)\u001b[0m\u001b[0;34m\u001b[0m\u001b[0;34m\u001b[0m\u001b[0m\n\u001b[0m\u001b[1;32m   1340\u001b[0m       return self._call_tf_sessionrun(\n\u001b[1;32m   1341\u001b[0m           options, feed_dict, fetch_list, target_list, run_metadata)\n",
      "\u001b[0;32m~/.local/lib/python3.6/site-packages/tensorflow/python/client/session.py\u001b[0m in \u001b[0;36m_extend_graph\u001b[0;34m(self)\u001b[0m\n\u001b[1;32m   1372\u001b[0m   \u001b[0;32mdef\u001b[0m \u001b[0m_extend_graph\u001b[0m\u001b[0;34m(\u001b[0m\u001b[0mself\u001b[0m\u001b[0;34m)\u001b[0m\u001b[0;34m:\u001b[0m\u001b[0;34m\u001b[0m\u001b[0;34m\u001b[0m\u001b[0m\n\u001b[1;32m   1373\u001b[0m     \u001b[0;32mwith\u001b[0m \u001b[0mself\u001b[0m\u001b[0;34m.\u001b[0m\u001b[0m_graph\u001b[0m\u001b[0;34m.\u001b[0m\u001b[0m_session_run_lock\u001b[0m\u001b[0;34m(\u001b[0m\u001b[0;34m)\u001b[0m\u001b[0;34m:\u001b[0m  \u001b[0;31m# pylint: disable=protected-access\u001b[0m\u001b[0;34m\u001b[0m\u001b[0;34m\u001b[0m\u001b[0m\n\u001b[0;32m-> 1374\u001b[0;31m       \u001b[0mtf_session\u001b[0m\u001b[0;34m.\u001b[0m\u001b[0mExtendSession\u001b[0m\u001b[0;34m(\u001b[0m\u001b[0mself\u001b[0m\u001b[0;34m.\u001b[0m\u001b[0m_session\u001b[0m\u001b[0;34m)\u001b[0m\u001b[0;34m\u001b[0m\u001b[0;34m\u001b[0m\u001b[0m\n\u001b[0m\u001b[1;32m   1375\u001b[0m \u001b[0;34m\u001b[0m\u001b[0m\n\u001b[1;32m   1376\u001b[0m   \u001b[0;31m# The threshold to run garbage collection to delete dead tensors.\u001b[0m\u001b[0;34m\u001b[0m\u001b[0;34m\u001b[0m\u001b[0;34m\u001b[0m\u001b[0m\n",
      "\u001b[0;32m~/.local/lib/python3.6/site-packages/tensorflow/python/util/lock_util.py\u001b[0m in \u001b[0;36m__exit__\u001b[0;34m(***failed resolving arguments***)\u001b[0m\n\u001b[1;32m    126\u001b[0m     \u001b[0;32mdef\u001b[0m \u001b[0m__exit__\u001b[0m\u001b[0;34m(\u001b[0m\u001b[0mself\u001b[0m\u001b[0;34m,\u001b[0m \u001b[0mtype_arg\u001b[0m\u001b[0;34m,\u001b[0m \u001b[0mvalue_arg\u001b[0m\u001b[0;34m,\u001b[0m \u001b[0mtraceback_arg\u001b[0m\u001b[0;34m)\u001b[0m\u001b[0;34m:\u001b[0m\u001b[0;34m\u001b[0m\u001b[0;34m\u001b[0m\u001b[0m\n\u001b[1;32m    127\u001b[0m       \u001b[0;32mdel\u001b[0m \u001b[0mtype_arg\u001b[0m\u001b[0;34m,\u001b[0m \u001b[0mvalue_arg\u001b[0m\u001b[0;34m,\u001b[0m \u001b[0mtraceback_arg\u001b[0m\u001b[0;34m\u001b[0m\u001b[0;34m\u001b[0m\u001b[0m\n\u001b[0;32m--> 128\u001b[0;31m       \u001b[0mself\u001b[0m\u001b[0;34m.\u001b[0m\u001b[0m_lock\u001b[0m\u001b[0;34m.\u001b[0m\u001b[0mrelease\u001b[0m\u001b[0;34m(\u001b[0m\u001b[0mself\u001b[0m\u001b[0;34m.\u001b[0m\u001b[0m_group_id\u001b[0m\u001b[0;34m)\u001b[0m\u001b[0;34m\u001b[0m\u001b[0;34m\u001b[0m\u001b[0m\n\u001b[0m",
      "\u001b[0;32m~/.local/lib/python3.6/site-packages/tensorflow/python/util/lock_util.py\u001b[0m in \u001b[0;36mrelease\u001b[0;34m(self, group_id)\u001b[0m\n\u001b[1;32m    101\u001b[0m     \u001b[0mself\u001b[0m\u001b[0;34m.\u001b[0m\u001b[0m_group_member_counts\u001b[0m\u001b[0;34m[\u001b[0m\u001b[0mgroup_id\u001b[0m\u001b[0;34m]\u001b[0m \u001b[0;34m-=\u001b[0m \u001b[0;36m1\u001b[0m\u001b[0;34m\u001b[0m\u001b[0;34m\u001b[0m\u001b[0m\n\u001b[1;32m    102\u001b[0m     \u001b[0;32mif\u001b[0m \u001b[0mself\u001b[0m\u001b[0;34m.\u001b[0m\u001b[0m_group_member_counts\u001b[0m\u001b[0;34m[\u001b[0m\u001b[0mgroup_id\u001b[0m\u001b[0;34m]\u001b[0m \u001b[0;34m==\u001b[0m \u001b[0;36m0\u001b[0m\u001b[0;34m:\u001b[0m\u001b[0;34m\u001b[0m\u001b[0;34m\u001b[0m\u001b[0m\n\u001b[0;32m--> 103\u001b[0;31m       \u001b[0mself\u001b[0m\u001b[0;34m.\u001b[0m\u001b[0m_ready\u001b[0m\u001b[0;34m.\u001b[0m\u001b[0mnotifyAll\u001b[0m\u001b[0;34m(\u001b[0m\u001b[0;34m)\u001b[0m\u001b[0;34m\u001b[0m\u001b[0;34m\u001b[0m\u001b[0m\n\u001b[0m\u001b[1;32m    104\u001b[0m     \u001b[0mself\u001b[0m\u001b[0;34m.\u001b[0m\u001b[0m_ready\u001b[0m\u001b[0;34m.\u001b[0m\u001b[0mrelease\u001b[0m\u001b[0;34m(\u001b[0m\u001b[0;34m)\u001b[0m\u001b[0;34m\u001b[0m\u001b[0;34m\u001b[0m\u001b[0m\n\u001b[1;32m    105\u001b[0m \u001b[0;34m\u001b[0m\u001b[0m\n",
      "\u001b[0;32m/usr/lib/python3.6/threading.py\u001b[0m in \u001b[0;36mnotify_all\u001b[0;34m(self)\u001b[0m\n\u001b[1;32m    362\u001b[0m \u001b[0;34m\u001b[0m\u001b[0m\n\u001b[1;32m    363\u001b[0m         \"\"\"\n\u001b[0;32m--> 364\u001b[0;31m         \u001b[0mself\u001b[0m\u001b[0;34m.\u001b[0m\u001b[0mnotify\u001b[0m\u001b[0;34m(\u001b[0m\u001b[0mlen\u001b[0m\u001b[0;34m(\u001b[0m\u001b[0mself\u001b[0m\u001b[0;34m.\u001b[0m\u001b[0m_waiters\u001b[0m\u001b[0;34m)\u001b[0m\u001b[0;34m)\u001b[0m\u001b[0;34m\u001b[0m\u001b[0;34m\u001b[0m\u001b[0m\n\u001b[0m\u001b[1;32m    365\u001b[0m \u001b[0;34m\u001b[0m\u001b[0m\n\u001b[1;32m    366\u001b[0m     \u001b[0mnotifyAll\u001b[0m \u001b[0;34m=\u001b[0m \u001b[0mnotify_all\u001b[0m\u001b[0;34m\u001b[0m\u001b[0;34m\u001b[0m\u001b[0m\n",
      "\u001b[0;31mKeyboardInterrupt\u001b[0m: "
     ]
    }
   ],
   "source": [
    "done = False\n",
    "ft_zero()\n",
    "#max_limit = 0.00075\n",
    "\n",
    "time.sleep(2.5)\n",
    "while not done:\n",
    "    #if step % 2 == 0:\n",
    "    #    good_pos = observations[:3]\n",
    "    #    obs = observations\n",
    "    #else:\n",
    "    #    obs = numpy.concatenate([good_pos, observations[3:]])\n",
    "    obs = observations\n",
    "    action = agent.compute_action(obs)\n",
    "    for i in range(1):\n",
    "        dx = max_limit * action.copy()\n",
    "        rot_mat = sim.data.get_body_xmat('gripper_dummy_heg')\n",
    "        dx_ = numpy.concatenate([rot_mat.dot(dx[:3]), rot_mat.dot(dx[3:])])  ## transform to right coordinate system\n",
    "        dq  = get_dq(dx_)\n",
    "        q = ctrl_q + dq\n",
    "        traj_control(q)\n",
    "        positions.append(observations[:3])\n",
    "        print(\"pos \",observations[:3])\n",
    "        print(\"force \",observations[6:9])\n",
    "        observations_rec.append(observations)\n",
    "        #poses_rec.append(pose)\n",
    "        #ft_values_rec.append(ft_values)\n",
    "        #q_rec.append(actual_q)\n",
    "        #qd_rec.append(actual_qd)\n",
    "        rewards_rec.append(compute_reward(obs, goal))\n",
    "        step += 1\n",
    "    if is_success(obs) or step >= reality_horizon:\n",
    "        rewards_rec.append(R_success)\n",
    "        break\n",
    "    rate.sleep()"
   ]
  },
  {
   "cell_type": "markdown",
   "metadata": {},
   "source": [
    "# !!! Save recorded Data !!!"
   ]
  },
  {
   "cell_type": "code",
   "execution_count": 27,
   "metadata": {},
   "outputs": [
    {
     "data": {
      "text/plain": [
       "<AxesSubplot:>"
      ]
     },
     "execution_count": 27,
     "metadata": {},
     "output_type": "execute_result"
    },
    {
     "data": {
      "image/png": "[encoded data removed]",
      "text/plain": [
       "<Figure size 432x288 with 1 Axes>"
      ]
     },
     "metadata": {
      "needs_background": "light"
     },
     "output_type": "display_data"
    }
   ],
   "source": [
    "pandas.DataFrame(positions).plot()"
   ]
  },
  {
   "cell_type": "code",
   "execution_count": 27,
   "metadata": {},
   "outputs": [],
   "source": [
    "txs = []\n",
    "tys = []\n",
    "tzs = []\n",
    "rxs = []\n",
    "rys = []\n",
    "rzs = []\n",
    "fxs = []\n",
    "fys = []\n",
    "fzs = []\n",
    "txs = []\n",
    "tys = []\n",
    "tzs = []\n",
    "\n",
    "for i in range(len(observations_rec)):\n",
    "\n",
    "    txs.append(observations_rec[i][0])\n",
    "    tys.append(observations_rec[i][1])\n",
    "    tzs.append(observations_rec[i][2])\n",
    "    rxs.append(observations_rec[i][3])\n",
    "    rys.append(observations_rec[i][4])\n",
    "    rzs.append(observations_rec[i][5])\n",
    "    fxs.append(observations_rec[i][6])\n",
    "    fys.append(observations_rec[i][7])\n",
    "    fzs.append(observations_rec[i][8])\n",
    "    txs.append(observations_rec[i][9])\n",
    "    tys.append(observations_rec[i][10])\n",
    "    tzs.append(observations_rec[i][11])\n",
    "    \n",
    "recordings = {\n",
    "    \"tx\" : txs,\n",
    "    \"ty\" : tys,\n",
    "    \"tz\" : tzs,\n",
    "    \"rx\" : rxs,\n",
    "    \"ry\" : rys,\n",
    "    \"rz\" : rzs,\n",
    "    \"fx\" : fxs,\n",
    "    \"fy\" : fys,\n",
    "    \"fz\" : fzs,\n",
    "    \"tx\" : txs,\n",
    "    \"ty\" : tys,\n",
    "    \"tz\" : tzs,\n",
    "    \"Reward\" : rewards_rec\n",
    "}"
   ]
  },
  {
   "cell_type": "code",
   "execution_count": 28,
   "metadata": {},
   "outputs": [],
   "source": [
    "filename = \"{}\".format(take).zfill(4)+\"_model_{}.json\".format(model_number)\n",
    "with open(os.path.join(*[SAVE_PATH, filename]), 'w') as file:\n",
    "    json.dump(recordings, file)\n",
    "    file.close()"
   ]
  },
  {
   "cell_type": "code",
   "execution_count": 28,
   "metadata": {},
   "outputs": [
    {
     "ename": "NameError",
     "evalue": "name 'model_name' is not defined",
     "output_type": "error",
     "traceback": [
      "\u001b[0;31m---------------------------------------------------------------------------\u001b[0m",
      "\u001b[0;31mNameError\u001b[0m                                 Traceback (most recent call last)",
      "\u001b[0;32m<ipython-input-28-b58a63910729>\u001b[0m in \u001b[0;36m<module>\u001b[0;34m\u001b[0m\n\u001b[1;32m      5\u001b[0m \u001b[0mqd_rec_df\u001b[0m \u001b[0;34m=\u001b[0m \u001b[0mpandas\u001b[0m\u001b[0;34m.\u001b[0m\u001b[0mDataFrame\u001b[0m\u001b[0;34m(\u001b[0m\u001b[0mqd_rec\u001b[0m\u001b[0;34m,\u001b[0m \u001b[0mcolumns\u001b[0m\u001b[0;34m=\u001b[0m\u001b[0;34m[\u001b[0m\u001b[0;34m\"qd[0]\"\u001b[0m\u001b[0;34m,\u001b[0m \u001b[0;34m\"qd[1]\"\u001b[0m\u001b[0;34m,\u001b[0m \u001b[0;34m\"qd[2]\"\u001b[0m\u001b[0;34m,\u001b[0m \u001b[0;34m\"qd[3]\"\u001b[0m\u001b[0;34m,\u001b[0m \u001b[0;34m\"qd[4]\"\u001b[0m\u001b[0;34m,\u001b[0m \u001b[0;34m\"qd[5]\"\u001b[0m\u001b[0;34m]\u001b[0m\u001b[0;34m)\u001b[0m\u001b[0;34m\u001b[0m\u001b[0;34m\u001b[0m\u001b[0m\n\u001b[1;32m      6\u001b[0m \u001b[0mrewards_df\u001b[0m \u001b[0;34m=\u001b[0m \u001b[0mpandas\u001b[0m\u001b[0;34m.\u001b[0m\u001b[0mDataFrame\u001b[0m\u001b[0;34m(\u001b[0m\u001b[0mrewards_rec\u001b[0m\u001b[0;34m,\u001b[0m \u001b[0mcolumns\u001b[0m\u001b[0;34m=\u001b[0m\u001b[0;34m[\u001b[0m\u001b[0;34m\"Rewards\"\u001b[0m\u001b[0;34m]\u001b[0m\u001b[0;34m)\u001b[0m\u001b[0;34m\u001b[0m\u001b[0;34m\u001b[0m\u001b[0m\n\u001b[0;32m----> 7\u001b[0;31m \u001b[0minfo_df\u001b[0m \u001b[0;34m=\u001b[0m \u001b[0mpandas\u001b[0m\u001b[0;34m.\u001b[0m\u001b[0mDataFrame\u001b[0m\u001b[0;34m(\u001b[0m\u001b[0mcolumns\u001b[0m\u001b[0;34m=\u001b[0m\u001b[0;34m[\u001b[0m\u001b[0;34m'Steps'\u001b[0m\u001b[0;34m,\u001b[0m \u001b[0;34m'Reward'\u001b[0m\u001b[0;34m]\u001b[0m\u001b[0;34m,\u001b[0m \u001b[0mindex\u001b[0m\u001b[0;34m=\u001b[0m\u001b[0;34m[\u001b[0m\u001b[0mmodel_name\u001b[0m\u001b[0;34m+\u001b[0m\u001b[0;34m\"_\"\u001b[0m\u001b[0;34m+\u001b[0m\u001b[0mstr\u001b[0m\u001b[0;34m(\u001b[0m\u001b[0mtake\u001b[0m\u001b[0;34m)\u001b[0m\u001b[0;34m]\u001b[0m\u001b[0;34m)\u001b[0m\u001b[0;34m\u001b[0m\u001b[0;34m\u001b[0m\u001b[0m\n\u001b[0m\u001b[1;32m      8\u001b[0m \u001b[0;34m\u001b[0m\u001b[0m\n\u001b[1;32m      9\u001b[0m \u001b[0minfo_df\u001b[0m\u001b[0;34m.\u001b[0m\u001b[0mloc\u001b[0m\u001b[0;34m[\u001b[0m\u001b[0mmodel_name\u001b[0m\u001b[0;34m+\u001b[0m\u001b[0;34m\"_\"\u001b[0m\u001b[0;34m+\u001b[0m\u001b[0mstr\u001b[0m\u001b[0;34m(\u001b[0m\u001b[0mtake\u001b[0m\u001b[0;34m)\u001b[0m\u001b[0;34m,\u001b[0m \u001b[0;34m\"Steps\"\u001b[0m\u001b[0;34m]\u001b[0m \u001b[0;34m=\u001b[0m \u001b[0mlen\u001b[0m\u001b[0;34m(\u001b[0m\u001b[0mrewards_rec\u001b[0m\u001b[0;34m)\u001b[0m\u001b[0;34m\u001b[0m\u001b[0;34m\u001b[0m\u001b[0m\n",
      "\u001b[0;31mNameError\u001b[0m: name 'model_name' is not defined"
     ]
    }
   ],
   "source": [
    "observations_rec_df = pandas.DataFrame(observations_rec, columns=[\"pos1\", \"pos2\", \"pos3\", \"rotx\", \"roty\", \"rotz\", \"Fx\", \"Fy\", \"Fz\", \"Mx\", \"My\", \"Mz\"])\n",
    "poses_rec_df = pandas.DataFrame(poses_rec, columns=[\"tx\", \"ty\", \"tz\", \"rx\", \"ry\", \"rz\"])\n",
    "ft_values_rec_df = pandas.DataFrame(ft_values_rec, columns=[\"Fx\", \"Fy\", \"Fz\", \"Mx\", \"My\", \"Mz\"])\n",
    "q_rec_df = pandas.DataFrame(q_rec, columns=[\"q[0]\", \"q[1]\", \"q[2]\", \"q[3]\", \"q[4]\", \"q[5]\"])\n",
    "qd_rec_df = pandas.DataFrame(qd_rec, columns=[\"qd[0]\", \"qd[1]\", \"qd[2]\", \"qd[3]\", \"qd[4]\", \"qd[5]\"])\n",
    "rewards_df = pandas.DataFrame(rewards_rec, columns=[\"Rewards\"])\n",
    "info_df = pandas.DataFrame(columns=['Steps', 'Reward'], index=[model_name+\"_\"+str(take)])\n",
    "\n",
    "info_df.loc[model_name+\"_\"+str(take), \"Steps\"] = len(rewards_rec)\n",
    "info_df.loc[model_name+\"_\"+str(take), \"Reward\"] = numpy.sum(rewards_rec)\n",
    "    \n",
    "DIRECTORY = os.path.join(*[SAVE_PATH])\n",
    "observations_rec_df.to_feather(os.path.join(*[SAVE_PATH, \"{}\".format(take).zfill(4)+\"_obs.ftr\"]))\n",
    "poses_rec_df.to_feather(os.path.join(*[SAVE_PATH, \"{}\".format(take).zfill(4)+\"_pose.ftr\"]))\n",
    "ft_values_rec_df.to_feather(os.path.join(*[SAVE_PATH, \"{}\".format(take).zfill(4)+\"_ft.ftr\"]))\n",
    "q_rec_df.to_feather(os.path.join(*[SAVE_PATH, \"{}\".format(take).zfill(4)+\"_q.ftr\"]))\n",
    "qd_rec_df.to_feather(os.path.join(*[SAVE_PATH, \"{}\".format(take).zfill(4)+\"_qd.ftr\"]))\n",
    "rewards_df.to_feather(os.path.join(*[SAVE_PATH, \"{}\".format(take).zfill(4)+\"_reward.ftr\"]))\n",
    "info_df = info_df.reset_index()\n",
    "info_df.to_feather(os.path.join(*[SAVE_PATH, \"{}\".format(take).zfill(4)+\"_info.ftr\"]))"
   ]
  },
  {
   "cell_type": "markdown",
   "metadata": {},
   "source": [
    "# --- Visualize the Data with Visualize_Hardware_Tests.ipynb ---"
   ]
  }
 ],
 "metadata": {
  "kernelspec": {
   "display_name": "Python 3",
   "language": "python",
   "name": "python3"
  },
  "language_info": {
   "codemirror_mode": {
    "name": "ipython",
    "version": 3
   },
   "file_extension": ".py",
   "mimetype": "text/x-python",
   "name": "python",
   "nbconvert_exporter": "python",
   "pygments_lexer": "ipython3",
   "version": "3.6.9"
  }
 },
 "nbformat": 4,
 "nbformat_minor": 4
}
