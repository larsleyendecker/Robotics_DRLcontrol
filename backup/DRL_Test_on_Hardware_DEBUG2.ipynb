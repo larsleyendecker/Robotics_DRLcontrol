{
 "cells": [
  {
   "cell_type": "code",
   "execution_count": 1,
   "metadata": {},
   "outputs": [],
   "source": [
    "take = 0"
   ]
  },
  {
   "cell_type": "markdown",
   "metadata": {
    "scrolled": true
   },
   "source": [
    "# Description"
   ]
  },
  {
   "cell_type": "markdown",
   "metadata": {},
   "source": [
    "Script to run the agent on the hardware\n",
    "\n",
    "0. Description\n",
    "1. Imports\n",
    "2. Paths\n",
    "3. Configuration\n",
    "4. Functions\n",
    "5. Creation\n",
    "6. Run on Hardware\n",
    "7. Save recorded Data\n"
   ]
  },
  {
   "cell_type": "markdown",
   "metadata": {},
   "source": [
    "# Specification"
   ]
  },
  {
   "cell_type": "code",
   "execution_count": 2,
   "metadata": {},
   "outputs": [],
   "source": [
    "dt = 0.1\n",
    "model_number = 999\n",
    "max_limit = 0.0001\n",
    "R1 = 1\n",
    "R2 = 0.005\n",
    "R_success = 400\n",
    "reality_distance_threshold = 0.0075\n",
    "\n",
    "reality_horizon = 2500"
   ]
  },
  {
   "cell_type": "markdown",
   "metadata": {},
   "source": [
    "# Imports"
   ]
  },
  {
   "cell_type": "code",
   "execution_count": 3,
   "metadata": {
    "scrolled": true
   },
   "outputs": [
    {
     "name": "stderr",
     "output_type": "stream",
     "text": [
      "In /home/lars/.local/lib/python3.6/site-packages/matplotlib/mpl-data/stylelib/_classic_test.mplstyle: \n",
      "The text.latex.preview rcparam was deprecated in Matplotlib 3.3 and will be removed two minor releases later.\n",
      "In /home/lars/.local/lib/python3.6/site-packages/matplotlib/mpl-data/stylelib/_classic_test.mplstyle: \n",
      "The mathtext.fallback_to_cm rcparam was deprecated in Matplotlib 3.3 and will be removed two minor releases later.\n",
      "In /home/lars/.local/lib/python3.6/site-packages/matplotlib/mpl-data/stylelib/_classic_test.mplstyle: Support for setting the 'mathtext.fallback_to_cm' rcParam is deprecated since 3.3 and will be removed two minor releases later; use 'mathtext.fallback : 'cm' instead.\n",
      "In /home/lars/.local/lib/python3.6/site-packages/matplotlib/mpl-data/stylelib/_classic_test.mplstyle: \n",
      "The validate_bool_maybe_none function was deprecated in Matplotlib 3.3 and will be removed two minor releases later.\n",
      "In /home/lars/.local/lib/python3.6/site-packages/matplotlib/mpl-data/stylelib/_classic_test.mplstyle: \n",
      "The savefig.jpeg_quality rcparam was deprecated in Matplotlib 3.3 and will be removed two minor releases later.\n",
      "In /home/lars/.local/lib/python3.6/site-packages/matplotlib/mpl-data/stylelib/_classic_test.mplstyle: \n",
      "The keymap.all_axes rcparam was deprecated in Matplotlib 3.3 and will be removed two minor releases later.\n",
      "In /home/lars/.local/lib/python3.6/site-packages/matplotlib/mpl-data/stylelib/_classic_test.mplstyle: \n",
      "The animation.avconv_path rcparam was deprecated in Matplotlib 3.3 and will be removed two minor releases later.\n",
      "In /home/lars/.local/lib/python3.6/site-packages/matplotlib/mpl-data/stylelib/_classic_test.mplstyle: \n",
      "The animation.avconv_args rcparam was deprecated in Matplotlib 3.3 and will be removed two minor releases later.\n",
      "/home/lars/.local/lib/python3.6/site-packages/tensorflow/python/framework/dtypes.py:516: FutureWarning: Passing (type, 1) or '1type' as a synonym of type is deprecated; in a future version of numpy, it will be understood as (type, (1,)) / '(1,)type'.\n",
      "  _np_qint8 = np.dtype([(\"qint8\", np.int8, 1)])\n",
      "/home/lars/.local/lib/python3.6/site-packages/tensorflow/python/framework/dtypes.py:517: FutureWarning: Passing (type, 1) or '1type' as a synonym of type is deprecated; in a future version of numpy, it will be understood as (type, (1,)) / '(1,)type'.\n",
      "  _np_quint8 = np.dtype([(\"quint8\", np.uint8, 1)])\n",
      "/home/lars/.local/lib/python3.6/site-packages/tensorflow/python/framework/dtypes.py:518: FutureWarning: Passing (type, 1) or '1type' as a synonym of type is deprecated; in a future version of numpy, it will be understood as (type, (1,)) / '(1,)type'.\n",
      "  _np_qint16 = np.dtype([(\"qint16\", np.int16, 1)])\n",
      "/home/lars/.local/lib/python3.6/site-packages/tensorflow/python/framework/dtypes.py:519: FutureWarning: Passing (type, 1) or '1type' as a synonym of type is deprecated; in a future version of numpy, it will be understood as (type, (1,)) / '(1,)type'.\n",
      "  _np_quint16 = np.dtype([(\"quint16\", np.uint16, 1)])\n",
      "/home/lars/.local/lib/python3.6/site-packages/tensorflow/python/framework/dtypes.py:520: FutureWarning: Passing (type, 1) or '1type' as a synonym of type is deprecated; in a future version of numpy, it will be understood as (type, (1,)) / '(1,)type'.\n",
      "  _np_qint32 = np.dtype([(\"qint32\", np.int32, 1)])\n",
      "/home/lars/.local/lib/python3.6/site-packages/tensorflow/python/framework/dtypes.py:525: FutureWarning: Passing (type, 1) or '1type' as a synonym of type is deprecated; in a future version of numpy, it will be understood as (type, (1,)) / '(1,)type'.\n",
      "  np_resource = np.dtype([(\"resource\", np.ubyte, 1)])\n",
      "/home/lars/.local/lib/python3.6/site-packages/tensorboard/compat/tensorflow_stub/dtypes.py:541: FutureWarning: Passing (type, 1) or '1type' as a synonym of type is deprecated; in a future version of numpy, it will be understood as (type, (1,)) / '(1,)type'.\n",
      "  _np_qint8 = np.dtype([(\"qint8\", np.int8, 1)])\n",
      "/home/lars/.local/lib/python3.6/site-packages/tensorboard/compat/tensorflow_stub/dtypes.py:542: FutureWarning: Passing (type, 1) or '1type' as a synonym of type is deprecated; in a future version of numpy, it will be understood as (type, (1,)) / '(1,)type'.\n",
      "  _np_quint8 = np.dtype([(\"quint8\", np.uint8, 1)])\n",
      "/home/lars/.local/lib/python3.6/site-packages/tensorboard/compat/tensorflow_stub/dtypes.py:543: FutureWarning: Passing (type, 1) or '1type' as a synonym of type is deprecated; in a future version of numpy, it will be understood as (type, (1,)) / '(1,)type'.\n",
      "  _np_qint16 = np.dtype([(\"qint16\", np.int16, 1)])\n",
      "/home/lars/.local/lib/python3.6/site-packages/tensorboard/compat/tensorflow_stub/dtypes.py:544: FutureWarning: Passing (type, 1) or '1type' as a synonym of type is deprecated; in a future version of numpy, it will be understood as (type, (1,)) / '(1,)type'.\n",
      "  _np_quint16 = np.dtype([(\"quint16\", np.uint16, 1)])\n",
      "/home/lars/.local/lib/python3.6/site-packages/tensorboard/compat/tensorflow_stub/dtypes.py:545: FutureWarning: Passing (type, 1) or '1type' as a synonym of type is deprecated; in a future version of numpy, it will be understood as (type, (1,)) / '(1,)type'.\n",
      "  _np_qint32 = np.dtype([(\"qint32\", np.int32, 1)])\n",
      "/home/lars/.local/lib/python3.6/site-packages/tensorboard/compat/tensorflow_stub/dtypes.py:550: FutureWarning: Passing (type, 1) or '1type' as a synonym of type is deprecated; in a future version of numpy, it will be understood as (type, (1,)) / '(1,)type'.\n",
      "  np_resource = np.dtype([(\"resource\", np.ubyte, 1)])\n"
     ]
    }
   ],
   "source": [
    "# General imports\n",
    "import os\n",
    "import time\n",
    "import datetime\n",
    "from os.path import expanduser\n",
    "import pandas\n",
    "import pickle\n",
    "import json\n",
    "import numpy\n",
    "from matplotlib import pyplot as plt\n",
    "\n",
    "# rllib imports\n",
    "import ray\n",
    "import ray.rllib.agents.ppo as ppo\n",
    "from ray.tune.registry import get_trainable_cls\n",
    "from ray.tune.registry import register_env\n",
    "from ray.rllib.env import MultiAgentEnv\n",
    "from ray.rllib.env.base_env import _DUMMY_AGENT_ID\n",
    "from ray.rllib.evaluation.worker_set import WorkerSet\n",
    "from ray.rllib.policy.sample_batch import DEFAULT_POLICY_ID\n",
    "from ray.rllib.utils.deprecation import deprecation_warning\n",
    "\n",
    "# Gym imports\n",
    "from gym.envs.robotics.ur10 import randomize\n",
    "from gym.envs.robotics import ur10_noisy_pd_env_mh\n",
    "from gym import utils\n",
    "from gym.envs.robotics import rotations, robot_custom_env_mh, utils\n",
    "from gym.envs.robotics import ur10_force_env_3\n",
    "from gym.envs.robotics import ur10_force_env\n",
    "\n",
    "# MuJoCo imports\n",
    "import mujoco_py\n",
    "\n",
    "# ROS imports\n",
    "import rospy\n",
    "from sensor_msgs.msg import JointState\n",
    "from std_msgs.msg import Float64MultiArray\n",
    "from std_msgs.msg import String\n",
    "from geometry_msgs.msg import WrenchStamped\n",
    "from trajectory_msgs.msg import JointTrajectory, JointTrajectoryPoint\n",
    "from realsense2_camera.msg import CustomVector\n",
    "from realsense2_camera.msg import EstimatedPose"
   ]
  },
  {
   "cell_type": "markdown",
   "metadata": {},
   "source": [
    "# Paths"
   ]
  },
  {
   "cell_type": "code",
   "execution_count": 4,
   "metadata": {},
   "outputs": [],
   "source": [
    "HOME_PATH = os.getenv(\"HOME\")\n",
    "PROJECT_PATH = os.path.join(*[HOME_PATH, \"DRL_AI4RoMoCo\"])\n",
    "SAVE_PATH = os.path.join(*[PROJECT_PATH, \"code\", \"data\",\"TEST_Reality\"])\n",
    "XML_MODEL_PATH = os.path.join(*[HOME_PATH, \"DRL_AI4RoMoCo\", \"code\", \"environment\",\"UR10_single\",\"ur10_heg.xml\"])\n",
    "\n",
    "env_config = \"env_config_001_333.yml\"\n",
    "checkpoint_number = 400\n",
    "model = \"PPO_ForceEnv3_0_2020-09-11_15-51-10br6tl58u\"\n",
    "\n",
    "ENV_CONFIG = os.path.join(*[HOME_PATH, \"AGENT_TESTS\", env_config])\n",
    "#ENV_CONFIG = os.path.join(*[HOME_PATH, \"AGENT_TESTS\", \"PPO_ForceEnv_0_2020-09-10_15-29-51_j1bhegb\", config])"
   ]
  },
  {
   "cell_type": "markdown",
   "metadata": {},
   "source": [
    "# Configuration"
   ]
  },
  {
   "cell_type": "markdown",
   "metadata": {},
   "source": [
    "Hardware - Environment (ROS)"
   ]
  },
  {
   "cell_type": "code",
   "execution_count": 5,
   "metadata": {},
   "outputs": [],
   "source": [
    "actual_q = numpy.zeros(6,)\n",
    "ft_values = numpy.zeros(6,)"
   ]
  },
  {
   "cell_type": "markdown",
   "metadata": {},
   "source": [
    "Simulation - Environment (MuJoCo, Gym)"
   ]
  },
  {
   "cell_type": "code",
   "execution_count": 6,
   "metadata": {},
   "outputs": [
    {
     "name": "stdout",
     "output_type": "stream",
     "text": [
      "[ 0.69423743 -0.83110109  1.17388998 -1.57161506  0.02185773 -3.14102438]\n"
     ]
    }
   ],
   "source": [
    "goal = numpy.array([0.69423743, -0.83110109,  1.17388998, -1.57161506,  0.02185773, -3.14102438])\n",
    "reward_type = \"dense\"\n",
    "distance_threshold = 0.002\n",
    "fail_threshold = 0.25\n",
    "punish_force = False\n",
    "punish_force_thresh = 20\n",
    "punish_force_factor = 0.001\n",
    "print(goal)"
   ]
  },
  {
   "cell_type": "code",
   "execution_count": 7,
   "metadata": {},
   "outputs": [],
   "source": [
    "initial_qpos_simpheg_conf2 = numpy.array([0, -1.3, 2.1, -0.80, 1.5708, 0])\n",
    "randomize_kwargs = {\n",
    "    'var_mass':     0,#0.5,\n",
    "    'var_damp':     0,#0.5,\n",
    "    'var_fr':       0,#0.5,\n",
    "    'var_grav_x_y': 0,#0.5,\n",
    "    'var_grav_z':   0,#1,\n",
    "    'var_body_pos': 0,#0.05,\n",
    "    'var_body_rot': 0,\n",
    "}"
   ]
  },
  {
   "cell_type": "markdown",
   "metadata": {},
   "source": [
    "Agent (ray, tune, rllib)"
   ]
  },
  {
   "cell_type": "code",
   "execution_count": 8,
   "metadata": {},
   "outputs": [],
   "source": [
    "checkpoint_model1 = os.path.join(*[HOME_PATH, \"DRL_SetBot-RearVentilation\", \"final_models\",\n",
    "                            \"model1\", \"checkpoint-2120\"])\n",
    "checkpoint_model2 = os.path.join(*[HOME_PATH, \"DRL_SetBot-RearVentilation\", \"final_models\",\n",
    "                            \"model2\", \"checkpoint-3440\"])\n",
    "checkpoint_model3 = os.path.join(*[HOME_PATH, \"DRL_SetBot-RearVentilation\", \"final_models\",\n",
    "                            \"model3\", \"checkpoint-3030\"])\n",
    "checkpoint_model4 = os.path.join(*[HOME_PATH, \"DRL_SetBot-RearVentilation\", \"final_models\",\n",
    "                            \"model4\", \"checkpoint-3590\"])\n",
    "checkpoint_model5 = os.path.join(*[HOME_PATH, \"DRL_SetBot-RearVentilation\", \"final_models\",\n",
    "                            \"model5\", \"checkpoint-4410\"])\n",
    "#checkpoint_lars = os.path.join(*[HOME_PATH, \"realsense_ws\", \"MODELS\", \"RandForceEnv_2\", \"agent\", \"checkpoint_12750\", \"checkpoint-12750\"])\n",
    "#checkpoint_lars = os.path.join(*[HOME_PATH, \"AGENT_TESTS\", \"PPO_ForceEnv_0_2020-09-10_15-29-51_j1bhegb\", \"checkpoint_575\", \"checkpoint-575\"])\n",
    "#checkpoint_lars = os.path.join(*[HOME_PATH, \"AGENT_TESTS\", \"PPO_RandForceEnv3_0_2020-09-10_00-34-348xmk8dxt\", \"checkpoint_1600\", \"checkpoint-1600\"])\n",
    "#checkpoint_lars = os.path.join(*[HOME_PATH, \"AGENT_TESTS\", \"RandForceEnv\", \"checkpoint_12750\", \"checkpoint-12750\"])\n",
    "#checkpoint_lars = os.path.join(*[HOME_PATH, \"AGENT_TESTS\", model, \"checkpoint_{}\".format(checkpoint_number), \"checkpoint-{}\".format(checkpoint_number)])\n",
    "\n",
    "checkpoint_lars = os.path.join(*[HOME_PATH, \"AGENT_TESTS\", \"PPO_NoisyVaryEnv_0_2020-09-15_13-53-11d046bzlf\", \"checkpoint_2675\", \"checkpoint-2675\"])\n",
    "\n",
    "checkpoint_marius = checkpoint_model4    # Gutes Modell\n"
   ]
  },
  {
   "cell_type": "code",
   "execution_count": 9,
   "metadata": {},
   "outputs": [
    {
     "data": {
      "text/plain": [
       "'/home/lars/AGENT_TESTS/PPO_NoisyVaryEnv_0_2020-09-15_13-53-11d046bzlf/checkpoint_2675/checkpoint-2675'"
      ]
     },
     "execution_count": 9,
     "metadata": {},
     "output_type": "execute_result"
    }
   ],
   "source": [
    "def update_checkpoint_for_rollout(checkpoint_path):\n",
    "    with open(checkpoint_path, \"rb\") as f:\n",
    "        extra_data = pickle.load(f)\n",
    "    if not \"trainer_state\" in extra_data:\n",
    "        extra_data[\"trainer_state\"] = {}\n",
    "        with open(checkpoint_path, 'wb') as f:\n",
    "            pickle.dump(extra_data, f)\n",
    "\n",
    "checkpoint_marius = checkpoint_marius\n",
    "checkpoint_lars = checkpoint_lars\n",
    "#update_checkpoint_for_rollout(checkpoint_marius)\n",
    "#update_checkpoint_for_rollout(checkpoint_lars)\n",
    "checkpoint_marius\n",
    "checkpoint_lars"
   ]
  },
  {
   "cell_type": "code",
   "execution_count": 10,
   "metadata": {},
   "outputs": [
    {
     "name": "stdout",
     "output_type": "stream",
     "text": [
      "Config found!\n"
     ]
    }
   ],
   "source": [
    "config_marius = {}\n",
    "    # Load configuration from checkpoint file.\n",
    "config_dir = os.path.dirname(checkpoint_marius)\n",
    "config_path = os.path.join(config_dir, \"params.pkl\")\n",
    "# Try parent directory.\n",
    "if not os.path.exists(config_path):\n",
    "    config_path = os.path.join(config_dir, \"../params.pkl\")\n",
    "if os.path.exists(config_path):\n",
    "    print(\"Config found!\")\n",
    "    with open(config_path, \"rb\") as f:\n",
    "            config_marius = pickle.load(f)\n",
    "            \n",
    "config_marius['num_workers'] = 2\n",
    "config_marius['num_gpus'] = 1"
   ]
  },
  {
   "cell_type": "code",
   "execution_count": 11,
   "metadata": {},
   "outputs": [
    {
     "name": "stdout",
     "output_type": "stream",
     "text": [
      "Config found!\n"
     ]
    }
   ],
   "source": [
    "config_lars = {}\n",
    "    # Load configuration from checkpoint file.\n",
    "config_dir = os.path.dirname(checkpoint_lars)\n",
    "config_path = os.path.join(config_dir, \"params.pkl\")\n",
    "# Try parent directory.\n",
    "if not os.path.exists(config_path):\n",
    "    config_path = os.path.join(config_dir, \"../params.pkl\")\n",
    "if os.path.exists(config_path):\n",
    "    print(\"Config found!\")\n",
    "    with open(config_path, \"rb\") as f:\n",
    "            config_lars = pickle.load(f)\n",
    "            \n",
    "config_lars['num_workers'] = 2\n",
    "config_lars['num_gpus'] = 1"
   ]
  },
  {
   "cell_type": "code",
   "execution_count": 12,
   "metadata": {},
   "outputs": [
    {
     "data": {
      "text/plain": [
       "{'env': 'RandomizedEnv',\n",
       " 'callbacks': {'on_episode_start': <function __main__.on_episode_start(info)>,\n",
       "  'on_episode_step': <function __main__.on_episode_step(info)>,\n",
       "  'on_episode_end': <function __main__.on_episode_end(info)>},\n",
       " 'num_workers': 2,\n",
       " 'num_gpus': 1,\n",
       " 'num_cpus_per_worker': 1,\n",
       " 'horizon': 2500,\n",
       " 'lr': 0.0003,\n",
       " 'train_batch_size': 57500,\n",
       " 'model': {'use_lstm': False,\n",
       "  'lstm_cell_size': 128,\n",
       "  'fcnet_hiddens': [128, 128]},\n",
       " 'tf_session_args': {'allow_soft_placement': True}}"
      ]
     },
     "execution_count": 12,
     "metadata": {},
     "output_type": "execute_result"
    }
   ],
   "source": [
    "config_marius"
   ]
  },
  {
   "cell_type": "code",
   "execution_count": 13,
   "metadata": {},
   "outputs": [
    {
     "data": {
      "text/plain": [
       "{'env': 'NoisyVaryEnv',\n",
       " 'seed': 1794,\n",
       " 'num_workers': 2,\n",
       " 'num_envs_per_worker': 1,\n",
       " 'num_gpus': 1,\n",
       " 'gamma': 0.99,\n",
       " 'lr': 0.0003,\n",
       " 'horizon': 500,\n",
       " 'soft_horizon': False,\n",
       " 'train_batch_size': 11500,\n",
       " 'callbacks': {'on_episode_start': None,\n",
       "  'on_episode_step': None,\n",
       "  'on_episode_end': None,\n",
       "  'on_postprocess_traj': None},\n",
       " 'model': {'use_lstm': False,\n",
       "  'lstm_cell_size': 128,\n",
       "  'fcnet_hiddens': [256, 256]},\n",
       " 'tf_session_args': {'allow_soft_placement': True}}"
      ]
     },
     "execution_count": 13,
     "metadata": {},
     "output_type": "execute_result"
    }
   ],
   "source": [
    "config_lars"
   ]
  },
  {
   "cell_type": "markdown",
   "metadata": {},
   "source": [
    "# Functions"
   ]
  },
  {
   "cell_type": "markdown",
   "metadata": {},
   "source": [
    "Helper Functions"
   ]
  },
  {
   "cell_type": "code",
   "execution_count": 14,
   "metadata": {},
   "outputs": [],
   "source": [
    "def normalize_rad(angles):\n",
    "    angles = numpy.array(angles)\n",
    "    angles = angles % (2*numpy.pi)\n",
    "    angles = (angles + 2*numpy.pi) % (2*numpy.pi)\n",
    "    for i in range(len(angles)):\n",
    "        if (angles[i] > numpy.pi):\n",
    "            angles[i] -= 2*numpy.pi\n",
    "    return angles\n",
    "\n",
    "def get_obs():\n",
    "    set_state(actual_q)\n",
    "    for i in range(10):\n",
    "        viewer.render()\n",
    "    #print(ft_values)\n",
    "    x_pos = sim.data.get_body_xpos(\"gripper_dummy_heg\")\n",
    "    x_mat = sim.data.get_body_xmat(\"gripper_dummy_heg\")\n",
    "    rpy =  normalize_rad(rotations.mat2euler(x_mat))\n",
    "    #print(x_pos, rpy)\n",
    "\n",
    "    obs = numpy.concatenate([\n",
    "                x_mat.dot(x_pos-goal[:3]), x_mat.dot(normalize_rad(rpy-goal[3:])), ft_values.copy()\n",
    "            ])\n",
    "    return obs\n",
    "\n",
    "def get_dq(dx):\n",
    "    jacp = sim.data.get_body_jacp(name=\"gripper_dummy_heg\").reshape(3, 6)\n",
    "    jacr = sim.data.get_body_jacr(name=\"gripper_dummy_heg\").reshape(3, 6)\n",
    "    jac = numpy.vstack((jacp, jacr))\n",
    "    dq = numpy.linalg.lstsq(jac, dx)[0].reshape(6, )\n",
    "    return dq\n",
    "\n",
    "def go_smooth(q):\n",
    "    rate = rospy.Rate(125)\n",
    "    dq = q - actual_q\n",
    "    while numpy.linalg.norm(dq)>0.005:\n",
    "        dq = q - actual_q\n",
    "        dq_ = numpy.clip(dq, -0.0001, 0.0001)\n",
    "        control(ctrl_q+dq_)\n",
    "        rate.sleep()\n",
    "    control(q)\n",
    "    \n",
    "def set_state(qpos):\n",
    "    #assert qpos.shape == (model.nq,)\n",
    "    old_state = sim.get_state()\n",
    "    new_state = mujoco_py.MjSimState(old_state.time, qpos, old_state.qvel,\n",
    "                                     old_state.act, old_state.udd_state)\n",
    "    sim.set_state(new_state)\n",
    "    sim.forward()\n",
    "    \n",
    "def keep_going(steps, num_steps, episodes, num_episodes):\n",
    "    \"\"\"Determine whether we've collected enough data\"\"\"\n",
    "    # if num_episodes is set, this overrides num_steps\n",
    "    if num_episodes:\n",
    "        return episodes < num_episodes\n",
    "    # if num_steps is set, continue until we reach the limit\n",
    "    if num_steps:\n",
    "        return steps < num_steps\n",
    "    # otherwise keep going forever\n",
    "    return True"
   ]
  },
  {
   "cell_type": "markdown",
   "metadata": {},
   "source": [
    "ROS"
   ]
  },
  {
   "cell_type": "code",
   "execution_count": 15,
   "metadata": {},
   "outputs": [],
   "source": [
    "# ROS callback functions\n",
    "def q_callback(data):\n",
    "    '''Callback for the joint angles, velocities and accelerations'''\n",
    "    global actual_q\n",
    "    global actual_qd\n",
    "    global actual_qdd\n",
    "    actual_q = numpy.array(data.position)[[2,1,0,3,4,5]]\n",
    "    actual_qd = numpy.array(data.velocity)[[2,1,0,3,4,5]]\n",
    "    actual_qdd = numpy.array(data.effort)[[2,1,0,3,4,5]]\n",
    "    set_state(actual_q)\n",
    "    viewer.render()\n",
    "    \n",
    "def ft_callback(data):\n",
    "    '''Callback for the Robotiq FT300 force torque values'''\n",
    "    global ft_values\n",
    "    ft_values = 1 * numpy.array([data.wrench.force.x, data.wrench.force.y, data.wrench.force.z, data.wrench.torque.x, \\\n",
    "                            data.wrench.torque.y, data.wrench.torque.z])\n",
    "    \n",
    "def pose_callback(data):\n",
    "    '''Callback for the Intel Realsense D435i and OpenCV charuco pose estimation'''\n",
    "    global pose\n",
    "    pose = numpy.array([data.tx, data.ty, data.tz, data.rx, data.ry, data.rz])\n",
    "    \n",
    "def observation_callback(data):\n",
    "    '''Callback for the entire observation array (same as in simulation)'''\n",
    "    global observations\n",
    "    observations = numpy.array(data.data)\n",
    "    \n",
    "def check_ROS_topics():\n",
    "    '''Listens to all required ROS topics and checks if each of them is online and sending'''\n",
    "    check_jointstates = []\n",
    "    check_ft300_force_torque = []\n",
    "    check_observations = []\n",
    "    check_pose_estimation = []\n",
    "    \n",
    "    for i in range(5):\n",
    "        check_jointstates.append(actual_q)\n",
    "        check_ft300_force_torque.append(ft_values)\n",
    "        check_observations.append(observations)\n",
    "        check_pose_estimation.append(pose)\n",
    "        time.sleep(0.5)\n",
    "        \n",
    "    topics = [\"/joint_states\", \"/ft300_force_torque\", \"/observation\", \"/pose_estimation\"]\n",
    "    topics_dict = {\n",
    "        \"/joint_states\" : check_jointstates,\n",
    "        \"/ft300_force_torque\" : check_ft300_force_torque,\n",
    "        \"/observation\" : check_observations,\n",
    "        \"/pose_estimation\" : check_pose_estimation\n",
    "    }\n",
    "    \n",
    "    for topic in topics:\n",
    "        if not topics_dict[topic]:\n",
    "            print(\"ERROR: {} is offline or not sending\".format(topic))\n",
    "        else:\n",
    "            print(\"SUCCESS: {} is online and sending\".format(topic))"
   ]
  },
  {
   "cell_type": "code",
   "execution_count": 16,
   "metadata": {},
   "outputs": [],
   "source": [
    "def goal_distance(obs, goal):\n",
    "    '''Compute distance between TCP and Goal'''\n",
    "    obs = obs[:6]\n",
    "    assert obs.shape == goal.shape\n",
    "    return numpy.linalg.norm(obs*numpy.array([1, 1, 1, 0.3, 0.3, 0.3]), axis=-1)\n",
    "\n",
    "def compute_reward(obs, goal):\n",
    "    d = goal_distance(obs,goal)\n",
    "    f = numpy.absolute(obs[7]) + numpy.absolute(obs[8]) + numpy.absolute(obs[9])\n",
    "    rew = R1 * (-d) + R2 *(-f)\n",
    "    return rew\n",
    "'''\n",
    "def is_success(obs, goal):\n",
    "    d = goal_distance(obs,goal)\n",
    "    if d < distance_threshold:\n",
    "        return True\n",
    "    else:\n",
    "        return False\n",
    "'''\n",
    "def is_success(obs):\n",
    "    distance = numpy.absolute(obs[0]) + numpy.absolute(obs[1]) + numpy.absolute(obs[2])\n",
    "    if distance < reality_distance_threshold:\n",
    "        return True\n",
    "    else:\n",
    "        return False"
   ]
  },
  {
   "cell_type": "code",
   "execution_count": 17,
   "metadata": {},
   "outputs": [],
   "source": [
    "# ROS control commands\n",
    "def control(q):\n",
    "    '''Controlling the Universal Robot UR10 JointGroupPositionController'''\n",
    "    global ctrl_q\n",
    "    command = Float64MultiArray()\n",
    "    command.data = q\n",
    "    control_publisher.publish(command)\n",
    "    ctrl_q = q.copy()\n",
    "    \n",
    "def traj_control(q):\n",
    "    #dt = 0.025\n",
    "    global ctrl_q\n",
    "    command = JointTrajectory()\n",
    "    point = JointTrajectoryPoint()\n",
    "    \n",
    "    #command.header.stamp = rospy.Time.now()\n",
    "    #command.header.frame_id = \"DRL_UR10\"\n",
    "    #command.joint_names = [\"elbow_joint\", \"shoulder_lift_joint\", \"shoulder_pan_joint\", \"wrist_1_joint\", \"wrist_2_joint\", \"wrist_3_joint\"]\n",
    "    \n",
    "    #command.header.stamp = rospy.Time.now()\n",
    "    command.header.frame_id = \"DRL_UR10\"\n",
    "    command.joint_names.append(\"shoulder_pan_joint\")\n",
    "    command.joint_names.append(\"shoulder_lift_joint\")\n",
    "    command.joint_names.append(\"elbow_joint\")\n",
    "    command.joint_names.append(\"wrist_1_joint\")\n",
    "    command.joint_names.append(\"wrist_2_joint\")\n",
    "    command.joint_names.append(\"wrist_3_joint\")\n",
    "    \n",
    "\n",
    "    point.positions.append(q[0])\n",
    "    point.positions.append(q[1])\n",
    "    point.positions.append(q[2])\n",
    "    point.positions.append(q[3])\n",
    "    point.positions.append(q[4])\n",
    "    point.positions.append(q[5])\n",
    "    \n",
    "    command.points.append(point)\n",
    "    command.points[0].time_from_start=rospy.Duration.from_sec(dt)\n",
    "    \n",
    "    traj_control_publisher.publish(command)\n",
    "    ctrl_q = q.copy()\n",
    "    \n",
    "def static_approach():\n",
    "    \n",
    "    waypoint0 = numpy.array([1.6256170272827148, -0.9155753294574183, 1.5307668447494507, -0.6977546850787562, 1.5475375652313232, 0.011224725283682346])[[2,1,0,3,4,5]]\n",
    "    waypoint1 = numpy.array([2.47381329536438, -1.4324410597430628, 1.5743204355239868, -1.0292657057391565, 1.5910834074020386, 0.011859889142215252])[[2,1,0,3,4,5]]\n",
    "    waypoint2 = numpy.array([2.519468069076538, -1.6841238180743616, 0.13313426077365875, -0.8226664702044886, 1.7688652276992798, 0.014099815860390663])[[2,1,0,3,4,5]]\n",
    "    waypoint3 = numpy.array([2.1001405715942383, -1.3000262419330042, 7.190534961409867e-05, -0.7999804655658167, 1.5709056854248047, -3.5587941304981996e-05])[[2,1,0,3,4,5]]\n",
    "    \n",
    "    dt_static = 2\n",
    "    command = JointTrajectory()\n",
    "    point0 = JointTrajectoryPoint()\n",
    "    point1 = JointTrajectoryPoint()\n",
    "    point2 = JointTrajectoryPoint()\n",
    "    point3 = JointTrajectoryPoint()\n",
    "    \n",
    "    command.header.stamp = rospy.Time.now()\n",
    "    command.header.frame_id = \"DRL_UR10\"\n",
    "    command.joint_names.append(\"shoulder_pan_joint\")\n",
    "    command.joint_names.append(\"shoulder_lift_joint\")\n",
    "    command.joint_names.append(\"elbow_joint\")\n",
    "    command.joint_names.append(\"wrist_1_joint\")\n",
    "    command.joint_names.append(\"wrist_2_joint\")\n",
    "    command.joint_names.append(\"wrist_3_joint\")\n",
    "    \n",
    "    point0.positions.append(waypoint0[0])\n",
    "    point0.positions.append(waypoint0[1])\n",
    "    point0.positions.append(waypoint0[2])\n",
    "    point0.positions.append(waypoint0[3])\n",
    "    point0.positions.append(waypoint0[4])\n",
    "    point0.positions.append(waypoint0[5])\n",
    "    \n",
    "    #command.points.append(point0)\n",
    "    \n",
    "    point1.positions.append(waypoint1[0])\n",
    "    point1.positions.append(waypoint1[1])\n",
    "    point1.positions.append(waypoint1[2])\n",
    "    point1.positions.append(waypoint1[3])\n",
    "    point1.positions.append(waypoint1[4])\n",
    "    point1.positions.append(waypoint1[5])\n",
    "    \n",
    "    command.points.append(point1)\n",
    "    command.points[0].time_from_start=rospy.Duration.from_sec(dt_static)\n",
    "    \n",
    "    point2.positions.append(waypoint2[0])\n",
    "    point2.positions.append(waypoint2[1])\n",
    "    point2.positions.append(waypoint2[2])\n",
    "    point2.positions.append(waypoint2[3])\n",
    "    point2.positions.append(waypoint2[4])\n",
    "    point2.positions.append(waypoint2[5])\n",
    "    \n",
    "    command.points.append(point2)\n",
    "    command.points[1].time_from_start=rospy.Duration.from_sec(2*dt_static)\n",
    "    \n",
    "    point3.positions.append(waypoint3[0])\n",
    "    point3.positions.append(waypoint3[1])\n",
    "    point3.positions.append(waypoint3[2])\n",
    "    point3.positions.append(waypoint3[3])\n",
    "    point3.positions.append(waypoint3[4])\n",
    "    point3.positions.append(waypoint3[5])\n",
    "    \n",
    "    command.points.append(point3)\n",
    "    command.points[2].time_from_start=rospy.Duration.from_sec(2.5*dt_static)\n",
    "    \n",
    "    traj_control_publisher.publish(command)\n",
    "    \n",
    "def ft_zero():\n",
    "    '''Zeroes the Robotiq FT300 force torque sensor by sending an ur_script via UR Secondary Interface'''\n",
    "    zero_sensor_urscript = 'sec ft_set_zero():' + '\\n' + '\\t' + 'if(socket_open(\"127.0.0.1\", 63350, \"acc\")):' \\\n",
    "          + '\\n' + '\\t' + '\\t' + 'socket_send_string(\"SET ZRO\", \"acc\")' \\\n",
    "         + '\\n' + '\\t' + '\\t' + 'socket_close(\"acc\")' + '\\n' + '\\t' + 'end' + '\\n' + 'end' + '\\n'\n",
    "    ft_zero_publisher.publish(zero_sensor_urscript)"
   ]
  },
  {
   "cell_type": "markdown",
   "metadata": {},
   "source": [
    "# Creation"
   ]
  },
  {
   "cell_type": "markdown",
   "metadata": {},
   "source": [
    "Simulation Environment (Gym)"
   ]
  },
  {
   "cell_type": "code",
   "execution_count": 18,
   "metadata": {},
   "outputs": [
    {
     "name": "stdout",
     "output_type": "stream",
     "text": [
      "Creating window glfw\n"
     ]
    }
   ],
   "source": [
    "model = mujoco_py.load_model_from_path(XML_MODEL_PATH)\n",
    "sim = mujoco_py.MjSim(model)\n",
    "q_init = numpy.array([0, -1.3, 2.1, -0.80, 1.5708, 0.0])\n",
    "\n",
    "ctrl_q = q_init\n",
    "set_state(q_init)\n",
    "\n",
    "viewer = mujoco_py.MjViewer(sim)\n",
    "viewer.render()"
   ]
  },
  {
   "cell_type": "code",
   "execution_count": 19,
   "metadata": {},
   "outputs": [
    {
     "name": "stdout",
     "output_type": "stream",
     "text": [
      "[ 0.57243453 -0.83605904  1.17575472] [-1.57079633e+00  3.67320510e-06  3.14159265e+00]\n"
     ]
    }
   ],
   "source": [
    "x_pos = sim.data.get_body_xpos(\"gripper_dummy_heg\")\n",
    "x_mat = sim.data.get_body_xmat(\"gripper_dummy_heg\")\n",
    "rpy =  normalize_rad(rotations.mat2euler(x_mat))\n",
    "print(x_pos, rpy)"
   ]
  },
  {
   "cell_type": "code",
   "execution_count": 20,
   "metadata": {},
   "outputs": [],
   "source": [
    "class Ur10HegRandForceEnv(ur10_noisy_pd_env_mh.Ur10Env):\n",
    "    def __init__(self, env_config):\n",
    "        model_xml_path = os.path.join(*[PROJECT_PATH, \"code\", \"environment\", \"UR10_Force_Randomized\", \"ur10_assembly_setup_rand_temp_{}.xml\".format(env_config.worker_index)])\n",
    "        randomize.randomize_ur10_xml(worker_id = env_config.worker_index)\n",
    "        ur10_noisy_pd_env_mh.Ur10Env.__init__(\n",
    "            self, ENV_CONFIG, model_xml_path = model_xml_path, worker_id=env_config.worker_index\n",
    "        )\n",
    "        #utils.EzPickle.__init__(self)\n",
    "register_env(\"NoisyVaryEnv\", lambda config: Ur10HegRandForceEnv(config))"
   ]
  },
  {
   "cell_type": "code",
   "execution_count": 21,
   "metadata": {},
   "outputs": [],
   "source": [
    "class Ur10HegRandForceEnv(ur10_noisy_pd_env_mh.Ur10Env):\n",
    "    def __init__(self, env_config):\n",
    "        model_xml_path = os.path.join(*[PROJECT_PATH, \"code\", \"environment\", \"UR10_Force_Randomized\", \"ur10_assembly_setup_rand_temp_{}.xml\".format(env_config.worker_index)])\n",
    "        randomize.randomize_ur10_xml(worker_id = env_config.worker_index)\n",
    "        ur10_noisy_pd_env_mh.Ur10Env.__init__(\n",
    "            self, ENV_CONFIG, model_xml_path = model_xml_path, worker_id=env_config.worker_index\n",
    "        )\n",
    "        #utils.EzPickle.__init__(self)\n",
    "register_env(\"RandomizedEnv\", lambda config: Ur10HegRandForceEnv(config))"
   ]
  },
  {
   "cell_type": "markdown",
   "metadata": {},
   "source": [
    "Agent"
   ]
  },
  {
   "cell_type": "code",
   "execution_count": 22,
   "metadata": {},
   "outputs": [
    {
     "name": "stderr",
     "output_type": "stream",
     "text": [
      "2020-09-16 18:10:02,287\tINFO resource_spec.py:212 -- Starting Ray with 14.99 GiB memory available for workers and up to 7.51 GiB for objects. You can adjust these settings with ray.init(memory=<bytes>, object_store_memory=<bytes>).\n",
      "2020-09-16 18:10:02,865\tINFO services.py:1083 -- View the Ray dashboard at \u001b[1m\u001b[32mlocalhost:8265\u001b[39m\u001b[22m\n"
     ]
    }
   ],
   "source": [
    "ray.init()\n",
    "cls = get_trainable_cls(\"PPO\")"
   ]
  },
  {
   "cell_type": "code",
   "execution_count": 23,
   "metadata": {},
   "outputs": [
    {
     "name": "stderr",
     "output_type": "stream",
     "text": [
      "2020-09-16 18:10:06,590\tINFO trainer.py:420 -- Tip: set 'eager': true or the --eager flag to enable TensorFlow eager execution\n",
      "2020-09-16 18:10:06,662\tINFO trainer.py:580 -- Current log_level is WARN. For more information, set 'log_level': 'INFO' / 'DEBUG' or use the -v and -vv flags.\n",
      "/home/lars/gym/gym/logger.py:30: UserWarning: \u001b[33mWARN: Box bound precision lowered by casting to float32\u001b[0m\n",
      "  warnings.warn(colorize('%s: %s'%('WARN', msg % args), 'yellow'))\n"
     ]
    },
    {
     "name": "stdout",
     "output_type": "stream",
     "text": [
      "\u001b[2m\u001b[36m(pid=24448)\u001b[0m /home/lars/.local/lib/python3.6/site-packages/tensorflow/python/framework/dtypes.py:516: FutureWarning: Passing (type, 1) or '1type' as a synonym of type is deprecated; in a future version of numpy, it will be understood as (type, (1,)) / '(1,)type'.\n",
      "\u001b[2m\u001b[36m(pid=24448)\u001b[0m   _np_qint8 = np.dtype([(\"qint8\", np.int8, 1)])\n",
      "\u001b[2m\u001b[36m(pid=24448)\u001b[0m /home/lars/.local/lib/python3.6/site-packages/tensorflow/python/framework/dtypes.py:517: FutureWarning: Passing (type, 1) or '1type' as a synonym of type is deprecated; in a future version of numpy, it will be understood as (type, (1,)) / '(1,)type'.\n",
      "\u001b[2m\u001b[36m(pid=24448)\u001b[0m   _np_quint8 = np.dtype([(\"quint8\", np.uint8, 1)])\n",
      "\u001b[2m\u001b[36m(pid=24448)\u001b[0m /home/lars/.local/lib/python3.6/site-packages/tensorflow/python/framework/dtypes.py:518: FutureWarning: Passing (type, 1) or '1type' as a synonym of type is deprecated; in a future version of numpy, it will be understood as (type, (1,)) / '(1,)type'.\n",
      "\u001b[2m\u001b[36m(pid=24448)\u001b[0m   _np_qint16 = np.dtype([(\"qint16\", np.int16, 1)])\n",
      "\u001b[2m\u001b[36m(pid=24448)\u001b[0m /home/lars/.local/lib/python3.6/site-packages/tensorflow/python/framework/dtypes.py:519: FutureWarning: Passing (type, 1) or '1type' as a synonym of type is deprecated; in a future version of numpy, it will be understood as (type, (1,)) / '(1,)type'.\n",
      "\u001b[2m\u001b[36m(pid=24448)\u001b[0m   _np_quint16 = np.dtype([(\"quint16\", np.uint16, 1)])\n",
      "\u001b[2m\u001b[36m(pid=24448)\u001b[0m /home/lars/.local/lib/python3.6/site-packages/tensorflow/python/framework/dtypes.py:520: FutureWarning: Passing (type, 1) or '1type' as a synonym of type is deprecated; in a future version of numpy, it will be understood as (type, (1,)) / '(1,)type'.\n",
      "\u001b[2m\u001b[36m(pid=24448)\u001b[0m   _np_qint32 = np.dtype([(\"qint32\", np.int32, 1)])\n",
      "\u001b[2m\u001b[36m(pid=24448)\u001b[0m /home/lars/.local/lib/python3.6/site-packages/tensorflow/python/framework/dtypes.py:525: FutureWarning: Passing (type, 1) or '1type' as a synonym of type is deprecated; in a future version of numpy, it will be understood as (type, (1,)) / '(1,)type'.\n",
      "\u001b[2m\u001b[36m(pid=24448)\u001b[0m   np_resource = np.dtype([(\"resource\", np.ubyte, 1)])\n",
      "\u001b[2m\u001b[36m(pid=24442)\u001b[0m /home/lars/.local/lib/python3.6/site-packages/tensorflow/python/framework/dtypes.py:516: FutureWarning: Passing (type, 1) or '1type' as a synonym of type is deprecated; in a future version of numpy, it will be understood as (type, (1,)) / '(1,)type'.\n",
      "\u001b[2m\u001b[36m(pid=24442)\u001b[0m   _np_qint8 = np.dtype([(\"qint8\", np.int8, 1)])\n",
      "\u001b[2m\u001b[36m(pid=24442)\u001b[0m /home/lars/.local/lib/python3.6/site-packages/tensorflow/python/framework/dtypes.py:517: FutureWarning: Passing (type, 1) or '1type' as a synonym of type is deprecated; in a future version of numpy, it will be understood as (type, (1,)) / '(1,)type'.\n",
      "\u001b[2m\u001b[36m(pid=24442)\u001b[0m   _np_quint8 = np.dtype([(\"quint8\", np.uint8, 1)])\n",
      "\u001b[2m\u001b[36m(pid=24442)\u001b[0m /home/lars/.local/lib/python3.6/site-packages/tensorflow/python/framework/dtypes.py:518: FutureWarning: Passing (type, 1) or '1type' as a synonym of type is deprecated; in a future version of numpy, it will be understood as (type, (1,)) / '(1,)type'.\n",
      "\u001b[2m\u001b[36m(pid=24442)\u001b[0m   _np_qint16 = np.dtype([(\"qint16\", np.int16, 1)])\n",
      "\u001b[2m\u001b[36m(pid=24442)\u001b[0m /home/lars/.local/lib/python3.6/site-packages/tensorflow/python/framework/dtypes.py:519: FutureWarning: Passing (type, 1) or '1type' as a synonym of type is deprecated; in a future version of numpy, it will be understood as (type, (1,)) / '(1,)type'.\n",
      "\u001b[2m\u001b[36m(pid=24442)\u001b[0m   _np_quint16 = np.dtype([(\"quint16\", np.uint16, 1)])\n",
      "\u001b[2m\u001b[36m(pid=24442)\u001b[0m /home/lars/.local/lib/python3.6/site-packages/tensorflow/python/framework/dtypes.py:520: FutureWarning: Passing (type, 1) or '1type' as a synonym of type is deprecated; in a future version of numpy, it will be understood as (type, (1,)) / '(1,)type'.\n",
      "\u001b[2m\u001b[36m(pid=24442)\u001b[0m   _np_qint32 = np.dtype([(\"qint32\", np.int32, 1)])\n",
      "\u001b[2m\u001b[36m(pid=24442)\u001b[0m /home/lars/.local/lib/python3.6/site-packages/tensorflow/python/framework/dtypes.py:525: FutureWarning: Passing (type, 1) or '1type' as a synonym of type is deprecated; in a future version of numpy, it will be understood as (type, (1,)) / '(1,)type'.\n",
      "\u001b[2m\u001b[36m(pid=24442)\u001b[0m   np_resource = np.dtype([(\"resource\", np.ubyte, 1)])\n",
      "\u001b[2m\u001b[36m(pid=24442)\u001b[0m /home/lars/.local/lib/python3.6/site-packages/tensorboard/compat/tensorflow_stub/dtypes.py:541: FutureWarning: Passing (type, 1) or '1type' as a synonym of type is deprecated; in a future version of numpy, it will be understood as (type, (1,)) / '(1,)type'.\n",
      "\u001b[2m\u001b[36m(pid=24442)\u001b[0m   _np_qint8 = np.dtype([(\"qint8\", np.int8, 1)])\n",
      "\u001b[2m\u001b[36m(pid=24442)\u001b[0m /home/lars/.local/lib/python3.6/site-packages/tensorboard/compat/tensorflow_stub/dtypes.py:542: FutureWarning: Passing (type, 1) or '1type' as a synonym of type is deprecated; in a future version of numpy, it will be understood as (type, (1,)) / '(1,)type'.\n",
      "\u001b[2m\u001b[36m(pid=24442)\u001b[0m   _np_quint8 = np.dtype([(\"quint8\", np.uint8, 1)])\n",
      "\u001b[2m\u001b[36m(pid=24442)\u001b[0m /home/lars/.local/lib/python3.6/site-packages/tensorboard/compat/tensorflow_stub/dtypes.py:543: FutureWarning: Passing (type, 1) or '1type' as a synonym of type is deprecated; in a future version of numpy, it will be understood as (type, (1,)) / '(1,)type'.\n",
      "\u001b[2m\u001b[36m(pid=24442)\u001b[0m   _np_qint16 = np.dtype([(\"qint16\", np.int16, 1)])\n",
      "\u001b[2m\u001b[36m(pid=24442)\u001b[0m /home/lars/.local/lib/python3.6/site-packages/tensorboard/compat/tensorflow_stub/dtypes.py:544: FutureWarning: Passing (type, 1) or '1type' as a synonym of type is deprecated; in a future version of numpy, it will be understood as (type, (1,)) / '(1,)type'.\n",
      "\u001b[2m\u001b[36m(pid=24442)\u001b[0m   _np_quint16 = np.dtype([(\"quint16\", np.uint16, 1)])\n",
      "\u001b[2m\u001b[36m(pid=24442)\u001b[0m /home/lars/.local/lib/python3.6/site-packages/tensorboard/compat/tensorflow_stub/dtypes.py:545: FutureWarning: Passing (type, 1) or '1type' as a synonym of type is deprecated; in a future version of numpy, it will be understood as (type, (1,)) / '(1,)type'.\n",
      "\u001b[2m\u001b[36m(pid=24442)\u001b[0m   _np_qint32 = np.dtype([(\"qint32\", np.int32, 1)])\n",
      "\u001b[2m\u001b[36m(pid=24442)\u001b[0m /home/lars/.local/lib/python3.6/site-packages/tensorboard/compat/tensorflow_stub/dtypes.py:550: FutureWarning: Passing (type, 1) or '1type' as a synonym of type is deprecated; in a future version of numpy, it will be understood as (type, (1,)) / '(1,)type'.\n",
      "\u001b[2m\u001b[36m(pid=24442)\u001b[0m   np_resource = np.dtype([(\"resource\", np.ubyte, 1)])\n",
      "\u001b[2m\u001b[36m(pid=24448)\u001b[0m /home/lars/.local/lib/python3.6/site-packages/tensorboard/compat/tensorflow_stub/dtypes.py:541: FutureWarning: Passing (type, 1) or '1type' as a synonym of type is deprecated; in a future version of numpy, it will be understood as (type, (1,)) / '(1,)type'.\n",
      "\u001b[2m\u001b[36m(pid=24448)\u001b[0m   _np_qint8 = np.dtype([(\"qint8\", np.int8, 1)])\n",
      "\u001b[2m\u001b[36m(pid=24448)\u001b[0m /home/lars/.local/lib/python3.6/site-packages/tensorboard/compat/tensorflow_stub/dtypes.py:542: FutureWarning: Passing (type, 1) or '1type' as a synonym of type is deprecated; in a future version of numpy, it will be understood as (type, (1,)) / '(1,)type'.\n",
      "\u001b[2m\u001b[36m(pid=24448)\u001b[0m   _np_quint8 = np.dtype([(\"quint8\", np.uint8, 1)])\n",
      "\u001b[2m\u001b[36m(pid=24448)\u001b[0m /home/lars/.local/lib/python3.6/site-packages/tensorboard/compat/tensorflow_stub/dtypes.py:543: FutureWarning: Passing (type, 1) or '1type' as a synonym of type is deprecated; in a future version of numpy, it will be understood as (type, (1,)) / '(1,)type'.\n",
      "\u001b[2m\u001b[36m(pid=24448)\u001b[0m   _np_qint16 = np.dtype([(\"qint16\", np.int16, 1)])\n",
      "\u001b[2m\u001b[36m(pid=24448)\u001b[0m /home/lars/.local/lib/python3.6/site-packages/tensorboard/compat/tensorflow_stub/dtypes.py:544: FutureWarning: Passing (type, 1) or '1type' as a synonym of type is deprecated; in a future version of numpy, it will be understood as (type, (1,)) / '(1,)type'.\n",
      "\u001b[2m\u001b[36m(pid=24448)\u001b[0m   _np_quint16 = np.dtype([(\"quint16\", np.uint16, 1)])\n",
      "\u001b[2m\u001b[36m(pid=24448)\u001b[0m /home/lars/.local/lib/python3.6/site-packages/tensorboard/compat/tensorflow_stub/dtypes.py:545: FutureWarning: Passing (type, 1) or '1type' as a synonym of type is deprecated; in a future version of numpy, it will be understood as (type, (1,)) / '(1,)type'.\n",
      "\u001b[2m\u001b[36m(pid=24448)\u001b[0m   _np_qint32 = np.dtype([(\"qint32\", np.int32, 1)])\n",
      "\u001b[2m\u001b[36m(pid=24448)\u001b[0m /home/lars/.local/lib/python3.6/site-packages/tensorboard/compat/tensorflow_stub/dtypes.py:550: FutureWarning: Passing (type, 1) or '1type' as a synonym of type is deprecated; in a future version of numpy, it will be understood as (type, (1,)) / '(1,)type'.\n",
      "\u001b[2m\u001b[36m(pid=24448)\u001b[0m   np_resource = np.dtype([(\"resource\", np.ubyte, 1)])\n"
     ]
    },
    {
     "name": "stderr",
     "output_type": "stream",
     "text": [
      "2020-09-16 18:10:13,105\tWARNING trainable.py:210 -- Getting current IP.\n",
      "2020-09-16 18:10:13,106\tINFO trainable.py:416 -- Restored on 10.180.134.127 from checkpoint: /home/lars/DRL_SetBot-RearVentilation/final_models/model4/checkpoint-3590\n",
      "2020-09-16 18:10:13,107\tINFO trainable.py:423 -- Current state after restoring: {'_iteration': 3590, '_timesteps_total': 55108000, '_time_total': 301263.58026504517, '_episodes_total': 164361}\n"
     ]
    },
    {
     "name": "stdout",
     "output_type": "stream",
     "text": [
      "\u001b[2m\u001b[36m(pid=24442)\u001b[0m In /home/lars/.local/lib/python3.6/site-packages/matplotlib/mpl-data/stylelib/_classic_test.mplstyle: \n",
      "\u001b[2m\u001b[36m(pid=24442)\u001b[0m The text.latex.preview rcparam was deprecated in Matplotlib 3.3 and will be removed two minor releases later.\n",
      "\u001b[2m\u001b[36m(pid=24442)\u001b[0m In /home/lars/.local/lib/python3.6/site-packages/matplotlib/mpl-data/stylelib/_classic_test.mplstyle: \n",
      "\u001b[2m\u001b[36m(pid=24442)\u001b[0m The mathtext.fallback_to_cm rcparam was deprecated in Matplotlib 3.3 and will be removed two minor releases later.\n",
      "\u001b[2m\u001b[36m(pid=24442)\u001b[0m In /home/lars/.local/lib/python3.6/site-packages/matplotlib/mpl-data/stylelib/_classic_test.mplstyle: Support for setting the 'mathtext.fallback_to_cm' rcParam is deprecated since 3.3 and will be removed two minor releases later; use 'mathtext.fallback : 'cm' instead.\n",
      "\u001b[2m\u001b[36m(pid=24442)\u001b[0m In /home/lars/.local/lib/python3.6/site-packages/matplotlib/mpl-data/stylelib/_classic_test.mplstyle: \n",
      "\u001b[2m\u001b[36m(pid=24442)\u001b[0m The validate_bool_maybe_none function was deprecated in Matplotlib 3.3 and will be removed two minor releases later.\n",
      "\u001b[2m\u001b[36m(pid=24442)\u001b[0m In /home/lars/.local/lib/python3.6/site-packages/matplotlib/mpl-data/stylelib/_classic_test.mplstyle: \n",
      "\u001b[2m\u001b[36m(pid=24442)\u001b[0m The savefig.jpeg_quality rcparam was deprecated in Matplotlib 3.3 and will be removed two minor releases later.\n",
      "\u001b[2m\u001b[36m(pid=24442)\u001b[0m In /home/lars/.local/lib/python3.6/site-packages/matplotlib/mpl-data/stylelib/_classic_test.mplstyle: \n",
      "\u001b[2m\u001b[36m(pid=24442)\u001b[0m The keymap.all_axes rcparam was deprecated in Matplotlib 3.3 and will be removed two minor releases later.\n",
      "\u001b[2m\u001b[36m(pid=24442)\u001b[0m In /home/lars/.local/lib/python3.6/site-packages/matplotlib/mpl-data/stylelib/_classic_test.mplstyle: \n",
      "\u001b[2m\u001b[36m(pid=24442)\u001b[0m The animation.avconv_path rcparam was deprecated in Matplotlib 3.3 and will be removed two minor releases later.\n",
      "\u001b[2m\u001b[36m(pid=24442)\u001b[0m In /home/lars/.local/lib/python3.6/site-packages/matplotlib/mpl-data/stylelib/_classic_test.mplstyle: \n",
      "\u001b[2m\u001b[36m(pid=24442)\u001b[0m The animation.avconv_args rcparam was deprecated in Matplotlib 3.3 and will be removed two minor releases later.\n",
      "\u001b[2m\u001b[36m(pid=24448)\u001b[0m In /home/lars/.local/lib/python3.6/site-packages/matplotlib/mpl-data/stylelib/_classic_test.mplstyle: \n",
      "\u001b[2m\u001b[36m(pid=24448)\u001b[0m The text.latex.preview rcparam was deprecated in Matplotlib 3.3 and will be removed two minor releases later.\n",
      "\u001b[2m\u001b[36m(pid=24448)\u001b[0m In /home/lars/.local/lib/python3.6/site-packages/matplotlib/mpl-data/stylelib/_classic_test.mplstyle: \n",
      "\u001b[2m\u001b[36m(pid=24448)\u001b[0m The mathtext.fallback_to_cm rcparam was deprecated in Matplotlib 3.3 and will be removed two minor releases later.\n",
      "\u001b[2m\u001b[36m(pid=24448)\u001b[0m In /home/lars/.local/lib/python3.6/site-packages/matplotlib/mpl-data/stylelib/_classic_test.mplstyle: Support for setting the 'mathtext.fallback_to_cm' rcParam is deprecated since 3.3 and will be removed two minor releases later; use 'mathtext.fallback : 'cm' instead.\n",
      "\u001b[2m\u001b[36m(pid=24448)\u001b[0m In /home/lars/.local/lib/python3.6/site-packages/matplotlib/mpl-data/stylelib/_classic_test.mplstyle: \n",
      "\u001b[2m\u001b[36m(pid=24448)\u001b[0m The validate_bool_maybe_none function was deprecated in Matplotlib 3.3 and will be removed two minor releases later.\n",
      "\u001b[2m\u001b[36m(pid=24448)\u001b[0m In /home/lars/.local/lib/python3.6/site-packages/matplotlib/mpl-data/stylelib/_classic_test.mplstyle: \n",
      "\u001b[2m\u001b[36m(pid=24448)\u001b[0m The savefig.jpeg_quality rcparam was deprecated in Matplotlib 3.3 and will be removed two minor releases later.\n",
      "\u001b[2m\u001b[36m(pid=24448)\u001b[0m In /home/lars/.local/lib/python3.6/site-packages/matplotlib/mpl-data/stylelib/_classic_test.mplstyle: \n",
      "\u001b[2m\u001b[36m(pid=24448)\u001b[0m The keymap.all_axes rcparam was deprecated in Matplotlib 3.3 and will be removed two minor releases later.\n",
      "\u001b[2m\u001b[36m(pid=24448)\u001b[0m In /home/lars/.local/lib/python3.6/site-packages/matplotlib/mpl-data/stylelib/_classic_test.mplstyle: \n",
      "\u001b[2m\u001b[36m(pid=24448)\u001b[0m The animation.avconv_path rcparam was deprecated in Matplotlib 3.3 and will be removed two minor releases later.\n",
      "\u001b[2m\u001b[36m(pid=24448)\u001b[0m In /home/lars/.local/lib/python3.6/site-packages/matplotlib/mpl-data/stylelib/_classic_test.mplstyle: \n",
      "\u001b[2m\u001b[36m(pid=24448)\u001b[0m The animation.avconv_args rcparam was deprecated in Matplotlib 3.3 and will be removed two minor releases later.\n"
     ]
    },
    {
     "name": "stderr",
     "output_type": "stream",
     "text": [
      "/home/lars/gym/gym/logger.py:30: UserWarning: \u001b[33mWARN: Box bound precision lowered by casting to float32\u001b[0m\n",
      "  warnings.warn(colorize('%s: %s'%('WARN', msg % args), 'yellow'))\n"
     ]
    },
    {
     "name": "stdout",
     "output_type": "stream",
     "text": [
      "\u001b[2m\u001b[36m(pid=24442)\u001b[0m /home/lars/gym/gym/logger.py:30: UserWarning: \u001b[33mWARN: Box bound precision lowered by casting to float32\u001b[0m\n",
      "\u001b[2m\u001b[36m(pid=24442)\u001b[0m   warnings.warn(colorize('%s: %s'%('WARN', msg % args), 'yellow'))\n",
      "\u001b[2m\u001b[36m(pid=24448)\u001b[0m /home/lars/gym/gym/logger.py:30: UserWarning: \u001b[33mWARN: Box bound precision lowered by casting to float32\u001b[0m\n",
      "\u001b[2m\u001b[36m(pid=24448)\u001b[0m   warnings.warn(colorize('%s: %s'%('WARN', msg % args), 'yellow'))\n",
      "\u001b[2m\u001b[36m(pid=24451)\u001b[0m /home/lars/.local/lib/python3.6/site-packages/tensorflow/python/framework/dtypes.py:516: FutureWarning: Passing (type, 1) or '1type' as a synonym of type is deprecated; in a future version of numpy, it will be understood as (type, (1,)) / '(1,)type'.\n",
      "\u001b[2m\u001b[36m(pid=24451)\u001b[0m   _np_qint8 = np.dtype([(\"qint8\", np.int8, 1)])\n",
      "\u001b[2m\u001b[36m(pid=24451)\u001b[0m /home/lars/.local/lib/python3.6/site-packages/tensorflow/python/framework/dtypes.py:517: FutureWarning: Passing (type, 1) or '1type' as a synonym of type is deprecated; in a future version of numpy, it will be understood as (type, (1,)) / '(1,)type'.\n",
      "\u001b[2m\u001b[36m(pid=24451)\u001b[0m   _np_quint8 = np.dtype([(\"quint8\", np.uint8, 1)])\n",
      "\u001b[2m\u001b[36m(pid=24451)\u001b[0m /home/lars/.local/lib/python3.6/site-packages/tensorflow/python/framework/dtypes.py:518: FutureWarning: Passing (type, 1) or '1type' as a synonym of type is deprecated; in a future version of numpy, it will be understood as (type, (1,)) / '(1,)type'.\n",
      "\u001b[2m\u001b[36m(pid=24451)\u001b[0m   _np_qint16 = np.dtype([(\"qint16\", np.int16, 1)])\n",
      "\u001b[2m\u001b[36m(pid=24451)\u001b[0m /home/lars/.local/lib/python3.6/site-packages/tensorflow/python/framework/dtypes.py:519: FutureWarning: Passing (type, 1) or '1type' as a synonym of type is deprecated; in a future version of numpy, it will be understood as (type, (1,)) / '(1,)type'.\n",
      "\u001b[2m\u001b[36m(pid=24451)\u001b[0m   _np_quint16 = np.dtype([(\"quint16\", np.uint16, 1)])\n",
      "\u001b[2m\u001b[36m(pid=24451)\u001b[0m /home/lars/.local/lib/python3.6/site-packages/tensorflow/python/framework/dtypes.py:520: FutureWarning: Passing (type, 1) or '1type' as a synonym of type is deprecated; in a future version of numpy, it will be understood as (type, (1,)) / '(1,)type'.\n",
      "\u001b[2m\u001b[36m(pid=24451)\u001b[0m   _np_qint32 = np.dtype([(\"qint32\", np.int32, 1)])\n",
      "\u001b[2m\u001b[36m(pid=24451)\u001b[0m /home/lars/.local/lib/python3.6/site-packages/tensorflow/python/framework/dtypes.py:525: FutureWarning: Passing (type, 1) or '1type' as a synonym of type is deprecated; in a future version of numpy, it will be understood as (type, (1,)) / '(1,)type'.\n",
      "\u001b[2m\u001b[36m(pid=24451)\u001b[0m   np_resource = np.dtype([(\"resource\", np.ubyte, 1)])\n",
      "\u001b[2m\u001b[36m(pid=24445)\u001b[0m /home/lars/.local/lib/python3.6/site-packages/tensorflow/python/framework/dtypes.py:516: FutureWarning: Passing (type, 1) or '1type' as a synonym of type is deprecated; in a future version of numpy, it will be understood as (type, (1,)) / '(1,)type'.\n",
      "\u001b[2m\u001b[36m(pid=24445)\u001b[0m   _np_qint8 = np.dtype([(\"qint8\", np.int8, 1)])\n",
      "\u001b[2m\u001b[36m(pid=24445)\u001b[0m /home/lars/.local/lib/python3.6/site-packages/tensorflow/python/framework/dtypes.py:517: FutureWarning: Passing (type, 1) or '1type' as a synonym of type is deprecated; in a future version of numpy, it will be understood as (type, (1,)) / '(1,)type'.\n",
      "\u001b[2m\u001b[36m(pid=24445)\u001b[0m   _np_quint8 = np.dtype([(\"quint8\", np.uint8, 1)])\n",
      "\u001b[2m\u001b[36m(pid=24445)\u001b[0m /home/lars/.local/lib/python3.6/site-packages/tensorflow/python/framework/dtypes.py:518: FutureWarning: Passing (type, 1) or '1type' as a synonym of type is deprecated; in a future version of numpy, it will be understood as (type, (1,)) / '(1,)type'.\n",
      "\u001b[2m\u001b[36m(pid=24445)\u001b[0m   _np_qint16 = np.dtype([(\"qint16\", np.int16, 1)])\n",
      "\u001b[2m\u001b[36m(pid=24445)\u001b[0m /home/lars/.local/lib/python3.6/site-packages/tensorflow/python/framework/dtypes.py:519: FutureWarning: Passing (type, 1) or '1type' as a synonym of type is deprecated; in a future version of numpy, it will be understood as (type, (1,)) / '(1,)type'.\n",
      "\u001b[2m\u001b[36m(pid=24445)\u001b[0m   _np_quint16 = np.dtype([(\"quint16\", np.uint16, 1)])\n",
      "\u001b[2m\u001b[36m(pid=24445)\u001b[0m /home/lars/.local/lib/python3.6/site-packages/tensorflow/python/framework/dtypes.py:520: FutureWarning: Passing (type, 1) or '1type' as a synonym of type is deprecated; in a future version of numpy, it will be understood as (type, (1,)) / '(1,)type'.\n",
      "\u001b[2m\u001b[36m(pid=24445)\u001b[0m   _np_qint32 = np.dtype([(\"qint32\", np.int32, 1)])\n",
      "\u001b[2m\u001b[36m(pid=24445)\u001b[0m /home/lars/.local/lib/python3.6/site-packages/tensorflow/python/framework/dtypes.py:525: FutureWarning: Passing (type, 1) or '1type' as a synonym of type is deprecated; in a future version of numpy, it will be understood as (type, (1,)) / '(1,)type'.\n",
      "\u001b[2m\u001b[36m(pid=24445)\u001b[0m   np_resource = np.dtype([(\"resource\", np.ubyte, 1)])\n",
      "\u001b[2m\u001b[36m(pid=24445)\u001b[0m /home/lars/.local/lib/python3.6/site-packages/tensorboard/compat/tensorflow_stub/dtypes.py:541: FutureWarning: Passing (type, 1) or '1type' as a synonym of type is deprecated; in a future version of numpy, it will be understood as (type, (1,)) / '(1,)type'.\n",
      "\u001b[2m\u001b[36m(pid=24445)\u001b[0m   _np_qint8 = np.dtype([(\"qint8\", np.int8, 1)])\n",
      "\u001b[2m\u001b[36m(pid=24445)\u001b[0m /home/lars/.local/lib/python3.6/site-packages/tensorboard/compat/tensorflow_stub/dtypes.py:542: FutureWarning: Passing (type, 1) or '1type' as a synonym of type is deprecated; in a future version of numpy, it will be understood as (type, (1,)) / '(1,)type'.\n",
      "\u001b[2m\u001b[36m(pid=24445)\u001b[0m   _np_quint8 = np.dtype([(\"quint8\", np.uint8, 1)])\n",
      "\u001b[2m\u001b[36m(pid=24445)\u001b[0m /home/lars/.local/lib/python3.6/site-packages/tensorboard/compat/tensorflow_stub/dtypes.py:543: FutureWarning: Passing (type, 1) or '1type' as a synonym of type is deprecated; in a future version of numpy, it will be understood as (type, (1,)) / '(1,)type'.\n",
      "\u001b[2m\u001b[36m(pid=24445)\u001b[0m   _np_qint16 = np.dtype([(\"qint16\", np.int16, 1)])\n",
      "\u001b[2m\u001b[36m(pid=24445)\u001b[0m /home/lars/.local/lib/python3.6/site-packages/tensorboard/compat/tensorflow_stub/dtypes.py:544: FutureWarning: Passing (type, 1) or '1type' as a synonym of type is deprecated; in a future version of numpy, it will be understood as (type, (1,)) / '(1,)type'.\n",
      "\u001b[2m\u001b[36m(pid=24445)\u001b[0m   _np_quint16 = np.dtype([(\"quint16\", np.uint16, 1)])\n",
      "\u001b[2m\u001b[36m(pid=24445)\u001b[0m /home/lars/.local/lib/python3.6/site-packages/tensorboard/compat/tensorflow_stub/dtypes.py:545: FutureWarning: Passing (type, 1) or '1type' as a synonym of type is deprecated; in a future version of numpy, it will be understood as (type, (1,)) / '(1,)type'.\n",
      "\u001b[2m\u001b[36m(pid=24445)\u001b[0m   _np_qint32 = np.dtype([(\"qint32\", np.int32, 1)])\n",
      "\u001b[2m\u001b[36m(pid=24445)\u001b[0m /home/lars/.local/lib/python3.6/site-packages/tensorboard/compat/tensorflow_stub/dtypes.py:550: FutureWarning: Passing (type, 1) or '1type' as a synonym of type is deprecated; in a future version of numpy, it will be understood as (type, (1,)) / '(1,)type'.\n",
      "\u001b[2m\u001b[36m(pid=24445)\u001b[0m   np_resource = np.dtype([(\"resource\", np.ubyte, 1)])\n",
      "\u001b[2m\u001b[36m(pid=24451)\u001b[0m /home/lars/.local/lib/python3.6/site-packages/tensorboard/compat/tensorflow_stub/dtypes.py:541: FutureWarning: Passing (type, 1) or '1type' as a synonym of type is deprecated; in a future version of numpy, it will be understood as (type, (1,)) / '(1,)type'.\n",
      "\u001b[2m\u001b[36m(pid=24451)\u001b[0m   _np_qint8 = np.dtype([(\"qint8\", np.int8, 1)])\n",
      "\u001b[2m\u001b[36m(pid=24451)\u001b[0m /home/lars/.local/lib/python3.6/site-packages/tensorboard/compat/tensorflow_stub/dtypes.py:542: FutureWarning: Passing (type, 1) or '1type' as a synonym of type is deprecated; in a future version of numpy, it will be understood as (type, (1,)) / '(1,)type'.\n",
      "\u001b[2m\u001b[36m(pid=24451)\u001b[0m   _np_quint8 = np.dtype([(\"quint8\", np.uint8, 1)])\n",
      "\u001b[2m\u001b[36m(pid=24451)\u001b[0m /home/lars/.local/lib/python3.6/site-packages/tensorboard/compat/tensorflow_stub/dtypes.py:543: FutureWarning: Passing (type, 1) or '1type' as a synonym of type is deprecated; in a future version of numpy, it will be understood as (type, (1,)) / '(1,)type'.\n",
      "\u001b[2m\u001b[36m(pid=24451)\u001b[0m   _np_qint16 = np.dtype([(\"qint16\", np.int16, 1)])\n",
      "\u001b[2m\u001b[36m(pid=24451)\u001b[0m /home/lars/.local/lib/python3.6/site-packages/tensorboard/compat/tensorflow_stub/dtypes.py:544: FutureWarning: Passing (type, 1) or '1type' as a synonym of type is deprecated; in a future version of numpy, it will be understood as (type, (1,)) / '(1,)type'.\n",
      "\u001b[2m\u001b[36m(pid=24451)\u001b[0m   _np_quint16 = np.dtype([(\"quint16\", np.uint16, 1)])\n",
      "\u001b[2m\u001b[36m(pid=24451)\u001b[0m /home/lars/.local/lib/python3.6/site-packages/tensorboard/compat/tensorflow_stub/dtypes.py:545: FutureWarning: Passing (type, 1) or '1type' as a synonym of type is deprecated; in a future version of numpy, it will be understood as (type, (1,)) / '(1,)type'.\n",
      "\u001b[2m\u001b[36m(pid=24451)\u001b[0m   _np_qint32 = np.dtype([(\"qint32\", np.int32, 1)])\n",
      "\u001b[2m\u001b[36m(pid=24451)\u001b[0m /home/lars/.local/lib/python3.6/site-packages/tensorboard/compat/tensorflow_stub/dtypes.py:550: FutureWarning: Passing (type, 1) or '1type' as a synonym of type is deprecated; in a future version of numpy, it will be understood as (type, (1,)) / '(1,)type'.\n",
      "\u001b[2m\u001b[36m(pid=24451)\u001b[0m   np_resource = np.dtype([(\"resource\", np.ubyte, 1)])\n"
     ]
    },
    {
     "name": "stderr",
     "output_type": "stream",
     "text": [
      "2020-09-16 18:10:20,320\tWARNING trainable.py:210 -- Getting current IP.\n",
      "2020-09-16 18:10:20,326\tINFO trainable.py:416 -- Restored on 10.180.134.127 from checkpoint: /home/lars/AGENT_TESTS/PPO_NoisyVaryEnv_0_2020-09-15_13-53-11d046bzlf/checkpoint_2675/checkpoint-2675\n",
      "2020-09-16 18:10:20,329\tINFO trainable.py:423 -- Current state after restoring: {'_iteration': 2675, '_timesteps_total': None, '_time_total': 86939.4950902462, '_episodes_total': 81622}\n"
     ]
    }
   ],
   "source": [
    "#agent = cls(env=\"RandomizedEnv\", config=config)\n",
    "agent_marius = cls(config=config_marius)\n",
    "agent_marius.restore(checkpoint_marius)\n",
    "agent_lars = cls(config=config_lars)\n",
    "agent_lars.restore(checkpoint_lars)"
   ]
  },
  {
   "cell_type": "code",
   "execution_count": 24,
   "metadata": {},
   "outputs": [
    {
     "name": "stdout",
     "output_type": "stream",
     "text": [
      "<module 'ray' from '/home/lars/.local/lib/python3.6/site-packages/ray/__init__.py'>\n",
      "<function get_trainable_cls at 0x7f41b76b1048>\n",
      "<module 'ray.tune.registry' from '/home/lars/.local/lib/python3.6/site-packages/ray/tune/registry.py'>\n",
      "\u001b[2m\u001b[36m(pid=24445)\u001b[0m In /home/lars/.local/lib/python3.6/site-packages/matplotlib/mpl-data/stylelib/_classic_test.mplstyle: \n",
      "\u001b[2m\u001b[36m(pid=24445)\u001b[0m The text.latex.preview rcparam was deprecated in Matplotlib 3.3 and will be removed two minor releases later.\n",
      "\u001b[2m\u001b[36m(pid=24445)\u001b[0m In /home/lars/.local/lib/python3.6/site-packages/matplotlib/mpl-data/stylelib/_classic_test.mplstyle: \n",
      "\u001b[2m\u001b[36m(pid=24445)\u001b[0m The mathtext.fallback_to_cm rcparam was deprecated in Matplotlib 3.3 and will be removed two minor releases later.\n",
      "\u001b[2m\u001b[36m(pid=24445)\u001b[0m In /home/lars/.local/lib/python3.6/site-packages/matplotlib/mpl-data/stylelib/_classic_test.mplstyle: Support for setting the 'mathtext.fallback_to_cm' rcParam is deprecated since 3.3 and will be removed two minor releases later; use 'mathtext.fallback : 'cm' instead.\n",
      "\u001b[2m\u001b[36m(pid=24445)\u001b[0m In /home/lars/.local/lib/python3.6/site-packages/matplotlib/mpl-data/stylelib/_classic_test.mplstyle: \n",
      "\u001b[2m\u001b[36m(pid=24445)\u001b[0m The validate_bool_maybe_none function was deprecated in Matplotlib 3.3 and will be removed two minor releases later.\n",
      "\u001b[2m\u001b[36m(pid=24445)\u001b[0m In /home/lars/.local/lib/python3.6/site-packages/matplotlib/mpl-data/stylelib/_classic_test.mplstyle: \n",
      "\u001b[2m\u001b[36m(pid=24445)\u001b[0m The savefig.jpeg_quality rcparam was deprecated in Matplotlib 3.3 and will be removed two minor releases later.\n",
      "\u001b[2m\u001b[36m(pid=24445)\u001b[0m In /home/lars/.local/lib/python3.6/site-packages/matplotlib/mpl-data/stylelib/_classic_test.mplstyle: \n",
      "\u001b[2m\u001b[36m(pid=24445)\u001b[0m The keymap.all_axes rcparam was deprecated in Matplotlib 3.3 and will be removed two minor releases later.\n",
      "\u001b[2m\u001b[36m(pid=24445)\u001b[0m In /home/lars/.local/lib/python3.6/site-packages/matplotlib/mpl-data/stylelib/_classic_test.mplstyle: \n",
      "\u001b[2m\u001b[36m(pid=24445)\u001b[0m The animation.avconv_path rcparam was deprecated in Matplotlib 3.3 and will be removed two minor releases later.\n",
      "\u001b[2m\u001b[36m(pid=24445)\u001b[0m In /home/lars/.local/lib/python3.6/site-packages/matplotlib/mpl-data/stylelib/_classic_test.mplstyle: \n",
      "\u001b[2m\u001b[36m(pid=24445)\u001b[0m The animation.avconv_args rcparam was deprecated in Matplotlib 3.3 and will be removed two minor releases later.\n",
      "\u001b[2m\u001b[36m(pid=24451)\u001b[0m In /home/lars/.local/lib/python3.6/site-packages/matplotlib/mpl-data/stylelib/_classic_test.mplstyle: \n",
      "\u001b[2m\u001b[36m(pid=24451)\u001b[0m The text.latex.preview rcparam was deprecated in Matplotlib 3.3 and will be removed two minor releases later.\n",
      "\u001b[2m\u001b[36m(pid=24451)\u001b[0m In /home/lars/.local/lib/python3.6/site-packages/matplotlib/mpl-data/stylelib/_classic_test.mplstyle: \n",
      "\u001b[2m\u001b[36m(pid=24451)\u001b[0m The mathtext.fallback_to_cm rcparam was deprecated in Matplotlib 3.3 and will be removed two minor releases later.\n",
      "\u001b[2m\u001b[36m(pid=24451)\u001b[0m In /home/lars/.local/lib/python3.6/site-packages/matplotlib/mpl-data/stylelib/_classic_test.mplstyle: Support for setting the 'mathtext.fallback_to_cm' rcParam is deprecated since 3.3 and will be removed two minor releases later; use 'mathtext.fallback : 'cm' instead.\n",
      "\u001b[2m\u001b[36m(pid=24451)\u001b[0m In /home/lars/.local/lib/python3.6/site-packages/matplotlib/mpl-data/stylelib/_classic_test.mplstyle: \n",
      "\u001b[2m\u001b[36m(pid=24451)\u001b[0m The validate_bool_maybe_none function was deprecated in Matplotlib 3.3 and will be removed two minor releases later.\n",
      "\u001b[2m\u001b[36m(pid=24451)\u001b[0m In /home/lars/.local/lib/python3.6/site-packages/matplotlib/mpl-data/stylelib/_classic_test.mplstyle: \n",
      "\u001b[2m\u001b[36m(pid=24451)\u001b[0m The savefig.jpeg_quality rcparam was deprecated in Matplotlib 3.3 and will be removed two minor releases later.\n",
      "\u001b[2m\u001b[36m(pid=24451)\u001b[0m In /home/lars/.local/lib/python3.6/site-packages/matplotlib/mpl-data/stylelib/_classic_test.mplstyle: \n",
      "\u001b[2m\u001b[36m(pid=24451)\u001b[0m The keymap.all_axes rcparam was deprecated in Matplotlib 3.3 and will be removed two minor releases later.\n",
      "\u001b[2m\u001b[36m(pid=24451)\u001b[0m In /home/lars/.local/lib/python3.6/site-packages/matplotlib/mpl-data/stylelib/_classic_test.mplstyle: \n",
      "\u001b[2m\u001b[36m(pid=24451)\u001b[0m The animation.avconv_path rcparam was deprecated in Matplotlib 3.3 and will be removed two minor releases later.\n",
      "\u001b[2m\u001b[36m(pid=24451)\u001b[0m In /home/lars/.local/lib/python3.6/site-packages/matplotlib/mpl-data/stylelib/_classic_test.mplstyle: \n",
      "\u001b[2m\u001b[36m(pid=24451)\u001b[0m The animation.avconv_args rcparam was deprecated in Matplotlib 3.3 and will be removed two minor releases later.\n"
     ]
    }
   ],
   "source": [
    "print(ray)\n",
    "print(get_trainable_cls)\n",
    "print(ray.tune.registry)\n",
    "clss = get_trainable_cls(\"PPO\")"
   ]
  },
  {
   "cell_type": "markdown",
   "metadata": {},
   "source": [
    "ROS-nodes"
   ]
  },
  {
   "cell_type": "code",
   "execution_count": 25,
   "metadata": {},
   "outputs": [
    {
     "name": "stdout",
     "output_type": "stream",
     "text": [
      "\u001b[2m\u001b[36m(pid=24445)\u001b[0m /home/lars/gym/gym/logger.py:30: UserWarning: \u001b[33mWARN: Box bound precision lowered by casting to float32\u001b[0m\n",
      "\u001b[2m\u001b[36m(pid=24445)\u001b[0m   warnings.warn(colorize('%s: %s'%('WARN', msg % args), 'yellow'))\n",
      "\u001b[2m\u001b[36m(pid=24451)\u001b[0m /home/lars/gym/gym/logger.py:30: UserWarning: \u001b[33mWARN: Box bound precision lowered by casting to float32\u001b[0m\n",
      "\u001b[2m\u001b[36m(pid=24451)\u001b[0m   warnings.warn(colorize('%s: %s'%('WARN', msg % args), 'yellow'))\n"
     ]
    }
   ],
   "source": [
    "rospy.init_node(\"DRL_AI4RoMoCo\", anonymous=True)\n",
    "rospy.Subscriber(\"/joint_states\", JointState, q_callback)\n",
    "rospy.Subscriber(\"/ft300_force_torque\", WrenchStamped, ft_callback)\n",
    "rospy.Subscriber(\"/pose_estimation\", EstimatedPose, pose_callback)\n",
    "rospy.Subscriber(\"/observation\", CustomVector, observation_callback)\n",
    "#control_publisher = rospy.Publisher(\"/joint_group_position_controller/command\", Float64MultiArray, queue_size=1)\n",
    "traj_control_publisher = rospy.Publisher(\"/pos_traj_controller/command\", JointTrajectory, queue_size=1)\n",
    "ft_zero_publisher = rospy.Publisher(\"/ur_hardware_interface/script_command\", String, queue_size=1)\n",
    "\n",
    "#rate = rospy.Rate(1)\n",
    "rate = rospy.Rate(125)"
   ]
  },
  {
   "cell_type": "markdown",
   "metadata": {},
   "source": [
    "Data structures for storing and saving data"
   ]
  },
  {
   "cell_type": "code",
   "execution_count": 26,
   "metadata": {},
   "outputs": [],
   "source": [
    "observations_rec = []\n",
    "poses_rec = []\n",
    "ft_values_rec = []\n",
    "q_rec = []\n",
    "qd_rec = []\n",
    "rewards_rec = []\n",
    "step = 0"
   ]
  },
  {
   "cell_type": "markdown",
   "metadata": {},
   "source": [
    "# Run On Hardware"
   ]
  },
  {
   "cell_type": "code",
   "execution_count": 27,
   "metadata": {},
   "outputs": [
    {
     "ename": "NameError",
     "evalue": "name 'agent' is not defined",
     "output_type": "error",
     "traceback": [
      "\u001b[0;31m---------------------------------------------------------------------------\u001b[0m",
      "\u001b[0;31mNameError\u001b[0m                                 Traceback (most recent call last)",
      "\u001b[0;32m<ipython-input-27-6ad278072fd4>\u001b[0m in \u001b[0;36m<module>\u001b[0;34m\u001b[0m\n\u001b[0;32m----> 1\u001b[0;31m \u001b[0magent\u001b[0m\u001b[0;34m.\u001b[0m\u001b[0mcompute_action\u001b[0m\u001b[0;34m(\u001b[0m\u001b[0;34m[\u001b[0m\u001b[0;36m0\u001b[0m\u001b[0;34m,\u001b[0m\u001b[0;36m0\u001b[0m\u001b[0;34m,\u001b[0m\u001b[0;36m0\u001b[0m\u001b[0;34m,\u001b[0m\u001b[0;36m0\u001b[0m\u001b[0;34m,\u001b[0m\u001b[0;36m0\u001b[0m\u001b[0;34m,\u001b[0m\u001b[0;36m0\u001b[0m\u001b[0;34m,\u001b[0m\u001b[0;36m0\u001b[0m\u001b[0;34m,\u001b[0m\u001b[0;36m0\u001b[0m\u001b[0;34m,\u001b[0m\u001b[0;36m0\u001b[0m\u001b[0;34m,\u001b[0m\u001b[0;36m0\u001b[0m\u001b[0;34m,\u001b[0m\u001b[0;36m0\u001b[0m\u001b[0;34m,\u001b[0m\u001b[0;36m0\u001b[0m\u001b[0;34m]\u001b[0m\u001b[0;34m)\u001b[0m\u001b[0;34m\u001b[0m\u001b[0;34m\u001b[0m\u001b[0m\n\u001b[0m",
      "\u001b[0;31mNameError\u001b[0m: name 'agent' is not defined"
     ]
    }
   ],
   "source": [
    "agent.compute_action([0,0,0,0,0,0,0,0,0,0,0,0])"
   ]
  },
  {
   "cell_type": "code",
   "execution_count": 28,
   "metadata": {},
   "outputs": [
    {
     "name": "stdout",
     "output_type": "stream",
     "text": [
      "[-1.  1. -1. -1. -1. -1.]\n",
      "[-1.         -1.         -0.78550446 -1.         -1.          1.        ]\n",
      "[-0.3742082 -1.         1.         1.        -1.         1.       ]\n",
      "[-1.         -1.          0.25484276 -1.         -1.          1.        ]\n",
      "[-1. -1. -1. -1. -1. -1.]\n",
      "[-0.3524859 -1.         1.         1.        -1.         1.       ]\n",
      "[-1.         1.        -1.        -0.8592103 -1.         1.       ]\n",
      "[ 1.          1.         -1.          1.          0.00633502  1.        ]\n",
      "[-1. -1. -1.  1. -1. -1.]\n",
      "[ 1.  1. -1. -1. -1.  1.]\n",
      "[-0.7017361  -1.         -0.8771651   1.         -0.47149128  1.        ]\n",
      "[ 1.        1.       -1.       -1.       -1.       -0.680318]\n",
      "[-1.         -0.648579   -0.56222975  1.         -1.          1.        ]\n",
      "[-1.         -0.6230625  -0.98025686 -1.         -1.         -1.        ]\n",
      "[-0.90111256 -1.         -1.         -1.         -0.74890727 -1.        ]\n",
      "[-1. -1. -1.  1. -1.  1.]\n",
      "[-1.         1.        -1.        -1.         0.5199802  1.       ]\n",
      "[-1. -1. -1.  1. -1. -1.]\n"
     ]
    },
    {
     "name": "stderr",
     "output_type": "stream",
     "text": [
      "/home/lars/.local/lib/python3.6/site-packages/ipykernel_launcher.py:29: FutureWarning: `rcond` parameter will change to the default of machine precision times ``max(M, N)`` where M and N are the input matrix dimensions.\n",
      "To use the future default and silence this warning we advise to pass `rcond=None`, to keep using the old, explicitly pass `rcond=-1`.\n"
     ]
    },
    {
     "name": "stdout",
     "output_type": "stream",
     "text": [
      "[-1.         -0.29105684 -1.          1.         -1.          1.        ]\n",
      "[-1.  1. -1. -1. -1. -1.]\n",
      "[-1.         1.        -1.        -1.        -1.        -0.6333519]\n",
      "[ 1.         -0.22080755 -1.         -1.         -1.          1.        ]\n",
      "[-1. -1.  1. -1.  1.  1.]\n",
      "[-1.  1. -1.  1. -1. -1.]\n",
      "[-1.         0.3195796  1.        -1.        -0.9964158 -1.       ]\n",
      "[-1.          0.3762191  -0.6136551   1.         -1.         -0.14475924]\n",
      "[-1.  1.  1.  1. -1.  1.]\n",
      "[-0.30371547 -1.          1.          0.81455404 -1.         -1.        ]\n",
      "[-1.         -1.          0.19488388 -1.         -0.35443842  1.        ]\n",
      "[-1. -1.  1. -1. -1. -1.]\n",
      "[-1.          1.         -0.89938045  0.34847087 -1.         -1.        ]\n",
      "[ 8.0490112e-04  1.0000000e+00 -1.0000000e+00 -1.0000000e+00\n",
      " -6.0912025e-01 -1.0000000e+00]\n",
      "[ 0.0958693 -1.         1.        -1.        -1.        -1.       ]\n",
      "[-1.        1.       -1.        1.       -0.998849  1.      ]\n",
      "[-1.         -1.         -1.         -1.         -0.44484282 -1.        ]\n",
      "[-1.         -0.12115404 -0.76921976 -1.         -1.          1.        ]\n",
      "[-1.          1.         -0.03083149  1.         -1.         -1.        ]\n",
      "[ 0.1950891 -1.        -0.5555098  1.        -1.        -1.       ]\n",
      "[ 1.         1.         0.7543939 -1.        -0.6867794  1.       ]\n",
      "[ 0.96074057 -0.5042416  -1.         -1.          1.         -1.        ]\n",
      "[-1.  1. -1.  1. -1. -1.]\n",
      "[-1.  1. -1. -1. -1. -1.]\n",
      "[-1.        0.579049 -1.        1.       -1.       -1.      ]\n",
      "[-1.         1.        -0.9313118 -1.        -1.         1.       ]\n",
      "[-1.         -1.         -1.         -1.         -0.09772569  1.        ]\n"
     ]
    },
    {
     "name": "stderr",
     "output_type": "stream",
     "text": [
      "/home/lars/.local/lib/python3.6/site-packages/ipykernel_launcher.py:29: FutureWarning: `rcond` parameter will change to the default of machine precision times ``max(M, N)`` where M and N are the input matrix dimensions.\n",
      "To use the future default and silence this warning we advise to pass `rcond=None`, to keep using the old, explicitly pass `rcond=-1`.\n"
     ]
    },
    {
     "name": "stdout",
     "output_type": "stream",
     "text": [
      "[-1.         -1.         -1.         -1.         -0.44228864 -1.        ]\n",
      "[-1.         1.        -0.7065179  1.        -0.7928348  1.       ]\n",
      "[-1.  1. -1. -1. -1.  1.]\n",
      "[-1.         -0.36923826 -0.66428316 -1.         -1.          1.        ]\n",
      "[-1.          0.91512716 -1.         -1.         -1.          1.        ]\n",
      "[ 0.34445    -1.         -0.94138455 -1.         -1.         -1.        ]\n",
      "[-1.         1.         0.9890462 -1.        -1.         1.       ]\n",
      "[-1.          1.         -1.         -0.56885874 -1.          1.        ]\n",
      "[-1.          1.          0.56447387 -1.         -1.          1.        ]\n",
      "[-1.         -0.6321796  -1.         -1.         -1.          0.12366891]\n",
      "[ 1. -1.  1.  1. -1. -1.]\n",
      "[-1.         -0.8711965   1.         -1.          0.609874   -0.77861696]\n",
      "[-1. -1. -1. -1. -1.  1.]\n",
      "[-1.          1.          0.50278014 -1.         -1.         -1.        ]\n",
      "[-1.          1.         -0.56471115  1.         -1.         -1.        ]\n",
      "[-1.          1.         -0.9541538   1.         -0.30786663 -1.        ]\n",
      "[ 1.          1.         -0.60014063  0.94622993 -1.         -1.        ]\n",
      "[-1.         1.         1.         0.0945797 -1.         1.       ]\n"
     ]
    },
    {
     "name": "stderr",
     "output_type": "stream",
     "text": [
      "/home/lars/.local/lib/python3.6/site-packages/ipykernel_launcher.py:29: FutureWarning: `rcond` parameter will change to the default of machine precision times ``max(M, N)`` where M and N are the input matrix dimensions.\n",
      "To use the future default and silence this warning we advise to pass `rcond=None`, to keep using the old, explicitly pass `rcond=-1`.\n"
     ]
    },
    {
     "name": "stdout",
     "output_type": "stream",
     "text": [
      "[0.47786093 1.         1.         0.48519707 0.8212267  1.        ]\n",
      "[-1.         1.         1.         1.         0.9707476 -1.       ]\n",
      "[-1. -1. -1. -1. -1. -1.]\n",
      "[-1.  1. -1. -1.  1.  1.]\n",
      "[ 1.          1.         -1.          1.         -0.40707326  1.        ]\n",
      "[-1.          0.9332008   0.35055846 -1.         -1.          1.        ]\n",
      "[-1.         -0.14892387 -1.         -1.          0.86313987 -1.        ]\n",
      "[-1.  1. -1.  1. -1.  1.]\n",
      "[-1.          1.         -1.          1.         -0.87690294 -1.        ]\n",
      "[-1.         -1.          0.59268653 -1.         -1.         -1.        ]\n",
      "[ 1.          1.         -0.2183584   1.         -1.          0.11973667]\n",
      "[-1.         1.         1.        -1.        -1.         0.9064375]\n",
      "[-1.         -0.0440836  -0.23349003 -1.         -1.         -1.        ]\n",
      "[-0.802928   -0.03920221  1.          1.         -1.         -1.        ]\n",
      "[-1.        -1.         1.        -1.         0.8733988  1.       ]\n",
      "[ 1.          1.          0.11312466  1.         -1.          1.        ]\n",
      "[-1.          1.         -1.         -1.          0.07308781 -1.        ]\n",
      "[-1.         1.         1.        -1.         0.5628563  1.       ]\n",
      "[-1.         -1.          0.0257532  -1.          0.93819904 -1.        ]\n",
      "[-1.          0.72886914 -1.         -1.         -0.16510296 -1.        ]\n",
      "[-1.        -1.        -0.8118089 -1.        -1.        -1.       ]\n",
      "[-1.         -1.          0.58795923  1.         -1.          0.5568179 ]\n",
      "[-1.         1.        -0.2973112  1.        -1.         1.       ]\n",
      "[-1.          1.          1.          0.28911668  1.          1.        ]\n",
      "[-1.         -1.         -1.          1.         -0.18053102 -1.        ]\n",
      "[-1.          1.         -0.44484496  1.         -0.49252093 -1.        ]\n",
      "[-0.7966547   0.8208872  -0.76165015 -0.8137475  -1.          1.        ]\n",
      "[-0.8463867 -1.         1.        -1.        -0.8280885 -1.       ]\n",
      "[-1.         -1.          1.          0.22871935 -1.         -1.        ]\n",
      "[-1.          1.         -1.         -0.26865667 -1.         -1.        ]\n",
      "[-1.         1.         1.         1.         0.8143449 -1.       ]\n",
      "[-1.         -0.5643486   1.         -0.09798729  0.4628638  -1.        ]\n",
      "[-1.         0.7481295 -1.        -1.        -1.        -1.       ]\n",
      "[-1.          0.02318078 -1.         -1.         -1.          0.91565824]\n",
      "[-1.  1. -1. -1. -1.  1.]\n",
      "[-1.  1.  1.  1. -1. -1.]\n",
      "[-1.  1.  1. -1.  1.  1.]\n",
      "[ 0.8554075   0.7463898  -0.33798647 -1.         -1.          1.        ]\n",
      "[ 0.0938313   1.          0.06291866  1.         -1.          1.        ]\n",
      "[-0.9794793 -0.7213106  0.1977725 -1.        -1.        -1.       ]\n",
      "[-1.          1.          1.          0.3557219  -0.16558737 -1.        ]\n",
      "[-1.          0.34309298 -0.16468674  1.         -1.         -0.8001635 ]\n",
      "[-1.         -1.          0.18388262 -1.         -1.         -1.        ]\n",
      "[-1. -1.  1. -1.  1. -1.]\n"
     ]
    },
    {
     "name": "stderr",
     "output_type": "stream",
     "text": [
      "/home/lars/.local/lib/python3.6/site-packages/ipykernel_launcher.py:29: FutureWarning: `rcond` parameter will change to the default of machine precision times ``max(M, N)`` where M and N are the input matrix dimensions.\n",
      "To use the future default and silence this warning we advise to pass `rcond=None`, to keep using the old, explicitly pass `rcond=-1`.\n"
     ]
    },
    {
     "name": "stdout",
     "output_type": "stream",
     "text": [
      "[-1.         0.8707626  1.        -1.        -1.        -1.       ]\n",
      "[-1.  1. -1. -1. -1.  1.]\n",
      "[-1.         -0.1226238  -1.          1.          0.45024812 -1.        ]\n",
      "[-1.  1.  1.  1. -1.  1.]\n",
      "[-1.          0.42349243  1.         -1.         -1.         -1.        ]\n",
      "[ 1.          1.         -0.26074898  1.         -1.          0.46455723]\n",
      "[-1.          1.         -0.21734536 -1.         -0.58739525  1.        ]\n",
      "[-1.         1.        -0.5539024 -1.        -1.         1.       ]\n",
      "[ 1.         -1.          0.01954734 -0.68986666 -1.          1.        ]\n",
      "[-1. -1. -1. -1. -1.  1.]\n",
      "[-1.         -1.          0.22712708  1.         -1.          1.        ]\n",
      "[-1. -1.  1.  1. -1. -1.]\n",
      "[ 1.          1.         -0.30188674 -0.42105213 -0.82102954  0.29215217]\n",
      "[ 1.  1. -1. -1. -1.  1.]\n",
      "[-1.          1.          0.58016294 -0.5793702  -1.         -1.        ]\n",
      "[-1. -1. -1. -1. -1. -1.]\n",
      "[-0.8880353 -1.         1.        -1.        -1.        -1.       ]\n",
      "[ 0.7692132   0.19927421  1.         -1.          1.         -1.        ]\n",
      "[-1.         0.8316945  1.         1.         1.        -1.       ]\n",
      "[-1.  1.  1.  1. -1. -1.]\n",
      "[ 1.         -0.22213042  0.22603694 -1.         -0.33612078  0.03267875]\n",
      "[-1.          0.7395772   0.9005727   1.         -1.         -0.83656085]\n",
      "[-1.          0.73890364 -0.90969723 -1.         -0.6221304  -1.        ]\n",
      "[-1.          1.         -0.92155236 -1.         -0.38100296 -1.        ]\n",
      "[-1.  1.  1. -1. -1.  1.]\n",
      "[-1.        -0.3221711 -1.         1.        -1.        -1.       ]\n",
      "[-0.3086884  1.        -0.9912059 -1.        -1.        -1.       ]\n",
      "[-1.          0.87257946  0.99304    -1.         -1.          1.        ]\n",
      "[-1.         1.         1.         0.5565568 -1.         0.156079 ]\n",
      "[-1.  1. -1. -1. -1. -1.]\n",
      "[-0.99314785  1.         -1.          1.         -0.265499   -1.        ]\n",
      "[-1.         -1.          1.         -1.         -0.16556373 -1.        ]\n",
      "[-0.90524554  0.19663513 -0.36904526  1.         -1.         -1.        ]\n",
      "[-1.         -1.         -0.07682258 -1.          0.04742151  1.        ]\n",
      "[ 1.         1.         1.        -1.        -0.6367047  1.       ]\n",
      "[-0.14786828 -1.         -1.         -1.         -0.6670568  -1.        ]\n",
      "[-0.42369568  1.          0.27702206  0.0422658   0.3453942   1.        ]\n",
      "[-1.         -1.          0.80181015 -1.         -0.23076975 -0.8623866 ]\n",
      "[-1.         -1.         -0.67652786 -1.         -1.         -0.21186297]\n",
      "[-1.          1.         -1.          0.40570152 -1.         -0.02449935]\n",
      "[-1.         -1.          0.25932562 -0.43351457  0.2988423  -0.6582313 ]\n",
      "[-1.         -1.         -0.7735668  -1.         -0.14674735 -1.        ]\n"
     ]
    },
    {
     "name": "stderr",
     "output_type": "stream",
     "text": [
      "/home/lars/.local/lib/python3.6/site-packages/ipykernel_launcher.py:29: FutureWarning: `rcond` parameter will change to the default of machine precision times ``max(M, N)`` where M and N are the input matrix dimensions.\n",
      "To use the future default and silence this warning we advise to pass `rcond=None`, to keep using the old, explicitly pass `rcond=-1`.\n"
     ]
    },
    {
     "name": "stdout",
     "output_type": "stream",
     "text": [
      "[ 1.          0.07267851 -1.         -1.         -1.          1.        ]\n",
      "[-0.21337056 -1.          1.         -1.         -1.          1.        ]\n",
      "[-1.        -1.        -0.8423397  1.         0.8702825 -1.       ]\n",
      "[-1.          1.         -0.45300657 -1.          0.89575    -1.        ]\n",
      "[-1.  1.  1.  1. -1.  1.]\n",
      "[-0.7661307  1.         0.5472545 -1.        -1.        -1.       ]\n",
      "[-1.         1.        -0.6633545 -1.         0.9091587  0.761852 ]\n",
      "[-1.          1.          0.0715856  -1.         -0.65067756  1.        ]\n",
      "[-1.          1.         -1.          1.          0.05223823  1.        ]\n",
      "[-1.         -1.         -0.23616219  1.          0.9468101  -1.        ]\n",
      "[-1.        -1.         0.5100651 -1.         0.5085473 -1.       ]\n",
      "[-0.41462612  1.          1.          1.         -0.14052615  1.        ]\n",
      "[-1.          1.          1.         -1.         -0.44525853 -1.        ]\n",
      "[-1.         1.         1.         1.         0.0715853 -1.       ]\n",
      "[-1.         1.        -1.         1.         0.5906019 -0.5089793]\n",
      "[-1. -1. -1. -1. -1.  1.]\n",
      "[-1.          1.          1.          1.         -0.89217377  1.        ]\n",
      "[-1.          1.          0.02789897  1.         -0.47668347  1.        ]\n",
      "[-1. -1. -1. -1. -1.  1.]\n",
      "[-1.          0.24330813  0.63723356  1.         -1.         -0.13801324]\n",
      "[ 1. -1.  1. -1. -1.  1.]\n",
      "[-1.          1.          0.7517249  -0.16691291 -0.9123756  -0.16364676]\n",
      "[-1.         -1.          1.          1.         -0.36898196  1.        ]\n",
      "[ 0.17875075  1.          0.13542384 -1.          1.         -1.        ]\n",
      "[-1.  1. -1.  1.  1. -1.]\n",
      "[ 1.  1.  1.  1. -1.  1.]\n",
      "[-1.          1.         -0.02436161 -1.          0.40815318  1.        ]\n",
      "[-1.  1.  1.  1. -1.  1.]\n",
      "[-1.         -1.         -0.54127055  1.         -1.         -0.6042567 ]\n",
      "[-1.  1. -1.  1. -1.  1.]\n",
      "[ 1.          0.3855433   0.53510755 -1.          1.         -1.        ]\n",
      "[-1.         1.         1.         1.         0.7540062 -1.       ]\n",
      "[-1.          1.          1.          1.          1.         -0.23665684]\n",
      "[-1.         1.        -1.        -1.        -1.         0.7818186]\n",
      "[-1.         -0.43785146  1.          0.09666862 -1.          1.        ]\n",
      "[-1. -1.  1.  1. -1. -1.]\n",
      "[-1.        -1.        -1.         0.9027968 -0.5650474  1.       ]\n",
      "[-1.         0.6064871  1.        -1.        -1.         1.       ]\n",
      "[-1.          0.3374521   1.          1.         -0.69178694  1.        ]\n",
      "[ 0.3842175 -1.         1.        -1.         0.9936177  1.       ]\n",
      "[-1.          1.          0.35191965 -1.          1.         -0.5439906 ]\n",
      "[ 1.          1.          0.24226737  1.         -0.23734996  0.87246007]\n",
      "[-1.         -1.          1.          1.          0.76616853  1.        ]\n",
      "[ 0.9383278   1.         -1.         -1.          0.34886858  1.        ]\n",
      "[-0.7957722   1.         -0.08784282 -1.         -1.         -1.        ]\n",
      "[ 1.        -1.        -0.1794852 -1.        -1.         1.       ]\n",
      "[ 1.  1.  1.  1. -1.  1.]\n",
      "[1.         0.14186093 1.         1.         0.50697446 1.        ]\n",
      "[-1.          1.          0.411263    0.35890836 -0.52260834  1.        ]\n",
      "[-1.          1.         -1.          0.49829608 -1.          1.        ]\n",
      "[-1.  1.  1. -1. -1.  1.]\n",
      "[ 1. -1.  1.  1. -1. -1.]\n",
      "[ 1. -1.  1.  1.  1.  1.]\n",
      "[ 0.56719387 -1.          1.         -1.         -1.         -1.        ]\n",
      "[-1. -1. -1.  1. -1.  1.]\n",
      "[ 1.         -1.         -1.         -1.          1.         -0.67325115]\n",
      "[ 1. -1. -1.  1. -1.  1.]\n",
      "[ 1. -1. -1.  1. -1.  1.]\n",
      "[-1.        -1.         1.        -0.9189291  1.        -1.       ]\n",
      "[ 1. -1.  1.  1. -1.  1.]\n",
      "[-1.        -1.        -0.9229617  1.         1.         1.       ]\n"
     ]
    },
    {
     "name": "stderr",
     "output_type": "stream",
     "text": [
      "/home/lars/.local/lib/python3.6/site-packages/ipykernel_launcher.py:29: FutureWarning: `rcond` parameter will change to the default of machine precision times ``max(M, N)`` where M and N are the input matrix dimensions.\n",
      "To use the future default and silence this warning we advise to pass `rcond=None`, to keep using the old, explicitly pass `rcond=-1`.\n"
     ]
    },
    {
     "name": "stdout",
     "output_type": "stream",
     "text": [
      "[ 1.        -1.         1.        -1.        -1.         0.4308833]\n",
      "[-1.         -1.         -1.          1.          1.         -0.14155197]\n",
      "[-1. -1. -1.  1. -1.  1.]\n",
      "[ 1. -1. -1. -1.  1. -1.]\n",
      "[-1. -1. -1. -1. -1.  1.]\n",
      "[ 1. -1. -1.  1. -1. -1.]\n",
      "[ 0.64503515 -1.          1.          1.         -1.         -1.        ]\n",
      "[ 0.30298823 -1.         -1.         -1.          1.          1.        ]\n",
      "[-0.27727932 -1.         -1.          1.          1.          1.        ]\n",
      "[-1. -1. -1. -1. -1. -1.]\n",
      "[-0.87911123 -1.         -1.         -1.          1.          1.        ]\n",
      "[ 1.        -1.        -1.        -1.        -0.9393675  1.       ]\n",
      "[-1. -1. -1. -1.  1. -1.]\n",
      "[-0.19102979 -1.         -1.          1.         -1.          0.038774  ]\n",
      "[-0.40779355 -1.          1.         -1.         -1.         -0.5302646 ]\n",
      "[-0.5581361  1.        -1.         1.         1.         1.       ]\n",
      "[-1. -1. -1. -1. -1.  1.]\n",
      "[-1. -1. -1.  1.  1.  1.]\n",
      "[ 1. -1.  1. -1. -1. -1.]\n",
      "[-0.16045749 -1.         -1.         -0.91111016  1.         -0.01102723]\n",
      "[-0.6029186  -1.          1.         -1.          1.          0.18214792]\n"
     ]
    },
    {
     "name": "stderr",
     "output_type": "stream",
     "text": [
      "/home/lars/.local/lib/python3.6/site-packages/ipykernel_launcher.py:29: FutureWarning: `rcond` parameter will change to the default of machine precision times ``max(M, N)`` where M and N are the input matrix dimensions.\n",
      "To use the future default and silence this warning we advise to pass `rcond=None`, to keep using the old, explicitly pass `rcond=-1`.\n"
     ]
    },
    {
     "name": "stdout",
     "output_type": "stream",
     "text": [
      "[-0.05034351 -1.         -1.         -1.          1.         -0.7307178 ]\n",
      "[-0.94248927 -1.          1.         -1.          1.         -0.68647814]\n",
      "[-1.          1.          0.90166545 -1.         -1.         -1.        ]\n",
      "[-0.901809  1.       -1.       -1.       -1.        1.      ]\n",
      "[-1. -1. -1.  1. -1.  1.]\n",
      "[-1.  1. -1. -1. -1.  1.]\n",
      "[-1. -1. -1.  1.  1.  1.]\n",
      "[-1. -1.  1. -1. -1.  1.]\n",
      "[ 1.         -1.          0.03120112  1.         -1.          0.44956565]\n",
      "[ 0.00753456 -1.         -1.          1.          1.         -0.3651451 ]\n",
      "[-1. -1.  1.  1. -1. -1.]\n",
      "[ 1.        -1.        -1.         1.         0.8791616  1.       ]\n",
      "[-1.        -1.        -1.         1.         0.8156435  1.       ]\n",
      "[ 0.37912047 -1.          1.         -1.         -1.         -1.        ]\n",
      "[-1.         -1.          1.          1.          0.64815456  1.        ]\n",
      "[-0.591654  -1.        -1.         1.        -0.9739888  1.       ]\n",
      "[-1. -1. -1. -1.  1.  1.]\n",
      "[-1.        -1.        -1.        -1.        -1.        -0.0710516]\n",
      "[-1. -1.  1. -1.  1. -1.]\n",
      "[-1. -1. -1.  1.  1.  1.]\n",
      "[-1. -1.  1. -1.  1.  1.]\n",
      "[-1. -1.  1. -1.  1.  1.]\n",
      "[-1.         -1.         -1.         -1.         -0.04603839 -0.19753605]\n",
      "[ 1.         -0.24778605  1.          1.          1.          1.        ]\n",
      "[ 0.9975352 -1.         1.         1.         1.         1.       ]\n",
      "[-1. -1. -1. -1. -1.  1.]\n",
      "[-1. -1. -1.  1. -1.  1.]\n",
      "[ 1.        -1.        -1.         1.        -1.         0.5352093]\n",
      "[-1. -1. -1.  1. -1.  1.]\n",
      "[-1. -1. -1. -1. -1. -1.]\n",
      "[ 1. -1. -1. -1.  1. -1.]\n",
      "[ 1. -1. -1.  1.  1. -1.]\n",
      "[-1.        -1.        -1.        -1.         0.0526706 -1.       ]\n",
      "[ 0.49689043 -1.         -1.          1.          1.          1.        ]\n",
      "[-1.        -1.         1.         1.        -0.8088639 -0.9005605]\n",
      "[-1. -1.  1.  1.  1. -1.]\n",
      "[-1. -1.  1. -1.  1. -1.]\n",
      "[ 1.  1.  1. -1. -1.  1.]\n",
      "[ 1.         -1.         -1.         -1.         -1.         -0.83394337]\n",
      "[-1.         -0.49376678  1.         -1.          1.          1.        ]\n",
      "[ 0.29802155 -1.          1.          1.          1.          1.        ]\n",
      "[-1.          0.35014915  1.          1.         -1.          1.        ]\n",
      "[-1. -1.  1. -1.  1.  1.]\n",
      "[-1. -1. -1.  1. -1. -1.]\n",
      "[-1.         -1.          1.         -1.         -0.10405844  1.        ]\n",
      "[-1.        -1.         1.         1.         1.        -0.8848814]\n",
      "[-1.         -1.          1.          1.          1.         -0.65957177]\n",
      "[ 1. -1. -1. -1.  1. -1.]\n",
      "[ 0.5746721  -1.         -0.36690933 -1.          1.          1.        ]\n",
      "[-1. -1.  1.  1. -1.  1.]\n",
      "[-1. -1. -1.  1.  1. -1.]\n",
      "[-1.        -1.        -1.         1.        -1.        -0.8518518]\n",
      "[-1.        -1.        -1.         1.        -1.        -0.7648648]\n",
      "[-1.        -1.        -1.         1.        -1.        -0.4444391]\n",
      "[-1. -1. -1. -1.  1.  1.]\n",
      "[-1. -1. -1.  1. -1.  1.]\n",
      "[-1. -1.  1.  1. -1. -1.]\n",
      "[-1. -1. -1. -1. -1.  1.]\n",
      "[-1. -1. -1.  1.  1.  1.]\n"
     ]
    },
    {
     "name": "stderr",
     "output_type": "stream",
     "text": [
      "/home/lars/.local/lib/python3.6/site-packages/ipykernel_launcher.py:29: FutureWarning: `rcond` parameter will change to the default of machine precision times ``max(M, N)`` where M and N are the input matrix dimensions.\n",
      "To use the future default and silence this warning we advise to pass `rcond=None`, to keep using the old, explicitly pass `rcond=-1`.\n"
     ]
    },
    {
     "name": "stdout",
     "output_type": "stream",
     "text": [
      "[ 1. -1. -1.  1. -1. -1.]\n",
      "[-0.83475935 -1.          0.94840217  1.         -0.83690083  1.        ]\n",
      "[ 0.66130114 -1.          1.         -1.         -0.6426827   1.        ]\n",
      "[ 1.        -1.        -1.         1.        -0.9910928 -0.9946244]\n",
      "[-1. -1. -1.  1. -1. -1.]\n",
      "[-1. -1.  1. -1. -1.  1.]\n",
      "[-0.6919251  -1.          1.          1.         -0.27720392 -0.2326957 ]\n",
      "[-1. -1.  1. -1. -1. -1.]\n",
      "[-1. -1.  1.  1. -1.  1.]\n",
      "[ 1. -1. -1. -1.  1. -1.]\n",
      "[ 1.         -1.          1.         -1.          0.53061384  1.        ]\n",
      "[-1. -1.  1.  1. -1. -1.]\n",
      "[-0.38012516 -1.          0.8931663  -1.          1.          1.        ]\n",
      "[-1. -1. -1.  1.  1.  1.]\n",
      "[-1. -1.  1.  1. -1.  1.]\n",
      "[-1.          0.01501656 -1.          1.          0.85626024  0.32805735]\n",
      "[-1.        -1.         0.3027353  1.        -0.845538   1.       ]\n",
      "[-1.         -1.          1.          1.          0.14011902  0.34327722]\n",
      "[-0.02270377 -1.          1.          1.          1.          0.18078595]\n",
      "[ 0.787421   -1.          1.         -0.02617812 -1.         -1.        ]\n"
     ]
    },
    {
     "name": "stderr",
     "output_type": "stream",
     "text": [
      "/home/lars/.local/lib/python3.6/site-packages/ipykernel_launcher.py:29: FutureWarning: `rcond` parameter will change to the default of machine precision times ``max(M, N)`` where M and N are the input matrix dimensions.\n",
      "To use the future default and silence this warning we advise to pass `rcond=None`, to keep using the old, explicitly pass `rcond=-1`.\n"
     ]
    },
    {
     "name": "stdout",
     "output_type": "stream",
     "text": [
      "[ 0.9173199  0.7165861  1.        -1.        -1.        -1.       ]\n",
      "[ 0.3277916 -1.         1.        -1.        -1.        -1.       ]\n",
      "[ 0.29844418 -1.          1.         -1.         -1.          0.72434527]\n",
      "[-1.         -1.          1.         -0.08587551 -0.823518   -0.9425453 ]\n",
      "[-1. -1.  1. -1. -1.  1.]\n",
      "[ 1.        -1.         1.         1.         0.9506176  1.       ]\n",
      "[ 1.        -1.        -0.6327081 -1.        -1.        -1.       ]\n",
      "[ 1.        -1.        -1.        -1.         1.        -0.6253984]\n",
      "[-1. -1.  1. -1.  1.  1.]\n",
      "[-1.         -1.         -1.          1.          0.61929524  1.        ]\n",
      "[ 1. -1.  1. -1. -1.  1.]\n",
      "[-1.        -1.        -1.         1.         1.         0.3530426]\n",
      "[-1. -1.  1. -1.  1. -1.]\n",
      "[-1. -1.  1. -1.  1.  1.]\n",
      "[-1.        -1.         1.         1.        -1.        -0.5189493]\n",
      "[ 1. -1. -1.  1.  1.  1.]\n",
      "[-1. -1.  1.  1. -1.  1.]\n",
      "[ 1. -1.  1.  1.  1.  1.]\n",
      "[ 1. -1. -1.  1.  1. -1.]\n",
      "[-0.03845751 -1.          1.         -1.         -1.         -1.        ]\n",
      "[ 1. -1. -1.  1.  1. -1.]\n",
      "[-1. -1.  1.  1. -1. -1.]\n",
      "[-1. -1.  1. -1. -1.  1.]\n",
      "[ 1. -1. -1. -1.  1.  1.]\n",
      "[-1.        -1.        -1.        -1.        -0.6895321  1.       ]\n",
      "[-1. -1. -1.  1. -1.  1.]\n",
      "[-1. -1. -1.  1. -1.  1.]\n",
      "[-0.46470058 -1.          1.          1.          1.         -1.        ]\n",
      "[-1. -1.  1. -1. -1. -1.]\n",
      "[ 0.7990891 -1.         1.        -1.        -1.        -1.       ]\n",
      "[ 1. -1.  1.  1. -1. -1.]\n",
      "[ 1. -1. -1. -1. -1. -1.]\n",
      "[-1. -1.  1.  1.  1. -1.]\n",
      "[-1. -1. -1.  1. -1.  1.]\n",
      "[-1. -1.  1.  1. -1.  1.]\n",
      "[-1. -1.  1. -1.  1.  1.]\n",
      "[-0.78010744 -1.         -1.         -1.         -1.          1.        ]\n",
      "[-1. -1.  1. -1. -1. -1.]\n",
      "[ 0.6489656 -1.         1.        -1.        -1.        -1.       ]\n",
      "[-0.8528436 -1.        -1.         1.         1.        -1.       ]\n",
      "[-0.12030697  0.4044602   1.          1.          1.         -1.        ]\n",
      "[-1. -1.  1. -1.  1.  1.]\n",
      "[-0.4452511 -1.        -1.         1.        -1.         1.       ]\n",
      "[ 0.49213398 -1.         -1.          1.         -1.         -1.        ]\n",
      "[ 0.22224796 -1.          1.          1.          1.          0.13944519]\n",
      "[-1.         -1.         -1.          1.         -0.28769192 -0.4912818 ]\n",
      "[-1.         -1.          0.03077519 -1.          1.         -0.4954567 ]\n",
      "[-1.         -1.          1.         -1.         -0.37286925  0.47748744]\n",
      "[ 1.        -1.         1.        -1.         0.6133009 -1.       ]\n",
      "[-1.         -1.         -0.34718883  1.         -1.         -1.        ]\n",
      "[-0.3727088  -1.         -1.         -1.         -1.         -0.06507355]\n",
      "[-1.          1.         -0.28533113 -1.         -1.         -1.        ]\n",
      "[ 0.56516767 -1.         -1.          1.         -1.         -0.70381874]\n",
      "[ 0.45046496 -1.          1.         -1.          1.         -1.        ]\n",
      "[-1.         -1.         -1.         -1.          1.          0.45872402]\n",
      "[-1. -1. -1.  1. -1. -1.]\n",
      "[-1.         -1.          1.          1.         -0.26924837 -1.        ]\n",
      "[ 1. -1. -1.  1. -1.  1.]\n",
      "[ 1. -1. -1.  1.  1. -1.]\n",
      "[-0.6054756 -1.        -1.         1.         0.1627847  1.       ]\n",
      "[-1. -1.  1.  1.  1.  1.]\n",
      "[-1. -1. -1. -1. -1. -1.]\n",
      "[-1. -1. -1.  1. -1.  1.]\n",
      "[-0.76630807 -1.         -1.         -1.          1.          1.        ]\n",
      "[ 0.63629436 -1.         -1.         -1.         -1.          0.20241821]\n",
      "[ 1.        -1.        -1.        -0.990504  -1.         0.5497516]\n",
      "[-1.         1.         1.         0.5639417 -1.         1.       ]\n",
      "[ 0.9340026 -1.        -1.        -1.        -0.6641943  1.       ]\n",
      "[ 1.         -1.         -1.         -1.          1.         -0.35978603]\n",
      "[-1. -1.  1.  1.  1. -1.]\n",
      "[ 1. -1.  1. -1.  1. -1.]\n",
      "[-1. -1.  1. -1. -1.  1.]\n",
      "[ 1.         -1.          1.          1.          0.75632185  1.        ]\n"
     ]
    },
    {
     "name": "stderr",
     "output_type": "stream",
     "text": [
      "/home/lars/.local/lib/python3.6/site-packages/ipykernel_launcher.py:29: FutureWarning: `rcond` parameter will change to the default of machine precision times ``max(M, N)`` where M and N are the input matrix dimensions.\n",
      "To use the future default and silence this warning we advise to pass `rcond=None`, to keep using the old, explicitly pass `rcond=-1`.\n"
     ]
    },
    {
     "name": "stdout",
     "output_type": "stream",
     "text": [
      "[-1.         -1.          1.          1.         -0.78599286 -1.        ]\n",
      "[-1. -1. -1. -1. -1.  1.]\n",
      "[-1. -1. -1.  1.  1. -1.]\n",
      "[-1. -1.  1. -1.  1. -1.]\n",
      "[ 1.         -1.          1.         -0.92742646 -1.          1.        ]\n",
      "[ 0.769982 -1.        1.        1.       -1.       -1.      ]\n",
      "[-1. -1.  1. -1. -1. -1.]\n",
      "[ 1.         -1.          1.         -1.          0.06274796  0.17314923]\n",
      "[-1. -1.  1. -1. -1. -1.]\n",
      "[-0.44251108 -1.          1.         -1.         -1.         -1.        ]\n",
      "[-0.52419746 -1.          0.25551105 -1.         -1.         -1.        ]\n",
      "[-1. -1.  1.  1.  1. -1.]\n",
      "[ 0.84727955 -1.         -1.         -1.          1.          1.        ]\n",
      "[ 1.         -1.         -1.          1.         -0.12434047  1.        ]\n",
      "[-1. -1. -1. -1.  1.  1.]\n",
      "[ 0.7083981 -1.         1.        -1.         1.         1.       ]\n",
      "[-1.         -1.         -1.          1.          0.9329071   0.41395146]\n",
      "[-1.        -1.        -1.         1.        -0.2000398  1.       ]\n",
      "[ 1. -1. -1.  1.  1.  1.]\n",
      "[-1.         -1.          0.18400407 -1.         -1.         -0.9812138 ]\n",
      "[-1.         -1.          1.          1.         -0.05430028  0.7057337 ]\n"
     ]
    },
    {
     "name": "stderr",
     "output_type": "stream",
     "text": [
      "/home/lars/.local/lib/python3.6/site-packages/ipykernel_launcher.py:29: FutureWarning: `rcond` parameter will change to the default of machine precision times ``max(M, N)`` where M and N are the input matrix dimensions.\n",
      "To use the future default and silence this warning we advise to pass `rcond=None`, to keep using the old, explicitly pass `rcond=-1`.\n"
     ]
    },
    {
     "name": "stdout",
     "output_type": "stream",
     "text": [
      "[ 0.0993073  1.         1.        -1.         1.        -1.       ]\n",
      "[-1.          1.         -0.3338387   1.         -1.         -0.52249277]\n",
      "[ 1.         -1.          1.          1.          0.29233766  1.        ]\n",
      "[ 0.49602008  1.          1.         -1.         -1.          1.        ]\n",
      "[-1.  1.  1.  1. -1.  1.]\n",
      "[-1.         -1.         -1.          1.          0.87260735 -0.5742948 ]\n",
      "[-1.         -1.          1.          0.18105441  1.          0.58380604]\n",
      "[-1. -1.  1.  1. -1.  1.]\n",
      "[-1.        -1.         1.        -1.         0.9212425 -1.       ]\n",
      "[-1.        -1.         1.        -1.         0.7223497 -1.       ]\n",
      "[-1. -1.  1. -1.  1. -1.]\n",
      "[ 1. -1. -1. -1.  1. -1.]\n",
      "[ 1. -1.  1. -1. -1. -1.]\n",
      "[ 0.5372653 -1.         1.         1.         1.        -1.       ]\n",
      "[-1. -1. -1.  1. -1. -1.]\n",
      "[-0.75732386 -1.         -1.          1.          1.          0.8761933 ]\n",
      "[-0.0629254  -1.         -1.         -1.         -1.         -0.80904603]\n",
      "[ 1.         -1.         -1.          1.         -1.          0.10543433]\n",
      "[-1.         -1.          1.          1.          0.03543708  0.9633366 ]\n",
      "[ 1.        -1.         1.        -1.         1.         0.9515499]\n",
      "[ 0.98836124 -1.          1.         -1.          0.6205193  -0.02960595]\n",
      "[ 1.         -1.         -1.          1.          0.30560315 -1.        ]\n",
      "[ 0.22381818  1.          1.          1.         -1.          1.        ]\n",
      "[ 1.         -1.         -1.          1.         -1.          0.05028448]\n",
      "[-0.9926242 -1.         1.         1.         1.         1.       ]\n",
      "[-0.25798944 -1.         -1.          1.         -0.5697514   1.        ]\n",
      "[ 1.       -1.        1.        1.       -0.581438  1.      ]\n",
      "[ 0.8159163  -1.          0.31360102 -1.         -1.          1.        ]\n",
      "[-1. -1. -1.  1. -1.  1.]\n",
      "[-1. -1. -1. -1.  1.  1.]\n",
      "[-1.        -1.        -1.         1.         0.6110029 -1.       ]\n",
      "[-1. -1. -1.  1. -1.  1.]\n",
      "[-1.         -1.         -1.          1.         -1.         -0.23800279]\n",
      "[-1. -1. -1.  1. -1.  1.]\n",
      "[-1.         -1.          1.         -1.          0.8956883  -0.04726283]\n",
      "[ 1. -1.  1. -1.  1. -1.]\n",
      "[ 0.7111752 -1.         1.        -1.         1.         1.       ]\n",
      "[-1. -1.  1.  1.  1.  1.]\n",
      "[-1. -1.  1.  1. -1.  1.]\n",
      "[-1.         -1.         -1.          1.          0.39836735  1.        ]\n",
      "[ 1. -1.  1. -1. -1.  1.]\n",
      "[-1. -1. -1. -1.  1. -1.]\n",
      "[ 1.        -1.         1.         1.         1.         0.6020251]\n",
      "[-1.         -1.         -1.         -1.          1.         -0.02445781]\n",
      "[-1. -1. -1.  1. -1.  1.]\n",
      "[ 1. -1.  1.  1.  1. -1.]\n",
      "[-1. -1. -1. -1.  1. -1.]\n",
      "[-1. -1. -1.  1. -1. -1.]\n",
      "[-0.5901512  -1.          1.          0.25664714  1.         -1.        ]\n",
      "[-1. -1. -1. -1. -1.  1.]\n",
      "[-1. -1. -1. -1.  1. -1.]\n",
      "[ 1.         -1.          1.          1.         -1.          0.98910373]\n",
      "[-1. -1.  1. -1. -1. -1.]\n",
      "[-1. -1. -1.  1.  1.  1.]\n",
      "[ 1. -1. -1. -1. -1.  1.]\n",
      "[-1. -1.  1.  1.  1. -1.]\n",
      "[ 1.         -1.          1.         -0.83722556 -1.         -1.        ]\n",
      "[-1. -1.  1.  1. -1.  1.]\n",
      "[ 0.05633569 -1.          1.         -1.         -0.07682276 -1.        ]\n",
      "[-1. -1.  1. -1.  1.  1.]\n",
      "[-1. -1. -1. -1.  1. -1.]\n",
      "[-1.        -1.         1.         1.         1.         0.0035715]\n",
      "[-0.8870468 -1.         1.        -1.        -1.         0.6371782]\n",
      "[ 0.3069644  -0.82115173 -1.         -1.         -0.32181042 -0.9786478 ]\n",
      "[-1.         -1.          1.          1.          1.         -0.51156884]\n",
      "[-1. -1.  1. -1.  1. -1.]\n",
      "[-1. -1.  1.  1.  1. -1.]\n",
      "[-1. -1.  1. -1.  1. -1.]\n",
      "[-1. -1.  1. -1.  1.  1.]\n",
      "[-1. -1. -1. -1.  1. -1.]\n",
      "[-1.         0.6966276 -1.         1.         1.        -1.       ]\n",
      "[ 1.         -1.         -1.          1.          0.63666505  1.        ]\n",
      "[ 0.37306464 -1.          1.         -1.          0.76710063 -1.        ]\n",
      "[-0.41196707 -1.         -1.         -1.         -1.          1.        ]\n",
      "[-1. -1. -1. -1. -1.  1.]\n"
     ]
    },
    {
     "name": "stderr",
     "output_type": "stream",
     "text": [
      "/home/lars/.local/lib/python3.6/site-packages/ipykernel_launcher.py:29: FutureWarning: `rcond` parameter will change to the default of machine precision times ``max(M, N)`` where M and N are the input matrix dimensions.\n",
      "To use the future default and silence this warning we advise to pass `rcond=None`, to keep using the old, explicitly pass `rcond=-1`.\n"
     ]
    },
    {
     "name": "stdout",
     "output_type": "stream",
     "text": [
      "[-1. -1.  1.  1. -1. -1.]\n",
      "[0.8889768 1.        1.        1.        1.        1.       ]\n",
      "[ 1.        -1.         1.        -1.         0.5727635  1.       ]\n",
      "[ 1.        -1.        -1.         1.         1.         0.7069322]\n",
      "[-1.        -1.        -1.        -1.         0.7732085  1.       ]\n",
      "[ 1. -1.  1.  1.  1.  1.]\n",
      "[-1. -1. -1. -1.  1.  1.]\n",
      "[-1. -1.  1.  1. -1. -1.]\n",
      "[-0.89511836 -1.         -1.         -1.         -1.          1.        ]\n",
      "[-1.         -1.         -1.         -1.          0.22300375  1.        ]\n",
      "[-0.9923618  -1.         -1.          0.9147315  -1.          0.23962234]\n",
      "[-0.50791603 -1.          1.          1.         -1.         -1.        ]\n",
      "[-1.         -1.         -1.          1.         -1.          0.29826295]\n",
      "[-0.5010768  -1.          1.         -1.         -1.          0.32705873]\n",
      "[-0.8017219 -1.         1.        -1.         1.        -1.       ]\n",
      "[-1. -1.  1. -1. -1.  1.]\n",
      "[-0.05138889 -1.          1.          1.          1.         -1.        ]\n",
      "[-1.         -1.          1.         -0.05243254  1.         -1.        ]\n",
      "[-1. -1.  1. -1. -1.  1.]\n",
      "[-0.5884677 -1.        -1.         1.        -1.         1.       ]\n",
      "[-1. -1.  1.  1. -1. -1.]\n"
     ]
    },
    {
     "name": "stderr",
     "output_type": "stream",
     "text": [
      "/home/lars/.local/lib/python3.6/site-packages/ipykernel_launcher.py:29: FutureWarning: `rcond` parameter will change to the default of machine precision times ``max(M, N)`` where M and N are the input matrix dimensions.\n",
      "To use the future default and silence this warning we advise to pass `rcond=None`, to keep using the old, explicitly pass `rcond=-1`.\n"
     ]
    },
    {
     "name": "stdout",
     "output_type": "stream",
     "text": [
      "[-1.        -1.        -1.         1.        -1.         0.7734146]\n",
      "[-0.26347792 -1.         -1.         -1.         -1.         -0.9272046 ]\n",
      "[-1.         -1.         -0.06830555 -1.         -0.5126204  -0.19115773]\n",
      "[-1.         -1.         -1.          1.         -0.86393666 -1.        ]\n",
      "[-1. -1.  1.  1.  1.  1.]\n",
      "[-1. -1. -1. -1. -1. -1.]\n",
      "[ 1.         -1.          1.          1.         -0.49512923  0.8112102 ]\n",
      "[ 1. -1.  1. -1. -1. -1.]\n",
      "[-0.86644375 -1.          1.         -1.         -1.          0.6742325 ]\n",
      "[ 0.94696975 -1.          1.          1.          0.4095534  -1.        ]\n",
      "[-1.         -0.32658172  1.         -1.         -1.         -0.29030585]\n",
      "[-1. -1. -1. -1. -1. -1.]\n",
      "[-1.          0.55308723  1.          1.         -1.          0.25819513]\n",
      "[-0.25080064 -0.14862013 -1.         -1.          1.          1.        ]\n",
      "[ 0.34926772 -1.         -1.          1.          0.94776225 -1.        ]\n",
      "[-0.8412645 -1.         1.        -1.        -1.         1.       ]\n",
      "[ 0.95648384 -1.          1.         -1.         -0.5624366   1.        ]\n",
      "[-0.5076006  -1.         -1.          1.         -0.72217244 -1.        ]\n",
      "[-0.06432033 -1.         -1.          1.         -1.         -1.        ]\n",
      "[-1. -1.  1.  1.  1.  1.]\n",
      "[-1. -1. -1.  1. -1. -1.]\n",
      "[-1. -1.  1. -1. -1. -1.]\n",
      "[ 1. -1.  1. -1. -1.  1.]\n",
      "[ 1.        -1.         1.        -1.        -1.         0.4355235]\n",
      "[ 0.22044 -1.       1.      -1.       1.      -1.     ]\n",
      "[ 1.  1. -1. -1. -1. -1.]\n",
      "[-1. -1. -1.  1. -1.  1.]\n",
      "[ 1. -1.  1. -1.  1. -1.]\n",
      "[-0.8583981 -1.        -1.         1.         1.         1.       ]\n",
      "[-1. -1.  1. -1.  1.  1.]\n",
      "[ 1.        -1.         1.        -1.        -1.        -0.8356739]\n",
      "[ 0.9770742  -1.          1.          1.         -0.20551455 -1.        ]\n",
      "[-0.8235793 -1.         1.         1.         1.        -1.       ]\n",
      "[ 1. -1. -1.  1. -1. -1.]\n",
      "[ 0.27563572 -1.          1.         -1.         -1.         -1.        ]\n",
      "[ 1. -1. -1.  1.  1.  1.]\n",
      "[-0.789595 -1.       -1.       -1.        1.        1.      ]\n",
      "[ 1.        -1.        -1.         1.         0.6132956  1.       ]\n",
      "[-0.88744456  1.          1.          1.          1.          1.        ]\n",
      "[ 1. -1. -1.  1. -1.  1.]\n",
      "[ 0.12434626 -1.         -1.         -1.          1.          1.        ]\n",
      "[-1. -1.  1.  1.  1.  1.]\n",
      "[-1. -1. -1. -1.  1.  1.]\n",
      "[-1. -1. -1.  1.  1.  1.]\n",
      "[ 1. -1.  1.  1. -1.  1.]\n",
      "[-1. -1. -1.  1. -1. -1.]\n",
      "[-0.89922726 -1.         -1.          1.         -1.          1.        ]\n"
     ]
    },
    {
     "name": "stderr",
     "output_type": "stream",
     "text": [
      "/home/lars/.local/lib/python3.6/site-packages/ipykernel_launcher.py:29: FutureWarning: `rcond` parameter will change to the default of machine precision times ``max(M, N)`` where M and N are the input matrix dimensions.\n",
      "To use the future default and silence this warning we advise to pass `rcond=None`, to keep using the old, explicitly pass `rcond=-1`.\n"
     ]
    },
    {
     "name": "stdout",
     "output_type": "stream",
     "text": [
      "[-0.6052409 -1.         0.2940603  1.         1.         1.       ]\n",
      "[-1.         -1.         -1.          1.         -1.         -0.37629855]\n",
      "[-1.         -0.53116906  1.          1.         -1.          1.        ]\n",
      "[ 0.70652485 -1.          1.         -1.          1.          1.        ]\n",
      "[ 1. -1. -1.  1.  1.  1.]\n",
      "[-1. -1. -1. -1. -1.  1.]\n",
      "[-1. -1.  1.  1.  1. -1.]\n",
      "[-0.38248432 -1.         -0.98406255  1.         -1.          1.        ]\n",
      "[-1.         -1.         -1.          1.          0.46201128 -1.        ]\n",
      "[-1. -1.  1.  1.  1. -1.]\n",
      "[-0.44344378 -1.          1.         -1.          1.          1.        ]\n",
      "[ 1. -1.  1.  1. -1.  1.]\n",
      "[ 0.12868452 -1.          1.          1.          0.36987144 -1.        ]\n",
      "[-1.         -1.         -1.          1.         -0.84727526 -1.        ]\n",
      "[-1.         -1.         -1.          1.         -0.46309876  1.        ]\n",
      "[-1.        -1.         1.        -1.        -0.3203978 -1.       ]\n",
      "[-1. -1. -1.  1. -1.  1.]\n",
      "[-1.         -1.          1.         -1.          0.96880937  1.        ]\n",
      "[-1. -1.  1. -1.  1.  1.]\n",
      "[ 1. -1.  1.  1.  1.  1.]\n",
      "[ 1. -1.  1. -1.  1. -1.]\n",
      "[-1. -1. -1.  1. -1.  1.]\n",
      "[ 1. -1.  1.  1. -1. -1.]\n",
      "[ 1. -1.  1. -1. -1.  1.]\n",
      "[ 1.         -1.         -0.15341306  1.         -1.          1.        ]\n",
      "[ 1. -1.  1. -1.  1.  1.]\n",
      "[-1. -1. -1. -1. -1.  1.]\n",
      "[-0.01952326 -1.         -1.          1.          1.          1.        ]\n",
      "[-0.3158157 -1.         1.        -1.        -1.        -1.       ]\n",
      "[ 1.        -1.        -1.        -1.         1.         0.9609055]\n",
      "[-1.         -1.          1.          1.         -0.24058688  1.        ]\n",
      "[ 1. -1. -1. -1. -1. -1.]\n",
      "[ 1.       -1.        1.        1.       -1.        0.969164]\n",
      "[-1.        -1.         0.5026036  1.        -1.        -1.       ]\n",
      "[-1. -1.  1. -1.  1.  1.]\n",
      "[ 1.       -1.       -1.       -1.       -1.       -0.412494]\n",
      "[-1. -1.  1. -1. -1.  1.]\n",
      "[-1.        -1.         1.        -1.        -1.         0.3014997]\n",
      "[ 1. -1. -1. -1. -1. -1.]\n",
      "[-1.          1.          1.         -1.         -0.32140768 -1.        ]\n",
      "[ 1. -1. -1. -1. -1. -1.]\n",
      "[-1. -1. -1.  1. -1.  1.]\n",
      "[ 1.       -1.        1.       -1.        0.974396 -1.      ]\n",
      "[-0.10330701 -1.          1.         -1.         -1.          1.        ]\n",
      "[-1.        -1.        -1.        -1.        -1.        -0.5562383]\n",
      "[-1.        -1.         1.         1.        -0.9609512 -1.       ]\n",
      "[-1. -1.  1. -1.  1. -1.]\n",
      "[-1. -1. -1.  1. -1. -1.]\n",
      "[ 1. -1.  1.  1. -1. -1.]\n"
     ]
    },
    {
     "name": "stderr",
     "output_type": "stream",
     "text": [
      "/home/lars/.local/lib/python3.6/site-packages/ipykernel_launcher.py:29: FutureWarning: `rcond` parameter will change to the default of machine precision times ``max(M, N)`` where M and N are the input matrix dimensions.\n",
      "To use the future default and silence this warning we advise to pass `rcond=None`, to keep using the old, explicitly pass `rcond=-1`.\n"
     ]
    },
    {
     "name": "stdout",
     "output_type": "stream",
     "text": [
      "[-1. -1.  1.  1. -1. -1.]\n",
      "[ 1. -1.  1.  1.  1. -1.]\n",
      "[-0.98910654 -1.         -1.         -1.         -1.         -0.20041275]\n",
      "[-0.18793198 -1.          1.         -1.         -1.         -0.52331185]\n"
     ]
    }
   ],
   "source": [
    "done = False\n",
    "ft_zero()\n",
    "#max_limit = 0.00075\n",
    "\n",
    "time.sleep(2.5)\n",
    "for step in range(200):\n",
    "    obs = observations\n",
    "    action = agent_marius.compute_action(obs)\n",
    "    for i in range(1):\n",
    "        dx = max_limit * action.copy()\n",
    "        print(action)\n",
    "        rot_mat = sim.data.get_body_xmat('gripper_dummy_heg')\n",
    "        dx_ = numpy.concatenate([rot_mat.dot(dx[:3]), rot_mat.dot(dx[3:])])  ## transform to right coordinate system\n",
    "        dq  = get_dq(dx_)\n",
    "        q = ctrl_q + dq\n",
    "        traj_control(q)\n",
    "        \n",
    "        observations_rec.append(observations)\n",
    "        poses_rec.append(pose)\n",
    "        ft_values_rec.append(ft_values)\n",
    "        q_rec.append(actual_q)\n",
    "        qd_rec.append(actual_qd)\n",
    "        rewards_rec.append(compute_reward(obs, goal))\n",
    "        step += 1\n",
    "    if is_success(obs) or step >= reality_horizon:\n",
    "        rewards_rec.append(R_success)\n",
    "        break\n",
    "    rate.sleep()\n",
    "\n",
    "value = step\n",
    "    \n",
    "for step in range(value+200):\n",
    "    obs = observations\n",
    "    action = agent_lars.compute_action(obs)\n",
    "    for i in range(1):\n",
    "        dx = max_limit * action.copy()\n",
    "        print(action)\n",
    "        rot_mat = sim.data.get_body_xmat('gripper_dummy_heg')\n",
    "        dx_ = numpy.concatenate([rot_mat.dot(dx[:3]), rot_mat.dot(dx[3:])])  ## transform to right coordinate system\n",
    "        dq  = get_dq(dx_)\n",
    "        q = ctrl_q + dq\n",
    "        traj_control(q)\n",
    "        \n",
    "        observations_rec.append(observations)\n",
    "        poses_rec.append(pose)\n",
    "        ft_values_rec.append(ft_values)\n",
    "        q_rec.append(actual_q)\n",
    "        qd_rec.append(actual_qd)\n",
    "        rewards_rec.append(compute_reward(obs, goal))\n",
    "        step += 1\n",
    "    if is_success(obs) or step >= reality_horizon:\n",
    "        rewards_rec.append(R_success)\n",
    "        break\n",
    "    rate.sleep()"
   ]
  },
  {
   "cell_type": "markdown",
   "metadata": {},
   "source": [
    "# !!! Save recorded Data !!!"
   ]
  },
  {
   "cell_type": "code",
   "execution_count": 26,
   "metadata": {},
   "outputs": [],
   "source": [
    "txs = []\n",
    "tys = []\n",
    "tzs = []\n",
    "rxs = []\n",
    "rys = []\n",
    "rzs = []\n",
    "fxs = []\n",
    "fys = []\n",
    "fzs = []\n",
    "txs = []\n",
    "tys = []\n",
    "tzs = []\n",
    "\n",
    "for i in range(len(observations_rec)):\n",
    "\n",
    "    txs.append(observations_rec[i][0])\n",
    "    tys.append(observations_rec[i][1])\n",
    "    tzs.append(observations_rec[i][2])\n",
    "    rxs.append(observations_rec[i][3])\n",
    "    rys.append(observations_rec[i][4])\n",
    "    rzs.append(observations_rec[i][5])\n",
    "    fxs.append(observations_rec[i][6])\n",
    "    fys.append(observations_rec[i][7])\n",
    "    fzs.append(observations_rec[i][8])\n",
    "    txs.append(observations_rec[i][9])\n",
    "    tys.append(observations_rec[i][10])\n",
    "    tzs.append(observations_rec[i][11])\n",
    "    \n",
    "recordings = {\n",
    "    \"tx\" : txs,\n",
    "    \"ty\" : tys,\n",
    "    \"tz\" : tzs,\n",
    "    \"rx\" : rxs,\n",
    "    \"ry\" : rys,\n",
    "    \"rz\" : rzs,\n",
    "    \"fx\" : fxs,\n",
    "    \"fy\" : fys,\n",
    "    \"fz\" : fzs,\n",
    "    \"tx\" : txs,\n",
    "    \"ty\" : tys,\n",
    "    \"tz\" : tzs,\n",
    "    \"Reward\" : rewards_rec\n",
    "}"
   ]
  },
  {
   "cell_type": "code",
   "execution_count": 27,
   "metadata": {},
   "outputs": [],
   "source": [
    "filename = \"{}\".format(take).zfill(4)+\"_model_{}.json\".format(model_number)\n",
    "with open(os.path.join(*[SAVE_PATH, filename]), 'w') as file:\n",
    "    json.dump(recordings, file)\n",
    "    file.close()"
   ]
  },
  {
   "cell_type": "code",
   "execution_count": 28,
   "metadata": {},
   "outputs": [
    {
     "ename": "NameError",
     "evalue": "name 'model_name' is not defined",
     "output_type": "error",
     "traceback": [
      "\u001b[0;31m---------------------------------------------------------------------------\u001b[0m",
      "\u001b[0;31mNameError\u001b[0m                                 Traceback (most recent call last)",
      "\u001b[0;32m<ipython-input-28-b58a63910729>\u001b[0m in \u001b[0;36m<module>\u001b[0;34m\u001b[0m\n\u001b[1;32m      5\u001b[0m \u001b[0mqd_rec_df\u001b[0m \u001b[0;34m=\u001b[0m \u001b[0mpandas\u001b[0m\u001b[0;34m.\u001b[0m\u001b[0mDataFrame\u001b[0m\u001b[0;34m(\u001b[0m\u001b[0mqd_rec\u001b[0m\u001b[0;34m,\u001b[0m \u001b[0mcolumns\u001b[0m\u001b[0;34m=\u001b[0m\u001b[0;34m[\u001b[0m\u001b[0;34m\"qd[0]\"\u001b[0m\u001b[0;34m,\u001b[0m \u001b[0;34m\"qd[1]\"\u001b[0m\u001b[0;34m,\u001b[0m \u001b[0;34m\"qd[2]\"\u001b[0m\u001b[0;34m,\u001b[0m \u001b[0;34m\"qd[3]\"\u001b[0m\u001b[0;34m,\u001b[0m \u001b[0;34m\"qd[4]\"\u001b[0m\u001b[0;34m,\u001b[0m \u001b[0;34m\"qd[5]\"\u001b[0m\u001b[0;34m]\u001b[0m\u001b[0;34m)\u001b[0m\u001b[0;34m\u001b[0m\u001b[0;34m\u001b[0m\u001b[0m\n\u001b[1;32m      6\u001b[0m \u001b[0mrewards_df\u001b[0m \u001b[0;34m=\u001b[0m \u001b[0mpandas\u001b[0m\u001b[0;34m.\u001b[0m\u001b[0mDataFrame\u001b[0m\u001b[0;34m(\u001b[0m\u001b[0mrewards_rec\u001b[0m\u001b[0;34m,\u001b[0m \u001b[0mcolumns\u001b[0m\u001b[0;34m=\u001b[0m\u001b[0;34m[\u001b[0m\u001b[0;34m\"Rewards\"\u001b[0m\u001b[0;34m]\u001b[0m\u001b[0;34m)\u001b[0m\u001b[0;34m\u001b[0m\u001b[0;34m\u001b[0m\u001b[0m\n\u001b[0;32m----> 7\u001b[0;31m \u001b[0minfo_df\u001b[0m \u001b[0;34m=\u001b[0m \u001b[0mpandas\u001b[0m\u001b[0;34m.\u001b[0m\u001b[0mDataFrame\u001b[0m\u001b[0;34m(\u001b[0m\u001b[0mcolumns\u001b[0m\u001b[0;34m=\u001b[0m\u001b[0;34m[\u001b[0m\u001b[0;34m'Steps'\u001b[0m\u001b[0;34m,\u001b[0m \u001b[0;34m'Reward'\u001b[0m\u001b[0;34m]\u001b[0m\u001b[0;34m,\u001b[0m \u001b[0mindex\u001b[0m\u001b[0;34m=\u001b[0m\u001b[0;34m[\u001b[0m\u001b[0mmodel_name\u001b[0m\u001b[0;34m+\u001b[0m\u001b[0;34m\"_\"\u001b[0m\u001b[0;34m+\u001b[0m\u001b[0mstr\u001b[0m\u001b[0;34m(\u001b[0m\u001b[0mtake\u001b[0m\u001b[0;34m)\u001b[0m\u001b[0;34m]\u001b[0m\u001b[0;34m)\u001b[0m\u001b[0;34m\u001b[0m\u001b[0;34m\u001b[0m\u001b[0m\n\u001b[0m\u001b[1;32m      8\u001b[0m \u001b[0;34m\u001b[0m\u001b[0m\n\u001b[1;32m      9\u001b[0m \u001b[0minfo_df\u001b[0m\u001b[0;34m.\u001b[0m\u001b[0mloc\u001b[0m\u001b[0;34m[\u001b[0m\u001b[0mmodel_name\u001b[0m\u001b[0;34m+\u001b[0m\u001b[0;34m\"_\"\u001b[0m\u001b[0;34m+\u001b[0m\u001b[0mstr\u001b[0m\u001b[0;34m(\u001b[0m\u001b[0mtake\u001b[0m\u001b[0;34m)\u001b[0m\u001b[0;34m,\u001b[0m \u001b[0;34m\"Steps\"\u001b[0m\u001b[0;34m]\u001b[0m \u001b[0;34m=\u001b[0m \u001b[0mlen\u001b[0m\u001b[0;34m(\u001b[0m\u001b[0mrewards_rec\u001b[0m\u001b[0;34m)\u001b[0m\u001b[0;34m\u001b[0m\u001b[0;34m\u001b[0m\u001b[0m\n",
      "\u001b[0;31mNameError\u001b[0m: name 'model_name' is not defined"
     ]
    }
   ],
   "source": [
    "observations_rec_df = pandas.DataFrame(observations_rec, columns=[\"pos1\", \"pos2\", \"pos3\", \"rotx\", \"roty\", \"rotz\", \"Fx\", \"Fy\", \"Fz\", \"Mx\", \"My\", \"Mz\"])\n",
    "poses_rec_df = pandas.DataFrame(poses_rec, columns=[\"tx\", \"ty\", \"tz\", \"rx\", \"ry\", \"rz\"])\n",
    "ft_values_rec_df = pandas.DataFrame(ft_values_rec, columns=[\"Fx\", \"Fy\", \"Fz\", \"Mx\", \"My\", \"Mz\"])\n",
    "q_rec_df = pandas.DataFrame(q_rec, columns=[\"q[0]\", \"q[1]\", \"q[2]\", \"q[3]\", \"q[4]\", \"q[5]\"])\n",
    "qd_rec_df = pandas.DataFrame(qd_rec, columns=[\"qd[0]\", \"qd[1]\", \"qd[2]\", \"qd[3]\", \"qd[4]\", \"qd[5]\"])\n",
    "rewards_df = pandas.DataFrame(rewards_rec, columns=[\"Rewards\"])\n",
    "info_df = pandas.DataFrame(columns=['Steps', 'Reward'], index=[model_name+\"_\"+str(take)])\n",
    "\n",
    "info_df.loc[model_name+\"_\"+str(take), \"Steps\"] = len(rewards_rec)\n",
    "info_df.loc[model_name+\"_\"+str(take), \"Reward\"] = numpy.sum(rewards_rec)\n",
    "    \n",
    "DIRECTORY = os.path.join(*[SAVE_PATH])\n",
    "observations_rec_df.to_feather(os.path.join(*[SAVE_PATH, \"{}\".format(take).zfill(4)+\"_obs.ftr\"]))\n",
    "poses_rec_df.to_feather(os.path.join(*[SAVE_PATH, \"{}\".format(take).zfill(4)+\"_pose.ftr\"]))\n",
    "ft_values_rec_df.to_feather(os.path.join(*[SAVE_PATH, \"{}\".format(take).zfill(4)+\"_ft.ftr\"]))\n",
    "q_rec_df.to_feather(os.path.join(*[SAVE_PATH, \"{}\".format(take).zfill(4)+\"_q.ftr\"]))\n",
    "qd_rec_df.to_feather(os.path.join(*[SAVE_PATH, \"{}\".format(take).zfill(4)+\"_qd.ftr\"]))\n",
    "rewards_df.to_feather(os.path.join(*[SAVE_PATH, \"{}\".format(take).zfill(4)+\"_reward.ftr\"]))\n",
    "info_df = info_df.reset_index()\n",
    "info_df.to_feather(os.path.join(*[SAVE_PATH, \"{}\".format(take).zfill(4)+\"_info.ftr\"]))"
   ]
  },
  {
   "cell_type": "markdown",
   "metadata": {},
   "source": [
    "# --- Visualize the Data with Visualize_Hardware_Tests.ipynb ---"
   ]
  }
 ],
 "metadata": {
  "kernelspec": {
   "display_name": "Python 3",
   "language": "python",
   "name": "python3"
  },
  "language_info": {
   "codemirror_mode": {
    "name": "ipython",
    "version": 3
   },
   "file_extension": ".py",
   "mimetype": "text/x-python",
   "name": "python",
   "nbconvert_exporter": "python",
   "pygments_lexer": "ipython3",
   "version": "3.6.9"
  }
 },
 "nbformat": 4,
 "nbformat_minor": 4
}
