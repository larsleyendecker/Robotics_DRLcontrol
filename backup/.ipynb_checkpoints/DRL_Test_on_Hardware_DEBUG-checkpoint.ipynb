{
 "cells": [
  {
   "cell_type": "code",
   "execution_count": 1,
   "metadata": {},
   "outputs": [],
   "source": [
    "take = 0"
   ]
  },
  {
   "cell_type": "markdown",
   "metadata": {
    "scrolled": true
   },
   "source": [
    "# Description"
   ]
  },
  {
   "cell_type": "markdown",
   "metadata": {},
   "source": [
    "Script to run the agent on the hardware\n",
    "\n",
    "0. Description\n",
    "1. Imports\n",
    "2. Paths\n",
    "3. Configuration\n",
    "4. Functions\n",
    "5. Creation\n",
    "6. Run on Hardware\n",
    "7. Save recorded Data\n"
   ]
  },
  {
   "cell_type": "markdown",
   "metadata": {},
   "source": [
    "# Specification"
   ]
  },
  {
   "cell_type": "code",
   "execution_count": 2,
   "metadata": {},
   "outputs": [],
   "source": [
    "dt = 0.1\n",
    "model_number = 999\n",
    "max_limit = 0.0001\n",
    "R1 = 1\n",
    "R2 = 0.005\n",
    "R_success = 400\n",
    "reality_distance_threshold = 0.0075\n",
    "\n",
    "reality_horizon = 2500"
   ]
  },
  {
   "cell_type": "markdown",
   "metadata": {},
   "source": [
    "# Imports"
   ]
  },
  {
   "cell_type": "code",
   "execution_count": 3,
   "metadata": {
    "scrolled": true
   },
   "outputs": [
    {
     "name": "stderr",
     "output_type": "stream",
     "text": [
      "In /home/lars/.local/lib/python3.6/site-packages/matplotlib/mpl-data/stylelib/_classic_test.mplstyle: \n",
      "The text.latex.preview rcparam was deprecated in Matplotlib 3.3 and will be removed two minor releases later.\n",
      "In /home/lars/.local/lib/python3.6/site-packages/matplotlib/mpl-data/stylelib/_classic_test.mplstyle: \n",
      "The mathtext.fallback_to_cm rcparam was deprecated in Matplotlib 3.3 and will be removed two minor releases later.\n",
      "In /home/lars/.local/lib/python3.6/site-packages/matplotlib/mpl-data/stylelib/_classic_test.mplstyle: Support for setting the 'mathtext.fallback_to_cm' rcParam is deprecated since 3.3 and will be removed two minor releases later; use 'mathtext.fallback : 'cm' instead.\n",
      "In /home/lars/.local/lib/python3.6/site-packages/matplotlib/mpl-data/stylelib/_classic_test.mplstyle: \n",
      "The validate_bool_maybe_none function was deprecated in Matplotlib 3.3 and will be removed two minor releases later.\n",
      "In /home/lars/.local/lib/python3.6/site-packages/matplotlib/mpl-data/stylelib/_classic_test.mplstyle: \n",
      "The savefig.jpeg_quality rcparam was deprecated in Matplotlib 3.3 and will be removed two minor releases later.\n",
      "In /home/lars/.local/lib/python3.6/site-packages/matplotlib/mpl-data/stylelib/_classic_test.mplstyle: \n",
      "The keymap.all_axes rcparam was deprecated in Matplotlib 3.3 and will be removed two minor releases later.\n",
      "In /home/lars/.local/lib/python3.6/site-packages/matplotlib/mpl-data/stylelib/_classic_test.mplstyle: \n",
      "The animation.avconv_path rcparam was deprecated in Matplotlib 3.3 and will be removed two minor releases later.\n",
      "In /home/lars/.local/lib/python3.6/site-packages/matplotlib/mpl-data/stylelib/_classic_test.mplstyle: \n",
      "The animation.avconv_args rcparam was deprecated in Matplotlib 3.3 and will be removed two minor releases later.\n",
      "/home/lars/.local/lib/python3.6/site-packages/tensorflow/python/framework/dtypes.py:516: FutureWarning: Passing (type, 1) or '1type' as a synonym of type is deprecated; in a future version of numpy, it will be understood as (type, (1,)) / '(1,)type'.\n",
      "  _np_qint8 = np.dtype([(\"qint8\", np.int8, 1)])\n",
      "/home/lars/.local/lib/python3.6/site-packages/tensorflow/python/framework/dtypes.py:517: FutureWarning: Passing (type, 1) or '1type' as a synonym of type is deprecated; in a future version of numpy, it will be understood as (type, (1,)) / '(1,)type'.\n",
      "  _np_quint8 = np.dtype([(\"quint8\", np.uint8, 1)])\n",
      "/home/lars/.local/lib/python3.6/site-packages/tensorflow/python/framework/dtypes.py:518: FutureWarning: Passing (type, 1) or '1type' as a synonym of type is deprecated; in a future version of numpy, it will be understood as (type, (1,)) / '(1,)type'.\n",
      "  _np_qint16 = np.dtype([(\"qint16\", np.int16, 1)])\n",
      "/home/lars/.local/lib/python3.6/site-packages/tensorflow/python/framework/dtypes.py:519: FutureWarning: Passing (type, 1) or '1type' as a synonym of type is deprecated; in a future version of numpy, it will be understood as (type, (1,)) / '(1,)type'.\n",
      "  _np_quint16 = np.dtype([(\"quint16\", np.uint16, 1)])\n",
      "/home/lars/.local/lib/python3.6/site-packages/tensorflow/python/framework/dtypes.py:520: FutureWarning: Passing (type, 1) or '1type' as a synonym of type is deprecated; in a future version of numpy, it will be understood as (type, (1,)) / '(1,)type'.\n",
      "  _np_qint32 = np.dtype([(\"qint32\", np.int32, 1)])\n",
      "/home/lars/.local/lib/python3.6/site-packages/tensorflow/python/framework/dtypes.py:525: FutureWarning: Passing (type, 1) or '1type' as a synonym of type is deprecated; in a future version of numpy, it will be understood as (type, (1,)) / '(1,)type'.\n",
      "  np_resource = np.dtype([(\"resource\", np.ubyte, 1)])\n",
      "/home/lars/.local/lib/python3.6/site-packages/tensorboard/compat/tensorflow_stub/dtypes.py:541: FutureWarning: Passing (type, 1) or '1type' as a synonym of type is deprecated; in a future version of numpy, it will be understood as (type, (1,)) / '(1,)type'.\n",
      "  _np_qint8 = np.dtype([(\"qint8\", np.int8, 1)])\n",
      "/home/lars/.local/lib/python3.6/site-packages/tensorboard/compat/tensorflow_stub/dtypes.py:542: FutureWarning: Passing (type, 1) or '1type' as a synonym of type is deprecated; in a future version of numpy, it will be understood as (type, (1,)) / '(1,)type'.\n",
      "  _np_quint8 = np.dtype([(\"quint8\", np.uint8, 1)])\n",
      "/home/lars/.local/lib/python3.6/site-packages/tensorboard/compat/tensorflow_stub/dtypes.py:543: FutureWarning: Passing (type, 1) or '1type' as a synonym of type is deprecated; in a future version of numpy, it will be understood as (type, (1,)) / '(1,)type'.\n",
      "  _np_qint16 = np.dtype([(\"qint16\", np.int16, 1)])\n",
      "/home/lars/.local/lib/python3.6/site-packages/tensorboard/compat/tensorflow_stub/dtypes.py:544: FutureWarning: Passing (type, 1) or '1type' as a synonym of type is deprecated; in a future version of numpy, it will be understood as (type, (1,)) / '(1,)type'.\n",
      "  _np_quint16 = np.dtype([(\"quint16\", np.uint16, 1)])\n",
      "/home/lars/.local/lib/python3.6/site-packages/tensorboard/compat/tensorflow_stub/dtypes.py:545: FutureWarning: Passing (type, 1) or '1type' as a synonym of type is deprecated; in a future version of numpy, it will be understood as (type, (1,)) / '(1,)type'.\n",
      "  _np_qint32 = np.dtype([(\"qint32\", np.int32, 1)])\n",
      "/home/lars/.local/lib/python3.6/site-packages/tensorboard/compat/tensorflow_stub/dtypes.py:550: FutureWarning: Passing (type, 1) or '1type' as a synonym of type is deprecated; in a future version of numpy, it will be understood as (type, (1,)) / '(1,)type'.\n",
      "  np_resource = np.dtype([(\"resource\", np.ubyte, 1)])\n"
     ]
    }
   ],
   "source": [
    "# General imports\n",
    "import os\n",
    "import time\n",
    "import datetime\n",
    "from os.path import expanduser\n",
    "import pandas\n",
    "import pickle\n",
    "import json\n",
    "import numpy\n",
    "from matplotlib import pyplot as plt\n",
    "\n",
    "# rllib imports\n",
    "import ray\n",
    "import ray.rllib.agents.ppo as ppo\n",
    "from ray.tune.registry import get_trainable_cls\n",
    "from ray.tune.registry import register_env\n",
    "from ray.rllib.env import MultiAgentEnv\n",
    "from ray.rllib.env.base_env import _DUMMY_AGENT_ID\n",
    "from ray.rllib.evaluation.worker_set import WorkerSet\n",
    "from ray.rllib.policy.sample_batch import DEFAULT_POLICY_ID\n",
    "from ray.rllib.utils.deprecation import deprecation_warning\n",
    "\n",
    "# Gym imports\n",
    "from gym.envs.robotics.ur10 import randomize\n",
    "from gym.envs.robotics import ur10_noisy_pd_env_mh\n",
    "from gym import utils\n",
    "from gym.envs.robotics import rotations, robot_custom_env_mh, utils\n",
    "from gym.envs.robotics import ur10_force_env_3\n",
    "from gym.envs.robotics import ur10_force_env\n",
    "\n",
    "# MuJoCo imports\n",
    "import mujoco_py\n",
    "\n",
    "# ROS imports\n",
    "import rospy\n",
    "from sensor_msgs.msg import JointState\n",
    "from std_msgs.msg import Float64MultiArray\n",
    "from std_msgs.msg import String\n",
    "from geometry_msgs.msg import WrenchStamped\n",
    "from trajectory_msgs.msg import JointTrajectory, JointTrajectoryPoint\n",
    "from realsense2_camera.msg import CustomVector\n",
    "from realsense2_camera.msg import EstimatedPose"
   ]
  },
  {
   "cell_type": "markdown",
   "metadata": {},
   "source": [
    "# Paths"
   ]
  },
  {
   "cell_type": "code",
   "execution_count": 4,
   "metadata": {},
   "outputs": [],
   "source": [
    "HOME_PATH = os.getenv(\"HOME\")\n",
    "PROJECT_PATH = os.path.join(*[HOME_PATH, \"DRL_AI4RoMoCo\"])\n",
    "SAVE_PATH = os.path.join(*[PROJECT_PATH, \"code\", \"data\",\"TEST_Reality\"])\n",
    "XML_MODEL_PATH = os.path.join(*[HOME_PATH, \"DRL_AI4RoMoCo\", \"code\", \"environment\",\"UR10_single\",\"ur10_heg.xml\"])\n",
    "\n",
    "env_config = \"env_config_001_333.yml\"\n",
    "checkpoint_number = 400\n",
    "model = \"PPO_ForceEnv3_0_2020-09-11_15-51-10br6tl58u\"\n",
    "\n",
    "ENV_CONFIG = os.path.join(*[HOME_PATH, \"AGENT_TESTS\", env_config])\n",
    "#ENV_CONFIG = os.path.join(*[HOME_PATH, \"AGENT_TESTS\", \"PPO_ForceEnv_0_2020-09-10_15-29-51_j1bhegb\", config])"
   ]
  },
  {
   "cell_type": "code",
   "execution_count": 5,
   "metadata": {},
   "outputs": [],
   "source": [
    "with open(os.path.join(*[HOME_PATH, \"AGENT_TESTS\", \"NoisyVaryEnv_Actions\", \"episode_2.txt\"]), \"rb\") as infile:\n",
    "    actions = pickle.load(infile)"
   ]
  },
  {
   "cell_type": "code",
   "execution_count": 6,
   "metadata": {},
   "outputs": [
    {
     "data": {
      "text/plain": [
       "338"
      ]
     },
     "execution_count": 6,
     "metadata": {},
     "output_type": "execute_result"
    }
   ],
   "source": [
    "len(actions)"
   ]
  },
  {
   "cell_type": "markdown",
   "metadata": {},
   "source": [
    "# Configuration"
   ]
  },
  {
   "cell_type": "markdown",
   "metadata": {},
   "source": [
    "Hardware - Environment (ROS)"
   ]
  },
  {
   "cell_type": "code",
   "execution_count": 7,
   "metadata": {},
   "outputs": [],
   "source": [
    "actual_q = numpy.zeros(6,)\n",
    "ft_values = numpy.zeros(6,)"
   ]
  },
  {
   "cell_type": "markdown",
   "metadata": {},
   "source": [
    "Simulation - Environment (MuJoCo, Gym)"
   ]
  },
  {
   "cell_type": "code",
   "execution_count": 8,
   "metadata": {},
   "outputs": [
    {
     "name": "stdout",
     "output_type": "stream",
     "text": [
      "[ 0.69423743 -0.83110109  1.17388998 -1.57161506  0.02185773 -3.14102438]\n"
     ]
    }
   ],
   "source": [
    "goal = numpy.array([0.69423743, -0.83110109,  1.17388998, -1.57161506,  0.02185773, -3.14102438])\n",
    "reward_type = \"dense\"\n",
    "distance_threshold = 0.002\n",
    "fail_threshold = 0.25\n",
    "punish_force = False\n",
    "punish_force_thresh = 20\n",
    "punish_force_factor = 0.001\n",
    "print(goal)"
   ]
  },
  {
   "cell_type": "code",
   "execution_count": 9,
   "metadata": {},
   "outputs": [],
   "source": [
    "initial_qpos_simpheg_conf2 = numpy.array([0, -1.3, 2.1, -0.80, 1.5708, 0])\n",
    "randomize_kwargs = {\n",
    "    'var_mass':     0,#0.5,\n",
    "    'var_damp':     0,#0.5,\n",
    "    'var_fr':       0,#0.5,\n",
    "    'var_grav_x_y': 0,#0.5,\n",
    "    'var_grav_z':   0,#1,\n",
    "    'var_body_pos': 0,#0.05,\n",
    "    'var_body_rot': 0,\n",
    "}"
   ]
  },
  {
   "cell_type": "markdown",
   "metadata": {},
   "source": [
    "Agent (ray, tune, rllib)"
   ]
  },
  {
   "cell_type": "code",
   "execution_count": 10,
   "metadata": {},
   "outputs": [],
   "source": [
    "checkpoint_model1 = os.path.join(*[HOME_PATH, \"DRL_SetBot-RearVentilation\", \"final_models\",\n",
    "                            \"model1\", \"checkpoint-2120\"])\n",
    "checkpoint_model2 = os.path.join(*[HOME_PATH, \"DRL_SetBot-RearVentilation\", \"final_models\",\n",
    "                            \"model2\", \"checkpoint-3440\"])\n",
    "checkpoint_model3 = os.path.join(*[HOME_PATH, \"DRL_SetBot-RearVentilation\", \"final_models\",\n",
    "                            \"model3\", \"checkpoint-3030\"])\n",
    "checkpoint_model4 = os.path.join(*[HOME_PATH, \"DRL_SetBot-RearVentilation\", \"final_models\",\n",
    "                            \"model4\", \"checkpoint-3590\"])\n",
    "checkpoint_model5 = os.path.join(*[HOME_PATH, \"DRL_SetBot-RearVentilation\", \"final_models\",\n",
    "                            \"model5\", \"checkpoint-4410\"])\n",
    "#checkpoint_lars = os.path.join(*[HOME_PATH, \"realsense_ws\", \"MODELS\", \"RandForceEnv_2\", \"agent\", \"checkpoint_12750\", \"checkpoint-12750\"])\n",
    "#checkpoint_lars = os.path.join(*[HOME_PATH, \"AGENT_TESTS\", \"PPO_ForceEnv_0_2020-09-10_15-29-51_j1bhegb\", \"checkpoint_575\", \"checkpoint-575\"])\n",
    "#checkpoint_lars = os.path.join(*[HOME_PATH, \"AGENT_TESTS\", \"PPO_RandForceEnv3_0_2020-09-10_00-34-348xmk8dxt\", \"checkpoint_1600\", \"checkpoint-1600\"])\n",
    "#checkpoint_lars = os.path.join(*[HOME_PATH, \"AGENT_TESTS\", \"RandForceEnv\", \"checkpoint_12750\", \"checkpoint-12750\"])\n",
    "#checkpoint_lars = os.path.join(*[HOME_PATH, \"AGENT_TESTS\", model, \"checkpoint_{}\".format(checkpoint_number), \"checkpoint-{}\".format(checkpoint_number)])\n",
    "checkpoint_lars = os.path.join(*[HOME_PATH, \"AGENT_TESTS\", \"PPO_NoisyVaryEnv_0_2020-09-15_13-53-11d046bzlf\", \"checkpoint_2675\", \"checkpoint-2675\"])\n",
    "\n",
    "#checkpoint_lars = checkpoint_model4    # Gutes Modell\n"
   ]
  },
  {
   "cell_type": "code",
   "execution_count": 11,
   "metadata": {},
   "outputs": [
    {
     "data": {
      "text/plain": [
       "'/home/lars/AGENT_TESTS/PPO_NoisyVaryEnv_0_2020-09-15_13-53-11d046bzlf/checkpoint_2675/checkpoint-2675'"
      ]
     },
     "execution_count": 11,
     "metadata": {},
     "output_type": "execute_result"
    }
   ],
   "source": [
    "def update_checkpoint_for_rollout(checkpoint_path):\n",
    "    with open(checkpoint_path, \"rb\") as f:\n",
    "        extra_data = pickle.load(f)\n",
    "    if not \"trainer_state\" in extra_data:\n",
    "        extra_data[\"trainer_state\"] = {}\n",
    "        with open(checkpoint_path, 'wb') as f:\n",
    "            pickle.dump(extra_data, f)\n",
    "\n",
    "checkpoint = checkpoint_lars\n",
    "update_checkpoint_for_rollout(checkpoint)\n",
    "checkpoint"
   ]
  },
  {
   "cell_type": "code",
   "execution_count": 12,
   "metadata": {},
   "outputs": [
    {
     "name": "stdout",
     "output_type": "stream",
     "text": [
      "Config found!\n"
     ]
    }
   ],
   "source": [
    "config = {}\n",
    "    # Load configuration from checkpoint file.\n",
    "config_dir = os.path.dirname(checkpoint)\n",
    "config_path = os.path.join(config_dir, \"params.pkl\")\n",
    "# Try parent directory.\n",
    "if not os.path.exists(config_path):\n",
    "    config_path = os.path.join(config_dir, \"../params.pkl\")\n",
    "if os.path.exists(config_path):\n",
    "    print(\"Config found!\")\n",
    "    with open(config_path, \"rb\") as f:\n",
    "            config = pickle.load(f)\n",
    "            \n",
    "config['num_workers'] = 2\n",
    "config['num_gpus'] = 1"
   ]
  },
  {
   "cell_type": "code",
   "execution_count": 13,
   "metadata": {},
   "outputs": [
    {
     "data": {
      "text/plain": [
       "{'env': 'NoisyVaryEnv',\n",
       " 'seed': 1794,\n",
       " 'num_workers': 2,\n",
       " 'num_envs_per_worker': 1,\n",
       " 'num_gpus': 1,\n",
       " 'gamma': 0.99,\n",
       " 'lr': 0.0003,\n",
       " 'horizon': 500,\n",
       " 'soft_horizon': False,\n",
       " 'train_batch_size': 11500,\n",
       " 'callbacks': {'on_episode_start': None,\n",
       "  'on_episode_step': None,\n",
       "  'on_episode_end': None,\n",
       "  'on_postprocess_traj': None},\n",
       " 'model': {'use_lstm': False,\n",
       "  'lstm_cell_size': 128,\n",
       "  'fcnet_hiddens': [256, 256]},\n",
       " 'tf_session_args': {'allow_soft_placement': True}}"
      ]
     },
     "execution_count": 13,
     "metadata": {},
     "output_type": "execute_result"
    }
   ],
   "source": [
    "config"
   ]
  },
  {
   "cell_type": "markdown",
   "metadata": {},
   "source": [
    "# Functions"
   ]
  },
  {
   "cell_type": "markdown",
   "metadata": {},
   "source": [
    "Helper Functions"
   ]
  },
  {
   "cell_type": "code",
   "execution_count": 14,
   "metadata": {},
   "outputs": [],
   "source": [
    "def normalize_rad(angles):\n",
    "    angles = numpy.array(angles)\n",
    "    angles = angles % (2*numpy.pi)\n",
    "    angles = (angles + 2*numpy.pi) % (2*numpy.pi)\n",
    "    for i in range(len(angles)):\n",
    "        if (angles[i] > numpy.pi):\n",
    "            angles[i] -= 2*numpy.pi\n",
    "    return angles\n",
    "\n",
    "def get_obs():\n",
    "    set_state(actual_q)\n",
    "    for i in range(10):\n",
    "        viewer.render()\n",
    "    #print(ft_values)\n",
    "    x_pos = sim.data.get_body_xpos(\"gripper_dummy_heg\")\n",
    "    x_mat = sim.data.get_body_xmat(\"gripper_dummy_heg\")\n",
    "    rpy =  normalize_rad(rotations.mat2euler(x_mat))\n",
    "    #print(x_pos, rpy)\n",
    "\n",
    "    obs = numpy.concatenate([\n",
    "                x_mat.dot(x_pos-goal[:3]), x_mat.dot(normalize_rad(rpy-goal[3:])), ft_values.copy()\n",
    "            ])\n",
    "    return obs\n",
    "\n",
    "def get_dq(dx):\n",
    "    jacp = sim.data.get_body_jacp(name=\"gripper_dummy_heg\").reshape(3, 6)\n",
    "    jacr = sim.data.get_body_jacr(name=\"gripper_dummy_heg\").reshape(3, 6)\n",
    "    jac = numpy.vstack((jacp, jacr))\n",
    "    dq = numpy.linalg.lstsq(jac, dx)[0].reshape(6, )\n",
    "    return dq\n",
    "\n",
    "def go_smooth(q):\n",
    "    rate = rospy.Rate(125)\n",
    "    dq = q - actual_q\n",
    "    while numpy.linalg.norm(dq)>0.005:\n",
    "        dq = q - actual_q\n",
    "        dq_ = numpy.clip(dq, -0.0001, 0.0001)\n",
    "        control(ctrl_q+dq_)\n",
    "        rate.sleep()\n",
    "    control(q)\n",
    "    \n",
    "def set_state(qpos):\n",
    "    #assert qpos.shape == (model.nq,)\n",
    "    old_state = sim.get_state()\n",
    "    new_state = mujoco_py.MjSimState(old_state.time, qpos, old_state.qvel,\n",
    "                                     old_state.act, old_state.udd_state)\n",
    "    sim.set_state(new_state)\n",
    "    sim.forward()\n",
    "    \n",
    "def keep_going(steps, num_steps, episodes, num_episodes):\n",
    "    \"\"\"Determine whether we've collected enough data\"\"\"\n",
    "    # if num_episodes is set, this overrides num_steps\n",
    "    if num_episodes:\n",
    "        return episodes < num_episodes\n",
    "    # if num_steps is set, continue until we reach the limit\n",
    "    if num_steps:\n",
    "        return steps < num_steps\n",
    "    # otherwise keep going forever\n",
    "    return True"
   ]
  },
  {
   "cell_type": "markdown",
   "metadata": {},
   "source": [
    "ROS"
   ]
  },
  {
   "cell_type": "code",
   "execution_count": 15,
   "metadata": {},
   "outputs": [],
   "source": [
    "# ROS callback functions\n",
    "def q_callback(data):\n",
    "    '''Callback for the joint angles, velocities and accelerations'''\n",
    "    global actual_q\n",
    "    global actual_qd\n",
    "    global actual_qdd\n",
    "    actual_q = numpy.array(data.position)[[2,1,0,3,4,5]]\n",
    "    actual_qd = numpy.array(data.velocity)[[2,1,0,3,4,5]]\n",
    "    actual_qdd = numpy.array(data.effort)[[2,1,0,3,4,5]]\n",
    "    set_state(actual_q)\n",
    "    viewer.render()\n",
    "    \n",
    "def ft_callback(data):\n",
    "    '''Callback for the Robotiq FT300 force torque values'''\n",
    "    global ft_values\n",
    "    ft_values = 1 * numpy.array([data.wrench.force.x, data.wrench.force.y, data.wrench.force.z, data.wrench.torque.x, \\\n",
    "                            data.wrench.torque.y, data.wrench.torque.z])\n",
    "    \n",
    "def pose_callback(data):\n",
    "    '''Callback for the Intel Realsense D435i and OpenCV charuco pose estimation'''\n",
    "    global pose\n",
    "    pose = numpy.array([data.tx, data.ty, data.tz, data.rx, data.ry, data.rz])\n",
    "    \n",
    "def observation_callback(data):\n",
    "    '''Callback for the entire observation array (same as in simulation)'''\n",
    "    global observations\n",
    "    observations = numpy.array(data.data)\n",
    "    \n",
    "def check_ROS_topics():\n",
    "    '''Listens to all required ROS topics and checks if each of them is online and sending'''\n",
    "    check_jointstates = []\n",
    "    check_ft300_force_torque = []\n",
    "    check_observations = []\n",
    "    check_pose_estimation = []\n",
    "    \n",
    "    for i in range(5):\n",
    "        check_jointstates.append(actual_q)\n",
    "        check_ft300_force_torque.append(ft_values)\n",
    "        check_observations.append(observations)\n",
    "        check_pose_estimation.append(pose)\n",
    "        time.sleep(0.5)\n",
    "        \n",
    "    topics = [\"/joint_states\", \"/ft300_force_torque\", \"/observation\", \"/pose_estimation\"]\n",
    "    topics_dict = {\n",
    "        \"/joint_states\" : check_jointstates,\n",
    "        \"/ft300_force_torque\" : check_ft300_force_torque,\n",
    "        \"/observation\" : check_observations,\n",
    "        \"/pose_estimation\" : check_pose_estimation\n",
    "    }\n",
    "    \n",
    "    for topic in topics:\n",
    "        if not topics_dict[topic]:\n",
    "            print(\"ERROR: {} is offline or not sending\".format(topic))\n",
    "        else:\n",
    "            print(\"SUCCESS: {} is online and sending\".format(topic))"
   ]
  },
  {
   "cell_type": "code",
   "execution_count": 16,
   "metadata": {},
   "outputs": [],
   "source": [
    "def goal_distance(obs, goal):\n",
    "    '''Compute distance between TCP and Goal'''\n",
    "    obs = obs[:6]\n",
    "    assert obs.shape == goal.shape\n",
    "    return numpy.linalg.norm(obs*numpy.array([1, 1, 1, 0.3, 0.3, 0.3]), axis=-1)\n",
    "\n",
    "def compute_reward(obs, goal):\n",
    "    d = goal_distance(obs,goal)\n",
    "    f = numpy.absolute(obs[7]) + numpy.absolute(obs[8]) + numpy.absolute(obs[9])\n",
    "    rew = R1 * (-d) + R2 *(-f)\n",
    "    return rew\n",
    "'''\n",
    "def is_success(obs, goal):\n",
    "    d = goal_distance(obs,goal)\n",
    "    if d < distance_threshold:\n",
    "        return True\n",
    "    else:\n",
    "        return False\n",
    "'''\n",
    "def is_success(obs):\n",
    "    distance = numpy.absolute(obs[0]) + numpy.absolute(obs[1]) + numpy.absolute(obs[2])\n",
    "    if distance < reality_distance_threshold:\n",
    "        return True\n",
    "    else:\n",
    "        return False"
   ]
  },
  {
   "cell_type": "code",
   "execution_count": 17,
   "metadata": {},
   "outputs": [],
   "source": [
    "# ROS control commands\n",
    "def control(q):\n",
    "    '''Controlling the Universal Robot UR10 JointGroupPositionController'''\n",
    "    global ctrl_q\n",
    "    command = Float64MultiArray()\n",
    "    command.data = q\n",
    "    control_publisher.publish(command)\n",
    "    ctrl_q = q.copy()\n",
    "    \n",
    "def traj_control(q):\n",
    "    #dt = 0.025\n",
    "    global ctrl_q\n",
    "    command = JointTrajectory()\n",
    "    point = JointTrajectoryPoint()\n",
    "    \n",
    "    #command.header.stamp = rospy.Time.now()\n",
    "    #command.header.frame_id = \"DRL_UR10\"\n",
    "    #command.joint_names = [\"elbow_joint\", \"shoulder_lift_joint\", \"shoulder_pan_joint\", \"wrist_1_joint\", \"wrist_2_joint\", \"wrist_3_joint\"]\n",
    "    \n",
    "    #command.header.stamp = rospy.Time.now()\n",
    "    command.header.frame_id = \"DRL_UR10\"\n",
    "    command.joint_names.append(\"shoulder_pan_joint\")\n",
    "    command.joint_names.append(\"shoulder_lift_joint\")\n",
    "    command.joint_names.append(\"elbow_joint\")\n",
    "    command.joint_names.append(\"wrist_1_joint\")\n",
    "    command.joint_names.append(\"wrist_2_joint\")\n",
    "    command.joint_names.append(\"wrist_3_joint\")\n",
    "    \n",
    "\n",
    "    point.positions.append(q[0])\n",
    "    point.positions.append(q[1])\n",
    "    point.positions.append(q[2])\n",
    "    point.positions.append(q[3])\n",
    "    point.positions.append(q[4])\n",
    "    point.positions.append(q[5])\n",
    "    \n",
    "    command.points.append(point)\n",
    "    command.points[0].time_from_start=rospy.Duration.from_sec(dt)\n",
    "    \n",
    "    traj_control_publisher.publish(command)\n",
    "    ctrl_q = q.copy()\n",
    "    \n",
    "def static_approach():\n",
    "    \n",
    "    waypoint0 = numpy.array([1.6256170272827148, -0.9155753294574183, 1.5307668447494507, -0.6977546850787562, 1.5475375652313232, 0.011224725283682346])[[2,1,0,3,4,5]]\n",
    "    waypoint1 = numpy.array([2.47381329536438, -1.4324410597430628, 1.5743204355239868, -1.0292657057391565, 1.5910834074020386, 0.011859889142215252])[[2,1,0,3,4,5]]\n",
    "    waypoint2 = numpy.array([2.519468069076538, -1.6841238180743616, 0.13313426077365875, -0.8226664702044886, 1.7688652276992798, 0.014099815860390663])[[2,1,0,3,4,5]]\n",
    "    waypoint3 = numpy.array([2.1001405715942383, -1.3000262419330042, 7.190534961409867e-05, -0.7999804655658167, 1.5709056854248047, -3.5587941304981996e-05])[[2,1,0,3,4,5]]\n",
    "    \n",
    "    dt_static = 2\n",
    "    command = JointTrajectory()\n",
    "    point0 = JointTrajectoryPoint()\n",
    "    point1 = JointTrajectoryPoint()\n",
    "    point2 = JointTrajectoryPoint()\n",
    "    point3 = JointTrajectoryPoint()\n",
    "    \n",
    "    command.header.stamp = rospy.Time.now()\n",
    "    command.header.frame_id = \"DRL_UR10\"\n",
    "    command.joint_names.append(\"shoulder_pan_joint\")\n",
    "    command.joint_names.append(\"shoulder_lift_joint\")\n",
    "    command.joint_names.append(\"elbow_joint\")\n",
    "    command.joint_names.append(\"wrist_1_joint\")\n",
    "    command.joint_names.append(\"wrist_2_joint\")\n",
    "    command.joint_names.append(\"wrist_3_joint\")\n",
    "    \n",
    "    point0.positions.append(waypoint0[0])\n",
    "    point0.positions.append(waypoint0[1])\n",
    "    point0.positions.append(waypoint0[2])\n",
    "    point0.positions.append(waypoint0[3])\n",
    "    point0.positions.append(waypoint0[4])\n",
    "    point0.positions.append(waypoint0[5])\n",
    "    \n",
    "    #command.points.append(point0)\n",
    "    \n",
    "    point1.positions.append(waypoint1[0])\n",
    "    point1.positions.append(waypoint1[1])\n",
    "    point1.positions.append(waypoint1[2])\n",
    "    point1.positions.append(waypoint1[3])\n",
    "    point1.positions.append(waypoint1[4])\n",
    "    point1.positions.append(waypoint1[5])\n",
    "    \n",
    "    command.points.append(point1)\n",
    "    command.points[0].time_from_start=rospy.Duration.from_sec(dt_static)\n",
    "    \n",
    "    point2.positions.append(waypoint2[0])\n",
    "    point2.positions.append(waypoint2[1])\n",
    "    point2.positions.append(waypoint2[2])\n",
    "    point2.positions.append(waypoint2[3])\n",
    "    point2.positions.append(waypoint2[4])\n",
    "    point2.positions.append(waypoint2[5])\n",
    "    \n",
    "    command.points.append(point2)\n",
    "    command.points[1].time_from_start=rospy.Duration.from_sec(2*dt_static)\n",
    "    \n",
    "    point3.positions.append(waypoint3[0])\n",
    "    point3.positions.append(waypoint3[1])\n",
    "    point3.positions.append(waypoint3[2])\n",
    "    point3.positions.append(waypoint3[3])\n",
    "    point3.positions.append(waypoint3[4])\n",
    "    point3.positions.append(waypoint3[5])\n",
    "    \n",
    "    command.points.append(point3)\n",
    "    command.points[2].time_from_start=rospy.Duration.from_sec(2.5*dt_static)\n",
    "    \n",
    "    traj_control_publisher.publish(command)\n",
    "    \n",
    "def ft_zero():\n",
    "    '''Zeroes the Robotiq FT300 force torque sensor by sending an ur_script via UR Secondary Interface'''\n",
    "    zero_sensor_urscript = 'sec ft_set_zero():' + '\\n' + '\\t' + 'if(socket_open(\"127.0.0.1\", 63350, \"acc\")):' \\\n",
    "          + '\\n' + '\\t' + '\\t' + 'socket_send_string(\"SET ZRO\", \"acc\")' \\\n",
    "         + '\\n' + '\\t' + '\\t' + 'socket_close(\"acc\")' + '\\n' + '\\t' + 'end' + '\\n' + 'end' + '\\n'\n",
    "    ft_zero_publisher.publish(zero_sensor_urscript)"
   ]
  },
  {
   "cell_type": "markdown",
   "metadata": {},
   "source": [
    "# Creation"
   ]
  },
  {
   "cell_type": "markdown",
   "metadata": {},
   "source": [
    "Simulation Environment (Gym)"
   ]
  },
  {
   "cell_type": "code",
   "execution_count": 18,
   "metadata": {},
   "outputs": [
    {
     "name": "stdout",
     "output_type": "stream",
     "text": [
      "Creating window glfw\n"
     ]
    }
   ],
   "source": [
    "model = mujoco_py.load_model_from_path(XML_MODEL_PATH)\n",
    "sim = mujoco_py.MjSim(model)\n",
    "q_init = numpy.array([0, -1.3, 2.1, -0.80, 1.5708, 0.0])\n",
    "\n",
    "ctrl_q = q_init\n",
    "set_state(q_init)\n",
    "\n",
    "viewer = mujoco_py.MjViewer(sim)\n",
    "viewer.render()"
   ]
  },
  {
   "cell_type": "code",
   "execution_count": 19,
   "metadata": {},
   "outputs": [
    {
     "name": "stdout",
     "output_type": "stream",
     "text": [
      "[ 0.57243453 -0.83605904  1.17575472] [-1.57079633e+00  3.67320510e-06  3.14159265e+00]\n"
     ]
    }
   ],
   "source": [
    "x_pos = sim.data.get_body_xpos(\"gripper_dummy_heg\")\n",
    "x_mat = sim.data.get_body_xmat(\"gripper_dummy_heg\")\n",
    "rpy =  normalize_rad(rotations.mat2euler(x_mat))\n",
    "print(x_pos, rpy)"
   ]
  },
  {
   "cell_type": "code",
   "execution_count": 20,
   "metadata": {},
   "outputs": [],
   "source": [
    "class Ur10HegRandForceEnv(ur10_noisy_pd_env_mh.Ur10Env):\n",
    "    def __init__(self, env_config):\n",
    "        model_xml_path = os.path.join(*[PROJECT_PATH, \"code\", \"environment\", \"UR10_Force_Randomized\", \"ur10_assembly_setup_rand_temp_{}.xml\".format(env_config.worker_index)])\n",
    "        randomize.randomize_ur10_xml(worker_id = env_config.worker_index)\n",
    "        ur10_noisy_pd_env_mh.Ur10Env.__init__(\n",
    "            self, ENV_CONFIG, model_xml_path = model_xml_path, worker_id=env_config.worker_index\n",
    "        )\n",
    "        #utils.EzPickle.__init__(self)\n",
    "register_env(\"NoisyVaryEnv\", lambda config: Ur10HegRandForceEnv(config))"
   ]
  },
  {
   "cell_type": "markdown",
   "metadata": {},
   "source": [
    "Agent"
   ]
  },
  {
   "cell_type": "code",
   "execution_count": 21,
   "metadata": {},
   "outputs": [
    {
     "name": "stderr",
     "output_type": "stream",
     "text": [
      "2020-09-16 17:24:44,094\tINFO resource_spec.py:212 -- Starting Ray with 10.64 GiB memory available for workers and up to 5.34 GiB for objects. You can adjust these settings with ray.init(memory=<bytes>, object_store_memory=<bytes>).\n",
      "2020-09-16 17:24:44,528\tINFO services.py:1083 -- View the Ray dashboard at \u001b[1m\u001b[32mlocalhost:8266\u001b[39m\u001b[22m\n"
     ]
    }
   ],
   "source": [
    "ray.init()\n",
    "cls = get_trainable_cls(\"PPO\")"
   ]
  },
  {
   "cell_type": "code",
   "execution_count": 22,
   "metadata": {},
   "outputs": [
    {
     "name": "stderr",
     "output_type": "stream",
     "text": [
      "2020-09-16 17:24:45,722\tINFO trainer.py:420 -- Tip: set 'eager': true or the --eager flag to enable TensorFlow eager execution\n",
      "2020-09-16 17:24:45,789\tINFO trainer.py:580 -- Current log_level is WARN. For more information, set 'log_level': 'INFO' / 'DEBUG' or use the -v and -vv flags.\n",
      "/home/lars/gym/gym/logger.py:30: UserWarning: \u001b[33mWARN: Box bound precision lowered by casting to float32\u001b[0m\n",
      "  warnings.warn(colorize('%s: %s'%('WARN', msg % args), 'yellow'))\n"
     ]
    },
    {
     "name": "stdout",
     "output_type": "stream",
     "text": [
      "\u001b[2m\u001b[36m(pid=14230)\u001b[0m /home/lars/.local/lib/python3.6/site-packages/tensorflow/python/framework/dtypes.py:516: FutureWarning: Passing (type, 1) or '1type' as a synonym of type is deprecated; in a future version of numpy, it will be understood as (type, (1,)) / '(1,)type'.\n",
      "\u001b[2m\u001b[36m(pid=14230)\u001b[0m   _np_qint8 = np.dtype([(\"qint8\", np.int8, 1)])\n",
      "\u001b[2m\u001b[36m(pid=14230)\u001b[0m /home/lars/.local/lib/python3.6/site-packages/tensorflow/python/framework/dtypes.py:517: FutureWarning: Passing (type, 1) or '1type' as a synonym of type is deprecated; in a future version of numpy, it will be understood as (type, (1,)) / '(1,)type'.\n",
      "\u001b[2m\u001b[36m(pid=14230)\u001b[0m   _np_quint8 = np.dtype([(\"quint8\", np.uint8, 1)])\n",
      "\u001b[2m\u001b[36m(pid=14230)\u001b[0m /home/lars/.local/lib/python3.6/site-packages/tensorflow/python/framework/dtypes.py:518: FutureWarning: Passing (type, 1) or '1type' as a synonym of type is deprecated; in a future version of numpy, it will be understood as (type, (1,)) / '(1,)type'.\n",
      "\u001b[2m\u001b[36m(pid=14230)\u001b[0m   _np_qint16 = np.dtype([(\"qint16\", np.int16, 1)])\n",
      "\u001b[2m\u001b[36m(pid=14230)\u001b[0m /home/lars/.local/lib/python3.6/site-packages/tensorflow/python/framework/dtypes.py:519: FutureWarning: Passing (type, 1) or '1type' as a synonym of type is deprecated; in a future version of numpy, it will be understood as (type, (1,)) / '(1,)type'.\n",
      "\u001b[2m\u001b[36m(pid=14230)\u001b[0m   _np_quint16 = np.dtype([(\"quint16\", np.uint16, 1)])\n",
      "\u001b[2m\u001b[36m(pid=14230)\u001b[0m /home/lars/.local/lib/python3.6/site-packages/tensorflow/python/framework/dtypes.py:520: FutureWarning: Passing (type, 1) or '1type' as a synonym of type is deprecated; in a future version of numpy, it will be understood as (type, (1,)) / '(1,)type'.\n",
      "\u001b[2m\u001b[36m(pid=14230)\u001b[0m   _np_qint32 = np.dtype([(\"qint32\", np.int32, 1)])\n",
      "\u001b[2m\u001b[36m(pid=14230)\u001b[0m /home/lars/.local/lib/python3.6/site-packages/tensorflow/python/framework/dtypes.py:525: FutureWarning: Passing (type, 1) or '1type' as a synonym of type is deprecated; in a future version of numpy, it will be understood as (type, (1,)) / '(1,)type'.\n",
      "\u001b[2m\u001b[36m(pid=14230)\u001b[0m   np_resource = np.dtype([(\"resource\", np.ubyte, 1)])\n",
      "\u001b[2m\u001b[36m(pid=14232)\u001b[0m /home/lars/.local/lib/python3.6/site-packages/tensorflow/python/framework/dtypes.py:516: FutureWarning: Passing (type, 1) or '1type' as a synonym of type is deprecated; in a future version of numpy, it will be understood as (type, (1,)) / '(1,)type'.\n",
      "\u001b[2m\u001b[36m(pid=14232)\u001b[0m   _np_qint8 = np.dtype([(\"qint8\", np.int8, 1)])\n",
      "\u001b[2m\u001b[36m(pid=14232)\u001b[0m /home/lars/.local/lib/python3.6/site-packages/tensorflow/python/framework/dtypes.py:517: FutureWarning: Passing (type, 1) or '1type' as a synonym of type is deprecated; in a future version of numpy, it will be understood as (type, (1,)) / '(1,)type'.\n",
      "\u001b[2m\u001b[36m(pid=14232)\u001b[0m   _np_quint8 = np.dtype([(\"quint8\", np.uint8, 1)])\n",
      "\u001b[2m\u001b[36m(pid=14232)\u001b[0m /home/lars/.local/lib/python3.6/site-packages/tensorflow/python/framework/dtypes.py:518: FutureWarning: Passing (type, 1) or '1type' as a synonym of type is deprecated; in a future version of numpy, it will be understood as (type, (1,)) / '(1,)type'.\n",
      "\u001b[2m\u001b[36m(pid=14232)\u001b[0m   _np_qint16 = np.dtype([(\"qint16\", np.int16, 1)])\n",
      "\u001b[2m\u001b[36m(pid=14232)\u001b[0m /home/lars/.local/lib/python3.6/site-packages/tensorflow/python/framework/dtypes.py:519: FutureWarning: Passing (type, 1) or '1type' as a synonym of type is deprecated; in a future version of numpy, it will be understood as (type, (1,)) / '(1,)type'.\n",
      "\u001b[2m\u001b[36m(pid=14232)\u001b[0m   _np_quint16 = np.dtype([(\"quint16\", np.uint16, 1)])\n",
      "\u001b[2m\u001b[36m(pid=14232)\u001b[0m /home/lars/.local/lib/python3.6/site-packages/tensorflow/python/framework/dtypes.py:520: FutureWarning: Passing (type, 1) or '1type' as a synonym of type is deprecated; in a future version of numpy, it will be understood as (type, (1,)) / '(1,)type'.\n",
      "\u001b[2m\u001b[36m(pid=14232)\u001b[0m   _np_qint32 = np.dtype([(\"qint32\", np.int32, 1)])\n",
      "\u001b[2m\u001b[36m(pid=14232)\u001b[0m /home/lars/.local/lib/python3.6/site-packages/tensorflow/python/framework/dtypes.py:525: FutureWarning: Passing (type, 1) or '1type' as a synonym of type is deprecated; in a future version of numpy, it will be understood as (type, (1,)) / '(1,)type'.\n",
      "\u001b[2m\u001b[36m(pid=14232)\u001b[0m   np_resource = np.dtype([(\"resource\", np.ubyte, 1)])\n",
      "\u001b[2m\u001b[36m(pid=14230)\u001b[0m /home/lars/.local/lib/python3.6/site-packages/tensorboard/compat/tensorflow_stub/dtypes.py:541: FutureWarning: Passing (type, 1) or '1type' as a synonym of type is deprecated; in a future version of numpy, it will be understood as (type, (1,)) / '(1,)type'.\n",
      "\u001b[2m\u001b[36m(pid=14230)\u001b[0m   _np_qint8 = np.dtype([(\"qint8\", np.int8, 1)])\n",
      "\u001b[2m\u001b[36m(pid=14230)\u001b[0m /home/lars/.local/lib/python3.6/site-packages/tensorboard/compat/tensorflow_stub/dtypes.py:542: FutureWarning: Passing (type, 1) or '1type' as a synonym of type is deprecated; in a future version of numpy, it will be understood as (type, (1,)) / '(1,)type'.\n",
      "\u001b[2m\u001b[36m(pid=14230)\u001b[0m   _np_quint8 = np.dtype([(\"quint8\", np.uint8, 1)])\n",
      "\u001b[2m\u001b[36m(pid=14230)\u001b[0m /home/lars/.local/lib/python3.6/site-packages/tensorboard/compat/tensorflow_stub/dtypes.py:543: FutureWarning: Passing (type, 1) or '1type' as a synonym of type is deprecated; in a future version of numpy, it will be understood as (type, (1,)) / '(1,)type'.\n",
      "\u001b[2m\u001b[36m(pid=14230)\u001b[0m   _np_qint16 = np.dtype([(\"qint16\", np.int16, 1)])\n",
      "\u001b[2m\u001b[36m(pid=14230)\u001b[0m /home/lars/.local/lib/python3.6/site-packages/tensorboard/compat/tensorflow_stub/dtypes.py:544: FutureWarning: Passing (type, 1) or '1type' as a synonym of type is deprecated; in a future version of numpy, it will be understood as (type, (1,)) / '(1,)type'.\n",
      "\u001b[2m\u001b[36m(pid=14230)\u001b[0m   _np_quint16 = np.dtype([(\"quint16\", np.uint16, 1)])\n",
      "\u001b[2m\u001b[36m(pid=14230)\u001b[0m /home/lars/.local/lib/python3.6/site-packages/tensorboard/compat/tensorflow_stub/dtypes.py:545: FutureWarning: Passing (type, 1) or '1type' as a synonym of type is deprecated; in a future version of numpy, it will be understood as (type, (1,)) / '(1,)type'.\n",
      "\u001b[2m\u001b[36m(pid=14230)\u001b[0m   _np_qint32 = np.dtype([(\"qint32\", np.int32, 1)])\n",
      "\u001b[2m\u001b[36m(pid=14230)\u001b[0m /home/lars/.local/lib/python3.6/site-packages/tensorboard/compat/tensorflow_stub/dtypes.py:550: FutureWarning: Passing (type, 1) or '1type' as a synonym of type is deprecated; in a future version of numpy, it will be understood as (type, (1,)) / '(1,)type'.\n",
      "\u001b[2m\u001b[36m(pid=14230)\u001b[0m   np_resource = np.dtype([(\"resource\", np.ubyte, 1)])\n",
      "\u001b[2m\u001b[36m(pid=14232)\u001b[0m /home/lars/.local/lib/python3.6/site-packages/tensorboard/compat/tensorflow_stub/dtypes.py:541: FutureWarning: Passing (type, 1) or '1type' as a synonym of type is deprecated; in a future version of numpy, it will be understood as (type, (1,)) / '(1,)type'.\n",
      "\u001b[2m\u001b[36m(pid=14232)\u001b[0m   _np_qint8 = np.dtype([(\"qint8\", np.int8, 1)])\n",
      "\u001b[2m\u001b[36m(pid=14232)\u001b[0m /home/lars/.local/lib/python3.6/site-packages/tensorboard/compat/tensorflow_stub/dtypes.py:542: FutureWarning: Passing (type, 1) or '1type' as a synonym of type is deprecated; in a future version of numpy, it will be understood as (type, (1,)) / '(1,)type'.\n",
      "\u001b[2m\u001b[36m(pid=14232)\u001b[0m   _np_quint8 = np.dtype([(\"quint8\", np.uint8, 1)])\n",
      "\u001b[2m\u001b[36m(pid=14232)\u001b[0m /home/lars/.local/lib/python3.6/site-packages/tensorboard/compat/tensorflow_stub/dtypes.py:543: FutureWarning: Passing (type, 1) or '1type' as a synonym of type is deprecated; in a future version of numpy, it will be understood as (type, (1,)) / '(1,)type'.\n",
      "\u001b[2m\u001b[36m(pid=14232)\u001b[0m   _np_qint16 = np.dtype([(\"qint16\", np.int16, 1)])\n",
      "\u001b[2m\u001b[36m(pid=14232)\u001b[0m /home/lars/.local/lib/python3.6/site-packages/tensorboard/compat/tensorflow_stub/dtypes.py:544: FutureWarning: Passing (type, 1) or '1type' as a synonym of type is deprecated; in a future version of numpy, it will be understood as (type, (1,)) / '(1,)type'.\n",
      "\u001b[2m\u001b[36m(pid=14232)\u001b[0m   _np_quint16 = np.dtype([(\"quint16\", np.uint16, 1)])\n",
      "\u001b[2m\u001b[36m(pid=14232)\u001b[0m /home/lars/.local/lib/python3.6/site-packages/tensorboard/compat/tensorflow_stub/dtypes.py:545: FutureWarning: Passing (type, 1) or '1type' as a synonym of type is deprecated; in a future version of numpy, it will be understood as (type, (1,)) / '(1,)type'.\n",
      "\u001b[2m\u001b[36m(pid=14232)\u001b[0m   _np_qint32 = np.dtype([(\"qint32\", np.int32, 1)])\n",
      "\u001b[2m\u001b[36m(pid=14232)\u001b[0m /home/lars/.local/lib/python3.6/site-packages/tensorboard/compat/tensorflow_stub/dtypes.py:550: FutureWarning: Passing (type, 1) or '1type' as a synonym of type is deprecated; in a future version of numpy, it will be understood as (type, (1,)) / '(1,)type'.\n",
      "\u001b[2m\u001b[36m(pid=14232)\u001b[0m   np_resource = np.dtype([(\"resource\", np.ubyte, 1)])\n"
     ]
    },
    {
     "name": "stderr",
     "output_type": "stream",
     "text": [
      "2020-09-16 17:24:50,589\tWARNING trainable.py:210 -- Getting current IP.\n",
      "2020-09-16 17:24:50,590\tINFO trainable.py:416 -- Restored on 10.180.134.127 from checkpoint: /home/lars/AGENT_TESTS/PPO_NoisyVaryEnv_0_2020-09-15_13-53-11d046bzlf/checkpoint_2675/checkpoint-2675\n",
      "2020-09-16 17:24:50,591\tINFO trainable.py:423 -- Current state after restoring: {'_iteration': 2675, '_timesteps_total': None, '_time_total': 86939.4950902462, '_episodes_total': 81622}\n"
     ]
    },
    {
     "name": "stdout",
     "output_type": "stream",
     "text": [
      "\u001b[2m\u001b[36m(pid=14232)\u001b[0m In /home/lars/.local/lib/python3.6/site-packages/matplotlib/mpl-data/stylelib/_classic_test.mplstyle: \n",
      "\u001b[2m\u001b[36m(pid=14232)\u001b[0m The text.latex.preview rcparam was deprecated in Matplotlib 3.3 and will be removed two minor releases later.\n",
      "\u001b[2m\u001b[36m(pid=14232)\u001b[0m In /home/lars/.local/lib/python3.6/site-packages/matplotlib/mpl-data/stylelib/_classic_test.mplstyle: \n",
      "\u001b[2m\u001b[36m(pid=14232)\u001b[0m The mathtext.fallback_to_cm rcparam was deprecated in Matplotlib 3.3 and will be removed two minor releases later.\n",
      "\u001b[2m\u001b[36m(pid=14232)\u001b[0m In /home/lars/.local/lib/python3.6/site-packages/matplotlib/mpl-data/stylelib/_classic_test.mplstyle: Support for setting the 'mathtext.fallback_to_cm' rcParam is deprecated since 3.3 and will be removed two minor releases later; use 'mathtext.fallback : 'cm' instead.\n",
      "\u001b[2m\u001b[36m(pid=14232)\u001b[0m In /home/lars/.local/lib/python3.6/site-packages/matplotlib/mpl-data/stylelib/_classic_test.mplstyle: \n",
      "\u001b[2m\u001b[36m(pid=14232)\u001b[0m The validate_bool_maybe_none function was deprecated in Matplotlib 3.3 and will be removed two minor releases later.\n",
      "\u001b[2m\u001b[36m(pid=14232)\u001b[0m In /home/lars/.local/lib/python3.6/site-packages/matplotlib/mpl-data/stylelib/_classic_test.mplstyle: \n",
      "\u001b[2m\u001b[36m(pid=14232)\u001b[0m The savefig.jpeg_quality rcparam was deprecated in Matplotlib 3.3 and will be removed two minor releases later.\n",
      "\u001b[2m\u001b[36m(pid=14232)\u001b[0m In /home/lars/.local/lib/python3.6/site-packages/matplotlib/mpl-data/stylelib/_classic_test.mplstyle: \n",
      "\u001b[2m\u001b[36m(pid=14232)\u001b[0m The keymap.all_axes rcparam was deprecated in Matplotlib 3.3 and will be removed two minor releases later.\n",
      "\u001b[2m\u001b[36m(pid=14232)\u001b[0m In /home/lars/.local/lib/python3.6/site-packages/matplotlib/mpl-data/stylelib/_classic_test.mplstyle: \n",
      "\u001b[2m\u001b[36m(pid=14232)\u001b[0m The animation.avconv_path rcparam was deprecated in Matplotlib 3.3 and will be removed two minor releases later.\n",
      "\u001b[2m\u001b[36m(pid=14232)\u001b[0m In /home/lars/.local/lib/python3.6/site-packages/matplotlib/mpl-data/stylelib/_classic_test.mplstyle: \n",
      "\u001b[2m\u001b[36m(pid=14232)\u001b[0m The animation.avconv_args rcparam was deprecated in Matplotlib 3.3 and will be removed two minor releases later.\n",
      "\u001b[2m\u001b[36m(pid=14230)\u001b[0m In /home/lars/.local/lib/python3.6/site-packages/matplotlib/mpl-data/stylelib/_classic_test.mplstyle: \n",
      "\u001b[2m\u001b[36m(pid=14230)\u001b[0m The text.latex.preview rcparam was deprecated in Matplotlib 3.3 and will be removed two minor releases later.\n",
      "\u001b[2m\u001b[36m(pid=14230)\u001b[0m In /home/lars/.local/lib/python3.6/site-packages/matplotlib/mpl-data/stylelib/_classic_test.mplstyle: \n",
      "\u001b[2m\u001b[36m(pid=14230)\u001b[0m The mathtext.fallback_to_cm rcparam was deprecated in Matplotlib 3.3 and will be removed two minor releases later.\n",
      "\u001b[2m\u001b[36m(pid=14230)\u001b[0m In /home/lars/.local/lib/python3.6/site-packages/matplotlib/mpl-data/stylelib/_classic_test.mplstyle: Support for setting the 'mathtext.fallback_to_cm' rcParam is deprecated since 3.3 and will be removed two minor releases later; use 'mathtext.fallback : 'cm' instead.\n",
      "\u001b[2m\u001b[36m(pid=14230)\u001b[0m In /home/lars/.local/lib/python3.6/site-packages/matplotlib/mpl-data/stylelib/_classic_test.mplstyle: \n",
      "\u001b[2m\u001b[36m(pid=14230)\u001b[0m The validate_bool_maybe_none function was deprecated in Matplotlib 3.3 and will be removed two minor releases later.\n",
      "\u001b[2m\u001b[36m(pid=14230)\u001b[0m In /home/lars/.local/lib/python3.6/site-packages/matplotlib/mpl-data/stylelib/_classic_test.mplstyle: \n",
      "\u001b[2m\u001b[36m(pid=14230)\u001b[0m The savefig.jpeg_quality rcparam was deprecated in Matplotlib 3.3 and will be removed two minor releases later.\n",
      "\u001b[2m\u001b[36m(pid=14230)\u001b[0m In /home/lars/.local/lib/python3.6/site-packages/matplotlib/mpl-data/stylelib/_classic_test.mplstyle: \n",
      "\u001b[2m\u001b[36m(pid=14230)\u001b[0m The keymap.all_axes rcparam was deprecated in Matplotlib 3.3 and will be removed two minor releases later.\n",
      "\u001b[2m\u001b[36m(pid=14230)\u001b[0m In /home/lars/.local/lib/python3.6/site-packages/matplotlib/mpl-data/stylelib/_classic_test.mplstyle: \n",
      "\u001b[2m\u001b[36m(pid=14230)\u001b[0m The animation.avconv_path rcparam was deprecated in Matplotlib 3.3 and will be removed two minor releases later.\n",
      "\u001b[2m\u001b[36m(pid=14230)\u001b[0m In /home/lars/.local/lib/python3.6/site-packages/matplotlib/mpl-data/stylelib/_classic_test.mplstyle: \n",
      "\u001b[2m\u001b[36m(pid=14230)\u001b[0m The animation.avconv_args rcparam was deprecated in Matplotlib 3.3 and will be removed two minor releases later.\n"
     ]
    }
   ],
   "source": [
    "#agent = cls(env=\"RandomizedEnv\", config=config)\n",
    "agent = cls(config=config)\n",
    "agent.restore(checkpoint)"
   ]
  },
  {
   "cell_type": "code",
   "execution_count": 23,
   "metadata": {},
   "outputs": [
    {
     "name": "stdout",
     "output_type": "stream",
     "text": [
      "<module 'ray' from '/home/lars/.local/lib/python3.6/site-packages/ray/__init__.py'>\n",
      "<function get_trainable_cls at 0x7f754f31b0d0>\n",
      "<module 'ray.tune.registry' from '/home/lars/.local/lib/python3.6/site-packages/ray/tune/registry.py'>\n",
      "\u001b[2m\u001b[36m(pid=14232)\u001b[0m /home/lars/gym/gym/logger.py:30: UserWarning: \u001b[33mWARN: Box bound precision lowered by casting to float32\u001b[0m\n",
      "\u001b[2m\u001b[36m(pid=14232)\u001b[0m   warnings.warn(colorize('%s: %s'%('WARN', msg % args), 'yellow'))\n",
      "\u001b[2m\u001b[36m(pid=14230)\u001b[0m /home/lars/gym/gym/logger.py:30: UserWarning: \u001b[33mWARN: Box bound precision lowered by casting to float32\u001b[0m\n",
      "\u001b[2m\u001b[36m(pid=14230)\u001b[0m   warnings.warn(colorize('%s: %s'%('WARN', msg % args), 'yellow'))\n"
     ]
    }
   ],
   "source": [
    "print(ray)\n",
    "print(get_trainable_cls)\n",
    "print(ray.tune.registry)\n",
    "clss = get_trainable_cls(\"PPO\")"
   ]
  },
  {
   "cell_type": "markdown",
   "metadata": {},
   "source": [
    "ROS-nodes"
   ]
  },
  {
   "cell_type": "code",
   "execution_count": 24,
   "metadata": {},
   "outputs": [],
   "source": [
    "rospy.init_node(\"DRL_AI4RoMoCo\", anonymous=True)\n",
    "rospy.Subscriber(\"/joint_states\", JointState, q_callback)\n",
    "rospy.Subscriber(\"/ft300_force_torque\", WrenchStamped, ft_callback)\n",
    "rospy.Subscriber(\"/pose_estimation\", EstimatedPose, pose_callback)\n",
    "rospy.Subscriber(\"/observation\", CustomVector, observation_callback)\n",
    "#control_publisher = rospy.Publisher(\"/joint_group_position_controller/command\", Float64MultiArray, queue_size=1)\n",
    "traj_control_publisher = rospy.Publisher(\"/pos_traj_controller/command\", JointTrajectory, queue_size=1)\n",
    "ft_zero_publisher = rospy.Publisher(\"/ur_hardware_interface/script_command\", String, queue_size=1)\n",
    "\n",
    "#rate = rospy.Rate(1)\n",
    "rate = rospy.Rate(125)"
   ]
  },
  {
   "cell_type": "markdown",
   "metadata": {},
   "source": [
    "Data structures for storing and saving data"
   ]
  },
  {
   "cell_type": "code",
   "execution_count": 25,
   "metadata": {},
   "outputs": [],
   "source": [
    "observations_rec = []\n",
    "poses_rec = []\n",
    "ft_values_rec = []\n",
    "q_rec = []\n",
    "qd_rec = []\n",
    "rewards_rec = []\n",
    "step = 0"
   ]
  },
  {
   "cell_type": "markdown",
   "metadata": {},
   "source": [
    "# Run On Hardware"
   ]
  },
  {
   "cell_type": "code",
   "execution_count": 26,
   "metadata": {},
   "outputs": [
    {
     "data": {
      "text/plain": [
       "array([ 1., -1.,  1., -1., -1., -1.], dtype=float32)"
      ]
     },
     "execution_count": 26,
     "metadata": {},
     "output_type": "execute_result"
    }
   ],
   "source": [
    "agent.compute_action([0,0,0,0,0,0,0,0,0,0,0,0])"
   ]
  },
  {
   "cell_type": "code",
   "execution_count": 52,
   "metadata": {},
   "outputs": [],
   "source": [
    "sim_start2 = [ 1.38262160e-01, -3.53418996e-03, -1.14096261e-03,  1.86197431e-02,\n",
    " -7.99654869e-03, -1.03308129e-02, -2.06432015e-01, -6.83833083e-01,\n",
    "  1.71762350e+00,  1.41610255e-03,  4.35520285e-03, -6.68712962e-03]"
   ]
  },
  {
   "cell_type": "code",
   "execution_count": 29,
   "metadata": {},
   "outputs": [],
   "source": [
    "sim_start = [ 1.38722495e-01, -3.58786483e-03, -6.67598187e-04,  1.65798756e-02,\n",
    "             -1.30199723e-03, -6.75103365e-03, -4.47405755e-02, -5.73204905e+00,\n",
    "             2.78601823e-02,  6.88560594e-03, -5.22032840e-03, -4.64195578e-03]"
   ]
  },
  {
   "cell_type": "code",
   "execution_count": 34,
   "metadata": {},
   "outputs": [
    {
     "ename": "TypeError",
     "evalue": "float() argument must be a string or a number, not 'list'",
     "output_type": "error",
     "traceback": [
      "\u001b[0;31m---------------------------------------------------------------------------\u001b[0m",
      "\u001b[0;31mTypeError\u001b[0m                                 Traceback (most recent call last)",
      "\u001b[0;32m<ipython-input-34-bc99581b768f>\u001b[0m in \u001b[0;36m<module>\u001b[0;34m\u001b[0m\n\u001b[0;32m----> 1\u001b[0;31m \u001b[0;34m\"{:.4f}\"\u001b[0m\u001b[0;34m.\u001b[0m\u001b[0mformat\u001b[0m\u001b[0;34m(\u001b[0m\u001b[0mfloat\u001b[0m\u001b[0;34m(\u001b[0m\u001b[0msim_start\u001b[0m\u001b[0;34m)\u001b[0m\u001b[0;34m)\u001b[0m\u001b[0;34m\u001b[0m\u001b[0;34m\u001b[0m\u001b[0m\n\u001b[0m",
      "\u001b[0;31mTypeError\u001b[0m: float() argument must be a string or a number, not 'list'"
     ]
    }
   ],
   "source": [
    "\"{:.4f}\".format(float(sim_start))"
   ]
  },
  {
   "cell_type": "code",
   "execution_count": 45,
   "metadata": {},
   "outputs": [],
   "source": [
    "sim_start = [float(\"{:.4f}\".format(float(val))) for val in sim_start]"
   ]
  },
  {
   "cell_type": "code",
   "execution_count": 46,
   "metadata": {},
   "outputs": [
    {
     "data": {
      "text/plain": [
       "[0.1387,\n",
       " -0.0036,\n",
       " -0.0007,\n",
       " 0.0166,\n",
       " -0.0013,\n",
       " -0.0068,\n",
       " -0.0447,\n",
       " -5.732,\n",
       " 0.0279,\n",
       " 0.0069,\n",
       " -0.0052,\n",
       " -0.0046]"
      ]
     },
     "execution_count": 46,
     "metadata": {},
     "output_type": "execute_result"
    }
   ],
   "source": [
    "sim_start"
   ]
  },
  {
   "cell_type": "code",
   "execution_count": 30,
   "metadata": {},
   "outputs": [],
   "source": [
    "real_start = [0.13105134665966034, 0.00034428873914293945, 0.011874636635184288, -0.0009155694278888404,\n",
    "-0.0005043409182690084, -0.021880175918340683, 0.10000000149011612, 0.029999999329447746, \n",
    "0.6399989724159241, 0.00800000037997961, -0.003000000026077032, 0.003000000026077032]"
   ]
  },
  {
   "cell_type": "code",
   "execution_count": 43,
   "metadata": {},
   "outputs": [],
   "source": [
    "real_start = [float(\"{:.4f}\".format(float(val))) for val in real_start]"
   ]
  },
  {
   "cell_type": "code",
   "execution_count": 44,
   "metadata": {},
   "outputs": [
    {
     "data": {
      "text/plain": [
       "[0.1311,\n",
       " 0.0003,\n",
       " 0.0119,\n",
       " -0.0009,\n",
       " -0.0005,\n",
       " -0.0219,\n",
       " 0.1,\n",
       " 0.03,\n",
       " 0.64,\n",
       " 0.008,\n",
       " -0.003,\n",
       " 0.003]"
      ]
     },
     "execution_count": 44,
     "metadata": {},
     "output_type": "execute_result"
    }
   ],
   "source": [
    "real_start"
   ]
  },
  {
   "cell_type": "code",
   "execution_count": 49,
   "metadata": {},
   "outputs": [],
   "source": [
    "diff = numpy.asarray(sim_start) - numpy.asarray(real_start)"
   ]
  },
  {
   "cell_type": "code",
   "execution_count": 50,
   "metadata": {},
   "outputs": [],
   "source": [
    "diff = [float(\"{:.4f}\".format(float(val))) for val in diff]"
   ]
  },
  {
   "cell_type": "code",
   "execution_count": 51,
   "metadata": {},
   "outputs": [
    {
     "data": {
      "text/plain": [
       "[0.0076,\n",
       " -0.0039,\n",
       " -0.0126,\n",
       " 0.0175,\n",
       " -0.0008,\n",
       " 0.0151,\n",
       " -0.1447,\n",
       " -5.762,\n",
       " -0.6121,\n",
       " -0.0011,\n",
       " -0.0022,\n",
       " -0.0076]"
      ]
     },
     "execution_count": 51,
     "metadata": {},
     "output_type": "execute_result"
    }
   ],
   "source": [
    "diff"
   ]
  },
  {
   "cell_type": "markdown",
   "metadata": {},
   "source": [
    "sim"
   ]
  },
  {
   "cell_type": "code",
   "execution_count": 72,
   "metadata": {},
   "outputs": [
    {
     "data": {
      "text/plain": [
       "array([ 0.6340904, -1.       , -1.       , -1.       , -0.7449393,\n",
       "        1.       ], dtype=float32)"
      ]
     },
     "execution_count": 72,
     "metadata": {},
     "output_type": "execute_result"
    }
   ],
   "source": [
    "agent.compute_action(sim_start2)"
   ]
  },
  {
   "cell_type": "markdown",
   "metadata": {},
   "source": [
    "real"
   ]
  },
  {
   "cell_type": "code",
   "execution_count": 81,
   "metadata": {},
   "outputs": [
    {
     "data": {
      "text/plain": [
       "array([-1., -1.,  1., -1.,  1.,  1.], dtype=float32)"
      ]
     },
     "execution_count": 81,
     "metadata": {},
     "output_type": "execute_result"
    }
   ],
   "source": [
    "agent.compute_action(real_start)"
   ]
  },
  {
   "cell_type": "code",
   "execution_count": null,
   "metadata": {},
   "outputs": [],
   "source": []
  },
  {
   "cell_type": "code",
   "execution_count": 27,
   "metadata": {},
   "outputs": [
    {
     "name": "stdout",
     "output_type": "stream",
     "text": [
      "[-1.  1. -1.  1.  1.  1.]\n",
      "[-1. -1. -1. -1.  1.  1.]\n",
      "[ 0.25946498 -1.         -1.          1.          1.          0.58411646]\n",
      "[-1.          1.          1.         -0.72817755  1.          1.        ]\n",
      "[-1.         1.        -1.        -1.        -1.         0.9809258]\n",
      "[-1.         -0.8310365  -1.         -1.          0.91277575  0.5806017 ]\n",
      "[-1.          0.24418345  1.          1.          1.         -0.6966511 ]\n",
      "[-1.         -1.         -1.          0.71651787  1.         -0.29345274]\n",
      "[-1. -1. -1. -1.  1.  1.]\n",
      "[-0.25978303 -1.          1.          1.         -1.         -0.9330704 ]\n",
      "[-1.        -1.        -1.         1.        -0.8529129 -1.       ]\n",
      "[-1.  1. -1.  1. -1. -1.]\n",
      "[-1.         1.         0.9980917  1.         1.         0.9735611]\n",
      "[-1. -1. -1.  1.  1. -1.]\n",
      "[-1.          1.          0.86690736  1.          0.6365065   0.291403  ]\n",
      "[-1.         -0.27424288  1.         -1.          1.          1.        ]\n",
      "[-1. -1. -1.  1.  1.  1.]\n",
      "[-1.          1.         -1.         -1.         -0.04259449  1.        ]\n",
      "[-1.  1.  1.  1.  1. -1.]\n",
      "[-1.          1.          0.9942644   1.         -0.86733174  1.        ]\n",
      "[-1.  1. -1.  1.  1. -1.]\n",
      "[-1.         -1.         -0.37712288  1.          1.         -1.        ]\n",
      "[-1.        -1.         0.9198632 -1.         1.         0.6822711]\n",
      "[-1.          1.          1.          1.          0.42860484 -0.19988579]\n",
      "[-1.          1.          1.          1.          0.67173564 -1.        ]\n",
      "[-1.        -1.        -1.         1.         0.7646558 -0.9023805]\n",
      "[-1.         -1.         -1.          1.          0.83024913  1.        ]\n"
     ]
    },
    {
     "name": "stderr",
     "output_type": "stream",
     "text": [
      "/home/lars/.local/lib/python3.6/site-packages/ipykernel_launcher.py:29: FutureWarning: `rcond` parameter will change to the default of machine precision times ``max(M, N)`` where M and N are the input matrix dimensions.\n",
      "To use the future default and silence this warning we advise to pass `rcond=None`, to keep using the old, explicitly pass `rcond=-1`.\n"
     ]
    },
    {
     "name": "stdout",
     "output_type": "stream",
     "text": [
      "[-1.         -1.          1.          0.14173031  0.52295315 -1.        ]\n",
      "[-1.         1.        -1.         1.        -0.7495599  1.       ]\n",
      "[-1.          1.          1.         -0.92220354  0.5437083   0.26779586]\n",
      "[-1.  1.  1. -1.  1.  1.]\n",
      "[-1.         -0.1612795   1.          1.          1.          0.40406287]\n",
      "[-1. -1.  1. -1.  1. -1.]\n",
      "[-1.         -1.         -1.          1.          1.          0.76115733]\n",
      "[-1. -1.  1.  1. -1. -1.]\n",
      "[-1.         -1.          1.         -1.         -1.         -0.25520337]\n",
      "[-0.66217756  1.         -1.          1.         -1.          1.        ]\n",
      "[-0.8711405  1.         1.        -1.         1.         1.       ]\n",
      "[-1. -1. -1. -1.  1.  1.]\n",
      "[-1.         -1.         -1.         -0.6337242   1.          0.14532065]\n",
      "[-1.  1.  1. -1. -1. -1.]\n",
      "[-1.         -1.         -1.         -1.          1.          0.23552334]\n",
      "[-1.          1.          1.          1.          0.22907504  1.        ]\n",
      "[-0.9607003   1.         -1.         -1.          0.15254962 -1.        ]\n",
      "[-1.          1.          1.          1.          0.48881936 -0.92764735]\n",
      "[-1.         1.        -1.         1.        -0.4465679 -1.       ]\n",
      "[-1.  1.  1. -1.  1.  1.]\n",
      "[-1. -1. -1. -1. -1. -1.]\n",
      "[-1.  1.  1. -1. -1.  1.]\n",
      "[-1.  1.  1. -1.  1. -1.]\n",
      "[-1.         -1.         -1.         -1.          0.43215692 -1.        ]\n",
      "[-1.  1.  1. -1.  1. -1.]\n",
      "[-1.        -1.        -1.        -0.5466583  0.6415311 -1.       ]\n",
      "[-1.        -1.        -1.        -0.3620511 -1.         1.       ]\n",
      "[-1. -1.  1. -1.  1. -1.]\n",
      "[-1.         -1.          1.         -1.          0.16998804  1.        ]\n",
      "[-1.          1.         -1.         -1.          1.         -0.48083857]\n",
      "[-1.  1.  1.  1.  1. -1.]\n",
      "[-1.         -0.90588427  1.         -1.          1.         -1.        ]\n",
      "[-1.         -1.         -1.          1.         -0.93865037 -1.        ]\n",
      "[-1. -1.  1.  1. -1. -1.]\n",
      "[-1.         1.         1.         1.        -0.7164722 -1.       ]\n",
      "[-1. -1.  1.  1.  1. -1.]\n",
      "[-1.  1. -1. -1.  1.  1.]\n",
      "[-1.         -0.3678056  -0.98489887 -1.          1.          0.13049081]\n",
      "[-1. -1.  1.  1.  1. -1.]\n",
      "[-1. -1.  1.  1.  1. -1.]\n",
      "[-1.          1.         -1.          1.         -1.          0.21228188]\n",
      "[-1.  1.  1.  1.  1.  1.]\n",
      "[-1.         -0.1177882   1.          1.          1.         -0.14980546]\n",
      "[-1.          1.          1.         -1.          1.          0.20175123]\n",
      "[-1.         -1.          1.          1.          1.          0.43432713]\n",
      "[-1.          1.          1.         -1.          0.47770447 -1.        ]\n",
      "[-1.        -1.         1.         0.3320117 -0.2575481 -1.       ]\n",
      "[-1.          1.          1.          1.         -0.45542106 -1.        ]\n",
      "[-1.  1. -1. -1.  1.  1.]\n",
      "[-1. -1. -1. -1.  1.  1.]\n",
      "[-1.  1. -1.  1. -1.  1.]\n",
      "[-1.         -1.          0.72480965  0.681794   -1.         -1.        ]\n",
      "[-1.        -1.        -1.         1.         0.9802282  1.       ]\n",
      "[-1.         -1.          1.         -1.          0.45897853  1.        ]\n",
      "[-1.        -0.6747387 -1.         1.         1.        -1.       ]\n",
      "[-1.          1.         -1.          1.          0.32496345 -0.01946068]\n",
      "[-1.        -1.         1.        -0.9463253  1.        -1.       ]\n",
      "[-1.        -1.         1.        -1.         0.8085165 -0.9771255]\n",
      "[-1.          1.          0.28339645  1.         -1.         -1.        ]\n",
      "[-1.  1. -1.  1. -1. -1.]\n",
      "[-0.8386557   1.         -1.          0.54208577  1.          1.        ]\n",
      "[-1.  1. -1.  1.  1. -1.]\n",
      "[-1.  1. -1.  1.  1. -1.]\n",
      "[-1. -1.  1. -1.  1. -1.]\n",
      "[-1.          1.         -1.         -0.91465247 -0.63540435 -0.48621562]\n",
      "[-1.         -1.         -1.          0.8754902   0.7571598  -0.97825503]\n",
      "[-0.7630744  1.        -1.         1.         0.449628  -0.9437102]\n",
      "[-1.        -1.        -1.        -1.        -0.4066937 -1.       ]\n",
      "[-1.         -1.         -0.82630503 -0.01961622 -1.         -0.48967195]\n",
      "[-1.         -1.         -0.37410164 -0.25071812  1.          0.99507904]\n"
     ]
    },
    {
     "name": "stderr",
     "output_type": "stream",
     "text": [
      "/home/lars/.local/lib/python3.6/site-packages/ipykernel_launcher.py:29: FutureWarning: `rcond` parameter will change to the default of machine precision times ``max(M, N)`` where M and N are the input matrix dimensions.\n",
      "To use the future default and silence this warning we advise to pass `rcond=None`, to keep using the old, explicitly pass `rcond=-1`.\n"
     ]
    },
    {
     "name": "stdout",
     "output_type": "stream",
     "text": [
      "[-1.          1.          1.         -0.07153028  0.31483096  0.32556796]\n",
      "[-1.          1.         -1.          0.49941713 -0.13041723 -1.        ]\n",
      "[-1.          1.          0.18332362 -1.          0.882278   -1.        ]\n",
      "[-1.          0.15792608 -1.         -1.          1.         -0.8034953 ]\n",
      "[-1.          1.         -0.42376664  1.          0.658604   -0.9357351 ]\n",
      "[-1. -1. -1.  1.  1. -1.]\n",
      "[-1.  1.  1. -1.  1.  1.]\n",
      "[-0.45539272 -1.          1.          1.          0.41169438 -1.        ]\n",
      "[-1. -1.  1.  1.  1. -1.]\n",
      "[-1.         -1.         -1.         -1.          0.18205746  1.        ]\n",
      "[-1.         -0.42230898 -1.         -1.          0.157323    0.5071513 ]\n",
      "[-1.         1.        -0.8685884 -1.        -1.        -1.       ]\n",
      "[-1.         -0.28768003 -1.         -1.          1.         -1.        ]\n",
      "[-1.         -1.          1.         -0.79735327  0.05793402  0.9306483 ]\n",
      "[-1.          1.          1.         -1.          0.33549643 -1.        ]\n",
      "[-1.        -1.        -1.        -1.         0.4951655 -1.       ]\n",
      "[-1.          0.6067011  -1.          0.7870859   0.68951404 -1.        ]\n",
      "[-1.         -1.         -1.          1.          1.         -0.65455043]\n",
      "[-1. -1. -1. -1. -1. -1.]\n",
      "[-1.  1.  1. -1. -1. -1.]\n",
      "[-1.         -1.          1.         -1.          0.43889475  1.        ]\n",
      "[-1.         1.         1.        -1.        -0.8676878 -1.       ]\n",
      "[-1. -1.  1. -1.  1. -1.]\n",
      "[-1.         -1.          1.          1.         -0.8144316  -0.90778846]\n",
      "[-1.          1.          1.         -1.         -0.48595798  0.64063394]\n",
      "[-1.         -1.          1.          1.          0.87403166  1.        ]\n",
      "[-1.  1. -1. -1. -1.  1.]\n",
      "[-1. -1.  1. -1. -1. -1.]\n",
      "[-1.         -1.         -1.         -1.          0.28287446 -1.        ]\n",
      "[-1.  1. -1.  1.  1. -1.]\n",
      "[-1.        -1.        -1.        -1.        -0.3004068 -1.       ]\n",
      "[-1.         -1.          1.         -1.         -0.35081765  0.5566938 ]\n",
      "[-1. -1.  1.  1.  1. -1.]\n",
      "[-1. -1.  1. -1.  1. -1.]\n",
      "[-1.         -0.07187843 -1.         -1.         -0.36421573 -1.        ]\n",
      "[-1.          0.31838626  1.         -1.          0.9306154  -0.6015779 ]\n",
      "[-1. -1.  1. -1.  1. -1.]\n",
      "[-1.  1. -1.  1.  1. -1.]\n",
      "[-1.          1.          1.         -1.          0.45594913 -0.4772979 ]\n",
      "[-1.         1.         1.        -1.        -0.6502243 -1.       ]\n",
      "[-1.        -1.        -1.        -1.         1.        -0.2145772]\n",
      "[-1.          1.          1.          0.54745746  1.         -1.        ]\n",
      "[-1.         1.        -1.         1.        -0.7732069 -0.6225424]\n",
      "[-1.         -1.         -1.          1.          0.03573537 -1.        ]\n",
      "[-0.5766798 -1.         1.         0.8247618  1.        -1.       ]\n",
      "[-1.          1.          1.          1.          0.89534193 -1.        ]\n",
      "[-1.         1.        -1.         1.         0.0820154 -1.       ]\n",
      "[-1.  1.  1. -1.  1. -1.]\n",
      "[-1.        -1.         1.         1.         0.7451742 -1.       ]\n",
      "[-1.          1.         -1.          1.         -0.28544712 -1.        ]\n",
      "[-1.        -1.        -1.         1.        -0.2818314 -1.       ]\n",
      "[-1.          1.          1.         -0.68297255 -0.33931872 -1.        ]\n",
      "[-1.         -1.         -1.         -0.9030767   0.05440384 -0.9059981 ]\n",
      "[-1.         -1.         -1.          1.          0.46859097 -0.5276568 ]\n",
      "[-1.        -1.        -1.         1.         0.7732111 -0.3386088]\n",
      "[-1.          1.         -1.         -0.26343095  1.         -1.        ]\n",
      "[-1.          1.         -1.         -1.          1.          0.18499565]\n",
      "[-1.          1.         -1.          1.          0.19558847 -1.        ]\n",
      "[-1.          1.         -1.         -0.46660298 -1.         -1.        ]\n",
      "[-1.         -0.65996814  1.          1.          1.         -1.        ]\n",
      "[-0.322603    1.         -1.          1.         -0.22073925 -1.        ]\n",
      "[-1.          1.          0.74844646  1.          0.78542066 -1.        ]\n",
      "[-1.        -1.        -1.        -1.        -1.         0.4022931]\n",
      "[-1.         -0.90210515  1.          1.         -1.          1.        ]\n",
      "[-1.         -1.          0.85455817  1.         -1.          1.        ]\n",
      "[-1.         -1.          1.         -0.36175358 -1.          1.        ]\n",
      "[ 1.         -0.9886751  -1.          1.         -0.71931803 -1.        ]\n",
      "[-1.  1. -1. -1.  1. -1.]\n",
      "[-1.          0.95754504 -1.          1.         -1.         -1.        ]\n",
      "[-0.3837943 -1.         1.        -1.        -1.        -1.       ]\n",
      "[-1.         -0.22294796 -1.         -1.         -1.          1.        ]\n",
      "[-1.         -0.7435961  -1.         -1.          0.507202   -0.23922145]\n",
      "[-1. -1. -1.  1. -1.  1.]\n",
      "[-1.         -1.         -0.11742795  1.         -1.          1.        ]\n",
      "[-1.        -1.        -1.        -1.        -1.         0.7157078]\n",
      "[-1. -1. -1. -1. -1.  1.]\n",
      "[-1. -1. -1. -1. -1.  1.]\n",
      "[-1.         -1.          0.11924601 -1.          1.          1.        ]\n",
      "[-1.         -1.          0.56999433 -1.          0.7500105   1.        ]\n",
      "[-1.         -0.18317318 -0.92610425 -1.         -1.          1.        ]\n",
      "[-1.          1.          0.37050158 -1.         -1.          1.        ]\n",
      "[-1.          1.         -1.         -1.          0.9302799  -0.89412916]\n",
      "[-1.         1.         1.         1.         0.1750974 -0.5688148]\n",
      "[-1.        -1.        -1.        -1.         0.3380314 -1.       ]\n",
      "[-1.  1. -1. -1. -1. -1.]\n",
      "[-1.         -1.         -1.          1.          0.09347492 -1.        ]\n",
      "[-1.         -1.         -0.08757925 -1.         -0.3984817   0.8279114 ]\n",
      "[-1. -1.  1.  1. -1.  1.]\n",
      "[-1.         1.        -1.         1.         0.5530376  1.       ]\n",
      "[-1.        -1.         1.         1.         0.1429559 -1.       ]\n",
      "[-1.        -1.        -1.         1.        -0.4525964 -0.6626109]\n",
      "[-1.         -1.          1.         -1.         -0.24290013 -1.        ]\n",
      "[-0.7302518  1.         1.        -1.        -0.9813201 -1.       ]\n",
      "[-1.          1.          1.         -1.         -0.2917099  -0.24481204]\n",
      "[-1.         -0.68446577 -1.         -0.51805025  0.24548712  0.34932208]\n",
      "[-1.          1.         -1.         -1.         -0.22286838 -1.        ]\n",
      "[-1.         1.         1.         0.9324135  1.        -1.       ]\n"
     ]
    },
    {
     "name": "stderr",
     "output_type": "stream",
     "text": [
      "/home/lars/.local/lib/python3.6/site-packages/ipykernel_launcher.py:29: FutureWarning: `rcond` parameter will change to the default of machine precision times ``max(M, N)`` where M and N are the input matrix dimensions.\n",
      "To use the future default and silence this warning we advise to pass `rcond=None`, to keep using the old, explicitly pass `rcond=-1`.\n"
     ]
    },
    {
     "name": "stdout",
     "output_type": "stream",
     "text": [
      "[-1.         -1.         -1.         -0.17751569  0.11219063  1.        ]\n",
      "[-1.         1.        -1.         0.8014908 -1.         0.6839782]\n",
      "[-1.       -1.       -1.        1.       -0.406968  1.      ]\n",
      "[ 1.        -1.         1.         1.        -0.8425306 -1.       ]\n",
      "[-1.         -0.7996223   0.89651775 -1.          1.         -1.        ]\n",
      "[-1.        -0.623135  -1.        -1.         0.7634381 -1.       ]\n",
      "[-1.         1.         1.         1.        -0.8057327 -1.       ]\n",
      "[-1.          1.          1.          0.39988685 -1.         -1.        ]\n",
      "[-1.  1.  1. -1. -1.  1.]\n",
      "[-1.         1.         1.         0.8743187 -1.        -1.       ]\n",
      "[-1.          1.          1.         -1.          0.05398518 -0.33990633]\n",
      "[-1.  1. -1.  1. -1. -1.]\n",
      "[-0.8991519   0.48432386  1.          1.         -1.         -1.        ]\n",
      "[-1.          0.82977784  0.65545726  1.          1.         -1.        ]\n",
      "[-1.  1.  1.  1. -1.  1.]\n",
      "[-1.        -1.         1.         1.        -0.2468946  1.       ]\n",
      "[-1.          0.21880054  1.          1.         -1.          1.        ]\n",
      "[-1.         0.8757101  1.        -1.         1.         1.       ]\n",
      "[-1.        -0.8726485  1.         1.        -1.         1.       ]\n",
      "[-1.  1.  1.  1. -1.  1.]\n",
      "[ 1.  1. -1. -1. -1.  1.]\n",
      "[-1. -1. -1. -1. -1. -1.]\n",
      "[-1.  1. -1. -1. -1.  1.]\n",
      "[-1.  1. -1.  1. -1.  1.]\n",
      "[ 1.  1. -1. -1.  1.  1.]\n",
      "[ 1.  1. -1. -1.  1. -1.]\n",
      "[-1.        -0.1409998 -1.         1.        -1.        -1.       ]\n",
      "[-0.67981434  1.          0.522737    1.         -1.         -1.        ]\n",
      "[-1. -1. -1.  1. -1.  1.]\n",
      "[-0.39252394 -1.         -0.6657909   1.         -0.4165818   1.        ]\n",
      "[-1. -1. -1. -1.  1.  1.]\n",
      "[-1.  1. -1.  1.  1.  1.]\n",
      "[-1.  1. -1.  1. -1. -1.]\n",
      "[-1. -1. -1. -1. -1.  1.]\n",
      "[-1.        -1.         0.0552758  1.        -1.         1.       ]\n",
      "[ 0.63753796  1.         -1.          1.          1.          1.        ]\n",
      "[ 1.  1. -1. -1. -1.  1.]\n",
      "[-1.  1. -1. -1. -1. -1.]\n",
      "[-1.          1.         -1.          1.          1.          0.52094555]\n",
      "[ 1. -1. -1. -1. -1.  1.]\n",
      "[ 1. -1. -1.  1.  1.  1.]\n",
      "[-1.          1.          1.          1.         -1.         -0.12758227]\n",
      "[-1.  1. -1. -1. -1.  1.]\n",
      "[ 1.  1.  1. -1. -1.  1.]\n",
      "[-1.          1.          0.55461323  1.         -1.          1.        ]\n",
      "[-0.15461421 -1.         -1.         -1.         -1.         -0.42319047]\n",
      "[-1.        -1.        -1.         1.        -1.         0.5315805]\n",
      "[-1.          1.         -0.04684401 -1.         -0.89638805 -1.        ]\n",
      "[-1.         -1.         -1.         -1.         -1.          0.44105756]\n",
      "[-1. -1.  1.  1. -1. -1.]\n",
      "[ 1. -1. -1. -1. -1. -1.]\n",
      "[-1.         -1.         -1.         -1.         -1.          0.41074824]\n",
      "[-1.  1. -1. -1.  1.  1.]\n",
      "[ 1.        -1.        -1.         1.         1.         0.7695582]\n",
      "[-1.        -1.        -1.         1.         1.         0.9804826]\n",
      "[-1.  1. -1.  1.  1. -1.]\n",
      "[-1.        -1.        -1.         1.        -1.        -0.8308672]\n",
      "[-1.          1.         -1.         -1.          1.          0.38627458]\n",
      "[ 1.  1. -1.  1.  1.  1.]\n",
      "[-1.  1. -1.  1. -1.  1.]\n",
      "[-1.  1.  1. -1. -1.  1.]\n",
      "[-1.         1.        -1.        -1.        -1.        -0.6275916]\n",
      "[-1.  1. -1.  1.  1.  1.]\n",
      "[-1. -1.  1. -1.  1.  1.]\n",
      "[-1.          1.         -1.          1.          0.93050385 -1.        ]\n",
      "[-1.  1. -1.  1. -1.  1.]\n",
      "[-1.          1.         -1.         -1.         -1.         -0.62842256]\n",
      "[-1.         -1.         -1.          1.         -1.         -0.10331935]\n",
      "[-1.        -1.        -1.         0.8895813 -1.         0.6170976]\n",
      "[-1.         -1.         -1.          1.         -1.          0.08217871]\n",
      "[-1.          1.         -1.          1.          1.          0.07926953]\n",
      "[-1.         -1.          1.          1.         -1.         -0.52217805]\n",
      "[-1.          1.         -1.          1.         -1.         -0.41233653]\n",
      "[-1.          0.07577646 -1.         -0.7677809   1.          1.        ]\n",
      "[-1.          1.         -1.         -1.          1.          0.05479836]\n",
      "[ 1.         -1.          0.03082848  1.         -1.         -1.        ]\n",
      "[-1.  1. -1.  1.  1.  1.]\n",
      "[-1.  1. -1.  1. -1.  1.]\n",
      "[-1.  1. -1. -1. -1.  1.]\n",
      "[ 1.  1. -1.  1. -1.  1.]\n",
      "[-1.         -1.         -1.          1.         -1.          0.10277224]\n",
      "[-1.  1. -1.  1.  1.  1.]\n",
      "[-1.  1. -1. -1. -1.  1.]\n",
      "[-1.         -1.         -1.         -0.99510574 -1.          1.        ]\n",
      "[-1.  1.  1. -1. -1.  1.]\n",
      "[-1.         -0.784541   -1.          1.         -1.         -0.21991366]\n",
      "[-1.  1. -1. -1. -1. -1.]\n",
      "[-1.        -1.        -0.2412678 -1.        -1.        -1.       ]\n",
      "[-1.  1. -1. -1. -1. -1.]\n",
      "[-1.  1. -1.  1. -1. -1.]\n",
      "[-1.       -1.        1.       -0.607487 -1.        1.      ]\n",
      "[-1.         -1.          0.97568345  1.         -1.          1.        ]\n",
      "[-1.         -1.          1.          1.         -0.77067405  1.        ]\n"
     ]
    },
    {
     "name": "stderr",
     "output_type": "stream",
     "text": [
      "/home/lars/.local/lib/python3.6/site-packages/ipykernel_launcher.py:29: FutureWarning: `rcond` parameter will change to the default of machine precision times ``max(M, N)`` where M and N are the input matrix dimensions.\n",
      "To use the future default and silence this warning we advise to pass `rcond=None`, to keep using the old, explicitly pass `rcond=-1`.\n"
     ]
    },
    {
     "name": "stdout",
     "output_type": "stream",
     "text": [
      "[-1.         -0.02485144  1.         -1.         -1.          1.        ]\n",
      "[-1.         0.599789   1.         1.         0.6424973  1.       ]\n",
      "[-0.893054 -1.       -1.        1.       -1.        1.      ]\n",
      "[-1.         -1.         -0.57945967  1.          0.04109001  1.        ]\n",
      "[-1.  1. -1. -1. -1.  1.]\n",
      "[-1.        -1.         1.        -1.         0.5227468  1.       ]\n",
      "[-1.          1.          0.61014056  1.          1.         -0.04992145]\n",
      "[-1.          1.          1.          1.          0.54158527  1.        ]\n",
      "[-1.          1.          0.10499193 -1.          0.24347036  1.        ]\n",
      "[-1.         -0.23899728 -0.7238896   1.         -1.          1.        ]\n",
      "[-1.  1.  1. -1. -1.  1.]\n",
      "[-1.         -1.         -1.          0.35971737 -0.8081571   1.        ]\n",
      "[-1.         1.         1.         1.         1.        -0.4867776]\n",
      "[-1.        -0.8773079  1.         1.        -1.        -1.       ]\n",
      "[-0.9257299   1.          0.58293366  1.         -0.8042357  -1.        ]\n",
      "[-1.          1.          1.          1.          1.         -0.12478983]\n",
      "[-0.837675   -1.         -1.          1.         -0.12191439  1.        ]\n",
      "[-1.         -1.          1.          1.         -0.72410715  1.        ]\n",
      "[-1.         -1.         -1.          1.          0.66644895  1.        ]\n",
      "[-1.         1.         1.         0.9658041 -1.         1.       ]\n",
      "[-1.         -0.25304246  1.         -1.         -0.23308201  1.        ]\n",
      "[-1.         0.5234847  1.         1.        -0.8599992  1.       ]\n",
      "[-1.  1.  1. -1.  1.  1.]\n",
      "[-1.          1.         -0.03896207 -1.         -0.96169436  1.        ]\n",
      "[-1. -1.  1. -1.  1.  1.]\n",
      "[-1.          0.87413037 -0.5232438  -1.          1.          1.        ]\n",
      "[-1.         -1.          1.         -1.          1.          0.46083027]\n",
      "[-1.          0.7113206   1.          0.32762122 -1.          1.        ]\n",
      "[-1. -1.  1. -1. -1.  1.]\n",
      "[-1.  1. -1.  1.  1.  1.]\n",
      "[-1.         1.         1.        -1.         0.4247452  1.       ]\n",
      "[-1.          0.85777867  1.         -1.         -1.          1.        ]\n",
      "[ 1.        -1.         0.0964644 -1.        -1.        -1.       ]\n",
      "[-1.         -1.          1.         -0.15000224  1.          1.        ]\n",
      "[ 1.         1.        -1.        -1.         0.6066951  1.       ]\n",
      "[-1. -1.  1. -1.  1. -1.]\n",
      "[-1. -1.  1. -1.  1. -1.]\n",
      "[-1. -1.  1.  1. -1. -1.]\n",
      "[-1. -1.  1. -1. -1.  1.]\n",
      "[-1.  1. -1. -1. -1.  1.]\n",
      "[-1. -1.  1. -1. -1. -1.]\n",
      "[ 1. -1. -1. -1.  1.  1.]\n",
      "[-1.  1. -1.  1. -1.  1.]\n",
      "[-1.  1.  1.  1.  1. -1.]\n",
      "[ 1. -1.  1. -1. -1. -1.]\n",
      "[-1.         1.         1.         1.         0.7613983  1.       ]\n",
      "[-1. -1.  1. -1. -1. -1.]\n",
      "[-1. -1. -1. -1.  1.  1.]\n",
      "[-1. -1.  1. -1. -1.  1.]\n",
      "[ 1.  1.  1.  1. -1. -1.]\n",
      "[-1. -1.  1.  1. -1.  1.]\n"
     ]
    },
    {
     "ename": "IndexError",
     "evalue": "list index out of range",
     "output_type": "error",
     "traceback": [
      "\u001b[0;31m---------------------------------------------------------------------------\u001b[0m",
      "\u001b[0;31mIndexError\u001b[0m                                Traceback (most recent call last)",
      "\u001b[0;32m<ipython-input-27-f4789d23f6b1>\u001b[0m in \u001b[0;36m<module>\u001b[0;34m\u001b[0m\n\u001b[1;32m      9\u001b[0m     \u001b[0;31m#action = agent.compute_action(obs)\u001b[0m\u001b[0;34m\u001b[0m\u001b[0;34m\u001b[0m\u001b[0;34m\u001b[0m\u001b[0m\n\u001b[1;32m     10\u001b[0m     \u001b[0;32mfor\u001b[0m \u001b[0mi\u001b[0m \u001b[0;32min\u001b[0m \u001b[0mrange\u001b[0m\u001b[0;34m(\u001b[0m\u001b[0;36m1\u001b[0m\u001b[0;34m)\u001b[0m\u001b[0;34m:\u001b[0m\u001b[0;34m\u001b[0m\u001b[0;34m\u001b[0m\u001b[0m\n\u001b[0;32m---> 11\u001b[0;31m         \u001b[0maction\u001b[0m \u001b[0;34m=\u001b[0m \u001b[0mactions\u001b[0m\u001b[0;34m[\u001b[0m\u001b[0mj\u001b[0m\u001b[0;34m]\u001b[0m\u001b[0;34m\u001b[0m\u001b[0;34m\u001b[0m\u001b[0m\n\u001b[0m\u001b[1;32m     12\u001b[0m         \u001b[0;31m#dx = max_limit * action.copy()\u001b[0m\u001b[0;34m\u001b[0m\u001b[0;34m\u001b[0m\u001b[0;34m\u001b[0m\u001b[0m\n\u001b[1;32m     13\u001b[0m         \u001b[0mdx\u001b[0m \u001b[0;34m=\u001b[0m \u001b[0mmax_limit\u001b[0m \u001b[0;34m*\u001b[0m \u001b[0maction\u001b[0m\u001b[0;34m\u001b[0m\u001b[0;34m\u001b[0m\u001b[0m\n",
      "\u001b[0;31mIndexError\u001b[0m: list index out of range"
     ]
    }
   ],
   "source": [
    "done = False\n",
    "ft_zero()\n",
    "#max_limit = 0.00075\n",
    "j = 0\n",
    "\n",
    "time.sleep(2.5)\n",
    "while not done:\n",
    "    obs = observations\n",
    "    #action = agent.compute_action(obs)\n",
    "    for i in range(1):\n",
    "        action = actions[j]\n",
    "        #dx = max_limit * action.copy()\n",
    "        dx = max_limit * action\n",
    "        print(action)\n",
    "        rot_mat = sim.data.get_body_xmat('gripper_dummy_heg')\n",
    "        dx_ = numpy.concatenate([rot_mat.dot(dx[:3]), rot_mat.dot(dx[3:])])  ## transform to right coordinate system\n",
    "        dq  = get_dq(dx_)\n",
    "        q = ctrl_q + dq\n",
    "        traj_control(q)\n",
    "        \n",
    "        observations_rec.append(observations)\n",
    "        poses_rec.append(pose)\n",
    "        ft_values_rec.append(ft_values)\n",
    "        q_rec.append(actual_q)\n",
    "        qd_rec.append(actual_qd)\n",
    "        rewards_rec.append(compute_reward(obs, goal))\n",
    "        j += 1\n",
    "        step += 1\n",
    "    if is_success(obs) or step >= reality_horizon:\n",
    "        rewards_rec.append(R_success)\n",
    "        break\n",
    "    rate.sleep()"
   ]
  },
  {
   "cell_type": "markdown",
   "metadata": {},
   "source": [
    "# !!! Save recorded Data !!!"
   ]
  },
  {
   "cell_type": "code",
   "execution_count": 26,
   "metadata": {},
   "outputs": [],
   "source": [
    "txs = []\n",
    "tys = []\n",
    "tzs = []\n",
    "rxs = []\n",
    "rys = []\n",
    "rzs = []\n",
    "fxs = []\n",
    "fys = []\n",
    "fzs = []\n",
    "txs = []\n",
    "tys = []\n",
    "tzs = []\n",
    "\n",
    "for i in range(len(observations_rec)):\n",
    "\n",
    "    txs.append(observations_rec[i][0])\n",
    "    tys.append(observations_rec[i][1])\n",
    "    tzs.append(observations_rec[i][2])\n",
    "    rxs.append(observations_rec[i][3])\n",
    "    rys.append(observations_rec[i][4])\n",
    "    rzs.append(observations_rec[i][5])\n",
    "    fxs.append(observations_rec[i][6])\n",
    "    fys.append(observations_rec[i][7])\n",
    "    fzs.append(observations_rec[i][8])\n",
    "    txs.append(observations_rec[i][9])\n",
    "    tys.append(observations_rec[i][10])\n",
    "    tzs.append(observations_rec[i][11])\n",
    "    \n",
    "recordings = {\n",
    "    \"tx\" : txs,\n",
    "    \"ty\" : tys,\n",
    "    \"tz\" : tzs,\n",
    "    \"rx\" : rxs,\n",
    "    \"ry\" : rys,\n",
    "    \"rz\" : rzs,\n",
    "    \"fx\" : fxs,\n",
    "    \"fy\" : fys,\n",
    "    \"fz\" : fzs,\n",
    "    \"tx\" : txs,\n",
    "    \"ty\" : tys,\n",
    "    \"tz\" : tzs,\n",
    "    \"Reward\" : rewards_rec\n",
    "}"
   ]
  },
  {
   "cell_type": "code",
   "execution_count": 27,
   "metadata": {},
   "outputs": [],
   "source": [
    "filename = \"{}\".format(take).zfill(4)+\"_model_{}.json\".format(model_number)\n",
    "with open(os.path.join(*[SAVE_PATH, filename]), 'w') as file:\n",
    "    json.dump(recordings, file)\n",
    "    file.close()"
   ]
  },
  {
   "cell_type": "code",
   "execution_count": 28,
   "metadata": {},
   "outputs": [
    {
     "ename": "NameError",
     "evalue": "name 'model_name' is not defined",
     "output_type": "error",
     "traceback": [
      "\u001b[0;31m---------------------------------------------------------------------------\u001b[0m",
      "\u001b[0;31mNameError\u001b[0m                                 Traceback (most recent call last)",
      "\u001b[0;32m<ipython-input-28-b58a63910729>\u001b[0m in \u001b[0;36m<module>\u001b[0;34m\u001b[0m\n\u001b[1;32m      5\u001b[0m \u001b[0mqd_rec_df\u001b[0m \u001b[0;34m=\u001b[0m \u001b[0mpandas\u001b[0m\u001b[0;34m.\u001b[0m\u001b[0mDataFrame\u001b[0m\u001b[0;34m(\u001b[0m\u001b[0mqd_rec\u001b[0m\u001b[0;34m,\u001b[0m \u001b[0mcolumns\u001b[0m\u001b[0;34m=\u001b[0m\u001b[0;34m[\u001b[0m\u001b[0;34m\"qd[0]\"\u001b[0m\u001b[0;34m,\u001b[0m \u001b[0;34m\"qd[1]\"\u001b[0m\u001b[0;34m,\u001b[0m \u001b[0;34m\"qd[2]\"\u001b[0m\u001b[0;34m,\u001b[0m \u001b[0;34m\"qd[3]\"\u001b[0m\u001b[0;34m,\u001b[0m \u001b[0;34m\"qd[4]\"\u001b[0m\u001b[0;34m,\u001b[0m \u001b[0;34m\"qd[5]\"\u001b[0m\u001b[0;34m]\u001b[0m\u001b[0;34m)\u001b[0m\u001b[0;34m\u001b[0m\u001b[0;34m\u001b[0m\u001b[0m\n\u001b[1;32m      6\u001b[0m \u001b[0mrewards_df\u001b[0m \u001b[0;34m=\u001b[0m \u001b[0mpandas\u001b[0m\u001b[0;34m.\u001b[0m\u001b[0mDataFrame\u001b[0m\u001b[0;34m(\u001b[0m\u001b[0mrewards_rec\u001b[0m\u001b[0;34m,\u001b[0m \u001b[0mcolumns\u001b[0m\u001b[0;34m=\u001b[0m\u001b[0;34m[\u001b[0m\u001b[0;34m\"Rewards\"\u001b[0m\u001b[0;34m]\u001b[0m\u001b[0;34m)\u001b[0m\u001b[0;34m\u001b[0m\u001b[0;34m\u001b[0m\u001b[0m\n\u001b[0;32m----> 7\u001b[0;31m \u001b[0minfo_df\u001b[0m \u001b[0;34m=\u001b[0m \u001b[0mpandas\u001b[0m\u001b[0;34m.\u001b[0m\u001b[0mDataFrame\u001b[0m\u001b[0;34m(\u001b[0m\u001b[0mcolumns\u001b[0m\u001b[0;34m=\u001b[0m\u001b[0;34m[\u001b[0m\u001b[0;34m'Steps'\u001b[0m\u001b[0;34m,\u001b[0m \u001b[0;34m'Reward'\u001b[0m\u001b[0;34m]\u001b[0m\u001b[0;34m,\u001b[0m \u001b[0mindex\u001b[0m\u001b[0;34m=\u001b[0m\u001b[0;34m[\u001b[0m\u001b[0mmodel_name\u001b[0m\u001b[0;34m+\u001b[0m\u001b[0;34m\"_\"\u001b[0m\u001b[0;34m+\u001b[0m\u001b[0mstr\u001b[0m\u001b[0;34m(\u001b[0m\u001b[0mtake\u001b[0m\u001b[0;34m)\u001b[0m\u001b[0;34m]\u001b[0m\u001b[0;34m)\u001b[0m\u001b[0;34m\u001b[0m\u001b[0;34m\u001b[0m\u001b[0m\n\u001b[0m\u001b[1;32m      8\u001b[0m \u001b[0;34m\u001b[0m\u001b[0m\n\u001b[1;32m      9\u001b[0m \u001b[0minfo_df\u001b[0m\u001b[0;34m.\u001b[0m\u001b[0mloc\u001b[0m\u001b[0;34m[\u001b[0m\u001b[0mmodel_name\u001b[0m\u001b[0;34m+\u001b[0m\u001b[0;34m\"_\"\u001b[0m\u001b[0;34m+\u001b[0m\u001b[0mstr\u001b[0m\u001b[0;34m(\u001b[0m\u001b[0mtake\u001b[0m\u001b[0;34m)\u001b[0m\u001b[0;34m,\u001b[0m \u001b[0;34m\"Steps\"\u001b[0m\u001b[0;34m]\u001b[0m \u001b[0;34m=\u001b[0m \u001b[0mlen\u001b[0m\u001b[0;34m(\u001b[0m\u001b[0mrewards_rec\u001b[0m\u001b[0;34m)\u001b[0m\u001b[0;34m\u001b[0m\u001b[0;34m\u001b[0m\u001b[0m\n",
      "\u001b[0;31mNameError\u001b[0m: name 'model_name' is not defined"
     ]
    }
   ],
   "source": [
    "observations_rec_df = pandas.DataFrame(observations_rec, columns=[\"pos1\", \"pos2\", \"pos3\", \"rotx\", \"roty\", \"rotz\", \"Fx\", \"Fy\", \"Fz\", \"Mx\", \"My\", \"Mz\"])\n",
    "poses_rec_df = pandas.DataFrame(poses_rec, columns=[\"tx\", \"ty\", \"tz\", \"rx\", \"ry\", \"rz\"])\n",
    "ft_values_rec_df = pandas.DataFrame(ft_values_rec, columns=[\"Fx\", \"Fy\", \"Fz\", \"Mx\", \"My\", \"Mz\"])\n",
    "q_rec_df = pandas.DataFrame(q_rec, columns=[\"q[0]\", \"q[1]\", \"q[2]\", \"q[3]\", \"q[4]\", \"q[5]\"])\n",
    "qd_rec_df = pandas.DataFrame(qd_rec, columns=[\"qd[0]\", \"qd[1]\", \"qd[2]\", \"qd[3]\", \"qd[4]\", \"qd[5]\"])\n",
    "rewards_df = pandas.DataFrame(rewards_rec, columns=[\"Rewards\"])\n",
    "info_df = pandas.DataFrame(columns=['Steps', 'Reward'], index=[model_name+\"_\"+str(take)])\n",
    "\n",
    "info_df.loc[model_name+\"_\"+str(take), \"Steps\"] = len(rewards_rec)\n",
    "info_df.loc[model_name+\"_\"+str(take), \"Reward\"] = numpy.sum(rewards_rec)\n",
    "    \n",
    "DIRECTORY = os.path.join(*[SAVE_PATH])\n",
    "observations_rec_df.to_feather(os.path.join(*[SAVE_PATH, \"{}\".format(take).zfill(4)+\"_obs.ftr\"]))\n",
    "poses_rec_df.to_feather(os.path.join(*[SAVE_PATH, \"{}\".format(take).zfill(4)+\"_pose.ftr\"]))\n",
    "ft_values_rec_df.to_feather(os.path.join(*[SAVE_PATH, \"{}\".format(take).zfill(4)+\"_ft.ftr\"]))\n",
    "q_rec_df.to_feather(os.path.join(*[SAVE_PATH, \"{}\".format(take).zfill(4)+\"_q.ftr\"]))\n",
    "qd_rec_df.to_feather(os.path.join(*[SAVE_PATH, \"{}\".format(take).zfill(4)+\"_qd.ftr\"]))\n",
    "rewards_df.to_feather(os.path.join(*[SAVE_PATH, \"{}\".format(take).zfill(4)+\"_reward.ftr\"]))\n",
    "info_df = info_df.reset_index()\n",
    "info_df.to_feather(os.path.join(*[SAVE_PATH, \"{}\".format(take).zfill(4)+\"_info.ftr\"]))"
   ]
  },
  {
   "cell_type": "markdown",
   "metadata": {},
   "source": [
    "# --- Visualize the Data with Visualize_Hardware_Tests.ipynb ---"
   ]
  }
 ],
 "metadata": {
  "kernelspec": {
   "display_name": "Python 3",
   "language": "python",
   "name": "python3"
  },
  "language_info": {
   "codemirror_mode": {
    "name": "ipython",
    "version": 3
   },
   "file_extension": ".py",
   "mimetype": "text/x-python",
   "name": "python",
   "nbconvert_exporter": "python",
   "pygments_lexer": "ipython3",
   "version": "3.6.9"
  }
 },
 "nbformat": 4,
 "nbformat_minor": 4
}
