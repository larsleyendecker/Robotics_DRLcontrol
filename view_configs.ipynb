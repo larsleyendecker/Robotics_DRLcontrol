{
 "cells": [
  {
   "cell_type": "code",
   "execution_count": 4,
   "metadata": {},
   "outputs": [],
   "source": [
    "import os\n",
    "import pickle"
   ]
  },
  {
   "cell_type": "code",
   "execution_count": 15,
   "metadata": {},
   "outputs": [],
   "source": [
    "HOME_PATH = os.getenv(\"HOME\")\n",
    "\n",
    "checkpoint_model1 = os.path.join(*[HOME_PATH, \"DRL_SetBot-RearVentilation\", \"final_models\",\n",
    "                            \"model1\", \"checkpoint-2120\"])\n",
    "checkpoint_model2 = os.path.join(*[HOME_PATH, \"DRL_SetBot-RearVentilation\", \"final_models\",\n",
    "                            \"model2\", \"checkpoint-3440\"])\n",
    "checkpoint_model3 = os.path.join(*[HOME_PATH, \"DRL_SetBot-RearVentilation\", \"final_models\",\n",
    "                            \"model3\", \"checkpoint-3030\"])\n",
    "checkpoint_model4 = os.path.join(*[HOME_PATH, \"DRL_SetBot-RearVentilation\", \"final_models\",\n",
    "                            \"model4\", \"checkpoint-3590\"])\n",
    "checkpoint_model5 = os.path.join(*[HOME_PATH, \"DRL_SetBot-RearVentilation\", \"final_models\",\n",
    "                            \"model5\", \"checkpoint-4410\"])\n",
    "\n",
    "checkpoint = checkpoint_model4"
   ]
  },
  {
   "cell_type": "code",
   "execution_count": 16,
   "metadata": {},
   "outputs": [
    {
     "name": "stdout",
     "output_type": "stream",
     "text": [
      "Config found!\n"
     ]
    }
   ],
   "source": [
    "config = {}\n",
    "    # Load configuration from checkpoint file.\n",
    "config_dir = os.path.dirname(checkpoint)\n",
    "config_path = os.path.join(config_dir, \"params.pkl\")\n",
    "# Try parent directory.\n",
    "if not os.path.exists(config_path):\n",
    "    config_path = os.path.join(config_dir, \"../params.pkl\")\n",
    "if os.path.exists(config_path):\n",
    "    print(\"Config found!\")\n",
    "    with open(config_path, \"rb\") as f:\n",
    "            config = pickle.load(f)\n",
    "            \n",
    "config['num_workers'] = 2\n",
    "config['num_gpus'] = 1"
   ]
  },
  {
   "cell_type": "code",
   "execution_count": 8,
   "metadata": {},
   "outputs": [
    {
     "data": {
      "text/plain": [
       "{'env': 'RandomizedEnv',\n",
       " 'callbacks': {'on_episode_start': <function __main__.on_episode_start(info)>,\n",
       "  'on_episode_step': <function __main__.on_episode_step(info)>,\n",
       "  'on_episode_end': <function __main__.on_episode_end(info)>},\n",
       " 'num_workers': 2,\n",
       " 'num_gpus': 1,\n",
       " 'num_cpus_per_worker': 1,\n",
       " 'horizon': 500,\n",
       " 'lr': 0.0003,\n",
       " 'train_batch_size': 5750,\n",
       " 'model': {'use_lstm': False,\n",
       "  'lstm_cell_size': 128,\n",
       "  'fcnet_hiddens': [128, 128]},\n",
       " 'tf_session_args': {'allow_soft_placement': True}}"
      ]
     },
     "execution_count": 8,
     "metadata": {},
     "output_type": "execute_result"
    }
   ],
   "source": [
    "config"
   ]
  },
  {
   "cell_type": "code",
   "execution_count": 11,
   "metadata": {},
   "outputs": [
    {
     "data": {
      "text/plain": [
       "{'env': 'RandomizedEnv',\n",
       " 'callbacks': {'on_episode_start': <function __main__.on_episode_start(info)>,\n",
       "  'on_episode_step': <function __main__.on_episode_step(info)>,\n",
       "  'on_episode_end': <function __main__.on_episode_end(info)>},\n",
       " 'num_workers': 2,\n",
       " 'num_gpus': 1,\n",
       " 'num_cpus_per_worker': 1,\n",
       " 'horizon': 500,\n",
       " 'lr': 0.0003,\n",
       " 'train_batch_size': 5750,\n",
       " 'model': {'use_lstm': False,\n",
       "  'lstm_cell_size': 128,\n",
       "  'fcnet_hiddens': [128, 128]},\n",
       " 'tf_session_args': {'allow_soft_placement': True}}"
      ]
     },
     "execution_count": 11,
     "metadata": {},
     "output_type": "execute_result"
    }
   ],
   "source": [
    "config"
   ]
  },
  {
   "cell_type": "code",
   "execution_count": 14,
   "metadata": {},
   "outputs": [
    {
     "data": {
      "text/plain": [
       "{'env': 'RandomizedEnv',\n",
       " 'callbacks': {'on_episode_start': <function __main__.on_episode_start(info)>,\n",
       "  'on_episode_step': <function __main__.on_episode_step(info)>,\n",
       "  'on_episode_end': <function __main__.on_episode_end(info)>},\n",
       " 'num_workers': 2,\n",
       " 'num_gpus': 1,\n",
       " 'num_cpus_per_worker': 1,\n",
       " 'horizon': 500,\n",
       " 'lr': 0.0003,\n",
       " 'train_batch_size': 11500,\n",
       " 'model': {'use_lstm': False,\n",
       "  'lstm_cell_size': 128,\n",
       "  'fcnet_hiddens': [128, 128]},\n",
       " 'tf_session_args': {'allow_soft_placement': True}}"
      ]
     },
     "execution_count": 14,
     "metadata": {},
     "output_type": "execute_result"
    }
   ],
   "source": [
    "config"
   ]
  },
  {
   "cell_type": "code",
   "execution_count": 17,
   "metadata": {},
   "outputs": [
    {
     "data": {
      "text/plain": [
       "{'env': 'RandomizedEnv',\n",
       " 'callbacks': {'on_episode_start': <function __main__.on_episode_start(info)>,\n",
       "  'on_episode_step': <function __main__.on_episode_step(info)>,\n",
       "  'on_episode_end': <function __main__.on_episode_end(info)>},\n",
       " 'num_workers': 2,\n",
       " 'num_gpus': 1,\n",
       " 'num_cpus_per_worker': 1,\n",
       " 'horizon': 2500,\n",
       " 'lr': 0.0003,\n",
       " 'train_batch_size': 57500,\n",
       " 'model': {'use_lstm': False,\n",
       "  'lstm_cell_size': 128,\n",
       "  'fcnet_hiddens': [128, 128]},\n",
       " 'tf_session_args': {'allow_soft_placement': True}}"
      ]
     },
     "execution_count": 17,
     "metadata": {},
     "output_type": "execute_result"
    }
   ],
   "source": [
    "config"
   ]
  },
  {
   "cell_type": "code",
   "execution_count": null,
   "metadata": {},
   "outputs": [],
   "source": []
  }
 ],
 "metadata": {
  "kernelspec": {
   "display_name": "Python 3",
   "language": "python",
   "name": "python3"
  },
  "language_info": {
   "codemirror_mode": {
    "name": "ipython",
    "version": 3
   },
   "file_extension": ".py",
   "mimetype": "text/x-python",
   "name": "python",
   "nbconvert_exporter": "python",
   "pygments_lexer": "ipython3",
   "version": "3.6.9"
  }
 },
 "nbformat": 4,
 "nbformat_minor": 4
}
